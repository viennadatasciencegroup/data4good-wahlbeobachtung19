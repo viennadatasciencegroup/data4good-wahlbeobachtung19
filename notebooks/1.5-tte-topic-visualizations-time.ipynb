{
 "cells": [
  {
   "cell_type": "markdown",
   "metadata": {},
   "source": [
    "# Topic Visualization\n",
    "\n",
    "Visualize topic distributions of Posts from enhanced Topic Model (topic_tokenizer2 and enhanced preprocessing)."
   ]
  },
  {
   "cell_type": "code",
   "execution_count": 1,
   "metadata": {},
   "outputs": [],
   "source": [
    "import os, sys, ast\n",
    "sys.path.append(\"..\")\n",
    "from config import credentials\n",
    "import dropbox\n",
    "\n",
    "import numpy as np\n",
    "import pandas as pd\n",
    "\n",
    "import warnings\n",
    "warnings.filterwarnings(\"ignore\", category=DeprecationWarning)\n",
    "\n",
    "import altair as alt\n",
    "import matplotlib.pyplot as plt\n",
    "%matplotlib inline"
   ]
  },
  {
   "cell_type": "code",
   "execution_count": 2,
   "metadata": {},
   "outputs": [],
   "source": [
    "random_state = 23"
   ]
  },
  {
   "cell_type": "markdown",
   "metadata": {},
   "source": [
    "## Loading"
   ]
  },
  {
   "cell_type": "code",
   "execution_count": 3,
   "metadata": {},
   "outputs": [],
   "source": [
    "team_dbx = dropbox.DropboxTeam(credentials.dropbox_team_access_token)\n",
    "team_root = team_dbx.with_path_root(dropbox.common.PathRoot.namespace_id(\n",
    "    credentials.dropbox_team_namespace_id))\n",
    "user_dbx = team_root.as_user(credentials.dropbox_team_member_id)"
   ]
  },
  {
   "cell_type": "code",
   "execution_count": 4,
   "metadata": {},
   "outputs": [],
   "source": [
    "data_path = \"/Data/CSVData\"\n",
    "model_path = \"../models\"\n",
    "figures_path = \"../reports/figures/\""
   ]
  },
  {
   "cell_type": "code",
   "execution_count": 5,
   "metadata": {},
   "outputs": [
    {
     "name": "stdout",
     "output_type": "stream",
     "text": [
      "Topics n20 (21970, 4)\n",
      "All Posts (27204, 23)\n"
     ]
    }
   ],
   "source": [
    "topics20_fpath = os.path.join(data_path, \"topics\", \"final_topics_LDAn20.csv\")\n",
    "_, res = user_dbx.files_download(topics20_fpath)\n",
    "topics20 = pd.read_csv(res.raw)\n",
    "\n",
    "posts_fpath = os.path.join(data_path, \"PolPosts.csv\")\n",
    "_, res = user_dbx.files_download(posts_fpath)\n",
    "posts = pd.read_csv(res.raw)\n",
    "\n",
    "print(\"Topics n20\", topics20.shape)\n",
    "print(\"All Posts\", posts.shape)"
   ]
  },
  {
   "cell_type": "markdown",
   "metadata": {},
   "source": [
    "## Postprocess topics\n",
    "\n",
    "Join Posts with Topic tables and assign topics to duplicated texts."
   ]
  },
  {
   "cell_type": "code",
   "execution_count": 6,
   "metadata": {},
   "outputs": [
    {
     "data": {
      "text/plain": [
       "(23384, 24)"
      ]
     },
     "execution_count": 6,
     "metadata": {},
     "output_type": "execute_result"
    }
   ],
   "source": [
    "# Join\n",
    "data = posts.set_index(\"textID\").join(topics20.set_index(\"textID\"), lsuffix=\"_posts\", rsuffix=\"_topics\")\n",
    "\n",
    "# Assign topics to duplicated texts\n",
    "data.topic = data.topic.astype(\"Int64\")\n",
    "data.topic = data.groupby(\"text_posts\")[\"topic\"].ffill()\n",
    "\n",
    "# Cleaning\n",
    "data[\"source\"] = data.Site\n",
    "data.drop([\"text_topics\", \"Site\"], axis=1, inplace=True)\n",
    "data.dropna(subset=[\"text_posts\", \"topic\"], inplace=True)\n",
    "\n",
    "data.shape"
   ]
  },
  {
   "cell_type": "markdown",
   "metadata": {},
   "source": [
    "## Topic Interpretation"
   ]
  },
  {
   "cell_type": "code",
   "execution_count": 24,
   "metadata": {},
   "outputs": [],
   "source": [
    "topic_interpretation = {0: \"-\", 1: \"-\", 2: \"Wohnen\", 3: \"Grüne\",\n",
    "                        4: \"Steuern / Geld\", 5: \"ÖVP Mobilisierung\", 6: \"Parteien\", \n",
    "                        7: \"Prognosen\", 8: \"KPÖ / Linke Forderungen\", 9: \"Dank / TV-Runde\",\n",
    "                        10: \"Links / Alternativ\", 11: \"ÖVP\", 12: \"-\",\n",
    "                        13: \"SPÖ\", 14: \"Volksparteien\", 15: \"-\", 16: \"FPÖ\",\n",
    "                        17: \"-\", 18: \"Wahlkampfslogans\", 19: \"-\", 20: \"Stenzel Rede bei IB\"}\n",
    "\n",
    "topic_color = {\"Wohnen\": \"rosybrown\", \"Grüne\": \"green\", \"Steuern / Geld\": \"darkblue\",\n",
    "               \"ÖVP Mobilisierung\": \"mediumturquoise\", \"Parteien\": \"gold\",\n",
    "               \"Prognosen\": \"darkcyan\", \"KPÖ / Linke Forderungen\": \"darkred\",\n",
    "               \"Dank / TV-Runde\": \"palegreen\", \"Links / Alternativ\": \"lime\",\n",
    "               \"ÖVP\": \"turquoise\", \"SPÖ\": \"red\", \"Volksparteien\": \"indigo\", \"FPÖ\": \"blue\",\n",
    "               \"Wahlkampfslogans\": \"orange\", \"Stenzel Rede bei IB\": \"peru\"}\n",
    "\n",
    "data[\"topic_interpretation\"] = data.topic.map(topic_interpretation)"
   ]
  },
  {
   "cell_type": "markdown",
   "metadata": {},
   "source": [
    "## Timeline"
   ]
  },
  {
   "cell_type": "code",
   "execution_count": 8,
   "metadata": {},
   "outputs": [],
   "source": [
    "data.dateCreated = data.dateCreated.astype(\"datetime64[D]\")"
   ]
  },
  {
   "cell_type": "code",
   "execution_count": 9,
   "metadata": {},
   "outputs": [
    {
     "data": {
      "text/html": [
       "<div>\n",
       "<style scoped>\n",
       "    .dataframe tbody tr th:only-of-type {\n",
       "        vertical-align: middle;\n",
       "    }\n",
       "\n",
       "    .dataframe tbody tr th {\n",
       "        vertical-align: top;\n",
       "    }\n",
       "\n",
       "    .dataframe thead th {\n",
       "        text-align: right;\n",
       "    }\n",
       "</style>\n",
       "<table border=\"1\" class=\"dataframe\">\n",
       "  <thead>\n",
       "    <tr style=\"text-align: right;\">\n",
       "      <th></th>\n",
       "      <th>Name</th>\n",
       "      <th>user</th>\n",
       "      <th>userID</th>\n",
       "      <th>text_posts</th>\n",
       "      <th>replyToUser</th>\n",
       "      <th>replyToID</th>\n",
       "      <th>dateCreated</th>\n",
       "      <th>Level</th>\n",
       "      <th>favoriteCount</th>\n",
       "      <th>shareCount</th>\n",
       "      <th>...</th>\n",
       "      <th>Week</th>\n",
       "      <th>origPost</th>\n",
       "      <th>replyCount</th>\n",
       "      <th>commentCount</th>\n",
       "      <th>mentionCount</th>\n",
       "      <th>interactionCount</th>\n",
       "      <th>topic_distribution</th>\n",
       "      <th>topic</th>\n",
       "      <th>source</th>\n",
       "      <th>topic_interpretation</th>\n",
       "    </tr>\n",
       "    <tr>\n",
       "      <th>textID</th>\n",
       "      <th></th>\n",
       "      <th></th>\n",
       "      <th></th>\n",
       "      <th></th>\n",
       "      <th></th>\n",
       "      <th></th>\n",
       "      <th></th>\n",
       "      <th></th>\n",
       "      <th></th>\n",
       "      <th></th>\n",
       "      <th></th>\n",
       "      <th></th>\n",
       "      <th></th>\n",
       "      <th></th>\n",
       "      <th></th>\n",
       "      <th></th>\n",
       "      <th></th>\n",
       "      <th></th>\n",
       "      <th></th>\n",
       "      <th></th>\n",
       "      <th></th>\n",
       "    </tr>\n",
       "  </thead>\n",
       "  <tbody>\n",
       "    <tr>\n",
       "      <td>100626156097_10157646429741098</td>\n",
       "      <td>PROFIL</td>\n",
       "      <td>profil</td>\n",
       "      <td>1.006262e+11</td>\n",
       "      <td>Eine neue historische Studie geht der Frage na...</td>\n",
       "      <td>NaN</td>\n",
       "      <td>NaN</td>\n",
       "      <td>2019-09-08</td>\n",
       "      <td>0.0</td>\n",
       "      <td>16</td>\n",
       "      <td>9.0</td>\n",
       "      <td>...</td>\n",
       "      <td>2019-09-08</td>\n",
       "      <td>100626156097_10157646429741098</td>\n",
       "      <td>2</td>\n",
       "      <td>2</td>\n",
       "      <td>33</td>\n",
       "      <td>27</td>\n",
       "      <td>[0.01176941864877543, 0.01176941861855688, 0.0...</td>\n",
       "      <td>14</td>\n",
       "      <td>Facebook</td>\n",
       "      <td>Volksparteien</td>\n",
       "    </tr>\n",
       "    <tr>\n",
       "      <td>100626156097_10157646590631098</td>\n",
       "      <td>PROFIL</td>\n",
       "      <td>profil</td>\n",
       "      <td>1.006262e+11</td>\n",
       "      <td>Die FPÖ hat den St. Georgs-Orden des Hauses Ha...</td>\n",
       "      <td>NaN</td>\n",
       "      <td>NaN</td>\n",
       "      <td>2019-09-08</td>\n",
       "      <td>0.0</td>\n",
       "      <td>20</td>\n",
       "      <td>7.0</td>\n",
       "      <td>...</td>\n",
       "      <td>2019-09-08</td>\n",
       "      <td>100626156097_10157646590631098</td>\n",
       "      <td>4</td>\n",
       "      <td>5</td>\n",
       "      <td>33</td>\n",
       "      <td>32</td>\n",
       "      <td>[0.01247414406370128, 0.012474143445005888, 0....</td>\n",
       "      <td>10</td>\n",
       "      <td>Facebook</td>\n",
       "      <td>Links / Alternativ</td>\n",
       "    </tr>\n",
       "    <tr>\n",
       "      <td>100626156097_10157646639686098</td>\n",
       "      <td>PROFIL</td>\n",
       "      <td>profil</td>\n",
       "      <td>1.006262e+11</td>\n",
       "      <td>Immer wieder lesenswert!</td>\n",
       "      <td>NaN</td>\n",
       "      <td>NaN</td>\n",
       "      <td>2019-09-08</td>\n",
       "      <td>0.0</td>\n",
       "      <td>59</td>\n",
       "      <td>10.0</td>\n",
       "      <td>...</td>\n",
       "      <td>2019-09-08</td>\n",
       "      <td>100626156097_10157646639686098</td>\n",
       "      <td>7</td>\n",
       "      <td>9</td>\n",
       "      <td>33</td>\n",
       "      <td>78</td>\n",
       "      <td>[0.025000000000003207, 0.5249999996689729, 0.0...</td>\n",
       "      <td>2</td>\n",
       "      <td>Facebook</td>\n",
       "      <td>Wohnen</td>\n",
       "    </tr>\n",
       "    <tr>\n",
       "      <td>100626156097_10157646712181098</td>\n",
       "      <td>PROFIL</td>\n",
       "      <td>profil</td>\n",
       "      <td>1.006262e+11</td>\n",
       "      <td>\"Zu behaupten, dass Sebastian Kurz ein schönes...</td>\n",
       "      <td>NaN</td>\n",
       "      <td>NaN</td>\n",
       "      <td>2019-09-08</td>\n",
       "      <td>0.0</td>\n",
       "      <td>101</td>\n",
       "      <td>57.0</td>\n",
       "      <td>...</td>\n",
       "      <td>2019-09-08</td>\n",
       "      <td>100626156097_10157646712181098</td>\n",
       "      <td>12</td>\n",
       "      <td>33</td>\n",
       "      <td>33</td>\n",
       "      <td>191</td>\n",
       "      <td>[0.010724515890720914, 0.010724516200978765, 0...</td>\n",
       "      <td>12</td>\n",
       "      <td>Facebook</td>\n",
       "      <td>-</td>\n",
       "    </tr>\n",
       "    <tr>\n",
       "      <td>100626156097_10157647396441098</td>\n",
       "      <td>PROFIL</td>\n",
       "      <td>profil</td>\n",
       "      <td>1.006262e+11</td>\n",
       "      <td>profil-Talk: @chr_rai und @evalinsinger diskut...</td>\n",
       "      <td>NaN</td>\n",
       "      <td>NaN</td>\n",
       "      <td>2019-09-08</td>\n",
       "      <td>0.0</td>\n",
       "      <td>6</td>\n",
       "      <td>3.0</td>\n",
       "      <td>...</td>\n",
       "      <td>2019-09-08</td>\n",
       "      <td>100626156097_10157647396441098</td>\n",
       "      <td>8</td>\n",
       "      <td>24</td>\n",
       "      <td>33</td>\n",
       "      <td>33</td>\n",
       "      <td>[0.014856435624797869, 0.01485643555748189, 0....</td>\n",
       "      <td>12</td>\n",
       "      <td>Facebook</td>\n",
       "      <td>-</td>\n",
       "    </tr>\n",
       "  </tbody>\n",
       "</table>\n",
       "<p>5 rows × 25 columns</p>\n",
       "</div>"
      ],
      "text/plain": [
       "                                  Name    user        userID  \\\n",
       "textID                                                         \n",
       "100626156097_10157646429741098  PROFIL  profil  1.006262e+11   \n",
       "100626156097_10157646590631098  PROFIL  profil  1.006262e+11   \n",
       "100626156097_10157646639686098  PROFIL  profil  1.006262e+11   \n",
       "100626156097_10157646712181098  PROFIL  profil  1.006262e+11   \n",
       "100626156097_10157647396441098  PROFIL  profil  1.006262e+11   \n",
       "\n",
       "                                                                       text_posts  \\\n",
       "textID                                                                              \n",
       "100626156097_10157646429741098  Eine neue historische Studie geht der Frage na...   \n",
       "100626156097_10157646590631098  Die FPÖ hat den St. Georgs-Orden des Hauses Ha...   \n",
       "100626156097_10157646639686098                           Immer wieder lesenswert!   \n",
       "100626156097_10157646712181098  \"Zu behaupten, dass Sebastian Kurz ein schönes...   \n",
       "100626156097_10157647396441098  profil-Talk: @chr_rai und @evalinsinger diskut...   \n",
       "\n",
       "                               replyToUser replyToID dateCreated  Level  \\\n",
       "textID                                                                    \n",
       "100626156097_10157646429741098         NaN       NaN  2019-09-08    0.0   \n",
       "100626156097_10157646590631098         NaN       NaN  2019-09-08    0.0   \n",
       "100626156097_10157646639686098         NaN       NaN  2019-09-08    0.0   \n",
       "100626156097_10157646712181098         NaN       NaN  2019-09-08    0.0   \n",
       "100626156097_10157647396441098         NaN       NaN  2019-09-08    0.0   \n",
       "\n",
       "                                favoriteCount  shareCount  ...        Week  \\\n",
       "textID                                                     ...               \n",
       "100626156097_10157646429741098             16         9.0  ...  2019-09-08   \n",
       "100626156097_10157646590631098             20         7.0  ...  2019-09-08   \n",
       "100626156097_10157646639686098             59        10.0  ...  2019-09-08   \n",
       "100626156097_10157646712181098            101        57.0  ...  2019-09-08   \n",
       "100626156097_10157647396441098              6         3.0  ...  2019-09-08   \n",
       "\n",
       "                                                      origPost replyCount  \\\n",
       "textID                                                                      \n",
       "100626156097_10157646429741098  100626156097_10157646429741098          2   \n",
       "100626156097_10157646590631098  100626156097_10157646590631098          4   \n",
       "100626156097_10157646639686098  100626156097_10157646639686098          7   \n",
       "100626156097_10157646712181098  100626156097_10157646712181098         12   \n",
       "100626156097_10157647396441098  100626156097_10157647396441098          8   \n",
       "\n",
       "                               commentCount mentionCount interactionCount  \\\n",
       "textID                                                                      \n",
       "100626156097_10157646429741098            2           33               27   \n",
       "100626156097_10157646590631098            5           33               32   \n",
       "100626156097_10157646639686098            9           33               78   \n",
       "100626156097_10157646712181098           33           33              191   \n",
       "100626156097_10157647396441098           24           33               33   \n",
       "\n",
       "                                                               topic_distribution  \\\n",
       "textID                                                                              \n",
       "100626156097_10157646429741098  [0.01176941864877543, 0.01176941861855688, 0.0...   \n",
       "100626156097_10157646590631098  [0.01247414406370128, 0.012474143445005888, 0....   \n",
       "100626156097_10157646639686098  [0.025000000000003207, 0.5249999996689729, 0.0...   \n",
       "100626156097_10157646712181098  [0.010724515890720914, 0.010724516200978765, 0...   \n",
       "100626156097_10157647396441098  [0.014856435624797869, 0.01485643555748189, 0....   \n",
       "\n",
       "                                topic    source  topic_interpretation  \n",
       "textID                                                                 \n",
       "100626156097_10157646429741098     14  Facebook         Volksparteien  \n",
       "100626156097_10157646590631098     10  Facebook    Links / Alternativ  \n",
       "100626156097_10157646639686098      2  Facebook                Wohnen  \n",
       "100626156097_10157646712181098     12  Facebook                     -  \n",
       "100626156097_10157647396441098     12  Facebook                     -  \n",
       "\n",
       "[5 rows x 25 columns]"
      ]
     },
     "execution_count": 9,
     "metadata": {},
     "output_type": "execute_result"
    }
   ],
   "source": [
    "data.head()"
   ]
  },
  {
   "cell_type": "code",
   "execution_count": 10,
   "metadata": {},
   "outputs": [],
   "source": [
    "grouped = data.groupby([\"topic\", \"topic_interpretation\", \"dateCreated\"]).agg({\"interactionCount\": [\"count\", \"sum\", \"mean\"]})\n",
    "pd.set_option(\"display.max_rows\", None)\n",
    "#grouped"
   ]
  },
  {
   "cell_type": "code",
   "execution_count": 32,
   "metadata": {},
   "outputs": [
    {
     "data": {
      "application/vnd.vegalite.v3+json": {
       "$schema": "https://vega.github.io/schema/vega-lite/v3.4.0.json",
       "config": {
        "mark": {
         "tooltip": null
        },
        "view": {
         "height": 300,
         "width": 400
        }
       },
       "data": {
        "name": "data-98a4cffc24d63efc14f5346a7e55faf8"
       },
       "datasets": {
        "data-98a4cffc24d63efc14f5346a7e55faf8": [
         {
          "Topic": "Wohnen",
          "color": "rosybrown",
          "count": 65,
          "dateCreated": "2019-09-08T00:00:00",
          "mean": 63.48,
          "sum": 4126,
          "topic": 2,
          "topic_interpretation": "Wohnen"
         },
         {
          "Topic": "Wohnen",
          "color": "rosybrown",
          "count": 67,
          "dateCreated": "2019-09-09T00:00:00",
          "mean": 185.36,
          "sum": 12419,
          "topic": 2,
          "topic_interpretation": "Wohnen"
         },
         {
          "Topic": "Wohnen",
          "color": "rosybrown",
          "count": 42,
          "dateCreated": "2019-09-10T00:00:00",
          "mean": 91.29,
          "sum": 3834,
          "topic": 2,
          "topic_interpretation": "Wohnen"
         },
         {
          "Topic": "Wohnen",
          "color": "rosybrown",
          "count": 48,
          "dateCreated": "2019-09-11T00:00:00",
          "mean": 237.75,
          "sum": 11412,
          "topic": 2,
          "topic_interpretation": "Wohnen"
         },
         {
          "Topic": "Wohnen",
          "color": "rosybrown",
          "count": 51,
          "dateCreated": "2019-09-12T00:00:00",
          "mean": 227.33,
          "sum": 11594,
          "topic": 2,
          "topic_interpretation": "Wohnen"
         },
         {
          "Topic": "Wohnen",
          "color": "rosybrown",
          "count": 43,
          "dateCreated": "2019-09-13T00:00:00",
          "mean": 299.81,
          "sum": 12892,
          "topic": 2,
          "topic_interpretation": "Wohnen"
         },
         {
          "Topic": "Wohnen",
          "color": "rosybrown",
          "count": 22,
          "dateCreated": "2019-09-14T00:00:00",
          "mean": 61.09,
          "sum": 1344,
          "topic": 2,
          "topic_interpretation": "Wohnen"
         },
         {
          "Topic": "Wohnen",
          "color": "rosybrown",
          "count": 39,
          "dateCreated": "2019-09-15T00:00:00",
          "mean": 49.9,
          "sum": 1946,
          "topic": 2,
          "topic_interpretation": "Wohnen"
         },
         {
          "Topic": "Wohnen",
          "color": "rosybrown",
          "count": 44,
          "dateCreated": "2019-09-16T00:00:00",
          "mean": 186.95,
          "sum": 8226,
          "topic": 2,
          "topic_interpretation": "Wohnen"
         },
         {
          "Topic": "Wohnen",
          "color": "rosybrown",
          "count": 38,
          "dateCreated": "2019-09-17T00:00:00",
          "mean": 131.61,
          "sum": 5001,
          "topic": 2,
          "topic_interpretation": "Wohnen"
         },
         {
          "Topic": "Wohnen",
          "color": "rosybrown",
          "count": 46,
          "dateCreated": "2019-09-18T00:00:00",
          "mean": 78.09,
          "sum": 3592,
          "topic": 2,
          "topic_interpretation": "Wohnen"
         },
         {
          "Topic": "Wohnen",
          "color": "rosybrown",
          "count": 31,
          "dateCreated": "2019-09-19T00:00:00",
          "mean": 64.81,
          "sum": 2009,
          "topic": 2,
          "topic_interpretation": "Wohnen"
         },
         {
          "Topic": "Wohnen",
          "color": "rosybrown",
          "count": 33,
          "dateCreated": "2019-09-20T00:00:00",
          "mean": 104.12,
          "sum": 3436,
          "topic": 2,
          "topic_interpretation": "Wohnen"
         },
         {
          "Topic": "Wohnen",
          "color": "rosybrown",
          "count": 27,
          "dateCreated": "2019-09-21T00:00:00",
          "mean": 866.78,
          "sum": 23403,
          "topic": 2,
          "topic_interpretation": "Wohnen"
         },
         {
          "Topic": "Wohnen",
          "color": "rosybrown",
          "count": 49,
          "dateCreated": "2019-09-22T00:00:00",
          "mean": 90.61,
          "sum": 4440,
          "topic": 2,
          "topic_interpretation": "Wohnen"
         },
         {
          "Topic": "Wohnen",
          "color": "rosybrown",
          "count": 26,
          "dateCreated": "2019-09-23T00:00:00",
          "mean": 103.77,
          "sum": 2698,
          "topic": 2,
          "topic_interpretation": "Wohnen"
         },
         {
          "Topic": "Wohnen",
          "color": "rosybrown",
          "count": 55,
          "dateCreated": "2019-09-24T00:00:00",
          "mean": 76.29,
          "sum": 4196,
          "topic": 2,
          "topic_interpretation": "Wohnen"
         },
         {
          "Topic": "Wohnen",
          "color": "rosybrown",
          "count": 58,
          "dateCreated": "2019-09-25T00:00:00",
          "mean": 106.19,
          "sum": 6159,
          "topic": 2,
          "topic_interpretation": "Wohnen"
         },
         {
          "Topic": "Wohnen",
          "color": "rosybrown",
          "count": 66,
          "dateCreated": "2019-09-26T00:00:00",
          "mean": 117.53,
          "sum": 7757,
          "topic": 2,
          "topic_interpretation": "Wohnen"
         },
         {
          "Topic": "Wohnen",
          "color": "rosybrown",
          "count": 45,
          "dateCreated": "2019-09-27T00:00:00",
          "mean": 50.36,
          "sum": 2266,
          "topic": 2,
          "topic_interpretation": "Wohnen"
         },
         {
          "Topic": "Wohnen",
          "color": "rosybrown",
          "count": 43,
          "dateCreated": "2019-09-28T00:00:00",
          "mean": 97.53,
          "sum": 4194,
          "topic": 2,
          "topic_interpretation": "Wohnen"
         },
         {
          "Topic": "Wohnen",
          "color": "rosybrown",
          "count": 34,
          "dateCreated": "2019-09-29T00:00:00",
          "mean": 167.03,
          "sum": 5679,
          "topic": 2,
          "topic_interpretation": "Wohnen"
         },
         {
          "Topic": "Wohnen",
          "color": "rosybrown",
          "count": 23,
          "dateCreated": "2019-09-30T00:00:00",
          "mean": 88.35,
          "sum": 2032,
          "topic": 2,
          "topic_interpretation": "Wohnen"
         },
         {
          "Topic": "Grüne",
          "color": "green",
          "count": 69,
          "dateCreated": "2019-09-08T00:00:00",
          "mean": 124.74,
          "sum": 8607,
          "topic": 3,
          "topic_interpretation": "Grüne"
         },
         {
          "Topic": "Grüne",
          "color": "green",
          "count": 73,
          "dateCreated": "2019-09-09T00:00:00",
          "mean": 86.01,
          "sum": 6279,
          "topic": 3,
          "topic_interpretation": "Grüne"
         },
         {
          "Topic": "Grüne",
          "color": "green",
          "count": 40,
          "dateCreated": "2019-09-10T00:00:00",
          "mean": 179.78,
          "sum": 7191,
          "topic": 3,
          "topic_interpretation": "Grüne"
         },
         {
          "Topic": "Grüne",
          "color": "green",
          "count": 48,
          "dateCreated": "2019-09-11T00:00:00",
          "mean": 96.15,
          "sum": 4615,
          "topic": 3,
          "topic_interpretation": "Grüne"
         },
         {
          "Topic": "Grüne",
          "color": "green",
          "count": 50,
          "dateCreated": "2019-09-12T00:00:00",
          "mean": 67.74,
          "sum": 3387,
          "topic": 3,
          "topic_interpretation": "Grüne"
         },
         {
          "Topic": "Grüne",
          "color": "green",
          "count": 51,
          "dateCreated": "2019-09-13T00:00:00",
          "mean": 203.45,
          "sum": 10376,
          "topic": 3,
          "topic_interpretation": "Grüne"
         },
         {
          "Topic": "Grüne",
          "color": "green",
          "count": 47,
          "dateCreated": "2019-09-14T00:00:00",
          "mean": 121.94,
          "sum": 5731,
          "topic": 3,
          "topic_interpretation": "Grüne"
         },
         {
          "Topic": "Grüne",
          "color": "green",
          "count": 45,
          "dateCreated": "2019-09-15T00:00:00",
          "mean": 103,
          "sum": 4635,
          "topic": 3,
          "topic_interpretation": "Grüne"
         },
         {
          "Topic": "Grüne",
          "color": "green",
          "count": 41,
          "dateCreated": "2019-09-16T00:00:00",
          "mean": 122.15,
          "sum": 5008,
          "topic": 3,
          "topic_interpretation": "Grüne"
         },
         {
          "Topic": "Grüne",
          "color": "green",
          "count": 42,
          "dateCreated": "2019-09-17T00:00:00",
          "mean": 94.17,
          "sum": 3955,
          "topic": 3,
          "topic_interpretation": "Grüne"
         },
         {
          "Topic": "Grüne",
          "color": "green",
          "count": 50,
          "dateCreated": "2019-09-18T00:00:00",
          "mean": 117.48,
          "sum": 5874,
          "topic": 3,
          "topic_interpretation": "Grüne"
         },
         {
          "Topic": "Grüne",
          "color": "green",
          "count": 61,
          "dateCreated": "2019-09-19T00:00:00",
          "mean": 156.43,
          "sum": 9542,
          "topic": 3,
          "topic_interpretation": "Grüne"
         },
         {
          "Topic": "Grüne",
          "color": "green",
          "count": 53,
          "dateCreated": "2019-09-20T00:00:00",
          "mean": 124.91,
          "sum": 6620,
          "topic": 3,
          "topic_interpretation": "Grüne"
         },
         {
          "Topic": "Grüne",
          "color": "green",
          "count": 35,
          "dateCreated": "2019-09-21T00:00:00",
          "mean": 328.57,
          "sum": 11500,
          "topic": 3,
          "topic_interpretation": "Grüne"
         },
         {
          "Topic": "Grüne",
          "color": "green",
          "count": 25,
          "dateCreated": "2019-09-22T00:00:00",
          "mean": 61.08,
          "sum": 1527,
          "topic": 3,
          "topic_interpretation": "Grüne"
         },
         {
          "Topic": "Grüne",
          "color": "green",
          "count": 40,
          "dateCreated": "2019-09-23T00:00:00",
          "mean": 171,
          "sum": 6840,
          "topic": 3,
          "topic_interpretation": "Grüne"
         },
         {
          "Topic": "Grüne",
          "color": "green",
          "count": 58,
          "dateCreated": "2019-09-24T00:00:00",
          "mean": 98.83,
          "sum": 5732,
          "topic": 3,
          "topic_interpretation": "Grüne"
         },
         {
          "Topic": "Grüne",
          "color": "green",
          "count": 62,
          "dateCreated": "2019-09-25T00:00:00",
          "mean": 255.48,
          "sum": 15840,
          "topic": 3,
          "topic_interpretation": "Grüne"
         },
         {
          "Topic": "Grüne",
          "color": "green",
          "count": 68,
          "dateCreated": "2019-09-26T00:00:00",
          "mean": 186.78,
          "sum": 12701,
          "topic": 3,
          "topic_interpretation": "Grüne"
         },
         {
          "Topic": "Grüne",
          "color": "green",
          "count": 78,
          "dateCreated": "2019-09-27T00:00:00",
          "mean": 140.76,
          "sum": 10979,
          "topic": 3,
          "topic_interpretation": "Grüne"
         },
         {
          "Topic": "Grüne",
          "color": "green",
          "count": 91,
          "dateCreated": "2019-09-28T00:00:00",
          "mean": 123.22,
          "sum": 11213,
          "topic": 3,
          "topic_interpretation": "Grüne"
         },
         {
          "Topic": "Grüne",
          "color": "green",
          "count": 67,
          "dateCreated": "2019-09-29T00:00:00",
          "mean": 199.16,
          "sum": 13344,
          "topic": 3,
          "topic_interpretation": "Grüne"
         },
         {
          "Topic": "Grüne",
          "color": "green",
          "count": 40,
          "dateCreated": "2019-09-30T00:00:00",
          "mean": 128.6,
          "sum": 5144,
          "topic": 3,
          "topic_interpretation": "Grüne"
         },
         {
          "Topic": "Steuern / Geld",
          "color": "darkblue",
          "count": 77,
          "dateCreated": "2019-09-08T00:00:00",
          "mean": 131.6,
          "sum": 10133,
          "topic": 4,
          "topic_interpretation": "Steuern / Geld"
         },
         {
          "Topic": "Steuern / Geld",
          "color": "darkblue",
          "count": 84,
          "dateCreated": "2019-09-09T00:00:00",
          "mean": 119.42,
          "sum": 10031,
          "topic": 4,
          "topic_interpretation": "Steuern / Geld"
         },
         {
          "Topic": "Steuern / Geld",
          "color": "darkblue",
          "count": 81,
          "dateCreated": "2019-09-10T00:00:00",
          "mean": 63.05,
          "sum": 5107,
          "topic": 4,
          "topic_interpretation": "Steuern / Geld"
         },
         {
          "Topic": "Steuern / Geld",
          "color": "darkblue",
          "count": 65,
          "dateCreated": "2019-09-11T00:00:00",
          "mean": 239.08,
          "sum": 15540,
          "topic": 4,
          "topic_interpretation": "Steuern / Geld"
         },
         {
          "Topic": "Steuern / Geld",
          "color": "darkblue",
          "count": 54,
          "dateCreated": "2019-09-12T00:00:00",
          "mean": 116.31,
          "sum": 6281,
          "topic": 4,
          "topic_interpretation": "Steuern / Geld"
         },
         {
          "Topic": "Steuern / Geld",
          "color": "darkblue",
          "count": 50,
          "dateCreated": "2019-09-13T00:00:00",
          "mean": 259.38,
          "sum": 12969,
          "topic": 4,
          "topic_interpretation": "Steuern / Geld"
         },
         {
          "Topic": "Steuern / Geld",
          "color": "darkblue",
          "count": 48,
          "dateCreated": "2019-09-14T00:00:00",
          "mean": 107.4,
          "sum": 5155,
          "topic": 4,
          "topic_interpretation": "Steuern / Geld"
         },
         {
          "Topic": "Steuern / Geld",
          "color": "darkblue",
          "count": 66,
          "dateCreated": "2019-09-15T00:00:00",
          "mean": 85.21,
          "sum": 5624,
          "topic": 4,
          "topic_interpretation": "Steuern / Geld"
         },
         {
          "Topic": "Steuern / Geld",
          "color": "darkblue",
          "count": 54,
          "dateCreated": "2019-09-16T00:00:00",
          "mean": 93.43,
          "sum": 5045,
          "topic": 4,
          "topic_interpretation": "Steuern / Geld"
         },
         {
          "Topic": "Steuern / Geld",
          "color": "darkblue",
          "count": 67,
          "dateCreated": "2019-09-17T00:00:00",
          "mean": 191.94,
          "sum": 12860,
          "topic": 4,
          "topic_interpretation": "Steuern / Geld"
         },
         {
          "Topic": "Steuern / Geld",
          "color": "darkblue",
          "count": 52,
          "dateCreated": "2019-09-18T00:00:00",
          "mean": 47.29,
          "sum": 2459,
          "topic": 4,
          "topic_interpretation": "Steuern / Geld"
         },
         {
          "Topic": "Steuern / Geld",
          "color": "darkblue",
          "count": 94,
          "dateCreated": "2019-09-19T00:00:00",
          "mean": 122.37,
          "sum": 11503,
          "topic": 4,
          "topic_interpretation": "Steuern / Geld"
         },
         {
          "Topic": "Steuern / Geld",
          "color": "darkblue",
          "count": 88,
          "dateCreated": "2019-09-20T00:00:00",
          "mean": 197.7,
          "sum": 17398,
          "topic": 4,
          "topic_interpretation": "Steuern / Geld"
         },
         {
          "Topic": "Steuern / Geld",
          "color": "darkblue",
          "count": 47,
          "dateCreated": "2019-09-21T00:00:00",
          "mean": 92.49,
          "sum": 4347,
          "topic": 4,
          "topic_interpretation": "Steuern / Geld"
         },
         {
          "Topic": "Steuern / Geld",
          "color": "darkblue",
          "count": 56,
          "dateCreated": "2019-09-22T00:00:00",
          "mean": 433.73,
          "sum": 24289,
          "topic": 4,
          "topic_interpretation": "Steuern / Geld"
         },
         {
          "Topic": "Steuern / Geld",
          "color": "darkblue",
          "count": 41,
          "dateCreated": "2019-09-23T00:00:00",
          "mean": 599.07,
          "sum": 24562,
          "topic": 4,
          "topic_interpretation": "Steuern / Geld"
         },
         {
          "Topic": "Steuern / Geld",
          "color": "darkblue",
          "count": 57,
          "dateCreated": "2019-09-24T00:00:00",
          "mean": 197.11,
          "sum": 11235,
          "topic": 4,
          "topic_interpretation": "Steuern / Geld"
         },
         {
          "Topic": "Steuern / Geld",
          "color": "darkblue",
          "count": 77,
          "dateCreated": "2019-09-25T00:00:00",
          "mean": 349.16,
          "sum": 26885,
          "topic": 4,
          "topic_interpretation": "Steuern / Geld"
         },
         {
          "Topic": "Steuern / Geld",
          "color": "darkblue",
          "count": 79,
          "dateCreated": "2019-09-26T00:00:00",
          "mean": 73.48,
          "sum": 5805,
          "topic": 4,
          "topic_interpretation": "Steuern / Geld"
         },
         {
          "Topic": "Steuern / Geld",
          "color": "darkblue",
          "count": 47,
          "dateCreated": "2019-09-27T00:00:00",
          "mean": 433.23,
          "sum": 20362,
          "topic": 4,
          "topic_interpretation": "Steuern / Geld"
         },
         {
          "Topic": "Steuern / Geld",
          "color": "darkblue",
          "count": 62,
          "dateCreated": "2019-09-28T00:00:00",
          "mean": 136.87,
          "sum": 8486,
          "topic": 4,
          "topic_interpretation": "Steuern / Geld"
         },
         {
          "Topic": "Steuern / Geld",
          "color": "darkblue",
          "count": 59,
          "dateCreated": "2019-09-29T00:00:00",
          "mean": 116.08,
          "sum": 6849,
          "topic": 4,
          "topic_interpretation": "Steuern / Geld"
         },
         {
          "Topic": "Steuern / Geld",
          "color": "darkblue",
          "count": 30,
          "dateCreated": "2019-09-30T00:00:00",
          "mean": 94.1,
          "sum": 2823,
          "topic": 4,
          "topic_interpretation": "Steuern / Geld"
         },
         {
          "Topic": "ÖVP Mobilisierung",
          "color": "mediumturquoise",
          "count": 25,
          "dateCreated": "2019-09-08T00:00:00",
          "mean": 60.6,
          "sum": 1515,
          "topic": 5,
          "topic_interpretation": "ÖVP Mobilisierung"
         },
         {
          "Topic": "ÖVP Mobilisierung",
          "color": "mediumturquoise",
          "count": 54,
          "dateCreated": "2019-09-09T00:00:00",
          "mean": 69.93,
          "sum": 3776,
          "topic": 5,
          "topic_interpretation": "ÖVP Mobilisierung"
         },
         {
          "Topic": "ÖVP Mobilisierung",
          "color": "mediumturquoise",
          "count": 28,
          "dateCreated": "2019-09-10T00:00:00",
          "mean": 99.04,
          "sum": 2773,
          "topic": 5,
          "topic_interpretation": "ÖVP Mobilisierung"
         },
         {
          "Topic": "ÖVP Mobilisierung",
          "color": "mediumturquoise",
          "count": 44,
          "dateCreated": "2019-09-11T00:00:00",
          "mean": 211.86,
          "sum": 9322,
          "topic": 5,
          "topic_interpretation": "ÖVP Mobilisierung"
         },
         {
          "Topic": "ÖVP Mobilisierung",
          "color": "mediumturquoise",
          "count": 37,
          "dateCreated": "2019-09-12T00:00:00",
          "mean": 83.14,
          "sum": 3076,
          "topic": 5,
          "topic_interpretation": "ÖVP Mobilisierung"
         },
         {
          "Topic": "ÖVP Mobilisierung",
          "color": "mediumturquoise",
          "count": 40,
          "dateCreated": "2019-09-13T00:00:00",
          "mean": 160.55,
          "sum": 6422,
          "topic": 5,
          "topic_interpretation": "ÖVP Mobilisierung"
         },
         {
          "Topic": "ÖVP Mobilisierung",
          "color": "mediumturquoise",
          "count": 29,
          "dateCreated": "2019-09-14T00:00:00",
          "mean": 409.9,
          "sum": 11887,
          "topic": 5,
          "topic_interpretation": "ÖVP Mobilisierung"
         },
         {
          "Topic": "ÖVP Mobilisierung",
          "color": "mediumturquoise",
          "count": 40,
          "dateCreated": "2019-09-15T00:00:00",
          "mean": 178.7,
          "sum": 7148,
          "topic": 5,
          "topic_interpretation": "ÖVP Mobilisierung"
         },
         {
          "Topic": "ÖVP Mobilisierung",
          "color": "mediumturquoise",
          "count": 40,
          "dateCreated": "2019-09-16T00:00:00",
          "mean": 37.78,
          "sum": 1511,
          "topic": 5,
          "topic_interpretation": "ÖVP Mobilisierung"
         },
         {
          "Topic": "ÖVP Mobilisierung",
          "color": "mediumturquoise",
          "count": 39,
          "dateCreated": "2019-09-17T00:00:00",
          "mean": 215.41,
          "sum": 8401,
          "topic": 5,
          "topic_interpretation": "ÖVP Mobilisierung"
         },
         {
          "Topic": "ÖVP Mobilisierung",
          "color": "mediumturquoise",
          "count": 31,
          "dateCreated": "2019-09-18T00:00:00",
          "mean": 367.19,
          "sum": 11383,
          "topic": 5,
          "topic_interpretation": "ÖVP Mobilisierung"
         },
         {
          "Topic": "ÖVP Mobilisierung",
          "color": "mediumturquoise",
          "count": 33,
          "dateCreated": "2019-09-19T00:00:00",
          "mean": 82.39,
          "sum": 2719,
          "topic": 5,
          "topic_interpretation": "ÖVP Mobilisierung"
         },
         {
          "Topic": "ÖVP Mobilisierung",
          "color": "mediumturquoise",
          "count": 40,
          "dateCreated": "2019-09-20T00:00:00",
          "mean": 39.62,
          "sum": 1585,
          "topic": 5,
          "topic_interpretation": "ÖVP Mobilisierung"
         },
         {
          "Topic": "ÖVP Mobilisierung",
          "color": "mediumturquoise",
          "count": 21,
          "dateCreated": "2019-09-21T00:00:00",
          "mean": 165.05,
          "sum": 3466,
          "topic": 5,
          "topic_interpretation": "ÖVP Mobilisierung"
         },
         {
          "Topic": "ÖVP Mobilisierung",
          "color": "mediumturquoise",
          "count": 50,
          "dateCreated": "2019-09-22T00:00:00",
          "mean": 194.2,
          "sum": 9710,
          "topic": 5,
          "topic_interpretation": "ÖVP Mobilisierung"
         },
         {
          "Topic": "ÖVP Mobilisierung",
          "color": "mediumturquoise",
          "count": 28,
          "dateCreated": "2019-09-23T00:00:00",
          "mean": 85.93,
          "sum": 2406,
          "topic": 5,
          "topic_interpretation": "ÖVP Mobilisierung"
         },
         {
          "Topic": "ÖVP Mobilisierung",
          "color": "mediumturquoise",
          "count": 38,
          "dateCreated": "2019-09-24T00:00:00",
          "mean": 381.84,
          "sum": 14510,
          "topic": 5,
          "topic_interpretation": "ÖVP Mobilisierung"
         },
         {
          "Topic": "ÖVP Mobilisierung",
          "color": "mediumturquoise",
          "count": 32,
          "dateCreated": "2019-09-25T00:00:00",
          "mean": 78.12,
          "sum": 2500,
          "topic": 5,
          "topic_interpretation": "ÖVP Mobilisierung"
         },
         {
          "Topic": "ÖVP Mobilisierung",
          "color": "mediumturquoise",
          "count": 73,
          "dateCreated": "2019-09-26T00:00:00",
          "mean": 128.64,
          "sum": 9391,
          "topic": 5,
          "topic_interpretation": "ÖVP Mobilisierung"
         },
         {
          "Topic": "ÖVP Mobilisierung",
          "color": "mediumturquoise",
          "count": 45,
          "dateCreated": "2019-09-27T00:00:00",
          "mean": 173.47,
          "sum": 7806,
          "topic": 5,
          "topic_interpretation": "ÖVP Mobilisierung"
         },
         {
          "Topic": "ÖVP Mobilisierung",
          "color": "mediumturquoise",
          "count": 47,
          "dateCreated": "2019-09-28T00:00:00",
          "mean": 75.98,
          "sum": 3571,
          "topic": 5,
          "topic_interpretation": "ÖVP Mobilisierung"
         },
         {
          "Topic": "ÖVP Mobilisierung",
          "color": "mediumturquoise",
          "count": 35,
          "dateCreated": "2019-09-29T00:00:00",
          "mean": 179.23,
          "sum": 6273,
          "topic": 5,
          "topic_interpretation": "ÖVP Mobilisierung"
         },
         {
          "Topic": "ÖVP Mobilisierung",
          "color": "mediumturquoise",
          "count": 17,
          "dateCreated": "2019-09-30T00:00:00",
          "mean": 85.82,
          "sum": 1459,
          "topic": 5,
          "topic_interpretation": "ÖVP Mobilisierung"
         },
         {
          "Topic": "Parteien",
          "color": "gold",
          "count": 88,
          "dateCreated": "2019-09-08T00:00:00",
          "mean": 146.84,
          "sum": 12922,
          "topic": 6,
          "topic_interpretation": "Parteien"
         },
         {
          "Topic": "Parteien",
          "color": "gold",
          "count": 80,
          "dateCreated": "2019-09-09T00:00:00",
          "mean": 48.1,
          "sum": 3848,
          "topic": 6,
          "topic_interpretation": "Parteien"
         },
         {
          "Topic": "Parteien",
          "color": "gold",
          "count": 40,
          "dateCreated": "2019-09-10T00:00:00",
          "mean": 116.92,
          "sum": 4677,
          "topic": 6,
          "topic_interpretation": "Parteien"
         },
         {
          "Topic": "Parteien",
          "color": "gold",
          "count": 58,
          "dateCreated": "2019-09-11T00:00:00",
          "mean": 139.07,
          "sum": 8066,
          "topic": 6,
          "topic_interpretation": "Parteien"
         },
         {
          "Topic": "Parteien",
          "color": "gold",
          "count": 68,
          "dateCreated": "2019-09-12T00:00:00",
          "mean": 72.56,
          "sum": 4934,
          "topic": 6,
          "topic_interpretation": "Parteien"
         },
         {
          "Topic": "Parteien",
          "color": "gold",
          "count": 59,
          "dateCreated": "2019-09-13T00:00:00",
          "mean": 203.85,
          "sum": 12027,
          "topic": 6,
          "topic_interpretation": "Parteien"
         },
         {
          "Topic": "Parteien",
          "color": "gold",
          "count": 58,
          "dateCreated": "2019-09-14T00:00:00",
          "mean": 232.83,
          "sum": 13504,
          "topic": 6,
          "topic_interpretation": "Parteien"
         },
         {
          "Topic": "Parteien",
          "color": "gold",
          "count": 67,
          "dateCreated": "2019-09-15T00:00:00",
          "mean": 60.6,
          "sum": 4060,
          "topic": 6,
          "topic_interpretation": "Parteien"
         },
         {
          "Topic": "Parteien",
          "color": "gold",
          "count": 57,
          "dateCreated": "2019-09-16T00:00:00",
          "mean": 103.84,
          "sum": 5919,
          "topic": 6,
          "topic_interpretation": "Parteien"
         },
         {
          "Topic": "Parteien",
          "color": "gold",
          "count": 70,
          "dateCreated": "2019-09-17T00:00:00",
          "mean": 47.73,
          "sum": 3341,
          "topic": 6,
          "topic_interpretation": "Parteien"
         },
         {
          "Topic": "Parteien",
          "color": "gold",
          "count": 68,
          "dateCreated": "2019-09-18T00:00:00",
          "mean": 202.29,
          "sum": 13756,
          "topic": 6,
          "topic_interpretation": "Parteien"
         },
         {
          "Topic": "Parteien",
          "color": "gold",
          "count": 67,
          "dateCreated": "2019-09-19T00:00:00",
          "mean": 138.94,
          "sum": 9309,
          "topic": 6,
          "topic_interpretation": "Parteien"
         },
         {
          "Topic": "Parteien",
          "color": "gold",
          "count": 75,
          "dateCreated": "2019-09-20T00:00:00",
          "mean": 223.56,
          "sum": 16767,
          "topic": 6,
          "topic_interpretation": "Parteien"
         },
         {
          "Topic": "Parteien",
          "color": "gold",
          "count": 46,
          "dateCreated": "2019-09-21T00:00:00",
          "mean": 326.17,
          "sum": 15004,
          "topic": 6,
          "topic_interpretation": "Parteien"
         },
         {
          "Topic": "Parteien",
          "color": "gold",
          "count": 58,
          "dateCreated": "2019-09-22T00:00:00",
          "mean": 67.03,
          "sum": 3888,
          "topic": 6,
          "topic_interpretation": "Parteien"
         },
         {
          "Topic": "Parteien",
          "color": "gold",
          "count": 60,
          "dateCreated": "2019-09-23T00:00:00",
          "mean": 230.3,
          "sum": 13818,
          "topic": 6,
          "topic_interpretation": "Parteien"
         },
         {
          "Topic": "Parteien",
          "color": "gold",
          "count": 59,
          "dateCreated": "2019-09-24T00:00:00",
          "mean": 133.85,
          "sum": 7897,
          "topic": 6,
          "topic_interpretation": "Parteien"
         },
         {
          "Topic": "Parteien",
          "color": "gold",
          "count": 79,
          "dateCreated": "2019-09-25T00:00:00",
          "mean": 137.73,
          "sum": 10881,
          "topic": 6,
          "topic_interpretation": "Parteien"
         },
         {
          "Topic": "Parteien",
          "color": "gold",
          "count": 98,
          "dateCreated": "2019-09-26T00:00:00",
          "mean": 94.81,
          "sum": 9291,
          "topic": 6,
          "topic_interpretation": "Parteien"
         },
         {
          "Topic": "Parteien",
          "color": "gold",
          "count": 72,
          "dateCreated": "2019-09-27T00:00:00",
          "mean": 143.54,
          "sum": 10335,
          "topic": 6,
          "topic_interpretation": "Parteien"
         },
         {
          "Topic": "Parteien",
          "color": "gold",
          "count": 79,
          "dateCreated": "2019-09-28T00:00:00",
          "mean": 110.15,
          "sum": 8702,
          "topic": 6,
          "topic_interpretation": "Parteien"
         },
         {
          "Topic": "Parteien",
          "color": "gold",
          "count": 47,
          "dateCreated": "2019-09-29T00:00:00",
          "mean": 440.89,
          "sum": 20722,
          "topic": 6,
          "topic_interpretation": "Parteien"
         },
         {
          "Topic": "Parteien",
          "color": "gold",
          "count": 42,
          "dateCreated": "2019-09-30T00:00:00",
          "mean": 79.69,
          "sum": 3347,
          "topic": 6,
          "topic_interpretation": "Parteien"
         },
         {
          "Topic": "Prognosen",
          "color": "darkcyan",
          "count": 55,
          "dateCreated": "2019-09-08T00:00:00",
          "mean": 128.15,
          "sum": 7048,
          "topic": 7,
          "topic_interpretation": "Prognosen"
         },
         {
          "Topic": "Prognosen",
          "color": "darkcyan",
          "count": 56,
          "dateCreated": "2019-09-09T00:00:00",
          "mean": 103.43,
          "sum": 5792,
          "topic": 7,
          "topic_interpretation": "Prognosen"
         },
         {
          "Topic": "Prognosen",
          "color": "darkcyan",
          "count": 65,
          "dateCreated": "2019-09-10T00:00:00",
          "mean": 99.6,
          "sum": 6474,
          "topic": 7,
          "topic_interpretation": "Prognosen"
         },
         {
          "Topic": "Prognosen",
          "color": "darkcyan",
          "count": 36,
          "dateCreated": "2019-09-11T00:00:00",
          "mean": 165.67,
          "sum": 5964,
          "topic": 7,
          "topic_interpretation": "Prognosen"
         },
         {
          "Topic": "Prognosen",
          "color": "darkcyan",
          "count": 64,
          "dateCreated": "2019-09-12T00:00:00",
          "mean": 304.03,
          "sum": 19458,
          "topic": 7,
          "topic_interpretation": "Prognosen"
         },
         {
          "Topic": "Prognosen",
          "color": "darkcyan",
          "count": 45,
          "dateCreated": "2019-09-13T00:00:00",
          "mean": 117.04,
          "sum": 5267,
          "topic": 7,
          "topic_interpretation": "Prognosen"
         },
         {
          "Topic": "Prognosen",
          "color": "darkcyan",
          "count": 34,
          "dateCreated": "2019-09-14T00:00:00",
          "mean": 93.68,
          "sum": 3185,
          "topic": 7,
          "topic_interpretation": "Prognosen"
         },
         {
          "Topic": "Prognosen",
          "color": "darkcyan",
          "count": 47,
          "dateCreated": "2019-09-15T00:00:00",
          "mean": 199.66,
          "sum": 9384,
          "topic": 7,
          "topic_interpretation": "Prognosen"
         },
         {
          "Topic": "Prognosen",
          "color": "darkcyan",
          "count": 54,
          "dateCreated": "2019-09-16T00:00:00",
          "mean": 113.61,
          "sum": 6135,
          "topic": 7,
          "topic_interpretation": "Prognosen"
         },
         {
          "Topic": "Prognosen",
          "color": "darkcyan",
          "count": 69,
          "dateCreated": "2019-09-17T00:00:00",
          "mean": 143.42,
          "sum": 9896,
          "topic": 7,
          "topic_interpretation": "Prognosen"
         },
         {
          "Topic": "Prognosen",
          "color": "darkcyan",
          "count": 45,
          "dateCreated": "2019-09-18T00:00:00",
          "mean": 104.09,
          "sum": 4684,
          "topic": 7,
          "topic_interpretation": "Prognosen"
         },
         {
          "Topic": "Prognosen",
          "color": "darkcyan",
          "count": 68,
          "dateCreated": "2019-09-19T00:00:00",
          "mean": 120.68,
          "sum": 8206,
          "topic": 7,
          "topic_interpretation": "Prognosen"
         },
         {
          "Topic": "Prognosen",
          "color": "darkcyan",
          "count": 44,
          "dateCreated": "2019-09-20T00:00:00",
          "mean": 215.43,
          "sum": 9479,
          "topic": 7,
          "topic_interpretation": "Prognosen"
         },
         {
          "Topic": "Prognosen",
          "color": "darkcyan",
          "count": 49,
          "dateCreated": "2019-09-21T00:00:00",
          "mean": 241.12,
          "sum": 11815,
          "topic": 7,
          "topic_interpretation": "Prognosen"
         },
         {
          "Topic": "Prognosen",
          "color": "darkcyan",
          "count": 45,
          "dateCreated": "2019-09-22T00:00:00",
          "mean": 177.73,
          "sum": 7998,
          "topic": 7,
          "topic_interpretation": "Prognosen"
         },
         {
          "Topic": "Prognosen",
          "color": "darkcyan",
          "count": 41,
          "dateCreated": "2019-09-23T00:00:00",
          "mean": 108.29,
          "sum": 4440,
          "topic": 7,
          "topic_interpretation": "Prognosen"
         },
         {
          "Topic": "Prognosen",
          "color": "darkcyan",
          "count": 50,
          "dateCreated": "2019-09-24T00:00:00",
          "mean": 245.74,
          "sum": 12287,
          "topic": 7,
          "topic_interpretation": "Prognosen"
         },
         {
          "Topic": "Prognosen",
          "color": "darkcyan",
          "count": 66,
          "dateCreated": "2019-09-25T00:00:00",
          "mean": 79.39,
          "sum": 5240,
          "topic": 7,
          "topic_interpretation": "Prognosen"
         },
         {
          "Topic": "Prognosen",
          "color": "darkcyan",
          "count": 71,
          "dateCreated": "2019-09-26T00:00:00",
          "mean": 55.93,
          "sum": 3971,
          "topic": 7,
          "topic_interpretation": "Prognosen"
         },
         {
          "Topic": "Prognosen",
          "color": "darkcyan",
          "count": 59,
          "dateCreated": "2019-09-27T00:00:00",
          "mean": 136,
          "sum": 8024,
          "topic": 7,
          "topic_interpretation": "Prognosen"
         },
         {
          "Topic": "Prognosen",
          "color": "darkcyan",
          "count": 61,
          "dateCreated": "2019-09-28T00:00:00",
          "mean": 67.97,
          "sum": 4146,
          "topic": 7,
          "topic_interpretation": "Prognosen"
         },
         {
          "Topic": "Prognosen",
          "color": "darkcyan",
          "count": 48,
          "dateCreated": "2019-09-29T00:00:00",
          "mean": 251.67,
          "sum": 12080,
          "topic": 7,
          "topic_interpretation": "Prognosen"
         },
         {
          "Topic": "Prognosen",
          "color": "darkcyan",
          "count": 24,
          "dateCreated": "2019-09-30T00:00:00",
          "mean": 212.88,
          "sum": 5109,
          "topic": 7,
          "topic_interpretation": "Prognosen"
         },
         {
          "Topic": "KPÖ / Linke Forderungen",
          "color": "darkred",
          "count": 37,
          "dateCreated": "2019-09-08T00:00:00",
          "mean": 202.05,
          "sum": 7476,
          "topic": 8,
          "topic_interpretation": "KPÖ / Linke Forderungen"
         },
         {
          "Topic": "KPÖ / Linke Forderungen",
          "color": "darkred",
          "count": 63,
          "dateCreated": "2019-09-09T00:00:00",
          "mean": 107.1,
          "sum": 6747,
          "topic": 8,
          "topic_interpretation": "KPÖ / Linke Forderungen"
         },
         {
          "Topic": "KPÖ / Linke Forderungen",
          "color": "darkred",
          "count": 58,
          "dateCreated": "2019-09-10T00:00:00",
          "mean": 63.43,
          "sum": 3679,
          "topic": 8,
          "topic_interpretation": "KPÖ / Linke Forderungen"
         },
         {
          "Topic": "KPÖ / Linke Forderungen",
          "color": "darkred",
          "count": 52,
          "dateCreated": "2019-09-11T00:00:00",
          "mean": 97.75,
          "sum": 5083,
          "topic": 8,
          "topic_interpretation": "KPÖ / Linke Forderungen"
         },
         {
          "Topic": "KPÖ / Linke Forderungen",
          "color": "darkred",
          "count": 66,
          "dateCreated": "2019-09-12T00:00:00",
          "mean": 77.47,
          "sum": 5113,
          "topic": 8,
          "topic_interpretation": "KPÖ / Linke Forderungen"
         },
         {
          "Topic": "KPÖ / Linke Forderungen",
          "color": "darkred",
          "count": 35,
          "dateCreated": "2019-09-13T00:00:00",
          "mean": 195.91,
          "sum": 6857,
          "topic": 8,
          "topic_interpretation": "KPÖ / Linke Forderungen"
         },
         {
          "Topic": "KPÖ / Linke Forderungen",
          "color": "darkred",
          "count": 27,
          "dateCreated": "2019-09-14T00:00:00",
          "mean": 136.81,
          "sum": 3694,
          "topic": 8,
          "topic_interpretation": "KPÖ / Linke Forderungen"
         },
         {
          "Topic": "KPÖ / Linke Forderungen",
          "color": "darkred",
          "count": 43,
          "dateCreated": "2019-09-15T00:00:00",
          "mean": 66.79,
          "sum": 2872,
          "topic": 8,
          "topic_interpretation": "KPÖ / Linke Forderungen"
         },
         {
          "Topic": "KPÖ / Linke Forderungen",
          "color": "darkred",
          "count": 46,
          "dateCreated": "2019-09-16T00:00:00",
          "mean": 72.89,
          "sum": 3353,
          "topic": 8,
          "topic_interpretation": "KPÖ / Linke Forderungen"
         },
         {
          "Topic": "KPÖ / Linke Forderungen",
          "color": "darkred",
          "count": 45,
          "dateCreated": "2019-09-17T00:00:00",
          "mean": 105.24,
          "sum": 4736,
          "topic": 8,
          "topic_interpretation": "KPÖ / Linke Forderungen"
         },
         {
          "Topic": "KPÖ / Linke Forderungen",
          "color": "darkred",
          "count": 44,
          "dateCreated": "2019-09-18T00:00:00",
          "mean": 199.39,
          "sum": 8773,
          "topic": 8,
          "topic_interpretation": "KPÖ / Linke Forderungen"
         },
         {
          "Topic": "KPÖ / Linke Forderungen",
          "color": "darkred",
          "count": 50,
          "dateCreated": "2019-09-19T00:00:00",
          "mean": 169.54,
          "sum": 8477,
          "topic": 8,
          "topic_interpretation": "KPÖ / Linke Forderungen"
         },
         {
          "Topic": "KPÖ / Linke Forderungen",
          "color": "darkred",
          "count": 47,
          "dateCreated": "2019-09-20T00:00:00",
          "mean": 176.3,
          "sum": 8286,
          "topic": 8,
          "topic_interpretation": "KPÖ / Linke Forderungen"
         },
         {
          "Topic": "KPÖ / Linke Forderungen",
          "color": "darkred",
          "count": 30,
          "dateCreated": "2019-09-21T00:00:00",
          "mean": 97.77,
          "sum": 2933,
          "topic": 8,
          "topic_interpretation": "KPÖ / Linke Forderungen"
         },
         {
          "Topic": "KPÖ / Linke Forderungen",
          "color": "darkred",
          "count": 44,
          "dateCreated": "2019-09-22T00:00:00",
          "mean": 141.32,
          "sum": 6218,
          "topic": 8,
          "topic_interpretation": "KPÖ / Linke Forderungen"
         },
         {
          "Topic": "KPÖ / Linke Forderungen",
          "color": "darkred",
          "count": 32,
          "dateCreated": "2019-09-23T00:00:00",
          "mean": 155.62,
          "sum": 4980,
          "topic": 8,
          "topic_interpretation": "KPÖ / Linke Forderungen"
         },
         {
          "Topic": "KPÖ / Linke Forderungen",
          "color": "darkred",
          "count": 51,
          "dateCreated": "2019-09-24T00:00:00",
          "mean": 302.8,
          "sum": 15443,
          "topic": 8,
          "topic_interpretation": "KPÖ / Linke Forderungen"
         },
         {
          "Topic": "KPÖ / Linke Forderungen",
          "color": "darkred",
          "count": 48,
          "dateCreated": "2019-09-25T00:00:00",
          "mean": 101.75,
          "sum": 4884,
          "topic": 8,
          "topic_interpretation": "KPÖ / Linke Forderungen"
         },
         {
          "Topic": "KPÖ / Linke Forderungen",
          "color": "darkred",
          "count": 57,
          "dateCreated": "2019-09-26T00:00:00",
          "mean": 93,
          "sum": 5301,
          "topic": 8,
          "topic_interpretation": "KPÖ / Linke Forderungen"
         },
         {
          "Topic": "KPÖ / Linke Forderungen",
          "color": "darkred",
          "count": 48,
          "dateCreated": "2019-09-27T00:00:00",
          "mean": 68.46,
          "sum": 3286,
          "topic": 8,
          "topic_interpretation": "KPÖ / Linke Forderungen"
         },
         {
          "Topic": "KPÖ / Linke Forderungen",
          "color": "darkred",
          "count": 60,
          "dateCreated": "2019-09-28T00:00:00",
          "mean": 90.45,
          "sum": 5427,
          "topic": 8,
          "topic_interpretation": "KPÖ / Linke Forderungen"
         },
         {
          "Topic": "KPÖ / Linke Forderungen",
          "color": "darkred",
          "count": 33,
          "dateCreated": "2019-09-29T00:00:00",
          "mean": 101.36,
          "sum": 3345,
          "topic": 8,
          "topic_interpretation": "KPÖ / Linke Forderungen"
         },
         {
          "Topic": "KPÖ / Linke Forderungen",
          "color": "darkred",
          "count": 29,
          "dateCreated": "2019-09-30T00:00:00",
          "mean": 105.69,
          "sum": 3065,
          "topic": 8,
          "topic_interpretation": "KPÖ / Linke Forderungen"
         },
         {
          "Topic": "Dank / TV-Runde",
          "color": "palegreen",
          "count": 81,
          "dateCreated": "2019-09-08T00:00:00",
          "mean": 108.42,
          "sum": 8782,
          "topic": 9,
          "topic_interpretation": "Dank / TV-Runde"
         },
         {
          "Topic": "Dank / TV-Runde",
          "color": "palegreen",
          "count": 60,
          "dateCreated": "2019-09-09T00:00:00",
          "mean": 187.95,
          "sum": 11277,
          "topic": 9,
          "topic_interpretation": "Dank / TV-Runde"
         },
         {
          "Topic": "Dank / TV-Runde",
          "color": "palegreen",
          "count": 56,
          "dateCreated": "2019-09-10T00:00:00",
          "mean": 84.04,
          "sum": 4706,
          "topic": 9,
          "topic_interpretation": "Dank / TV-Runde"
         },
         {
          "Topic": "Dank / TV-Runde",
          "color": "palegreen",
          "count": 63,
          "dateCreated": "2019-09-11T00:00:00",
          "mean": 251.24,
          "sum": 15828,
          "topic": 9,
          "topic_interpretation": "Dank / TV-Runde"
         },
         {
          "Topic": "Dank / TV-Runde",
          "color": "palegreen",
          "count": 72,
          "dateCreated": "2019-09-12T00:00:00",
          "mean": 143.32,
          "sum": 10319,
          "topic": 9,
          "topic_interpretation": "Dank / TV-Runde"
         },
         {
          "Topic": "Dank / TV-Runde",
          "color": "palegreen",
          "count": 44,
          "dateCreated": "2019-09-13T00:00:00",
          "mean": 102.66,
          "sum": 4517,
          "topic": 9,
          "topic_interpretation": "Dank / TV-Runde"
         },
         {
          "Topic": "Dank / TV-Runde",
          "color": "palegreen",
          "count": 44,
          "dateCreated": "2019-09-14T00:00:00",
          "mean": 287.86,
          "sum": 12666,
          "topic": 9,
          "topic_interpretation": "Dank / TV-Runde"
         },
         {
          "Topic": "Dank / TV-Runde",
          "color": "palegreen",
          "count": 65,
          "dateCreated": "2019-09-15T00:00:00",
          "mean": 96.49,
          "sum": 6272,
          "topic": 9,
          "topic_interpretation": "Dank / TV-Runde"
         },
         {
          "Topic": "Dank / TV-Runde",
          "color": "palegreen",
          "count": 45,
          "dateCreated": "2019-09-16T00:00:00",
          "mean": 116.24,
          "sum": 5231,
          "topic": 9,
          "topic_interpretation": "Dank / TV-Runde"
         },
         {
          "Topic": "Dank / TV-Runde",
          "color": "palegreen",
          "count": 51,
          "dateCreated": "2019-09-17T00:00:00",
          "mean": 147.14,
          "sum": 7504,
          "topic": 9,
          "topic_interpretation": "Dank / TV-Runde"
         },
         {
          "Topic": "Dank / TV-Runde",
          "color": "palegreen",
          "count": 50,
          "dateCreated": "2019-09-18T00:00:00",
          "mean": 107.56,
          "sum": 5378,
          "topic": 9,
          "topic_interpretation": "Dank / TV-Runde"
         },
         {
          "Topic": "Dank / TV-Runde",
          "color": "palegreen",
          "count": 78,
          "dateCreated": "2019-09-19T00:00:00",
          "mean": 187.74,
          "sum": 14644,
          "topic": 9,
          "topic_interpretation": "Dank / TV-Runde"
         },
         {
          "Topic": "Dank / TV-Runde",
          "color": "palegreen",
          "count": 50,
          "dateCreated": "2019-09-20T00:00:00",
          "mean": 120.18,
          "sum": 6009,
          "topic": 9,
          "topic_interpretation": "Dank / TV-Runde"
         },
         {
          "Topic": "Dank / TV-Runde",
          "color": "palegreen",
          "count": 35,
          "dateCreated": "2019-09-21T00:00:00",
          "mean": 237.17,
          "sum": 8301,
          "topic": 9,
          "topic_interpretation": "Dank / TV-Runde"
         },
         {
          "Topic": "Dank / TV-Runde",
          "color": "palegreen",
          "count": 54,
          "dateCreated": "2019-09-22T00:00:00",
          "mean": 183.78,
          "sum": 9924,
          "topic": 9,
          "topic_interpretation": "Dank / TV-Runde"
         },
         {
          "Topic": "Dank / TV-Runde",
          "color": "palegreen",
          "count": 43,
          "dateCreated": "2019-09-23T00:00:00",
          "mean": 145.53,
          "sum": 6258,
          "topic": 9,
          "topic_interpretation": "Dank / TV-Runde"
         },
         {
          "Topic": "Dank / TV-Runde",
          "color": "palegreen",
          "count": 58,
          "dateCreated": "2019-09-24T00:00:00",
          "mean": 265.1,
          "sum": 15376,
          "topic": 9,
          "topic_interpretation": "Dank / TV-Runde"
         },
         {
          "Topic": "Dank / TV-Runde",
          "color": "palegreen",
          "count": 49,
          "dateCreated": "2019-09-25T00:00:00",
          "mean": 159.67,
          "sum": 7824,
          "topic": 9,
          "topic_interpretation": "Dank / TV-Runde"
         },
         {
          "Topic": "Dank / TV-Runde",
          "color": "palegreen",
          "count": 100,
          "dateCreated": "2019-09-26T00:00:00",
          "mean": 78.67,
          "sum": 7867,
          "topic": 9,
          "topic_interpretation": "Dank / TV-Runde"
         },
         {
          "Topic": "Dank / TV-Runde",
          "color": "palegreen",
          "count": 44,
          "dateCreated": "2019-09-27T00:00:00",
          "mean": 66.55,
          "sum": 2928,
          "topic": 9,
          "topic_interpretation": "Dank / TV-Runde"
         },
         {
          "Topic": "Dank / TV-Runde",
          "color": "palegreen",
          "count": 64,
          "dateCreated": "2019-09-28T00:00:00",
          "mean": 24.19,
          "sum": 1548,
          "topic": 9,
          "topic_interpretation": "Dank / TV-Runde"
         },
         {
          "Topic": "Dank / TV-Runde",
          "color": "palegreen",
          "count": 93,
          "dateCreated": "2019-09-29T00:00:00",
          "mean": 218.05,
          "sum": 20279,
          "topic": 9,
          "topic_interpretation": "Dank / TV-Runde"
         },
         {
          "Topic": "Dank / TV-Runde",
          "color": "palegreen",
          "count": 36,
          "dateCreated": "2019-09-30T00:00:00",
          "mean": 80.53,
          "sum": 2899,
          "topic": 9,
          "topic_interpretation": "Dank / TV-Runde"
         },
         {
          "Topic": "Links / Alternativ",
          "color": "lime",
          "count": 51,
          "dateCreated": "2019-09-08T00:00:00",
          "mean": 196.69,
          "sum": 10031,
          "topic": 10,
          "topic_interpretation": "Links / Alternativ"
         },
         {
          "Topic": "Links / Alternativ",
          "color": "lime",
          "count": 48,
          "dateCreated": "2019-09-09T00:00:00",
          "mean": 136.81,
          "sum": 6567,
          "topic": 10,
          "topic_interpretation": "Links / Alternativ"
         },
         {
          "Topic": "Links / Alternativ",
          "color": "lime",
          "count": 50,
          "dateCreated": "2019-09-10T00:00:00",
          "mean": 182.04,
          "sum": 9102,
          "topic": 10,
          "topic_interpretation": "Links / Alternativ"
         },
         {
          "Topic": "Links / Alternativ",
          "color": "lime",
          "count": 51,
          "dateCreated": "2019-09-11T00:00:00",
          "mean": 92.49,
          "sum": 4717,
          "topic": 10,
          "topic_interpretation": "Links / Alternativ"
         },
         {
          "Topic": "Links / Alternativ",
          "color": "lime",
          "count": 50,
          "dateCreated": "2019-09-12T00:00:00",
          "mean": 112.12,
          "sum": 5606,
          "topic": 10,
          "topic_interpretation": "Links / Alternativ"
         },
         {
          "Topic": "Links / Alternativ",
          "color": "lime",
          "count": 35,
          "dateCreated": "2019-09-13T00:00:00",
          "mean": 98.37,
          "sum": 3443,
          "topic": 10,
          "topic_interpretation": "Links / Alternativ"
         },
         {
          "Topic": "Links / Alternativ",
          "color": "lime",
          "count": 37,
          "dateCreated": "2019-09-14T00:00:00",
          "mean": 112.89,
          "sum": 4177,
          "topic": 10,
          "topic_interpretation": "Links / Alternativ"
         },
         {
          "Topic": "Links / Alternativ",
          "color": "lime",
          "count": 45,
          "dateCreated": "2019-09-15T00:00:00",
          "mean": 75.73,
          "sum": 3408,
          "topic": 10,
          "topic_interpretation": "Links / Alternativ"
         },
         {
          "Topic": "Links / Alternativ",
          "color": "lime",
          "count": 59,
          "dateCreated": "2019-09-16T00:00:00",
          "mean": 120.56,
          "sum": 7113,
          "topic": 10,
          "topic_interpretation": "Links / Alternativ"
         },
         {
          "Topic": "Links / Alternativ",
          "color": "lime",
          "count": 44,
          "dateCreated": "2019-09-17T00:00:00",
          "mean": 145.57,
          "sum": 6405,
          "topic": 10,
          "topic_interpretation": "Links / Alternativ"
         },
         {
          "Topic": "Links / Alternativ",
          "color": "lime",
          "count": 47,
          "dateCreated": "2019-09-18T00:00:00",
          "mean": 121.06,
          "sum": 5690,
          "topic": 10,
          "topic_interpretation": "Links / Alternativ"
         },
         {
          "Topic": "Links / Alternativ",
          "color": "lime",
          "count": 39,
          "dateCreated": "2019-09-19T00:00:00",
          "mean": 123.56,
          "sum": 4819,
          "topic": 10,
          "topic_interpretation": "Links / Alternativ"
         },
         {
          "Topic": "Links / Alternativ",
          "color": "lime",
          "count": 49,
          "dateCreated": "2019-09-20T00:00:00",
          "mean": 90.53,
          "sum": 4436,
          "topic": 10,
          "topic_interpretation": "Links / Alternativ"
         },
         {
          "Topic": "Links / Alternativ",
          "color": "lime",
          "count": 29,
          "dateCreated": "2019-09-21T00:00:00",
          "mean": 94.38,
          "sum": 2737,
          "topic": 10,
          "topic_interpretation": "Links / Alternativ"
         },
         {
          "Topic": "Links / Alternativ",
          "color": "lime",
          "count": 41,
          "dateCreated": "2019-09-22T00:00:00",
          "mean": 148.12,
          "sum": 6073,
          "topic": 10,
          "topic_interpretation": "Links / Alternativ"
         },
         {
          "Topic": "Links / Alternativ",
          "color": "lime",
          "count": 34,
          "dateCreated": "2019-09-23T00:00:00",
          "mean": 860.91,
          "sum": 29271,
          "topic": 10,
          "topic_interpretation": "Links / Alternativ"
         },
         {
          "Topic": "Links / Alternativ",
          "color": "lime",
          "count": 45,
          "dateCreated": "2019-09-24T00:00:00",
          "mean": 88.53,
          "sum": 3984,
          "topic": 10,
          "topic_interpretation": "Links / Alternativ"
         },
         {
          "Topic": "Links / Alternativ",
          "color": "lime",
          "count": 46,
          "dateCreated": "2019-09-25T00:00:00",
          "mean": 329.7,
          "sum": 15166,
          "topic": 10,
          "topic_interpretation": "Links / Alternativ"
         },
         {
          "Topic": "Links / Alternativ",
          "color": "lime",
          "count": 62,
          "dateCreated": "2019-09-26T00:00:00",
          "mean": 41.55,
          "sum": 2576,
          "topic": 10,
          "topic_interpretation": "Links / Alternativ"
         },
         {
          "Topic": "Links / Alternativ",
          "color": "lime",
          "count": 46,
          "dateCreated": "2019-09-27T00:00:00",
          "mean": 57.67,
          "sum": 2653,
          "topic": 10,
          "topic_interpretation": "Links / Alternativ"
         },
         {
          "Topic": "Links / Alternativ",
          "color": "lime",
          "count": 57,
          "dateCreated": "2019-09-28T00:00:00",
          "mean": 41.28,
          "sum": 2353,
          "topic": 10,
          "topic_interpretation": "Links / Alternativ"
         },
         {
          "Topic": "Links / Alternativ",
          "color": "lime",
          "count": 51,
          "dateCreated": "2019-09-29T00:00:00",
          "mean": 95.33,
          "sum": 4862,
          "topic": 10,
          "topic_interpretation": "Links / Alternativ"
         },
         {
          "Topic": "Links / Alternativ",
          "color": "lime",
          "count": 28,
          "dateCreated": "2019-09-30T00:00:00",
          "mean": 109.36,
          "sum": 3062,
          "topic": 10,
          "topic_interpretation": "Links / Alternativ"
         },
         {
          "Topic": "ÖVP",
          "color": "turquoise",
          "count": 61,
          "dateCreated": "2019-09-08T00:00:00",
          "mean": 150.7,
          "sum": 9193,
          "topic": 11,
          "topic_interpretation": "ÖVP"
         },
         {
          "Topic": "ÖVP",
          "color": "turquoise",
          "count": 78,
          "dateCreated": "2019-09-09T00:00:00",
          "mean": 87.86,
          "sum": 6853,
          "topic": 11,
          "topic_interpretation": "ÖVP"
         },
         {
          "Topic": "ÖVP",
          "color": "turquoise",
          "count": 72,
          "dateCreated": "2019-09-10T00:00:00",
          "mean": 127.47,
          "sum": 9178,
          "topic": 11,
          "topic_interpretation": "ÖVP"
         },
         {
          "Topic": "ÖVP",
          "color": "turquoise",
          "count": 54,
          "dateCreated": "2019-09-11T00:00:00",
          "mean": 167.09,
          "sum": 9023,
          "topic": 11,
          "topic_interpretation": "ÖVP"
         },
         {
          "Topic": "ÖVP",
          "color": "turquoise",
          "count": 70,
          "dateCreated": "2019-09-12T00:00:00",
          "mean": 217.71,
          "sum": 15240,
          "topic": 11,
          "topic_interpretation": "ÖVP"
         },
         {
          "Topic": "ÖVP",
          "color": "turquoise",
          "count": 69,
          "dateCreated": "2019-09-13T00:00:00",
          "mean": 203.74,
          "sum": 14058,
          "topic": 11,
          "topic_interpretation": "ÖVP"
         },
         {
          "Topic": "ÖVP",
          "color": "turquoise",
          "count": 64,
          "dateCreated": "2019-09-14T00:00:00",
          "mean": 121.58,
          "sum": 7781,
          "topic": 11,
          "topic_interpretation": "ÖVP"
         },
         {
          "Topic": "ÖVP",
          "color": "turquoise",
          "count": 61,
          "dateCreated": "2019-09-15T00:00:00",
          "mean": 240.2,
          "sum": 14652,
          "topic": 11,
          "topic_interpretation": "ÖVP"
         },
         {
          "Topic": "ÖVP",
          "color": "turquoise",
          "count": 59,
          "dateCreated": "2019-09-16T00:00:00",
          "mean": 191.1,
          "sum": 11275,
          "topic": 11,
          "topic_interpretation": "ÖVP"
         },
         {
          "Topic": "ÖVP",
          "color": "turquoise",
          "count": 75,
          "dateCreated": "2019-09-17T00:00:00",
          "mean": 195.35,
          "sum": 14651,
          "topic": 11,
          "topic_interpretation": "ÖVP"
         },
         {
          "Topic": "ÖVP",
          "color": "turquoise",
          "count": 73,
          "dateCreated": "2019-09-18T00:00:00",
          "mean": 347.59,
          "sum": 25374,
          "topic": 11,
          "topic_interpretation": "ÖVP"
         },
         {
          "Topic": "ÖVP",
          "color": "turquoise",
          "count": 78,
          "dateCreated": "2019-09-19T00:00:00",
          "mean": 99.31,
          "sum": 7746,
          "topic": 11,
          "topic_interpretation": "ÖVP"
         },
         {
          "Topic": "ÖVP",
          "color": "turquoise",
          "count": 76,
          "dateCreated": "2019-09-20T00:00:00",
          "mean": 144.92,
          "sum": 11014,
          "topic": 11,
          "topic_interpretation": "ÖVP"
         },
         {
          "Topic": "ÖVP",
          "color": "turquoise",
          "count": 57,
          "dateCreated": "2019-09-21T00:00:00",
          "mean": 274.7,
          "sum": 15658,
          "topic": 11,
          "topic_interpretation": "ÖVP"
         },
         {
          "Topic": "ÖVP",
          "color": "turquoise",
          "count": 83,
          "dateCreated": "2019-09-22T00:00:00",
          "mean": 136.87,
          "sum": 11360,
          "topic": 11,
          "topic_interpretation": "ÖVP"
         },
         {
          "Topic": "ÖVP",
          "color": "turquoise",
          "count": 65,
          "dateCreated": "2019-09-23T00:00:00",
          "mean": 277.85,
          "sum": 18060,
          "topic": 11,
          "topic_interpretation": "ÖVP"
         },
         {
          "Topic": "ÖVP",
          "color": "turquoise",
          "count": 97,
          "dateCreated": "2019-09-24T00:00:00",
          "mean": 178.09,
          "sum": 17275,
          "topic": 11,
          "topic_interpretation": "ÖVP"
         },
         {
          "Topic": "ÖVP",
          "color": "turquoise",
          "count": 95,
          "dateCreated": "2019-09-25T00:00:00",
          "mean": 411.63,
          "sum": 39105,
          "topic": 11,
          "topic_interpretation": "ÖVP"
         },
         {
          "Topic": "ÖVP",
          "color": "turquoise",
          "count": 127,
          "dateCreated": "2019-09-26T00:00:00",
          "mean": 314.74,
          "sum": 39972,
          "topic": 11,
          "topic_interpretation": "ÖVP"
         },
         {
          "Topic": "ÖVP",
          "color": "turquoise",
          "count": 97,
          "dateCreated": "2019-09-27T00:00:00",
          "mean": 429.68,
          "sum": 41679,
          "topic": 11,
          "topic_interpretation": "ÖVP"
         },
         {
          "Topic": "ÖVP",
          "color": "turquoise",
          "count": 85,
          "dateCreated": "2019-09-28T00:00:00",
          "mean": 481.78,
          "sum": 40951,
          "topic": 11,
          "topic_interpretation": "ÖVP"
         },
         {
          "Topic": "ÖVP",
          "color": "turquoise",
          "count": 162,
          "dateCreated": "2019-09-29T00:00:00",
          "mean": 529.93,
          "sum": 85849,
          "topic": 11,
          "topic_interpretation": "ÖVP"
         },
         {
          "Topic": "ÖVP",
          "color": "turquoise",
          "count": 66,
          "dateCreated": "2019-09-30T00:00:00",
          "mean": 249.67,
          "sum": 16478,
          "topic": 11,
          "topic_interpretation": "ÖVP"
         },
         {
          "Topic": "SPÖ",
          "color": "red",
          "count": 88,
          "dateCreated": "2019-09-08T00:00:00",
          "mean": 69.09,
          "sum": 6080,
          "topic": 13,
          "topic_interpretation": "SPÖ"
         },
         {
          "Topic": "SPÖ",
          "color": "red",
          "count": 62,
          "dateCreated": "2019-09-09T00:00:00",
          "mean": 117.6,
          "sum": 7291,
          "topic": 13,
          "topic_interpretation": "SPÖ"
         },
         {
          "Topic": "SPÖ",
          "color": "red",
          "count": 46,
          "dateCreated": "2019-09-10T00:00:00",
          "mean": 208.28,
          "sum": 9581,
          "topic": 13,
          "topic_interpretation": "SPÖ"
         },
         {
          "Topic": "SPÖ",
          "color": "red",
          "count": 67,
          "dateCreated": "2019-09-11T00:00:00",
          "mean": 51.52,
          "sum": 3452,
          "topic": 13,
          "topic_interpretation": "SPÖ"
         },
         {
          "Topic": "SPÖ",
          "color": "red",
          "count": 81,
          "dateCreated": "2019-09-12T00:00:00",
          "mean": 138.89,
          "sum": 11250,
          "topic": 13,
          "topic_interpretation": "SPÖ"
         },
         {
          "Topic": "SPÖ",
          "color": "red",
          "count": 63,
          "dateCreated": "2019-09-13T00:00:00",
          "mean": 114.92,
          "sum": 7240,
          "topic": 13,
          "topic_interpretation": "SPÖ"
         },
         {
          "Topic": "SPÖ",
          "color": "red",
          "count": 59,
          "dateCreated": "2019-09-14T00:00:00",
          "mean": 172.95,
          "sum": 10204,
          "topic": 13,
          "topic_interpretation": "SPÖ"
         },
         {
          "Topic": "SPÖ",
          "color": "red",
          "count": 50,
          "dateCreated": "2019-09-15T00:00:00",
          "mean": 114.72,
          "sum": 5736,
          "topic": 13,
          "topic_interpretation": "SPÖ"
         },
         {
          "Topic": "SPÖ",
          "color": "red",
          "count": 70,
          "dateCreated": "2019-09-16T00:00:00",
          "mean": 178.8,
          "sum": 12516,
          "topic": 13,
          "topic_interpretation": "SPÖ"
         },
         {
          "Topic": "SPÖ",
          "color": "red",
          "count": 58,
          "dateCreated": "2019-09-17T00:00:00",
          "mean": 160.02,
          "sum": 9281,
          "topic": 13,
          "topic_interpretation": "SPÖ"
         },
         {
          "Topic": "SPÖ",
          "color": "red",
          "count": 61,
          "dateCreated": "2019-09-18T00:00:00",
          "mean": 253.43,
          "sum": 15459,
          "topic": 13,
          "topic_interpretation": "SPÖ"
         },
         {
          "Topic": "SPÖ",
          "color": "red",
          "count": 80,
          "dateCreated": "2019-09-19T00:00:00",
          "mean": 98.24,
          "sum": 7859,
          "topic": 13,
          "topic_interpretation": "SPÖ"
         },
         {
          "Topic": "SPÖ",
          "color": "red",
          "count": 68,
          "dateCreated": "2019-09-20T00:00:00",
          "mean": 219.63,
          "sum": 14935,
          "topic": 13,
          "topic_interpretation": "SPÖ"
         },
         {
          "Topic": "SPÖ",
          "color": "red",
          "count": 60,
          "dateCreated": "2019-09-21T00:00:00",
          "mean": 199.98,
          "sum": 11999,
          "topic": 13,
          "topic_interpretation": "SPÖ"
         },
         {
          "Topic": "SPÖ",
          "color": "red",
          "count": 66,
          "dateCreated": "2019-09-22T00:00:00",
          "mean": 145.47,
          "sum": 9601,
          "topic": 13,
          "topic_interpretation": "SPÖ"
         },
         {
          "Topic": "SPÖ",
          "color": "red",
          "count": 75,
          "dateCreated": "2019-09-23T00:00:00",
          "mean": 182.6,
          "sum": 13695,
          "topic": 13,
          "topic_interpretation": "SPÖ"
         },
         {
          "Topic": "SPÖ",
          "color": "red",
          "count": 76,
          "dateCreated": "2019-09-24T00:00:00",
          "mean": 307,
          "sum": 23332,
          "topic": 13,
          "topic_interpretation": "SPÖ"
         },
         {
          "Topic": "SPÖ",
          "color": "red",
          "count": 61,
          "dateCreated": "2019-09-25T00:00:00",
          "mean": 240.93,
          "sum": 14697,
          "topic": 13,
          "topic_interpretation": "SPÖ"
         },
         {
          "Topic": "SPÖ",
          "color": "red",
          "count": 93,
          "dateCreated": "2019-09-26T00:00:00",
          "mean": 228.35,
          "sum": 21237,
          "topic": 13,
          "topic_interpretation": "SPÖ"
         },
         {
          "Topic": "SPÖ",
          "color": "red",
          "count": 93,
          "dateCreated": "2019-09-27T00:00:00",
          "mean": 312.78,
          "sum": 29089,
          "topic": 13,
          "topic_interpretation": "SPÖ"
         },
         {
          "Topic": "SPÖ",
          "color": "red",
          "count": 78,
          "dateCreated": "2019-09-28T00:00:00",
          "mean": 359.09,
          "sum": 28009,
          "topic": 13,
          "topic_interpretation": "SPÖ"
         },
         {
          "Topic": "SPÖ",
          "color": "red",
          "count": 72,
          "dateCreated": "2019-09-29T00:00:00",
          "mean": 292.5,
          "sum": 21060,
          "topic": 13,
          "topic_interpretation": "SPÖ"
         },
         {
          "Topic": "SPÖ",
          "color": "red",
          "count": 37,
          "dateCreated": "2019-09-30T00:00:00",
          "mean": 48.46,
          "sum": 1793,
          "topic": 13,
          "topic_interpretation": "SPÖ"
         },
         {
          "Topic": "Volksparteien",
          "color": "indigo",
          "count": 53,
          "dateCreated": "2019-09-08T00:00:00",
          "mean": 73.34,
          "sum": 3887,
          "topic": 14,
          "topic_interpretation": "Volksparteien"
         },
         {
          "Topic": "Volksparteien",
          "color": "indigo",
          "count": 52,
          "dateCreated": "2019-09-09T00:00:00",
          "mean": 66.31,
          "sum": 3448,
          "topic": 14,
          "topic_interpretation": "Volksparteien"
         },
         {
          "Topic": "Volksparteien",
          "color": "indigo",
          "count": 46,
          "dateCreated": "2019-09-10T00:00:00",
          "mean": 128.35,
          "sum": 5904,
          "topic": 14,
          "topic_interpretation": "Volksparteien"
         },
         {
          "Topic": "Volksparteien",
          "color": "indigo",
          "count": 41,
          "dateCreated": "2019-09-11T00:00:00",
          "mean": 81.34,
          "sum": 3335,
          "topic": 14,
          "topic_interpretation": "Volksparteien"
         },
         {
          "Topic": "Volksparteien",
          "color": "indigo",
          "count": 46,
          "dateCreated": "2019-09-12T00:00:00",
          "mean": 262.09,
          "sum": 12056,
          "topic": 14,
          "topic_interpretation": "Volksparteien"
         },
         {
          "Topic": "Volksparteien",
          "color": "indigo",
          "count": 25,
          "dateCreated": "2019-09-13T00:00:00",
          "mean": 122.68,
          "sum": 3067,
          "topic": 14,
          "topic_interpretation": "Volksparteien"
         },
         {
          "Topic": "Volksparteien",
          "color": "indigo",
          "count": 24,
          "dateCreated": "2019-09-14T00:00:00",
          "mean": 60.92,
          "sum": 1462,
          "topic": 14,
          "topic_interpretation": "Volksparteien"
         },
         {
          "Topic": "Volksparteien",
          "color": "indigo",
          "count": 33,
          "dateCreated": "2019-09-15T00:00:00",
          "mean": 548.61,
          "sum": 18104,
          "topic": 14,
          "topic_interpretation": "Volksparteien"
         },
         {
          "Topic": "Volksparteien",
          "color": "indigo",
          "count": 33,
          "dateCreated": "2019-09-16T00:00:00",
          "mean": 46.79,
          "sum": 1544,
          "topic": 14,
          "topic_interpretation": "Volksparteien"
         },
         {
          "Topic": "Volksparteien",
          "color": "indigo",
          "count": 32,
          "dateCreated": "2019-09-17T00:00:00",
          "mean": 123.5,
          "sum": 3952,
          "topic": 14,
          "topic_interpretation": "Volksparteien"
         },
         {
          "Topic": "Volksparteien",
          "color": "indigo",
          "count": 23,
          "dateCreated": "2019-09-18T00:00:00",
          "mean": 106,
          "sum": 2438,
          "topic": 14,
          "topic_interpretation": "Volksparteien"
         },
         {
          "Topic": "Volksparteien",
          "color": "indigo",
          "count": 42,
          "dateCreated": "2019-09-19T00:00:00",
          "mean": 161.93,
          "sum": 6801,
          "topic": 14,
          "topic_interpretation": "Volksparteien"
         },
         {
          "Topic": "Volksparteien",
          "color": "indigo",
          "count": 32,
          "dateCreated": "2019-09-20T00:00:00",
          "mean": 90.16,
          "sum": 2885,
          "topic": 14,
          "topic_interpretation": "Volksparteien"
         },
         {
          "Topic": "Volksparteien",
          "color": "indigo",
          "count": 27,
          "dateCreated": "2019-09-21T00:00:00",
          "mean": 50.67,
          "sum": 1368,
          "topic": 14,
          "topic_interpretation": "Volksparteien"
         },
         {
          "Topic": "Volksparteien",
          "color": "indigo",
          "count": 30,
          "dateCreated": "2019-09-22T00:00:00",
          "mean": 439.53,
          "sum": 13186,
          "topic": 14,
          "topic_interpretation": "Volksparteien"
         },
         {
          "Topic": "Volksparteien",
          "color": "indigo",
          "count": 36,
          "dateCreated": "2019-09-23T00:00:00",
          "mean": 177.11,
          "sum": 6376,
          "topic": 14,
          "topic_interpretation": "Volksparteien"
         },
         {
          "Topic": "Volksparteien",
          "color": "indigo",
          "count": 35,
          "dateCreated": "2019-09-24T00:00:00",
          "mean": 117.17,
          "sum": 4101,
          "topic": 14,
          "topic_interpretation": "Volksparteien"
         },
         {
          "Topic": "Volksparteien",
          "color": "indigo",
          "count": 51,
          "dateCreated": "2019-09-25T00:00:00",
          "mean": 103.49,
          "sum": 5278,
          "topic": 14,
          "topic_interpretation": "Volksparteien"
         },
         {
          "Topic": "Volksparteien",
          "color": "indigo",
          "count": 35,
          "dateCreated": "2019-09-26T00:00:00",
          "mean": 154.46,
          "sum": 5406,
          "topic": 14,
          "topic_interpretation": "Volksparteien"
         },
         {
          "Topic": "Volksparteien",
          "color": "indigo",
          "count": 26,
          "dateCreated": "2019-09-27T00:00:00",
          "mean": 243.08,
          "sum": 6320,
          "topic": 14,
          "topic_interpretation": "Volksparteien"
         },
         {
          "Topic": "Volksparteien",
          "color": "indigo",
          "count": 39,
          "dateCreated": "2019-09-28T00:00:00",
          "mean": 124.23,
          "sum": 4845,
          "topic": 14,
          "topic_interpretation": "Volksparteien"
         },
         {
          "Topic": "Volksparteien",
          "color": "indigo",
          "count": 42,
          "dateCreated": "2019-09-29T00:00:00",
          "mean": 495.57,
          "sum": 20814,
          "topic": 14,
          "topic_interpretation": "Volksparteien"
         },
         {
          "Topic": "Volksparteien",
          "color": "indigo",
          "count": 19,
          "dateCreated": "2019-09-30T00:00:00",
          "mean": 107.79,
          "sum": 2048,
          "topic": 14,
          "topic_interpretation": "Volksparteien"
         },
         {
          "Topic": "FPÖ",
          "color": "blue",
          "count": 50,
          "dateCreated": "2019-09-08T00:00:00",
          "mean": 165.02,
          "sum": 8251,
          "topic": 16,
          "topic_interpretation": "FPÖ"
         },
         {
          "Topic": "FPÖ",
          "color": "blue",
          "count": 71,
          "dateCreated": "2019-09-09T00:00:00",
          "mean": 319.3,
          "sum": 22670,
          "topic": 16,
          "topic_interpretation": "FPÖ"
         },
         {
          "Topic": "FPÖ",
          "color": "blue",
          "count": 51,
          "dateCreated": "2019-09-10T00:00:00",
          "mean": 93,
          "sum": 4743,
          "topic": 16,
          "topic_interpretation": "FPÖ"
         },
         {
          "Topic": "FPÖ",
          "color": "blue",
          "count": 34,
          "dateCreated": "2019-09-11T00:00:00",
          "mean": 148.94,
          "sum": 5064,
          "topic": 16,
          "topic_interpretation": "FPÖ"
         },
         {
          "Topic": "FPÖ",
          "color": "blue",
          "count": 41,
          "dateCreated": "2019-09-12T00:00:00",
          "mean": 231.37,
          "sum": 9486,
          "topic": 16,
          "topic_interpretation": "FPÖ"
         },
         {
          "Topic": "FPÖ",
          "color": "blue",
          "count": 57,
          "dateCreated": "2019-09-13T00:00:00",
          "mean": 172.65,
          "sum": 9841,
          "topic": 16,
          "topic_interpretation": "FPÖ"
         },
         {
          "Topic": "FPÖ",
          "color": "blue",
          "count": 65,
          "dateCreated": "2019-09-14T00:00:00",
          "mean": 269.92,
          "sum": 17545,
          "topic": 16,
          "topic_interpretation": "FPÖ"
         },
         {
          "Topic": "FPÖ",
          "color": "blue",
          "count": 38,
          "dateCreated": "2019-09-15T00:00:00",
          "mean": 204.87,
          "sum": 7785,
          "topic": 16,
          "topic_interpretation": "FPÖ"
         },
         {
          "Topic": "FPÖ",
          "color": "blue",
          "count": 55,
          "dateCreated": "2019-09-16T00:00:00",
          "mean": 222.75,
          "sum": 12251,
          "topic": 16,
          "topic_interpretation": "FPÖ"
         },
         {
          "Topic": "FPÖ",
          "color": "blue",
          "count": 39,
          "dateCreated": "2019-09-17T00:00:00",
          "mean": 103,
          "sum": 4017,
          "topic": 16,
          "topic_interpretation": "FPÖ"
         },
         {
          "Topic": "FPÖ",
          "color": "blue",
          "count": 48,
          "dateCreated": "2019-09-18T00:00:00",
          "mean": 156.19,
          "sum": 7497,
          "topic": 16,
          "topic_interpretation": "FPÖ"
         },
         {
          "Topic": "FPÖ",
          "color": "blue",
          "count": 56,
          "dateCreated": "2019-09-19T00:00:00",
          "mean": 252.23,
          "sum": 14125,
          "topic": 16,
          "topic_interpretation": "FPÖ"
         },
         {
          "Topic": "FPÖ",
          "color": "blue",
          "count": 39,
          "dateCreated": "2019-09-20T00:00:00",
          "mean": 255.74,
          "sum": 9974,
          "topic": 16,
          "topic_interpretation": "FPÖ"
         },
         {
          "Topic": "FPÖ",
          "color": "blue",
          "count": 25,
          "dateCreated": "2019-09-21T00:00:00",
          "mean": 288.28,
          "sum": 7207,
          "topic": 16,
          "topic_interpretation": "FPÖ"
         },
         {
          "Topic": "FPÖ",
          "color": "blue",
          "count": 44,
          "dateCreated": "2019-09-22T00:00:00",
          "mean": 171.5,
          "sum": 7546,
          "topic": 16,
          "topic_interpretation": "FPÖ"
         },
         {
          "Topic": "FPÖ",
          "color": "blue",
          "count": 41,
          "dateCreated": "2019-09-23T00:00:00",
          "mean": 401.8,
          "sum": 16474,
          "topic": 16,
          "topic_interpretation": "FPÖ"
         },
         {
          "Topic": "FPÖ",
          "color": "blue",
          "count": 45,
          "dateCreated": "2019-09-24T00:00:00",
          "mean": 649.51,
          "sum": 29228,
          "topic": 16,
          "topic_interpretation": "FPÖ"
         },
         {
          "Topic": "FPÖ",
          "color": "blue",
          "count": 69,
          "dateCreated": "2019-09-25T00:00:00",
          "mean": 75.35,
          "sum": 5199,
          "topic": 16,
          "topic_interpretation": "FPÖ"
         },
         {
          "Topic": "FPÖ",
          "color": "blue",
          "count": 59,
          "dateCreated": "2019-09-26T00:00:00",
          "mean": 90.56,
          "sum": 5343,
          "topic": 16,
          "topic_interpretation": "FPÖ"
         },
         {
          "Topic": "FPÖ",
          "color": "blue",
          "count": 55,
          "dateCreated": "2019-09-27T00:00:00",
          "mean": 432.69,
          "sum": 23798,
          "topic": 16,
          "topic_interpretation": "FPÖ"
         },
         {
          "Topic": "FPÖ",
          "color": "blue",
          "count": 36,
          "dateCreated": "2019-09-28T00:00:00",
          "mean": 377.89,
          "sum": 13604,
          "topic": 16,
          "topic_interpretation": "FPÖ"
         },
         {
          "Topic": "FPÖ",
          "color": "blue",
          "count": 46,
          "dateCreated": "2019-09-29T00:00:00",
          "mean": 404.52,
          "sum": 18608,
          "topic": 16,
          "topic_interpretation": "FPÖ"
         },
         {
          "Topic": "FPÖ",
          "color": "blue",
          "count": 14,
          "dateCreated": "2019-09-30T00:00:00",
          "mean": 87.21,
          "sum": 1221,
          "topic": 16,
          "topic_interpretation": "FPÖ"
         },
         {
          "Topic": "Wahlkampfslogans",
          "color": "orange",
          "count": 42,
          "dateCreated": "2019-09-08T00:00:00",
          "mean": 47.98,
          "sum": 2015,
          "topic": 18,
          "topic_interpretation": "Wahlkampfslogans"
         },
         {
          "Topic": "Wahlkampfslogans",
          "color": "orange",
          "count": 43,
          "dateCreated": "2019-09-09T00:00:00",
          "mean": 182.84,
          "sum": 7862,
          "topic": 18,
          "topic_interpretation": "Wahlkampfslogans"
         },
         {
          "Topic": "Wahlkampfslogans",
          "color": "orange",
          "count": 50,
          "dateCreated": "2019-09-10T00:00:00",
          "mean": 248.1,
          "sum": 12405,
          "topic": 18,
          "topic_interpretation": "Wahlkampfslogans"
         },
         {
          "Topic": "Wahlkampfslogans",
          "color": "orange",
          "count": 37,
          "dateCreated": "2019-09-11T00:00:00",
          "mean": 169.54,
          "sum": 6273,
          "topic": 18,
          "topic_interpretation": "Wahlkampfslogans"
         },
         {
          "Topic": "Wahlkampfslogans",
          "color": "orange",
          "count": 38,
          "dateCreated": "2019-09-12T00:00:00",
          "mean": 146.68,
          "sum": 5574,
          "topic": 18,
          "topic_interpretation": "Wahlkampfslogans"
         },
         {
          "Topic": "Wahlkampfslogans",
          "color": "orange",
          "count": 50,
          "dateCreated": "2019-09-13T00:00:00",
          "mean": 223.66,
          "sum": 11183,
          "topic": 18,
          "topic_interpretation": "Wahlkampfslogans"
         },
         {
          "Topic": "Wahlkampfslogans",
          "color": "orange",
          "count": 34,
          "dateCreated": "2019-09-14T00:00:00",
          "mean": 153.97,
          "sum": 5235,
          "topic": 18,
          "topic_interpretation": "Wahlkampfslogans"
         },
         {
          "Topic": "Wahlkampfslogans",
          "color": "orange",
          "count": 35,
          "dateCreated": "2019-09-15T00:00:00",
          "mean": 291.83,
          "sum": 10214,
          "topic": 18,
          "topic_interpretation": "Wahlkampfslogans"
         },
         {
          "Topic": "Wahlkampfslogans",
          "color": "orange",
          "count": 43,
          "dateCreated": "2019-09-16T00:00:00",
          "mean": 111.53,
          "sum": 4796,
          "topic": 18,
          "topic_interpretation": "Wahlkampfslogans"
         },
         {
          "Topic": "Wahlkampfslogans",
          "color": "orange",
          "count": 50,
          "dateCreated": "2019-09-17T00:00:00",
          "mean": 141.06,
          "sum": 7053,
          "topic": 18,
          "topic_interpretation": "Wahlkampfslogans"
         },
         {
          "Topic": "Wahlkampfslogans",
          "color": "orange",
          "count": 51,
          "dateCreated": "2019-09-18T00:00:00",
          "mean": 323.69,
          "sum": 16508,
          "topic": 18,
          "topic_interpretation": "Wahlkampfslogans"
         },
         {
          "Topic": "Wahlkampfslogans",
          "color": "orange",
          "count": 49,
          "dateCreated": "2019-09-19T00:00:00",
          "mean": 90.47,
          "sum": 4433,
          "topic": 18,
          "topic_interpretation": "Wahlkampfslogans"
         },
         {
          "Topic": "Wahlkampfslogans",
          "color": "orange",
          "count": 47,
          "dateCreated": "2019-09-20T00:00:00",
          "mean": 150.77,
          "sum": 7086,
          "topic": 18,
          "topic_interpretation": "Wahlkampfslogans"
         },
         {
          "Topic": "Wahlkampfslogans",
          "color": "orange",
          "count": 36,
          "dateCreated": "2019-09-21T00:00:00",
          "mean": 125.83,
          "sum": 4530,
          "topic": 18,
          "topic_interpretation": "Wahlkampfslogans"
         },
         {
          "Topic": "Wahlkampfslogans",
          "color": "orange",
          "count": 29,
          "dateCreated": "2019-09-22T00:00:00",
          "mean": 161.69,
          "sum": 4689,
          "topic": 18,
          "topic_interpretation": "Wahlkampfslogans"
         },
         {
          "Topic": "Wahlkampfslogans",
          "color": "orange",
          "count": 46,
          "dateCreated": "2019-09-23T00:00:00",
          "mean": 247.11,
          "sum": 11367,
          "topic": 18,
          "topic_interpretation": "Wahlkampfslogans"
         },
         {
          "Topic": "Wahlkampfslogans",
          "color": "orange",
          "count": 49,
          "dateCreated": "2019-09-24T00:00:00",
          "mean": 323.37,
          "sum": 15845,
          "topic": 18,
          "topic_interpretation": "Wahlkampfslogans"
         },
         {
          "Topic": "Wahlkampfslogans",
          "color": "orange",
          "count": 53,
          "dateCreated": "2019-09-25T00:00:00",
          "mean": 101.6,
          "sum": 5385,
          "topic": 18,
          "topic_interpretation": "Wahlkampfslogans"
         },
         {
          "Topic": "Wahlkampfslogans",
          "color": "orange",
          "count": 65,
          "dateCreated": "2019-09-26T00:00:00",
          "mean": 107.15,
          "sum": 6965,
          "topic": 18,
          "topic_interpretation": "Wahlkampfslogans"
         },
         {
          "Topic": "Wahlkampfslogans",
          "color": "orange",
          "count": 51,
          "dateCreated": "2019-09-27T00:00:00",
          "mean": 306.18,
          "sum": 15615,
          "topic": 18,
          "topic_interpretation": "Wahlkampfslogans"
         },
         {
          "Topic": "Wahlkampfslogans",
          "color": "orange",
          "count": 52,
          "dateCreated": "2019-09-28T00:00:00",
          "mean": 226.54,
          "sum": 11780,
          "topic": 18,
          "topic_interpretation": "Wahlkampfslogans"
         },
         {
          "Topic": "Wahlkampfslogans",
          "color": "orange",
          "count": 39,
          "dateCreated": "2019-09-29T00:00:00",
          "mean": 143.72,
          "sum": 5605,
          "topic": 18,
          "topic_interpretation": "Wahlkampfslogans"
         },
         {
          "Topic": "Wahlkampfslogans",
          "color": "orange",
          "count": 21,
          "dateCreated": "2019-09-30T00:00:00",
          "mean": 63.33,
          "sum": 1330,
          "topic": 18,
          "topic_interpretation": "Wahlkampfslogans"
         },
         {
          "Topic": "Stenzel Rede bei IB",
          "color": "peru",
          "count": 93,
          "dateCreated": "2019-09-08T00:00:00",
          "mean": 196.29,
          "sum": 18255,
          "topic": 20,
          "topic_interpretation": "Stenzel Rede bei IB"
         },
         {
          "Topic": "Stenzel Rede bei IB",
          "color": "peru",
          "count": 84,
          "dateCreated": "2019-09-09T00:00:00",
          "mean": 286.7,
          "sum": 24083,
          "topic": 20,
          "topic_interpretation": "Stenzel Rede bei IB"
         },
         {
          "Topic": "Stenzel Rede bei IB",
          "color": "peru",
          "count": 59,
          "dateCreated": "2019-09-10T00:00:00",
          "mean": 167.08,
          "sum": 9858,
          "topic": 20,
          "topic_interpretation": "Stenzel Rede bei IB"
         },
         {
          "Topic": "Stenzel Rede bei IB",
          "color": "peru",
          "count": 50,
          "dateCreated": "2019-09-11T00:00:00",
          "mean": 117.54,
          "sum": 5877,
          "topic": 20,
          "topic_interpretation": "Stenzel Rede bei IB"
         },
         {
          "Topic": "Stenzel Rede bei IB",
          "color": "peru",
          "count": 41,
          "dateCreated": "2019-09-12T00:00:00",
          "mean": 164.02,
          "sum": 6725,
          "topic": 20,
          "topic_interpretation": "Stenzel Rede bei IB"
         },
         {
          "Topic": "Stenzel Rede bei IB",
          "color": "peru",
          "count": 59,
          "dateCreated": "2019-09-13T00:00:00",
          "mean": 110.85,
          "sum": 6540,
          "topic": 20,
          "topic_interpretation": "Stenzel Rede bei IB"
         },
         {
          "Topic": "Stenzel Rede bei IB",
          "color": "peru",
          "count": 39,
          "dateCreated": "2019-09-14T00:00:00",
          "mean": 61.38,
          "sum": 2394,
          "topic": 20,
          "topic_interpretation": "Stenzel Rede bei IB"
         },
         {
          "Topic": "Stenzel Rede bei IB",
          "color": "peru",
          "count": 40,
          "dateCreated": "2019-09-15T00:00:00",
          "mean": 97.08,
          "sum": 3883,
          "topic": 20,
          "topic_interpretation": "Stenzel Rede bei IB"
         },
         {
          "Topic": "Stenzel Rede bei IB",
          "color": "peru",
          "count": 29,
          "dateCreated": "2019-09-16T00:00:00",
          "mean": 140.55,
          "sum": 4076,
          "topic": 20,
          "topic_interpretation": "Stenzel Rede bei IB"
         },
         {
          "Topic": "Stenzel Rede bei IB",
          "color": "peru",
          "count": 49,
          "dateCreated": "2019-09-17T00:00:00",
          "mean": 152.47,
          "sum": 7471,
          "topic": 20,
          "topic_interpretation": "Stenzel Rede bei IB"
         },
         {
          "Topic": "Stenzel Rede bei IB",
          "color": "peru",
          "count": 53,
          "dateCreated": "2019-09-18T00:00:00",
          "mean": 233.89,
          "sum": 12396,
          "topic": 20,
          "topic_interpretation": "Stenzel Rede bei IB"
         },
         {
          "Topic": "Stenzel Rede bei IB",
          "color": "peru",
          "count": 72,
          "dateCreated": "2019-09-19T00:00:00",
          "mean": 217.14,
          "sum": 15634,
          "topic": 20,
          "topic_interpretation": "Stenzel Rede bei IB"
         },
         {
          "Topic": "Stenzel Rede bei IB",
          "color": "peru",
          "count": 53,
          "dateCreated": "2019-09-20T00:00:00",
          "mean": 143.04,
          "sum": 7581,
          "topic": 20,
          "topic_interpretation": "Stenzel Rede bei IB"
         },
         {
          "Topic": "Stenzel Rede bei IB",
          "color": "peru",
          "count": 42,
          "dateCreated": "2019-09-21T00:00:00",
          "mean": 150.33,
          "sum": 6314,
          "topic": 20,
          "topic_interpretation": "Stenzel Rede bei IB"
         },
         {
          "Topic": "Stenzel Rede bei IB",
          "color": "peru",
          "count": 66,
          "dateCreated": "2019-09-22T00:00:00",
          "mean": 114.39,
          "sum": 7550,
          "topic": 20,
          "topic_interpretation": "Stenzel Rede bei IB"
         },
         {
          "Topic": "Stenzel Rede bei IB",
          "color": "peru",
          "count": 48,
          "dateCreated": "2019-09-23T00:00:00",
          "mean": 147.54,
          "sum": 7082,
          "topic": 20,
          "topic_interpretation": "Stenzel Rede bei IB"
         },
         {
          "Topic": "Stenzel Rede bei IB",
          "color": "peru",
          "count": 65,
          "dateCreated": "2019-09-24T00:00:00",
          "mean": 227.42,
          "sum": 14782,
          "topic": 20,
          "topic_interpretation": "Stenzel Rede bei IB"
         },
         {
          "Topic": "Stenzel Rede bei IB",
          "color": "peru",
          "count": 65,
          "dateCreated": "2019-09-25T00:00:00",
          "mean": 143.34,
          "sum": 9317,
          "topic": 20,
          "topic_interpretation": "Stenzel Rede bei IB"
         },
         {
          "Topic": "Stenzel Rede bei IB",
          "color": "peru",
          "count": 74,
          "dateCreated": "2019-09-26T00:00:00",
          "mean": 107.09,
          "sum": 7925,
          "topic": 20,
          "topic_interpretation": "Stenzel Rede bei IB"
         },
         {
          "Topic": "Stenzel Rede bei IB",
          "color": "peru",
          "count": 58,
          "dateCreated": "2019-09-27T00:00:00",
          "mean": 289.31,
          "sum": 16780,
          "topic": 20,
          "topic_interpretation": "Stenzel Rede bei IB"
         },
         {
          "Topic": "Stenzel Rede bei IB",
          "color": "peru",
          "count": 49,
          "dateCreated": "2019-09-28T00:00:00",
          "mean": 152.06,
          "sum": 7451,
          "topic": 20,
          "topic_interpretation": "Stenzel Rede bei IB"
         },
         {
          "Topic": "Stenzel Rede bei IB",
          "color": "peru",
          "count": 53,
          "dateCreated": "2019-09-29T00:00:00",
          "mean": 238.06,
          "sum": 12617,
          "topic": 20,
          "topic_interpretation": "Stenzel Rede bei IB"
         },
         {
          "Topic": "Stenzel Rede bei IB",
          "color": "peru",
          "count": 27,
          "dateCreated": "2019-09-30T00:00:00",
          "mean": 49.85,
          "sum": 1346,
          "topic": 20,
          "topic_interpretation": "Stenzel Rede bei IB"
         }
        ]
       },
       "layer": [
        {
         "encoding": {
          "color": {
           "field": "color",
           "scale": null,
           "type": "nominal"
          },
          "opacity": {
           "value": 0
          },
          "tooltip": [
           {
            "field": "Topic",
            "title": "Topic",
            "type": "nominal"
           },
           {
            "field": "dateCreated",
            "title": "Day",
            "type": "temporal"
           },
           {
            "field": "count",
            "title": "Posts",
            "type": "quantitative"
           }
          ],
          "x": {
           "field": "dateCreated",
           "timeUnit": "monthdate",
           "title": "Date",
           "type": "ordinal"
          },
          "y": {
           "field": "count",
           "scale": {
            "domain": [
             0,
             170
            ]
           },
           "title": "# of Posts",
           "type": "quantitative"
          }
         },
         "height": 500,
         "mark": "circle",
         "selection": {
          "selector020": {
           "fields": [
            "Topic"
           ],
           "nearest": true,
           "on": "mouseover",
           "type": "single"
          }
         },
         "title": "Topics over Time",
         "width": 800
        },
        {
         "encoding": {
          "color": {
           "field": "color",
           "scale": null,
           "type": "nominal"
          },
          "size": {
           "condition": {
            "selection": {
             "not": "selector020"
            },
            "value": 0.5
           },
           "value": 4
          },
          "tooltip": [
           {
            "field": "Topic",
            "title": "Topic",
            "type": "nominal"
           },
           {
            "field": "dateCreated",
            "title": "Day",
            "type": "temporal"
           },
           {
            "field": "count",
            "title": "Posts",
            "type": "quantitative"
           }
          ],
          "x": {
           "field": "dateCreated",
           "timeUnit": "monthdate",
           "title": "Date",
           "type": "ordinal"
          },
          "y": {
           "field": "count",
           "scale": {
            "domain": [
             0,
             170
            ]
           },
           "title": "# of Posts",
           "type": "quantitative"
          }
         },
         "mark": "line",
         "title": "Topics over Time"
        }
       ]
      },
      "image/png": "[encoded data removed]",
      "text/plain": [
       "<VegaLite 3 object>\n",
       "\n",
       "If you see this message, it means the renderer has not been properly enabled\n",
       "for the frontend that you are using. For more information, see\n",
       "https://altair-viz.github.io/user_guide/troubleshooting.html\n"
      ]
     },
     "execution_count": 32,
     "metadata": {},
     "output_type": "execute_result"
    }
   ],
   "source": [
    "grouped.columns = [\"count\", \"sum\", \"mean\"]\n",
    "grouped_cleaned = grouped.drop(\"-\", level=\"topic_interpretation\") # drop not interpreted topics, otherwise merge to one\n",
    "p_data = grouped_cleaned.reset_index().round(2)\n",
    "p_data[\"Topic\"] = p_data.topic_interpretation\n",
    "p_data[\"color\"] = p_data.topic_interpretation.map(topic_color) \n",
    "\n",
    "highlight = alt.selection(type=\"single\", on=\"mouseover\", fields=[\"Topic\"],\n",
    "                          nearest=True)\n",
    "\n",
    "base = alt.Chart(p_data, title=\"Topics over Time\").mark_line().encode(\n",
    "    x=alt.X(\"monthdate(dateCreated):O\", title=\"Date\"),\n",
    "    y=alt.Y(\"count:Q\", title=\"# of Posts\",\n",
    "            scale=alt.Scale(domain=(0, 170))),\n",
    "    #color=alt.Color(\"Topic:N\", scale=alt.Scale(scheme=\"tableau20\")),\n",
    "    color=alt.Color(\"color\", scale=None),\n",
    "    tooltip=[alt.Tooltip(\"Topic\", title=\"Topic\"),\n",
    "             alt.Tooltip(\"dateCreated\", title=\"Day\"),\n",
    "             alt.Tooltip(\"count\", title=\"Posts\")]\n",
    ")\n",
    "\n",
    "points = base.mark_circle().encode(\n",
    "    opacity=alt.value(0)\n",
    ").add_selection(\n",
    "    highlight\n",
    ").properties(\n",
    "    width=800,\n",
    "    height=500\n",
    ")\n",
    "\n",
    "lines = base.mark_line().encode(\n",
    "    size=alt.condition(~highlight, alt.value(0.5), alt.value(4))\n",
    ")\n",
    "\n",
    "chart = points + lines\n",
    "#chart.save(os.path.join(figures_path, \"topics\", \"topics_timeline.html\"))\n",
    "chart"
   ]
  },
  {
   "cell_type": "code",
   "execution_count": null,
   "metadata": {},
   "outputs": [],
   "source": []
  }
 ],
 "metadata": {
  "kernelspec": {
   "display_name": "Python 3",
   "language": "python",
   "name": "python3"
  },
  "language_info": {
   "codemirror_mode": {
    "name": "ipython",
    "version": 3
   },
   "file_extension": ".py",
   "mimetype": "text/x-python",
   "name": "python",
   "nbconvert_exporter": "python",
   "pygments_lexer": "ipython3",
   "version": "3.7.4"
  }
 },
 "nbformat": 4,
 "nbformat_minor": 4
}

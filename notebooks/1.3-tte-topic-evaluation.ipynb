{
 "cells": [
  {
   "cell_type": "markdown",
   "metadata": {},
   "source": [
    "Prototype WIP.\n",
    "\n",
    "# Topic Evaluation\n",
    "\n",
    "Evaluate topic assignment to Posts."
   ]
  },
  {
   "cell_type": "code",
   "execution_count": 3,
   "metadata": {},
   "outputs": [],
   "source": [
    "import os, sys, ast\n",
    "sys.path.append(\"..\")\n",
    "from config import credentials\n",
    "import dropbox\n",
    "\n",
    "import numpy as np\n",
    "import pandas as pd\n",
    "\n",
    "import warnings\n",
    "warnings.filterwarnings(\"ignore\", category=DeprecationWarning)\n",
    "\n",
    "import altair as alt\n",
    "import matplotlib.pyplot as plt\n",
    "%matplotlib inline"
   ]
  },
  {
   "cell_type": "code",
   "execution_count": 2,
   "metadata": {},
   "outputs": [],
   "source": [
    "random_state = 23"
   ]
  },
  {
   "cell_type": "markdown",
   "metadata": {},
   "source": [
    "## Loading"
   ]
  },
  {
   "cell_type": "code",
   "execution_count": 4,
   "metadata": {},
   "outputs": [],
   "source": [
    "team_dbx = dropbox.DropboxTeam(credentials.dropbox_team_access_token)\n",
    "team_root = team_dbx.with_path_root(dropbox.common.PathRoot.namespace_id(\n",
    "    credentials.dropbox_team_namespace_id))\n",
    "user_dbx = team_root.as_user(credentials.dropbox_team_member_id)"
   ]
  },
  {
   "cell_type": "code",
   "execution_count": 5,
   "metadata": {},
   "outputs": [],
   "source": [
    "data_path = \"/Data/CSVData\"\n",
    "model_path = \"../models\"\n",
    "figures_path = \"../reports/figures/\""
   ]
  },
  {
   "cell_type": "code",
   "execution_count": 6,
   "metadata": {},
   "outputs": [
    {
     "name": "stdout",
     "output_type": "stream",
     "text": [
      "Topics n40 (22534, 4)\n"
     ]
    }
   ],
   "source": [
    "topics40_fpath = os.path.join(data_path, \"topics\", \"topics.csv\")\n",
    "_, res = user_dbx.files_download(topics40_fpath)\n",
    "topics40 = pd.read_csv(res.raw)\n",
    "\n",
    "print(\"Topics n40\", topics40.shape)"
   ]
  },
  {
   "cell_type": "markdown",
   "metadata": {},
   "source": [
    "## Exploration"
   ]
  },
  {
   "cell_type": "markdown",
   "metadata": {},
   "source": [
    "NaN Stats"
   ]
  },
  {
   "cell_type": "code",
   "execution_count": 17,
   "metadata": {},
   "outputs": [
    {
     "data": {
      "text/plain": [
       "text                  0\n",
       "textID                0\n",
       "topic_distribution    0\n",
       "topic                 0\n",
       "dtype: int64"
      ]
     },
     "execution_count": 17,
     "metadata": {},
     "output_type": "execute_result"
    }
   ],
   "source": [
    "topics40.isna().sum()"
   ]
  },
  {
   "cell_type": "markdown",
   "metadata": {},
   "source": [
    "Duplicated texts (after cleaning)"
   ]
  },
  {
   "cell_type": "code",
   "execution_count": 18,
   "metadata": {},
   "outputs": [
    {
     "data": {
      "text/plain": [
       "False    22534\n",
       "Name: text, dtype: int64"
      ]
     },
     "execution_count": 18,
     "metadata": {},
     "output_type": "execute_result"
    }
   ],
   "source": [
    "topics40.text.duplicated().value_counts()"
   ]
  },
  {
   "cell_type": "markdown",
   "metadata": {},
   "source": [
    "Duplicated textIDs"
   ]
  },
  {
   "cell_type": "code",
   "execution_count": 19,
   "metadata": {},
   "outputs": [
    {
     "data": {
      "text/plain": [
       "False    22534\n",
       "Name: textID, dtype: int64"
      ]
     },
     "execution_count": 19,
     "metadata": {},
     "output_type": "execute_result"
    }
   ],
   "source": [
    "topics40.textID.duplicated().value_counts()"
   ]
  },
  {
   "cell_type": "markdown",
   "metadata": {},
   "source": [
    "Topics"
   ]
  },
  {
   "cell_type": "code",
   "execution_count": 20,
   "metadata": {},
   "outputs": [
    {
     "data": {
      "application/vnd.vegalite.v3+json": {
       "$schema": "https://vega.github.io/schema/vega-lite/v3.4.0.json",
       "config": {
        "mark": {
         "tooltip": null
        },
        "view": {
         "height": 300,
         "width": 400
        }
       },
       "data": {
        "name": "data-0c867e1b89a7a69ecdd11822f2735c2e"
       },
       "datasets": {
        "data-0c867e1b89a7a69ecdd11822f2735c2e": [
         {
          "Topic": 1,
          "count": 2310
         },
         {
          "Topic": 16,
          "count": 1536
         },
         {
          "Topic": 7,
          "count": 1219
         },
         {
          "Topic": 0,
          "count": 876
         },
         {
          "Topic": 17,
          "count": 659
         },
         {
          "Topic": 32,
          "count": 652
         },
         {
          "Topic": 22,
          "count": 638
         },
         {
          "Topic": 9,
          "count": 589
         },
         {
          "Topic": 25,
          "count": 577
         },
         {
          "Topic": 5,
          "count": 564
         },
         {
          "Topic": 34,
          "count": 545
         },
         {
          "Topic": 23,
          "count": 545
         },
         {
          "Topic": 2,
          "count": 521
         },
         {
          "Topic": 28,
          "count": 514
         },
         {
          "Topic": 35,
          "count": 500
         },
         {
          "Topic": 27,
          "count": 490
         },
         {
          "Topic": 20,
          "count": 480
         },
         {
          "Topic": 11,
          "count": 476
         },
         {
          "Topic": 3,
          "count": 452
         },
         {
          "Topic": 12,
          "count": 448
         },
         {
          "Topic": 15,
          "count": 436
         },
         {
          "Topic": 10,
          "count": 431
         },
         {
          "Topic": 39,
          "count": 428
         },
         {
          "Topic": 19,
          "count": 427
         },
         {
          "Topic": 21,
          "count": 422
         },
         {
          "Topic": 38,
          "count": 420
         },
         {
          "Topic": 29,
          "count": 419
         },
         {
          "Topic": 8,
          "count": 417
         },
         {
          "Topic": 18,
          "count": 417
         },
         {
          "Topic": 31,
          "count": 414
         },
         {
          "Topic": 33,
          "count": 395
         },
         {
          "Topic": 36,
          "count": 394
         },
         {
          "Topic": 26,
          "count": 394
         },
         {
          "Topic": 37,
          "count": 393
         },
         {
          "Topic": 14,
          "count": 384
         },
         {
          "Topic": 6,
          "count": 372
         },
         {
          "Topic": 30,
          "count": 364
         },
         {
          "Topic": 24,
          "count": 358
         },
         {
          "Topic": 13,
          "count": 333
         },
         {
          "Topic": 4,
          "count": 325
         }
        ]
       },
       "encoding": {
        "x": {
         "field": "Topic",
         "type": "ordinal"
        },
        "y": {
         "field": "count",
         "type": "quantitative"
        }
       },
       "mark": "bar"
      },
      "image/png": "[encoded data removed]",
      "text/plain": [
       "<VegaLite 3 object>\n",
       "\n",
       "If you see this message, it means the renderer has not been properly enabled\n",
       "for the frontend that you are using. For more information, see\n",
       "https://altair-viz.github.io/user_guide/troubleshooting.html\n"
      ]
     },
     "execution_count": 20,
     "metadata": {},
     "output_type": "execute_result"
    }
   ],
   "source": [
    "p_data = topics40.topic.value_counts().to_frame(\"count\").rename_axis(\"Topic\").reset_index()\n",
    "\n",
    "chart = alt.Chart(p_data).mark_bar().encode(\n",
    "    x=\"Topic:O\",\n",
    "    y=\"count:Q\"\n",
    ")\n",
    "\n",
    "chart.save(os.path.join(figures_path, \"topics\", \"posts_per_topic.html\"))\n",
    "chart"
   ]
  },
  {
   "cell_type": "markdown",
   "metadata": {},
   "source": [
    "Top-10 Posts per Topic"
   ]
  },
  {
   "cell_type": "code",
   "execution_count": null,
   "metadata": {},
   "outputs": [],
   "source": [
    "def get_top_10(df, topic, topic_range):\n",
    "    topic_subset = df[df.topic == topic].copy()\n",
    "    topic_subset.topic_distribution = topic_subset.topic_distribution.apply(ast.literal_eval)\n",
    "    flattend_subset = pd.concat([topic_subset,\n",
    "                                 pd.DataFrame(topic_subset.topic_distribution.values.tolist(),\n",
    "                                              index=topic_subset.index, columns=topic_range)],\n",
    "                                axis=1)\n",
    "    return flattend_subset.sort_values(by=[topic], ascending=False).text.head(10)"
   ]
  },
  {
   "cell_type": "code",
   "execution_count": null,
   "metadata": {},
   "outputs": [],
   "source": [
    "topics40_top10_fp = \"../reports/topics_40_top-10.txt\"\n",
    "topic_range = range(0, 40)\n",
    "\n",
    "with open(topics40_top10_fp, \"w\") as f:\n",
    "    for i in topic_range:\n",
    "        with pd.option_context(\"display.max_colwidth\", -1):\n",
    "            f.write(\"Topic \" + str(i) + \":\\n\" + get_top_10(topics40, i, topic_range).to_string(index=False) + \"\\n\\n\")"
   ]
  },
  {
   "cell_type": "markdown",
   "metadata": {},
   "source": [
    "# Conclusion\n",
    "\n"
   ]
  },
  {
   "cell_type": "code",
   "execution_count": null,
   "metadata": {},
   "outputs": [],
   "source": []
  }
 ],
 "metadata": {
  "kernelspec": {
   "display_name": "Python 3",
   "language": "python",
   "name": "python3"
  },
  "language_info": {
   "codemirror_mode": {
    "name": "ipython",
    "version": 3
   },
   "file_extension": ".py",
   "mimetype": "text/x-python",
   "name": "python",
   "nbconvert_exporter": "python",
   "pygments_lexer": "ipython3",
   "version": "3.7.4"
  }
 },
 "nbformat": 4,
 "nbformat_minor": 4
}

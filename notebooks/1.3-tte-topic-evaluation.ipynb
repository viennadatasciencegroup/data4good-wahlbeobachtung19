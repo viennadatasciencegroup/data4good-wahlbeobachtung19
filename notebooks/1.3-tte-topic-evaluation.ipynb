{
 "cells": [
  {
   "cell_type": "markdown",
   "metadata": {},
   "source": [
    "# Topic Evaluation & Exploration\n",
    "\n",
    "Evaluate topic assignment to Posts."
   ]
  },
  {
   "cell_type": "code",
   "execution_count": 1,
   "metadata": {},
   "outputs": [],
   "source": [
    "import os, sys, ast\n",
    "sys.path.append(\"..\")\n",
    "from config import credentials\n",
    "import dropbox\n",
    "\n",
    "import numpy as np\n",
    "import pandas as pd\n",
    "\n",
    "import warnings\n",
    "warnings.filterwarnings(\"ignore\", category=DeprecationWarning)\n",
    "\n",
    "import altair as alt\n",
    "import matplotlib.pyplot as plt\n",
    "%matplotlib inline"
   ]
  },
  {
   "cell_type": "code",
   "execution_count": 2,
   "metadata": {},
   "outputs": [],
   "source": [
    "random_state = 23"
   ]
  },
  {
   "cell_type": "markdown",
   "metadata": {},
   "source": [
    "## Loading"
   ]
  },
  {
   "cell_type": "code",
   "execution_count": 3,
   "metadata": {},
   "outputs": [],
   "source": [
    "team_dbx = dropbox.DropboxTeam(credentials.dropbox_team_access_token)\n",
    "team_root = team_dbx.with_path_root(dropbox.common.PathRoot.namespace_id(\n",
    "    credentials.dropbox_team_namespace_id))\n",
    "user_dbx = team_root.as_user(credentials.dropbox_team_member_id)"
   ]
  },
  {
   "cell_type": "code",
   "execution_count": 4,
   "metadata": {},
   "outputs": [],
   "source": [
    "data_path = \"/Data/CSVData\"\n",
    "model_path = \"../models\"\n",
    "figures_path = \"../reports/figures/\""
   ]
  },
  {
   "cell_type": "code",
   "execution_count": 5,
   "metadata": {},
   "outputs": [
    {
     "name": "stdout",
     "output_type": "stream",
     "text": [
      "Topics n40 (22534, 4)\n",
      "All Posts (27204, 23)\n"
     ]
    }
   ],
   "source": [
    "topics40_fpath = os.path.join(data_path, \"topics\", \"topics.csv\")\n",
    "_, res = user_dbx.files_download(topics40_fpath)\n",
    "topics40 = pd.read_csv(res.raw)\n",
    "\n",
    "posts_fpath = os.path.join(data_path, \"PolPosts.csv\")\n",
    "_, res = user_dbx.files_download(posts_fpath)\n",
    "posts = pd.read_csv(res.raw)\n",
    "\n",
    "print(\"Topics n40\", topics40.shape)\n",
    "print(\"All Posts\", posts.shape)"
   ]
  },
  {
   "cell_type": "markdown",
   "metadata": {},
   "source": [
    "## Exploration"
   ]
  },
  {
   "cell_type": "markdown",
   "metadata": {},
   "source": [
    "Topics"
   ]
  },
  {
   "cell_type": "code",
   "execution_count": 6,
   "metadata": {},
   "outputs": [
    {
     "data": {
      "application/vnd.vegalite.v3+json": {
       "$schema": "https://vega.github.io/schema/vega-lite/v3.4.0.json",
       "config": {
        "mark": {
         "tooltip": null
        },
        "view": {
         "height": 300,
         "width": 400
        }
       },
       "data": {
        "name": "data-0c867e1b89a7a69ecdd11822f2735c2e"
       },
       "datasets": {
        "data-0c867e1b89a7a69ecdd11822f2735c2e": [
         {
          "Topic": 1,
          "count": 2310
         },
         {
          "Topic": 16,
          "count": 1536
         },
         {
          "Topic": 7,
          "count": 1219
         },
         {
          "Topic": 0,
          "count": 876
         },
         {
          "Topic": 17,
          "count": 659
         },
         {
          "Topic": 32,
          "count": 652
         },
         {
          "Topic": 22,
          "count": 638
         },
         {
          "Topic": 9,
          "count": 589
         },
         {
          "Topic": 25,
          "count": 577
         },
         {
          "Topic": 5,
          "count": 564
         },
         {
          "Topic": 34,
          "count": 545
         },
         {
          "Topic": 23,
          "count": 545
         },
         {
          "Topic": 2,
          "count": 521
         },
         {
          "Topic": 28,
          "count": 514
         },
         {
          "Topic": 35,
          "count": 500
         },
         {
          "Topic": 27,
          "count": 490
         },
         {
          "Topic": 20,
          "count": 480
         },
         {
          "Topic": 11,
          "count": 476
         },
         {
          "Topic": 3,
          "count": 452
         },
         {
          "Topic": 12,
          "count": 448
         },
         {
          "Topic": 15,
          "count": 436
         },
         {
          "Topic": 10,
          "count": 431
         },
         {
          "Topic": 39,
          "count": 428
         },
         {
          "Topic": 19,
          "count": 427
         },
         {
          "Topic": 21,
          "count": 422
         },
         {
          "Topic": 38,
          "count": 420
         },
         {
          "Topic": 29,
          "count": 419
         },
         {
          "Topic": 8,
          "count": 417
         },
         {
          "Topic": 18,
          "count": 417
         },
         {
          "Topic": 31,
          "count": 414
         },
         {
          "Topic": 33,
          "count": 395
         },
         {
          "Topic": 36,
          "count": 394
         },
         {
          "Topic": 26,
          "count": 394
         },
         {
          "Topic": 37,
          "count": 393
         },
         {
          "Topic": 14,
          "count": 384
         },
         {
          "Topic": 6,
          "count": 372
         },
         {
          "Topic": 30,
          "count": 364
         },
         {
          "Topic": 24,
          "count": 358
         },
         {
          "Topic": 13,
          "count": 333
         },
         {
          "Topic": 4,
          "count": 325
         }
        ]
       },
       "encoding": {
        "x": {
         "field": "Topic",
         "type": "ordinal"
        },
        "y": {
         "field": "count",
         "type": "quantitative"
        }
       },
       "mark": "bar"
      },
      "image/png": "[encoded data removed]",
      "text/plain": [
       "<VegaLite 3 object>\n",
       "\n",
       "If you see this message, it means the renderer has not been properly enabled\n",
       "for the frontend that you are using. For more information, see\n",
       "https://altair-viz.github.io/user_guide/troubleshooting.html\n"
      ]
     },
     "execution_count": 6,
     "metadata": {},
     "output_type": "execute_result"
    }
   ],
   "source": [
    "p_data = topics40.topic.value_counts().to_frame(\"count\").rename_axis(\"Topic\").reset_index()\n",
    "\n",
    "chart = alt.Chart(p_data).mark_bar().encode(\n",
    "    x=\"Topic:O\",\n",
    "    y=\"count:Q\"\n",
    ")\n",
    "\n",
    "#chart.save(os.path.join(figures_path, \"topics\", \"posts_per_topic.html\"))\n",
    "chart"
   ]
  },
  {
   "cell_type": "markdown",
   "metadata": {},
   "source": [
    "Top-10 Posts per Topic"
   ]
  },
  {
   "cell_type": "code",
   "execution_count": 7,
   "metadata": {},
   "outputs": [],
   "source": [
    "def get_top_10(df, topic, topic_range):\n",
    "    topic_subset = df[df.topic == topic].copy()\n",
    "    topic_subset.topic_distribution = topic_subset.topic_distribution.apply(ast.literal_eval)\n",
    "    flattend_subset = pd.concat([topic_subset,\n",
    "                                 pd.DataFrame(topic_subset.topic_distribution.values.tolist(),\n",
    "                                              index=topic_subset.index, columns=topic_range)],\n",
    "                                axis=1)\n",
    "    return flattend_subset.sort_values(by=[topic], ascending=False).text.head(10)"
   ]
  },
  {
   "cell_type": "code",
   "execution_count": 8,
   "metadata": {},
   "outputs": [],
   "source": [
    "topics40_top10_fp = \"../reports/topics_40_top-10.txt\"\n",
    "topic_range = range(0, 40)\n",
    "\n",
    "# with open(topics40_top10_fp, \"w\") as f:\n",
    "#     for i in topic_range:\n",
    "#         with pd.option_context(\"display.max_colwidth\", -1):\n",
    "#             f.write(\"Topic \" + str(i) + \":\\n\" + get_top_10(topics40, i, topic_range).to_string(index=False) + \"\\n\\n\")"
   ]
  },
  {
   "cell_type": "markdown",
   "metadata": {},
   "source": [
    "## Interactions per topic"
   ]
  },
  {
   "cell_type": "code",
   "execution_count": 9,
   "metadata": {},
   "outputs": [],
   "source": [
    "data = posts.set_index(\"textID\").join(topics40.set_index(\"textID\"), lsuffix=\"_posts\", rsuffix=\"_topics\")\n",
    "data.dropna(subset=[\"text_posts\", \"topic\"], inplace=True)\n",
    "data.drop_duplicates(subset=[\"text_posts\"], keep=\"first\", inplace=True)\n",
    "data.topic = data.topic.apply(int)"
   ]
  },
  {
   "cell_type": "code",
   "execution_count": 10,
   "metadata": {},
   "outputs": [
    {
     "data": {
      "text/html": [
       "<div>\n",
       "<style scoped>\n",
       "    .dataframe tbody tr th:only-of-type {\n",
       "        vertical-align: middle;\n",
       "    }\n",
       "\n",
       "    .dataframe tbody tr th {\n",
       "        vertical-align: top;\n",
       "    }\n",
       "\n",
       "    .dataframe thead tr th {\n",
       "        text-align: left;\n",
       "    }\n",
       "\n",
       "    .dataframe thead tr:last-of-type th {\n",
       "        text-align: right;\n",
       "    }\n",
       "</style>\n",
       "<table border=\"1\" class=\"dataframe\">\n",
       "  <thead>\n",
       "    <tr>\n",
       "      <th></th>\n",
       "      <th colspan=\"3\" halign=\"left\">interactionCount</th>\n",
       "    </tr>\n",
       "    <tr>\n",
       "      <th></th>\n",
       "      <th>count</th>\n",
       "      <th>sum</th>\n",
       "      <th>mean</th>\n",
       "    </tr>\n",
       "    <tr>\n",
       "      <th>topic</th>\n",
       "      <th></th>\n",
       "      <th></th>\n",
       "      <th></th>\n",
       "    </tr>\n",
       "  </thead>\n",
       "  <tbody>\n",
       "    <tr>\n",
       "      <td>0</td>\n",
       "      <td>876</td>\n",
       "      <td>180549</td>\n",
       "      <td>206.106164</td>\n",
       "    </tr>\n",
       "    <tr>\n",
       "      <td>1</td>\n",
       "      <td>2310</td>\n",
       "      <td>879202</td>\n",
       "      <td>380.606926</td>\n",
       "    </tr>\n",
       "    <tr>\n",
       "      <td>2</td>\n",
       "      <td>521</td>\n",
       "      <td>142128</td>\n",
       "      <td>272.798464</td>\n",
       "    </tr>\n",
       "    <tr>\n",
       "      <td>3</td>\n",
       "      <td>452</td>\n",
       "      <td>62064</td>\n",
       "      <td>137.309735</td>\n",
       "    </tr>\n",
       "    <tr>\n",
       "      <td>4</td>\n",
       "      <td>325</td>\n",
       "      <td>79746</td>\n",
       "      <td>245.372308</td>\n",
       "    </tr>\n",
       "    <tr>\n",
       "      <td>5</td>\n",
       "      <td>564</td>\n",
       "      <td>130939</td>\n",
       "      <td>232.161348</td>\n",
       "    </tr>\n",
       "    <tr>\n",
       "      <td>6</td>\n",
       "      <td>372</td>\n",
       "      <td>87524</td>\n",
       "      <td>235.279570</td>\n",
       "    </tr>\n",
       "    <tr>\n",
       "      <td>7</td>\n",
       "      <td>1219</td>\n",
       "      <td>221796</td>\n",
       "      <td>181.949139</td>\n",
       "    </tr>\n",
       "    <tr>\n",
       "      <td>8</td>\n",
       "      <td>417</td>\n",
       "      <td>133800</td>\n",
       "      <td>320.863309</td>\n",
       "    </tr>\n",
       "    <tr>\n",
       "      <td>9</td>\n",
       "      <td>589</td>\n",
       "      <td>128693</td>\n",
       "      <td>218.494058</td>\n",
       "    </tr>\n",
       "    <tr>\n",
       "      <td>10</td>\n",
       "      <td>431</td>\n",
       "      <td>63386</td>\n",
       "      <td>147.067285</td>\n",
       "    </tr>\n",
       "    <tr>\n",
       "      <td>11</td>\n",
       "      <td>476</td>\n",
       "      <td>115553</td>\n",
       "      <td>242.758403</td>\n",
       "    </tr>\n",
       "    <tr>\n",
       "      <td>12</td>\n",
       "      <td>448</td>\n",
       "      <td>199774</td>\n",
       "      <td>445.924107</td>\n",
       "    </tr>\n",
       "    <tr>\n",
       "      <td>13</td>\n",
       "      <td>333</td>\n",
       "      <td>55743</td>\n",
       "      <td>167.396396</td>\n",
       "    </tr>\n",
       "    <tr>\n",
       "      <td>14</td>\n",
       "      <td>384</td>\n",
       "      <td>88074</td>\n",
       "      <td>229.359375</td>\n",
       "    </tr>\n",
       "    <tr>\n",
       "      <td>15</td>\n",
       "      <td>436</td>\n",
       "      <td>78303</td>\n",
       "      <td>179.594037</td>\n",
       "    </tr>\n",
       "    <tr>\n",
       "      <td>16</td>\n",
       "      <td>1536</td>\n",
       "      <td>169019</td>\n",
       "      <td>110.038411</td>\n",
       "    </tr>\n",
       "    <tr>\n",
       "      <td>17</td>\n",
       "      <td>659</td>\n",
       "      <td>121036</td>\n",
       "      <td>183.666161</td>\n",
       "    </tr>\n",
       "    <tr>\n",
       "      <td>18</td>\n",
       "      <td>417</td>\n",
       "      <td>92149</td>\n",
       "      <td>220.980815</td>\n",
       "    </tr>\n",
       "    <tr>\n",
       "      <td>19</td>\n",
       "      <td>427</td>\n",
       "      <td>77720</td>\n",
       "      <td>182.014052</td>\n",
       "    </tr>\n",
       "    <tr>\n",
       "      <td>20</td>\n",
       "      <td>480</td>\n",
       "      <td>204100</td>\n",
       "      <td>425.208333</td>\n",
       "    </tr>\n",
       "    <tr>\n",
       "      <td>21</td>\n",
       "      <td>422</td>\n",
       "      <td>131814</td>\n",
       "      <td>312.355450</td>\n",
       "    </tr>\n",
       "    <tr>\n",
       "      <td>22</td>\n",
       "      <td>638</td>\n",
       "      <td>95210</td>\n",
       "      <td>149.231975</td>\n",
       "    </tr>\n",
       "    <tr>\n",
       "      <td>23</td>\n",
       "      <td>545</td>\n",
       "      <td>76939</td>\n",
       "      <td>141.172477</td>\n",
       "    </tr>\n",
       "    <tr>\n",
       "      <td>24</td>\n",
       "      <td>358</td>\n",
       "      <td>256212</td>\n",
       "      <td>715.675978</td>\n",
       "    </tr>\n",
       "    <tr>\n",
       "      <td>25</td>\n",
       "      <td>577</td>\n",
       "      <td>93081</td>\n",
       "      <td>161.318891</td>\n",
       "    </tr>\n",
       "    <tr>\n",
       "      <td>26</td>\n",
       "      <td>394</td>\n",
       "      <td>66361</td>\n",
       "      <td>168.428934</td>\n",
       "    </tr>\n",
       "    <tr>\n",
       "      <td>27</td>\n",
       "      <td>490</td>\n",
       "      <td>106738</td>\n",
       "      <td>217.832653</td>\n",
       "    </tr>\n",
       "    <tr>\n",
       "      <td>28</td>\n",
       "      <td>514</td>\n",
       "      <td>440199</td>\n",
       "      <td>856.418288</td>\n",
       "    </tr>\n",
       "    <tr>\n",
       "      <td>29</td>\n",
       "      <td>419</td>\n",
       "      <td>68540</td>\n",
       "      <td>163.579952</td>\n",
       "    </tr>\n",
       "    <tr>\n",
       "      <td>30</td>\n",
       "      <td>364</td>\n",
       "      <td>58367</td>\n",
       "      <td>160.348901</td>\n",
       "    </tr>\n",
       "    <tr>\n",
       "      <td>31</td>\n",
       "      <td>414</td>\n",
       "      <td>63435</td>\n",
       "      <td>153.224638</td>\n",
       "    </tr>\n",
       "    <tr>\n",
       "      <td>32</td>\n",
       "      <td>652</td>\n",
       "      <td>156245</td>\n",
       "      <td>239.639571</td>\n",
       "    </tr>\n",
       "    <tr>\n",
       "      <td>33</td>\n",
       "      <td>395</td>\n",
       "      <td>68136</td>\n",
       "      <td>172.496203</td>\n",
       "    </tr>\n",
       "    <tr>\n",
       "      <td>34</td>\n",
       "      <td>545</td>\n",
       "      <td>139781</td>\n",
       "      <td>256.478899</td>\n",
       "    </tr>\n",
       "    <tr>\n",
       "      <td>35</td>\n",
       "      <td>500</td>\n",
       "      <td>116562</td>\n",
       "      <td>233.124000</td>\n",
       "    </tr>\n",
       "    <tr>\n",
       "      <td>36</td>\n",
       "      <td>394</td>\n",
       "      <td>100688</td>\n",
       "      <td>255.553299</td>\n",
       "    </tr>\n",
       "    <tr>\n",
       "      <td>37</td>\n",
       "      <td>393</td>\n",
       "      <td>184696</td>\n",
       "      <td>469.964377</td>\n",
       "    </tr>\n",
       "    <tr>\n",
       "      <td>38</td>\n",
       "      <td>420</td>\n",
       "      <td>152524</td>\n",
       "      <td>363.152381</td>\n",
       "    </tr>\n",
       "    <tr>\n",
       "      <td>39</td>\n",
       "      <td>428</td>\n",
       "      <td>188490</td>\n",
       "      <td>440.397196</td>\n",
       "    </tr>\n",
       "  </tbody>\n",
       "</table>\n",
       "</div>"
      ],
      "text/plain": [
       "      interactionCount                    \n",
       "                 count     sum        mean\n",
       "topic                                     \n",
       "0                  876  180549  206.106164\n",
       "1                 2310  879202  380.606926\n",
       "2                  521  142128  272.798464\n",
       "3                  452   62064  137.309735\n",
       "4                  325   79746  245.372308\n",
       "5                  564  130939  232.161348\n",
       "6                  372   87524  235.279570\n",
       "7                 1219  221796  181.949139\n",
       "8                  417  133800  320.863309\n",
       "9                  589  128693  218.494058\n",
       "10                 431   63386  147.067285\n",
       "11                 476  115553  242.758403\n",
       "12                 448  199774  445.924107\n",
       "13                 333   55743  167.396396\n",
       "14                 384   88074  229.359375\n",
       "15                 436   78303  179.594037\n",
       "16                1536  169019  110.038411\n",
       "17                 659  121036  183.666161\n",
       "18                 417   92149  220.980815\n",
       "19                 427   77720  182.014052\n",
       "20                 480  204100  425.208333\n",
       "21                 422  131814  312.355450\n",
       "22                 638   95210  149.231975\n",
       "23                 545   76939  141.172477\n",
       "24                 358  256212  715.675978\n",
       "25                 577   93081  161.318891\n",
       "26                 394   66361  168.428934\n",
       "27                 490  106738  217.832653\n",
       "28                 514  440199  856.418288\n",
       "29                 419   68540  163.579952\n",
       "30                 364   58367  160.348901\n",
       "31                 414   63435  153.224638\n",
       "32                 652  156245  239.639571\n",
       "33                 395   68136  172.496203\n",
       "34                 545  139781  256.478899\n",
       "35                 500  116562  233.124000\n",
       "36                 394  100688  255.553299\n",
       "37                 393  184696  469.964377\n",
       "38                 420  152524  363.152381\n",
       "39                 428  188490  440.397196"
      ]
     },
     "execution_count": 10,
     "metadata": {},
     "output_type": "execute_result"
    }
   ],
   "source": [
    "grouped = data.groupby([\"topic\"]).agg({\"interactionCount\": [\"count\", \"sum\", \"mean\"]})\n",
    "grouped"
   ]
  },
  {
   "cell_type": "code",
   "execution_count": 11,
   "metadata": {},
   "outputs": [
    {
     "data": {
      "application/vnd.vegalite.v3+json": {
       "$schema": "https://vega.github.io/schema/vega-lite/v3.4.0.json",
       "config": {
        "mark": {
         "tooltip": null
        },
        "view": {
         "height": 300,
         "width": 400
        }
       },
       "datasets": {
        "data-92b9d2014d1e8351504c42cdfec518e2": [
         {
          "count": 876,
          "mean": 206.10616438356163,
          "sum": 180549,
          "topic": 0
         },
         {
          "count": 2310,
          "mean": 380.6069264069264,
          "sum": 879202,
          "topic": 1
         },
         {
          "count": 521,
          "mean": 272.7984644913628,
          "sum": 142128,
          "topic": 2
         },
         {
          "count": 452,
          "mean": 137.30973451327435,
          "sum": 62064,
          "topic": 3
         },
         {
          "count": 325,
          "mean": 245.3723076923077,
          "sum": 79746,
          "topic": 4
         },
         {
          "count": 564,
          "mean": 232.1613475177305,
          "sum": 130939,
          "topic": 5
         },
         {
          "count": 372,
          "mean": 235.27956989247312,
          "sum": 87524,
          "topic": 6
         },
         {
          "count": 1219,
          "mean": 181.94913863822805,
          "sum": 221796,
          "topic": 7
         },
         {
          "count": 417,
          "mean": 320.863309352518,
          "sum": 133800,
          "topic": 8
         },
         {
          "count": 589,
          "mean": 218.49405772495754,
          "sum": 128693,
          "topic": 9
         },
         {
          "count": 431,
          "mean": 147.06728538283062,
          "sum": 63386,
          "topic": 10
         },
         {
          "count": 476,
          "mean": 242.75840336134453,
          "sum": 115553,
          "topic": 11
         },
         {
          "count": 448,
          "mean": 445.92410714285717,
          "sum": 199774,
          "topic": 12
         },
         {
          "count": 333,
          "mean": 167.3963963963964,
          "sum": 55743,
          "topic": 13
         },
         {
          "count": 384,
          "mean": 229.359375,
          "sum": 88074,
          "topic": 14
         },
         {
          "count": 436,
          "mean": 179.5940366972477,
          "sum": 78303,
          "topic": 15
         },
         {
          "count": 1536,
          "mean": 110.03841145833333,
          "sum": 169019,
          "topic": 16
         },
         {
          "count": 659,
          "mean": 183.66616084977238,
          "sum": 121036,
          "topic": 17
         },
         {
          "count": 417,
          "mean": 220.98081534772183,
          "sum": 92149,
          "topic": 18
         },
         {
          "count": 427,
          "mean": 182.01405152224825,
          "sum": 77720,
          "topic": 19
         },
         {
          "count": 480,
          "mean": 425.2083333333333,
          "sum": 204100,
          "topic": 20
         },
         {
          "count": 422,
          "mean": 312.3554502369668,
          "sum": 131814,
          "topic": 21
         },
         {
          "count": 638,
          "mean": 149.2319749216301,
          "sum": 95210,
          "topic": 22
         },
         {
          "count": 545,
          "mean": 141.17247706422017,
          "sum": 76939,
          "topic": 23
         },
         {
          "count": 358,
          "mean": 715.6759776536313,
          "sum": 256212,
          "topic": 24
         },
         {
          "count": 577,
          "mean": 161.31889081455805,
          "sum": 93081,
          "topic": 25
         },
         {
          "count": 394,
          "mean": 168.4289340101523,
          "sum": 66361,
          "topic": 26
         },
         {
          "count": 490,
          "mean": 217.83265306122448,
          "sum": 106738,
          "topic": 27
         },
         {
          "count": 514,
          "mean": 856.4182879377432,
          "sum": 440199,
          "topic": 28
         },
         {
          "count": 419,
          "mean": 163.5799522673031,
          "sum": 68540,
          "topic": 29
         },
         {
          "count": 364,
          "mean": 160.3489010989011,
          "sum": 58367,
          "topic": 30
         },
         {
          "count": 414,
          "mean": 153.2246376811594,
          "sum": 63435,
          "topic": 31
         },
         {
          "count": 652,
          "mean": 239.63957055214723,
          "sum": 156245,
          "topic": 32
         },
         {
          "count": 395,
          "mean": 172.49620253164557,
          "sum": 68136,
          "topic": 33
         },
         {
          "count": 545,
          "mean": 256.47889908256883,
          "sum": 139781,
          "topic": 34
         },
         {
          "count": 500,
          "mean": 233.124,
          "sum": 116562,
          "topic": 35
         },
         {
          "count": 394,
          "mean": 255.55329949238578,
          "sum": 100688,
          "topic": 36
         },
         {
          "count": 393,
          "mean": 469.9643765903308,
          "sum": 184696,
          "topic": 37
         },
         {
          "count": 420,
          "mean": 363.15238095238095,
          "sum": 152524,
          "topic": 38
         },
         {
          "count": 428,
          "mean": 440.39719626168227,
          "sum": 188490,
          "topic": 39
         }
        ],
        "data-edccec7420338b7e497f2de2f5dcc5dc": [
         {
          "count": 876,
          "mean": 206.10616438356163,
          "sum": 180549
         },
         {
          "count": 2310,
          "mean": 380.6069264069264,
          "sum": 879202
         },
         {
          "count": 521,
          "mean": 272.7984644913628,
          "sum": 142128
         },
         {
          "count": 452,
          "mean": 137.30973451327435,
          "sum": 62064
         },
         {
          "count": 325,
          "mean": 245.3723076923077,
          "sum": 79746
         },
         {
          "count": 564,
          "mean": 232.1613475177305,
          "sum": 130939
         },
         {
          "count": 372,
          "mean": 235.27956989247312,
          "sum": 87524
         },
         {
          "count": 1219,
          "mean": 181.94913863822805,
          "sum": 221796
         },
         {
          "count": 417,
          "mean": 320.863309352518,
          "sum": 133800
         },
         {
          "count": 589,
          "mean": 218.49405772495754,
          "sum": 128693
         },
         {
          "count": 431,
          "mean": 147.06728538283062,
          "sum": 63386
         },
         {
          "count": 476,
          "mean": 242.75840336134453,
          "sum": 115553
         },
         {
          "count": 448,
          "mean": 445.92410714285717,
          "sum": 199774
         },
         {
          "count": 333,
          "mean": 167.3963963963964,
          "sum": 55743
         },
         {
          "count": 384,
          "mean": 229.359375,
          "sum": 88074
         },
         {
          "count": 436,
          "mean": 179.5940366972477,
          "sum": 78303
         },
         {
          "count": 1536,
          "mean": 110.03841145833333,
          "sum": 169019
         },
         {
          "count": 659,
          "mean": 183.66616084977238,
          "sum": 121036
         },
         {
          "count": 417,
          "mean": 220.98081534772183,
          "sum": 92149
         },
         {
          "count": 427,
          "mean": 182.01405152224825,
          "sum": 77720
         },
         {
          "count": 480,
          "mean": 425.2083333333333,
          "sum": 204100
         },
         {
          "count": 422,
          "mean": 312.3554502369668,
          "sum": 131814
         },
         {
          "count": 638,
          "mean": 149.2319749216301,
          "sum": 95210
         },
         {
          "count": 545,
          "mean": 141.17247706422017,
          "sum": 76939
         },
         {
          "count": 358,
          "mean": 715.6759776536313,
          "sum": 256212
         },
         {
          "count": 577,
          "mean": 161.31889081455805,
          "sum": 93081
         },
         {
          "count": 394,
          "mean": 168.4289340101523,
          "sum": 66361
         },
         {
          "count": 490,
          "mean": 217.83265306122448,
          "sum": 106738
         },
         {
          "count": 514,
          "mean": 856.4182879377432,
          "sum": 440199
         },
         {
          "count": 419,
          "mean": 163.5799522673031,
          "sum": 68540
         },
         {
          "count": 364,
          "mean": 160.3489010989011,
          "sum": 58367
         },
         {
          "count": 414,
          "mean": 153.2246376811594,
          "sum": 63435
         },
         {
          "count": 652,
          "mean": 239.63957055214723,
          "sum": 156245
         },
         {
          "count": 395,
          "mean": 172.49620253164557,
          "sum": 68136
         },
         {
          "count": 545,
          "mean": 256.47889908256883,
          "sum": 139781
         },
         {
          "count": 500,
          "mean": 233.124,
          "sum": 116562
         },
         {
          "count": 394,
          "mean": 255.55329949238578,
          "sum": 100688
         },
         {
          "count": 393,
          "mean": 469.9643765903308,
          "sum": 184696
         },
         {
          "count": 420,
          "mean": 363.15238095238095,
          "sum": 152524
         },
         {
          "count": 428,
          "mean": 440.39719626168227,
          "sum": 188490
         }
        ]
       },
       "vconcat": [
        {
         "layer": [
          {
           "data": {
            "name": "data-92b9d2014d1e8351504c42cdfec518e2"
           },
           "encoding": {
            "color": {
             "value": "red"
            },
            "opacity": {
             "value": 0.75
            },
            "x": {
             "axis": {
              "grid": true,
              "labels": false
             },
             "field": "topic",
             "title": "",
             "type": "ordinal"
            },
            "y": {
             "field": "mean",
             "title": "Interactions (Avg)",
             "type": "quantitative"
            }
           },
           "height": 350,
           "mark": "bar"
          },
          {
           "data": {
            "name": "data-edccec7420338b7e497f2de2f5dcc5dc"
           },
           "encoding": {
            "y": {
             "aggregate": "mean",
             "field": "mean",
             "type": "quantitative"
            }
           },
           "mark": {
            "color": "blue",
            "strokeDash": [
             3,
             5
            ],
            "type": "rule"
           }
          }
         ]
        },
        {
         "data": {
          "name": "data-92b9d2014d1e8351504c42cdfec518e2"
         },
         "encoding": {
          "color": {
           "value": "grey"
          },
          "opacity": {
           "value": 0.75
          },
          "x": {
           "axis": {
            "grid": true
           },
           "field": "topic",
           "title": "Topic",
           "type": "ordinal"
          },
          "y": {
           "field": "count",
           "title": "Frequency",
           "type": "quantitative"
          }
         },
         "height": 150,
         "mark": "bar"
        }
       ]
      },
      "image/png": "[encoded data removed]",
      "text/plain": [
       "<VegaLite 3 object>\n",
       "\n",
       "If you see this message, it means the renderer has not been properly enabled\n",
       "for the frontend that you are using. For more information, see\n",
       "https://altair-viz.github.io/user_guide/troubleshooting.html\n"
      ]
     },
     "execution_count": 11,
     "metadata": {},
     "output_type": "execute_result"
    }
   ],
   "source": [
    "grouped.columns = [\"count\", \"sum\", \"mean\"]\n",
    "\n",
    "freq_p = alt.Chart(grouped.reset_index()).mark_bar().encode(\n",
    "    alt.X(\"topic:O\", title=\"Topic\", axis=alt.Axis(grid=True)),\n",
    "    alt.Y(\"count:Q\", title=\"Frequency\"),\n",
    "    color=alt.value(\"grey\"),\n",
    "    opacity=alt.value(0.75)\n",
    ").properties(\n",
    "    height=150\n",
    ")\n",
    "\n",
    "mean_p = alt.Chart(grouped.reset_index()).mark_bar().encode(\n",
    "    alt.X(\"topic:O\", title=\"\", axis=alt.Axis(labels=False, grid=True)),\n",
    "    alt.Y(\"mean:Q\", title=\"Interactions (Avg)\"),\n",
    "    color=alt.value(\"red\"),\n",
    "    opacity=alt.value(0.75),\n",
    ").properties(\n",
    "    height=350\n",
    ")\n",
    "\n",
    "rule = alt.Chart(grouped).mark_rule(color=\"blue\", strokeDash=[3,5]).encode(\n",
    "    alt.Y(\"mean(mean):Q\")\n",
    ")\n",
    "\n",
    "chart = alt.vconcat((mean_p + rule), freq_p)\n",
    "#chart.save(os.path.join(figures_path, \"topics\", \"interactions_per_topic.html\"))\n",
    "chart"
   ]
  },
  {
   "cell_type": "code",
   "execution_count": null,
   "metadata": {},
   "outputs": [],
   "source": []
  }
 ],
 "metadata": {
  "kernelspec": {
   "display_name": "Python 3",
   "language": "python",
   "name": "python3"
  },
  "language_info": {
   "codemirror_mode": {
    "name": "ipython",
    "version": 3
   },
   "file_extension": ".py",
   "mimetype": "text/x-python",
   "name": "python",
   "nbconvert_exporter": "python",
   "pygments_lexer": "ipython3",
   "version": "3.7.4"
  }
 },
 "nbformat": 4,
 "nbformat_minor": 4
}

{
 "cells": [
  {
   "cell_type": "markdown",
   "metadata": {},
   "source": [
    "# Sentiment Analysis Prototyping\n",
    "\n",
    "Prototype code for ML-based sentiment analysis. Classification case pos/neutral/neg only."
   ]
  },
  {
   "cell_type": "code",
   "execution_count": 1,
   "metadata": {},
   "outputs": [],
   "source": [
    "import os, re, string, pickle, random\n",
    "\n",
    "import numpy as np\n",
    "import pandas as pd\n",
    "\n",
    "import nltk\n",
    "nltk.data.path.append(\"../data/external/nltk_data\")\n",
    "from nltk import word_tokenize\n",
    "from nltk.corpus import stopwords\n",
    "from nltk.stem.cistem import Cistem\n",
    "\n",
    "import emoji\n",
    "\n",
    "from sklearn.pipeline import Pipeline\n",
    "from sklearn.model_selection import train_test_split, GridSearchCV\n",
    "from sklearn.feature_extraction.text import TfidfVectorizer\n",
    "from sklearn.linear_model import LogisticRegression\n",
    "from sklearn.svm import LinearSVC\n",
    "from sklearn.naive_bayes import MultinomialNB\n",
    "from sklearn.neural_network import MLPClassifier\n",
    "from sklearn.ensemble import RandomForestClassifier\n",
    "from sklearn.metrics import confusion_matrix, classification_report, accuracy_score, balanced_accuracy_score\n",
    "\n",
    "import matplotlib.pyplot as plt\n",
    "%matplotlib inline"
   ]
  },
  {
   "cell_type": "code",
   "execution_count": 2,
   "metadata": {},
   "outputs": [],
   "source": [
    "random_state = 23\n",
    "random.seed(random_state)"
   ]
  },
  {
   "cell_type": "markdown",
   "metadata": {},
   "source": [
    "## Loading"
   ]
  },
  {
   "cell_type": "code",
   "execution_count": 3,
   "metadata": {},
   "outputs": [
    {
     "data": {
      "text/plain": [
       "(1056, 7)"
      ]
     },
     "execution_count": 3,
     "metadata": {},
     "output_type": "execute_result"
    }
   ],
   "source": [
    "data_path = \"/mnt/DATA/NRW2019 Dropbox/data 4good/CSVData\"\n",
    "fpath = os.path.join(data_path, \"TestData\", \"forSentAnalysis.csv\")\n",
    "\n",
    "labeled_data = pd.read_csv(fpath)\n",
    "labeled_data.shape"
   ]
  },
  {
   "cell_type": "markdown",
   "metadata": {},
   "source": [
    "Rating schema: {0: \"positive\", 10: \"neutral\", 20: \"negative\", 30: \"offensive\", -2: \"notAssessable\"}"
   ]
  },
  {
   "cell_type": "markdown",
   "metadata": {},
   "source": [
    "## Preprocessing"
   ]
  },
  {
   "cell_type": "markdown",
   "metadata": {},
   "source": [
    "Dataset cleansing"
   ]
  },
  {
   "cell_type": "code",
   "execution_count": 4,
   "metadata": {},
   "outputs": [
    {
     "data": {
      "text/plain": [
       "(845, 3)"
      ]
     },
     "execution_count": 4,
     "metadata": {},
     "output_type": "execute_result"
    }
   ],
   "source": [
    "# Remove unnecessary cols and rename columns uniformly\n",
    "labeled_data.drop([\"id\", \"Level\", \"Topic\", \"sentiment\"], axis=1, inplace=True)\n",
    "labeled_data.columns = [\"source\", \"text\", \"rating\"]\n",
    "\n",
    "# Remove not assessable and offensive texts\n",
    "labeled_data = labeled_data[labeled_data.rating != -2]\n",
    "labeled_data = labeled_data[labeled_data.rating != 30]\n",
    "\n",
    "labeled_data.shape"
   ]
  },
  {
   "cell_type": "markdown",
   "metadata": {},
   "source": [
    "Text cleansing"
   ]
  },
  {
   "cell_type": "code",
   "execution_count": 5,
   "metadata": {},
   "outputs": [],
   "source": [
    "stopwords_list = stopwords.words(\"german\")\n",
    "stemmer = Cistem()\n",
    "\n",
    "def clean_text(text):\n",
    "    \"\"\" Util: Cleans text string.\n",
    "    > Lowercase string\n",
    "    > Replace game scores with \"GAME_SCORE\" placeholder\n",
    "    > Punctuation removal\n",
    "    > Replace numbers with \"NUM\" placeholder\n",
    "    > Stemming\n",
    "    > Stopwords removal\n",
    "    \"\"\"\n",
    "    lowercased = text.lower()\n",
    "    scores_removed = re.sub(r\"(\\d+) ?(-|:) ?(\\d+)\", \"GAME_SCORE \", lowercased)\n",
    "    punctuations = string.punctuation + \"„\" + \"”\" + \"–\" + \"‘\" + \"’\" + \"“\" + \"…\" + \"‼\"\n",
    "    punct_removed = scores_removed.translate(str.maketrans(\"\", \"\",\n",
    "                                                           punctuations))\n",
    "    num_replaced = re.sub(r\"\\b\\d+\\b\", \"NUM\", punct_removed)\n",
    "    split_emoji = emoji.get_emoji_regexp().split(num_replaced) # splits emoji from words away\n",
    "    tokenized = word_tokenize(\" \".join(split_emoji)) \n",
    "    cleaned_tokens = [word for word in tokenized if word not in stopwords_list]\n",
    "    stemmed = [stemmer.stem(word) for word in cleaned_tokens]\n",
    "    cleaned_txt = \" \".join(stemmed)\n",
    "\n",
    "    return cleaned_txt\n",
    "\n",
    "labeled_data[\"cleaned_txt\"] = labeled_data.text.apply(clean_text)"
   ]
  },
  {
   "cell_type": "markdown",
   "metadata": {},
   "source": [
    "## Exploration"
   ]
  },
  {
   "cell_type": "markdown",
   "metadata": {},
   "source": [
    "NaN Stats"
   ]
  },
  {
   "cell_type": "code",
   "execution_count": 6,
   "metadata": {},
   "outputs": [
    {
     "data": {
      "text/plain": [
       "source         0\n",
       "text           0\n",
       "rating         0\n",
       "cleaned_txt    0\n",
       "dtype: int64"
      ]
     },
     "execution_count": 6,
     "metadata": {},
     "output_type": "execute_result"
    }
   ],
   "source": [
    "labeled_data.isna().sum()"
   ]
  },
  {
   "cell_type": "markdown",
   "metadata": {},
   "source": [
    "Distribution of sources"
   ]
  },
  {
   "cell_type": "code",
   "execution_count": 7,
   "metadata": {},
   "outputs": [
    {
     "name": "stdout",
     "output_type": "stream",
     "text": [
      "Sources count: 49\n",
      "Avg count of doc per source: 17.244897959183675\n",
      "Top 5 sources:\n"
     ]
    },
    {
     "data": {
      "text/plain": [
       "JOY_PAMELA_RENDIWAGNER    111\n",
       "DIE_KRONE                 111\n",
       "FLORIAN_KLENK              89\n",
       "DER_STANDARD               70\n",
       "KURIER                     52\n",
       "Name: source, dtype: int64"
      ]
     },
     "execution_count": 7,
     "metadata": {},
     "output_type": "execute_result"
    }
   ],
   "source": [
    "print(\"Sources count:\", len(labeled_data.source.value_counts()))\n",
    "print(\"Avg count of doc per source:\", np.mean(labeled_data.source.value_counts().tolist()))\n",
    "print(\"Top 5 sources:\")\n",
    "labeled_data.source.value_counts()[:5]"
   ]
  },
  {
   "cell_type": "markdown",
   "metadata": {},
   "source": [
    "Distribution of ratings"
   ]
  },
  {
   "cell_type": "code",
   "execution_count": 8,
   "metadata": {},
   "outputs": [
    {
     "data": {
      "text/plain": [
       "<matplotlib.axes._subplots.AxesSubplot at 0x7f45f8604710>"
      ]
     },
     "execution_count": 8,
     "metadata": {},
     "output_type": "execute_result"
    },
    {
     "data": {
      "image/png": "[encoded data removed]",
      "text/plain": [
       "<Figure size 432x288 with 1 Axes>"
      ]
     },
     "metadata": {
      "needs_background": "light"
     },
     "output_type": "display_data"
    }
   ],
   "source": [
    "labeled_data.rating.value_counts(sort=False).plot(kind=\"bar\")"
   ]
  },
  {
   "cell_type": "markdown",
   "metadata": {},
   "source": [
    "-> we have imbalanced (and generally too less) data, therefore up-sampling will be applied after Train/Test split."
   ]
  },
  {
   "cell_type": "markdown",
   "metadata": {},
   "source": [
    "## Sentiment Assignment\n",
    "\n",
    "ML-based approach."
   ]
  },
  {
   "cell_type": "markdown",
   "metadata": {},
   "source": [
    "### Train/Test-Split"
   ]
  },
  {
   "cell_type": "code",
   "execution_count": 9,
   "metadata": {},
   "outputs": [
    {
     "name": "stdout",
     "output_type": "stream",
     "text": [
      "X shapes (train/test): (676,) / (169,)\n",
      "y shapes (train/test): (676,) / (169,)\n"
     ]
    }
   ],
   "source": [
    "X_train, X_test, y_train, y_test = train_test_split(labeled_data.cleaned_txt, labeled_data.rating,\n",
    "                                                    test_size=0.2, random_state=random_state)\n",
    "\n",
    "print(\"X shapes (train/test):\", X_train.shape, \"/\", X_test.shape)\n",
    "print(\"y shapes (train/test):\", y_train.shape, \"/\", y_test.shape)"
   ]
  },
  {
   "cell_type": "markdown",
   "metadata": {},
   "source": [
    "#### Up-Sampling"
   ]
  },
  {
   "cell_type": "code",
   "execution_count": 10,
   "metadata": {},
   "outputs": [
    {
     "name": "stdout",
     "output_type": "stream",
     "text": [
      "(676, 2)\n"
     ]
    },
    {
     "data": {
      "text/plain": [
       "0     109\n",
       "10    242\n",
       "20    325\n",
       "Name: rating, dtype: int64"
      ]
     },
     "execution_count": 10,
     "metadata": {},
     "output_type": "execute_result"
    }
   ],
   "source": [
    "X_samples = pd.concat([X_train, y_train], axis=1)\n",
    "print(X_samples.shape)\n",
    "X_samples.rating.value_counts(sort=False)"
   ]
  },
  {
   "cell_type": "markdown",
   "metadata": {},
   "source": [
    "Up-sample positive (2x, with text shuffle and random word skipping)"
   ]
  },
  {
   "cell_type": "code",
   "execution_count": 11,
   "metadata": {},
   "outputs": [
    {
     "name": "stdout",
     "output_type": "stream",
     "text": [
      "(785, 2)\n"
     ]
    },
    {
     "name": "stderr",
     "output_type": "stream",
     "text": [
      "/home/datadonk23/anaconda3/envs/WBNRW19/lib/python3.7/site-packages/pandas/core/generic.py:5208: SettingWithCopyWarning: \n",
      "A value is trying to be set on a copy of a slice from a DataFrame.\n",
      "Try using .loc[row_indexer,col_indexer] = value instead\n",
      "\n",
      "See the caveats in the documentation: http://pandas.pydata.org/pandas-docs/stable/user_guide/indexing.html#returning-a-view-versus-a-copy\n",
      "  self[name] = value\n"
     ]
    },
    {
     "data": {
      "text/plain": [
       "0     218\n",
       "10    242\n",
       "20    325\n",
       "Name: rating, dtype: int64"
      ]
     },
     "execution_count": 11,
     "metadata": {},
     "output_type": "execute_result"
    }
   ],
   "source": [
    "skip_frac = 0.1 # Fraction of words to be skipped from text during up-sampling\n",
    "\n",
    "def shuffle_and_skip(txt, frac):\n",
    "    \"\"\" Removes fraction of words in text and shuffles word order. \"\"\"\n",
    "    words = txt.split()\n",
    "    sampled_words = random.sample(words, int(len(words) * (1 - frac)))\n",
    "    random.shuffle(sampled_words)\n",
    "    return \" \".join(sampled_words)\n",
    "\n",
    "positive_upsamples = X_samples[X_samples.rating == 0]\n",
    "positive_upsamples.cleaned_txt = positive_upsamples.cleaned_txt.apply(lambda x: shuffle_and_skip(x, skip_frac))\n",
    "\n",
    "X_upsampled = pd.concat([X_samples, positive_upsamples], axis=0)\n",
    "print(X_upsampled.shape)\n",
    "X_upsampled.rating.value_counts(sort=False)"
   ]
  },
  {
   "cell_type": "code",
   "execution_count": 12,
   "metadata": {},
   "outputs": [],
   "source": [
    "X_train = X_upsampled.cleaned_txt\n",
    "y_train = X_upsampled.rating"
   ]
  },
  {
   "cell_type": "markdown",
   "metadata": {},
   "source": [
    "### Vectorizer"
   ]
  },
  {
   "cell_type": "code",
   "execution_count": 13,
   "metadata": {},
   "outputs": [],
   "source": [
    "tfidf = TfidfVectorizer(lowercase=False, # already lowercased\n",
    "                        tokenizer=word_tokenize) \n",
    "                        #max_features=3500) # tune max_features for generalization eventually"
   ]
  },
  {
   "cell_type": "markdown",
   "metadata": {},
   "source": [
    "### Models"
   ]
  },
  {
   "cell_type": "code",
   "execution_count": 14,
   "metadata": {},
   "outputs": [],
   "source": [
    "logreg = LogisticRegression(random_state=random_state, n_jobs=-1)\n",
    "svc = LinearSVC(random_state=random_state)\n",
    "nb = MultinomialNB()\n",
    "rf = RandomForestClassifier(random_state=random_state, n_jobs=-1)\n",
    "nn = MLPClassifier(learning_rate=\"adaptive\", solver=\"adam\", random_state=random_state)\n",
    "\n",
    "models = [logreg, svc, nb, rf, nn]"
   ]
  },
  {
   "cell_type": "markdown",
   "metadata": {},
   "source": [
    "Parameters"
   ]
  },
  {
   "cell_type": "code",
   "execution_count": 15,
   "metadata": {},
   "outputs": [],
   "source": [
    "params = {}\n",
    "params[\"LogisticRegression\"] = {\"penalty\": [\"l1\", \"l2\"],\n",
    "                                \"C\": [0.01, 0.1, 0.5, 1., 4.3, 7.5],\n",
    "                                \"class_weight\": [None, \"balanced\"]}\n",
    "params[\"LinearSVC\"] = {\"C\": [0.01, 0.1, 0.38, 1., 10., 20.],\n",
    "                       \"class_weight\": [None, \"balanced\"]}\n",
    "params[\"MultinomialNB\"] = {\"alpha\": [0., 0.01, 0.1, 1.],\n",
    "                           \"fit_prior\": [True, False]}\n",
    "params[\"RandomForestClassifier\"] = {\"n_estimators\": [2, 64, 97, 100, 128],\n",
    "                                    \"criterion\": [\"gini\", \"entropy\"],\n",
    "                                    \"min_samples_leaf\": [1, 2],\n",
    "                                    \"max_features\": [None, \"auto\"],\n",
    "                                    \"class_weight\": [None, \"balanced\"]}\n",
    "params[\"MLPClassifier\"] = {\"alpha\": [0.0001, 0.0005],\n",
    "                           \"learning_rate_init\": [0.001, 0.005]}"
   ]
  },
  {
   "cell_type": "markdown",
   "metadata": {},
   "source": [
    "### Pipeline"
   ]
  },
  {
   "cell_type": "code",
   "execution_count": 16,
   "metadata": {},
   "outputs": [],
   "source": [
    "classifiers = {}\n",
    "\n",
    "for model in models:\n",
    "    classifiers[type(model).__name__ + \"_pipe\"] = Pipeline([\n",
    "        (\"tfidf\", tfidf),\n",
    "        (\"clf\", GridSearchCV(model, param_grid=params[type(model).__name__],\n",
    "                             scoring=\"accuracy\", cv=5, refit=True, n_jobs=-1))\n",
    "    ])"
   ]
  },
  {
   "cell_type": "markdown",
   "metadata": {},
   "source": [
    "Train"
   ]
  },
  {
   "cell_type": "code",
   "execution_count": 17,
   "metadata": {},
   "outputs": [
    {
     "name": "stderr",
     "output_type": "stream",
     "text": [
      "/home/datadonk23/anaconda3/envs/WBNRW19/lib/python3.7/site-packages/sklearn/linear_model/logistic.py:432: FutureWarning: Default solver will be changed to 'lbfgs' in 0.22. Specify a solver to silence this warning.\n",
      "  FutureWarning)\n",
      "/home/datadonk23/anaconda3/envs/WBNRW19/lib/python3.7/site-packages/sklearn/linear_model/logistic.py:469: FutureWarning: Default multi_class will be changed to 'auto' in 0.22. Specify the multi_class option to silence this warning.\n",
      "  \"this warning.\", FutureWarning)\n",
      "/home/datadonk23/anaconda3/envs/WBNRW19/lib/python3.7/site-packages/sklearn/linear_model/logistic.py:1544: UserWarning: 'n_jobs' > 1 does not have any effect when 'solver' is set to 'liblinear'. Got 'n_jobs' = 8.\n",
      "  \" = {}.\".format(effective_n_jobs(self.n_jobs)))\n",
      "/home/datadonk23/anaconda3/envs/WBNRW19/lib/python3.7/site-packages/sklearn/naive_bayes.py:485: UserWarning: alpha too small will result in numeric errors, setting alpha = 1.0e-10\n",
      "  'setting alpha = %.1e' % _ALPHA_MIN)\n",
      "/home/datadonk23/anaconda3/envs/WBNRW19/lib/python3.7/site-packages/sklearn/model_selection/_search.py:813: DeprecationWarning: The default of the `iid` parameter will change from True to False in version 0.22 and will be removed in 0.24. This will change numeric results when test-set sizes are unequal.\n",
      "  DeprecationWarning)\n",
      "/home/datadonk23/anaconda3/envs/WBNRW19/lib/python3.7/site-packages/sklearn/neural_network/multilayer_perceptron.py:566: ConvergenceWarning: Stochastic Optimizer: Maximum iterations (200) reached and the optimization hasn't converged yet.\n",
      "  % self.max_iter, ConvergenceWarning)\n"
     ]
    }
   ],
   "source": [
    "for _, clf_pipeline in classifiers.items():\n",
    "    clf_pipeline.fit(X_train, y_train)"
   ]
  },
  {
   "cell_type": "markdown",
   "metadata": {},
   "source": [
    "Predict"
   ]
  },
  {
   "cell_type": "code",
   "execution_count": 18,
   "metadata": {},
   "outputs": [
    {
     "name": "stdout",
     "output_type": "stream",
     "text": [
      "0.6272189349112426 LogisticRegression_pipe {'C': 4.3, 'class_weight': None, 'penalty': 'l2'}\n",
      "0.6094674556213018 LinearSVC_pipe {'C': 0.38, 'class_weight': None}\n",
      "0.5739644970414202 MultinomialNB_pipe {'alpha': 0.0, 'fit_prior': True}\n",
      "0.47337278106508873 RandomForestClassifier_pipe {'class_weight': 'balanced', 'criterion': 'gini', 'max_features': None, 'min_samples_leaf': 2, 'n_estimators': 97}\n",
      "0.5739644970414202 MLPClassifier_pipe {'alpha': 0.0001, 'learning_rate_init': 0.001}\n"
     ]
    }
   ],
   "source": [
    "best_acc = 0\n",
    "best_model_pipe = None\n",
    "\n",
    "for name, clf_pipeline in classifiers.items():\n",
    "    y_pred = clf_pipeline.predict(X_test)\n",
    "    acc = accuracy_score(y_test, y_pred)\n",
    "    print(acc, name, clf_pipeline.named_steps[\"clf\"].best_params_)\n",
    "    \n",
    "    if acc > best_acc:\n",
    "        best_model_pipe = clf_pipeline\n",
    "        best_acc = acc"
   ]
  },
  {
   "cell_type": "markdown",
   "metadata": {},
   "source": [
    "## Evaluation"
   ]
  },
  {
   "cell_type": "code",
   "execution_count": 19,
   "metadata": {},
   "outputs": [],
   "source": [
    "class_encoding = {0: \"positive\", 10: \"neutral\", 20: \"negative\"}"
   ]
  },
  {
   "cell_type": "markdown",
   "metadata": {},
   "source": [
    "#### Confusion Matrix"
   ]
  },
  {
   "cell_type": "code",
   "execution_count": 20,
   "metadata": {},
   "outputs": [
    {
     "name": "stderr",
     "output_type": "stream",
     "text": [
      "/home/datadonk23/anaconda3/envs/WBNRW19/lib/python3.7/site-packages/yellowbrick/classifier/base.py:232: YellowbrickWarning: could not determine class_counts_ from previously fitted classifier\n",
      "  YellowbrickWarning,\n"
     ]
    },
    {
     "data": {
      "image/png": "[encoded data removed]",
      "text/plain": [
       "<Figure size 576x396 with 1 Axes>"
      ]
     },
     "metadata": {},
     "output_type": "display_data"
    },
    {
     "data": {
      "text/plain": [
       "<matplotlib.axes._subplots.AxesSubplot at 0x7f45ca9bbed0>"
      ]
     },
     "execution_count": 20,
     "metadata": {},
     "output_type": "execute_result"
    }
   ],
   "source": [
    "from yellowbrick.classifier import ConfusionMatrix, ClassificationReport, PrecisionRecallCurve, ROCAUC\n",
    "\n",
    "cm = ConfusionMatrix(best_model_pipe, is_fitted=True, encoder=class_encoding)\n",
    "cm.score(X_test, y_test)\n",
    "cm.poof()"
   ]
  },
  {
   "cell_type": "markdown",
   "metadata": {},
   "source": [
    "#### Classification Report"
   ]
  },
  {
   "cell_type": "code",
   "execution_count": 21,
   "metadata": {},
   "outputs": [
    {
     "name": "stdout",
     "output_type": "stream",
     "text": [
      "              precision    recall  f1-score   support\n",
      "\n",
      "           0       0.80      0.41      0.55        29\n",
      "          10       0.67      0.51      0.58        69\n",
      "          20       0.58      0.83      0.68        71\n",
      "\n",
      "    accuracy                           0.63       169\n",
      "   macro avg       0.68      0.58      0.60       169\n",
      "weighted avg       0.66      0.63      0.62       169\n",
      "\n"
     ]
    },
    {
     "data": {
      "image/png": "[encoded data removed]",
      "text/plain": [
       "<Figure size 576x396 with 2 Axes>"
      ]
     },
     "metadata": {},
     "output_type": "display_data"
    },
    {
     "data": {
      "text/plain": [
       "<matplotlib.axes._subplots.AxesSubplot at 0x7f45ca3e3290>"
      ]
     },
     "execution_count": 21,
     "metadata": {},
     "output_type": "execute_result"
    }
   ],
   "source": [
    "print(classification_report(y_test, best_model_pipe.predict(X_test)))\n",
    "\n",
    "# Visualizer\n",
    "report = ClassificationReport(best_model_pipe, is_fitted=True, encoder=class_encoding, support=True)\n",
    "report.score(X_test, y_test)\n",
    "report.poof()"
   ]
  },
  {
   "cell_type": "markdown",
   "metadata": {},
   "source": [
    "#### Precision-Recall Curve"
   ]
  },
  {
   "cell_type": "code",
   "execution_count": 22,
   "metadata": {},
   "outputs": [
    {
     "name": "stderr",
     "output_type": "stream",
     "text": [
      "/home/datadonk23/anaconda3/envs/WBNRW19/lib/python3.7/site-packages/sklearn/linear_model/logistic.py:432: FutureWarning: Default solver will be changed to 'lbfgs' in 0.22. Specify a solver to silence this warning.\n",
      "  FutureWarning)\n",
      "/home/datadonk23/anaconda3/envs/WBNRW19/lib/python3.7/site-packages/sklearn/linear_model/logistic.py:1544: UserWarning: 'n_jobs' > 1 does not have any effect when 'solver' is set to 'liblinear'. Got 'n_jobs' = 8.\n",
      "  \" = {}.\".format(effective_n_jobs(self.n_jobs)))\n",
      "/home/datadonk23/anaconda3/envs/WBNRW19/lib/python3.7/site-packages/sklearn/model_selection/_search.py:813: DeprecationWarning: The default of the `iid` parameter will change from True to False in version 0.22 and will be removed in 0.24. This will change numeric results when test-set sizes are unequal.\n",
      "  DeprecationWarning)\n",
      "/home/datadonk23/anaconda3/envs/WBNRW19/lib/python3.7/site-packages/sklearn/linear_model/logistic.py:432: FutureWarning: Default solver will be changed to 'lbfgs' in 0.22. Specify a solver to silence this warning.\n",
      "  FutureWarning)\n",
      "/home/datadonk23/anaconda3/envs/WBNRW19/lib/python3.7/site-packages/sklearn/linear_model/logistic.py:1544: UserWarning: 'n_jobs' > 1 does not have any effect when 'solver' is set to 'liblinear'. Got 'n_jobs' = 8.\n",
      "  \" = {}.\".format(effective_n_jobs(self.n_jobs)))\n",
      "/home/datadonk23/anaconda3/envs/WBNRW19/lib/python3.7/site-packages/sklearn/linear_model/logistic.py:432: FutureWarning: Default solver will be changed to 'lbfgs' in 0.22. Specify a solver to silence this warning.\n",
      "  FutureWarning)\n",
      "/home/datadonk23/anaconda3/envs/WBNRW19/lib/python3.7/site-packages/sklearn/linear_model/logistic.py:1544: UserWarning: 'n_jobs' > 1 does not have any effect when 'solver' is set to 'liblinear'. Got 'n_jobs' = 8.\n",
      "  \" = {}.\".format(effective_n_jobs(self.n_jobs)))\n"
     ]
    },
    {
     "data": {
      "image/png": "[encoded data removed]",
      "text/plain": [
       "<Figure size 576x396 with 1 Axes>"
      ]
     },
     "metadata": {},
     "output_type": "display_data"
    },
    {
     "data": {
      "text/plain": [
       "<matplotlib.axes._subplots.AxesSubplot at 0x7f45ca2c6dd0>"
      ]
     },
     "execution_count": 22,
     "metadata": {},
     "output_type": "execute_result"
    }
   ],
   "source": [
    "pr_curve = PrecisionRecallCurve(best_model_pipe)\n",
    "pr_curve.fit(X_train, y_train)\n",
    "pr_curve.score(X_test, y_test)\n",
    "pr_curve.poof()"
   ]
  },
  {
   "cell_type": "markdown",
   "metadata": {},
   "source": [
    "#### ROCAUC"
   ]
  },
  {
   "cell_type": "code",
   "execution_count": 23,
   "metadata": {},
   "outputs": [
    {
     "name": "stderr",
     "output_type": "stream",
     "text": [
      "/home/datadonk23/anaconda3/envs/WBNRW19/lib/python3.7/site-packages/yellowbrick/classifier/base.py:232: YellowbrickWarning: could not determine class_counts_ from previously fitted classifier\n",
      "  YellowbrickWarning,\n"
     ]
    },
    {
     "data": {
      "image/png": "[encoded data removed]",
      "text/plain": [
       "<Figure size 576x396 with 1 Axes>"
      ]
     },
     "metadata": {},
     "output_type": "display_data"
    },
    {
     "data": {
      "text/plain": [
       "<matplotlib.axes._subplots.AxesSubplot at 0x7f45ca172950>"
      ]
     },
     "execution_count": 23,
     "metadata": {},
     "output_type": "execute_result"
    }
   ],
   "source": [
    "rocauc = ROCAUC(best_model_pipe, is_fitted=True, encoder=class_encoding)\n",
    "rocauc.score(X_test, y_test)\n",
    "rocauc.poof()"
   ]
  },
  {
   "cell_type": "markdown",
   "metadata": {},
   "source": [
    "# Conclusion\n",
    "\n",
    "Expectedly there's an improvement in accuracy (after skipping \"offensive\" as class). The current best model (LogReg) comes close to an accuracy score, where a deployment in production can be considered (for this case, >0.7). Perhaps this can be reached with some additional fine tuning of the model parameter. More productive should be anyhow to (a) get more data (esp. \"positive\" samples, as the current model performs only in this class insufficiently) and (b) enhance NLP Pipeline."
   ]
  },
  {
   "cell_type": "code",
   "execution_count": null,
   "metadata": {},
   "outputs": [],
   "source": []
  }
 ],
 "metadata": {
  "kernelspec": {
   "display_name": "Python 3",
   "language": "python",
   "name": "python3"
  },
  "language_info": {
   "codemirror_mode": {
    "name": "ipython",
    "version": 3
   },
   "file_extension": ".py",
   "mimetype": "text/x-python",
   "name": "python",
   "nbconvert_exporter": "python",
   "pygments_lexer": "ipython3",
   "version": "3.7.4"
  }
 },
 "nbformat": 4,
 "nbformat_minor": 4
}

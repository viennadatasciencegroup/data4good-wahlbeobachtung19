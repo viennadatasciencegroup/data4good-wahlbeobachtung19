{
 "cells": [
  {
   "cell_type": "markdown",
   "metadata": {},
   "source": [
    "Prototype stopped: Performance too bad.\n",
    "\n",
    "# Sentiment Analysis Prototyping\n",
    "\n",
    "Prototype code for ML-based sentiment analysis. Classification case neg/non-negative only."
   ]
  },
  {
   "cell_type": "code",
   "execution_count": 1,
   "metadata": {},
   "outputs": [],
   "source": [
    "import os, sys, re, string, pickle, random\n",
    "sys.path.append(\"..\")\n",
    "from config import credentials\n",
    "import dropbox\n",
    "\n",
    "import numpy as np\n",
    "import pandas as pd\n",
    "\n",
    "import spacy\n",
    "\n",
    "import emoji\n",
    "\n",
    "from sklearn.pipeline import Pipeline, FeatureUnion\n",
    "from sklearn.preprocessing import FunctionTransformer\n",
    "from sklearn.model_selection import train_test_split, GridSearchCV, cross_validate, LeaveOneOut\n",
    "from sklearn.feature_extraction.text import TfidfVectorizer, CountVectorizer\n",
    "from sklearn.linear_model import LogisticRegression\n",
    "from sklearn.svm import LinearSVC\n",
    "from sklearn.naive_bayes import MultinomialNB, GaussianNB\n",
    "from sklearn.neural_network import MLPClassifier\n",
    "from sklearn.ensemble import RandomForestClassifier\n",
    "from sklearn.metrics import confusion_matrix, classification_report, accuracy_score, balanced_accuracy_score\n",
    "import warnings\n",
    "warnings.filterwarnings(\"ignore\", category=DeprecationWarning)\n",
    "\n",
    "from yellowbrick.classifier import ConfusionMatrix, ClassificationReport, PrecisionRecallCurve, ROCAUC\n",
    "\n",
    "import matplotlib.pyplot as plt\n",
    "%matplotlib inline"
   ]
  },
  {
   "cell_type": "code",
   "execution_count": 2,
   "metadata": {},
   "outputs": [],
   "source": [
    "random_state = 23\n",
    "random.seed(random_state)"
   ]
  },
  {
   "cell_type": "markdown",
   "metadata": {},
   "source": [
    "## Loading"
   ]
  },
  {
   "cell_type": "code",
   "execution_count": 3,
   "metadata": {},
   "outputs": [
    {
     "data": {
      "text/plain": [
       "(1342, 7)"
      ]
     },
     "execution_count": 3,
     "metadata": {},
     "output_type": "execute_result"
    }
   ],
   "source": [
    "team_dbx = dropbox.DropboxTeam(credentials.dropbox_team_access_token)\n",
    "team_root = team_dbx.with_path_root(dropbox.common.PathRoot.namespace_id(\n",
    "    credentials.dropbox_team_namespace_id))\n",
    "user_dbx = team_root.as_user(credentials.dropbox_team_member_id)\n",
    "\n",
    "data_path = \"/Data/CSVData\"\n",
    "fpath = os.path.join(data_path, \"TestData\", \"forSentAnalysis.csv\")\n",
    "\n",
    "_, res = user_dbx.files_download(fpath)\n",
    "labeled_data = pd.read_csv(res.raw)\n",
    "labeled_data.shape"
   ]
  },
  {
   "cell_type": "markdown",
   "metadata": {},
   "source": [
    "Rating schema: {0: \"positive\", 10: \"neutral\", 20: \"negative\", 30: \"offensive\", -2: \"notAssessable\"}"
   ]
  },
  {
   "cell_type": "markdown",
   "metadata": {},
   "source": [
    "## Preprocessing"
   ]
  },
  {
   "cell_type": "markdown",
   "metadata": {},
   "source": [
    "Dataset cleansing"
   ]
  },
  {
   "cell_type": "code",
   "execution_count": 4,
   "metadata": {},
   "outputs": [
    {
     "data": {
      "text/plain": [
       "(1053, 3)"
      ]
     },
     "execution_count": 4,
     "metadata": {},
     "output_type": "execute_result"
    }
   ],
   "source": [
    "# Remove unnecessary cols and rename them uniformly\n",
    "labeled_data.drop([\"id\", \"Level\", \"Topic\", \"sentiment\"], axis=1, inplace=True)\n",
    "labeled_data.columns = [\"source\", \"text\", \"rating\"]\n",
    "\n",
    "# Remove not assessable\n",
    "labeled_data = labeled_data[labeled_data.rating != -2]\n",
    "\n",
    "# Remove empty texts\n",
    "labeled_data.text.replace(\"\", np.nan, inplace=True)\n",
    "labeled_data.dropna(subset=[\"text\"], inplace=True)\n",
    "labeled_data = labeled_data[~labeled_data.text.str.isspace()]\n",
    "\n",
    "# Remove duplicated texts\n",
    "labeled_data.drop_duplicates(subset=[\"text\"], keep=\"first\", inplace=True)\n",
    "\n",
    "# Remap rating labels\n",
    "new_rating_schema = {0: 1, 10: 1, 20:-1, 30:-1}\n",
    "labeled_data.rating = labeled_data.rating.map(new_rating_schema)\n",
    "\n",
    "labeled_data.shape"
   ]
  },
  {
   "cell_type": "markdown",
   "metadata": {},
   "source": [
    "New rating schema: {1: \"non-negative\", -1: \"negative\"}"
   ]
  },
  {
   "cell_type": "code",
   "execution_count": 5,
   "metadata": {},
   "outputs": [
    {
     "data": {
      "text/plain": [
       " 1    546\n",
       "-1    507\n",
       "Name: rating, dtype: int64"
      ]
     },
     "execution_count": 5,
     "metadata": {},
     "output_type": "execute_result"
    }
   ],
   "source": [
    "labeled_data.rating.value_counts()"
   ]
  },
  {
   "cell_type": "markdown",
   "metadata": {},
   "source": [
    "## Exploration"
   ]
  },
  {
   "cell_type": "markdown",
   "metadata": {},
   "source": [
    "NaN Stats"
   ]
  },
  {
   "cell_type": "code",
   "execution_count": 6,
   "metadata": {},
   "outputs": [
    {
     "data": {
      "text/plain": [
       "source    0\n",
       "text      0\n",
       "rating    0\n",
       "dtype: int64"
      ]
     },
     "execution_count": 6,
     "metadata": {},
     "output_type": "execute_result"
    }
   ],
   "source": [
    "labeled_data.isna().sum()"
   ]
  },
  {
   "cell_type": "markdown",
   "metadata": {},
   "source": [
    "Duplicated texts (after cleaning)"
   ]
  },
  {
   "cell_type": "code",
   "execution_count": 7,
   "metadata": {},
   "outputs": [
    {
     "data": {
      "text/plain": [
       "False    1053\n",
       "Name: text, dtype: int64"
      ]
     },
     "execution_count": 7,
     "metadata": {},
     "output_type": "execute_result"
    }
   ],
   "source": [
    "labeled_data.text.duplicated().value_counts()"
   ]
  },
  {
   "cell_type": "markdown",
   "metadata": {},
   "source": [
    "Distribution of sources"
   ]
  },
  {
   "cell_type": "code",
   "execution_count": 8,
   "metadata": {},
   "outputs": [
    {
     "name": "stdout",
     "output_type": "stream",
     "text": [
      "Sources count: 66\n",
      "Avg count of doc per source: 15.954545454545455\n",
      "Top 5 sources:\n"
     ]
    },
    {
     "data": {
      "text/plain": [
       "DIE_KRONE                 111\n",
       "JOY_PAMELA_RENDIWAGNER    100\n",
       "DER_STANDARD               71\n",
       "FLORIAN_KLENK              70\n",
       "NORBERT_HOFER              60\n",
       "Name: source, dtype: int64"
      ]
     },
     "execution_count": 8,
     "metadata": {},
     "output_type": "execute_result"
    }
   ],
   "source": [
    "print(\"Sources count:\", len(labeled_data.source.value_counts()))\n",
    "print(\"Avg count of doc per source:\", np.mean(labeled_data.source.value_counts().tolist()))\n",
    "print(\"Top 5 sources:\")\n",
    "labeled_data.source.value_counts()[:5]"
   ]
  },
  {
   "cell_type": "markdown",
   "metadata": {},
   "source": [
    "Distribution of ratings"
   ]
  },
  {
   "cell_type": "code",
   "execution_count": 9,
   "metadata": {},
   "outputs": [
    {
     "data": {
      "text/plain": [
       "<matplotlib.axes._subplots.AxesSubplot at 0x7fb5def2f650>"
      ]
     },
     "execution_count": 9,
     "metadata": {},
     "output_type": "execute_result"
    },
    {
     "data": {
      "image/png": "[encoded data removed]",
      "text/plain": [
       "<Figure size 432x288 with 1 Axes>"
      ]
     },
     "metadata": {
      "needs_background": "light"
     },
     "output_type": "display_data"
    }
   ],
   "source": [
    "labeled_data.rating.value_counts(sort=False).plot(kind=\"bar\")"
   ]
  },
  {
   "cell_type": "markdown",
   "metadata": {},
   "source": [
    "-> we have more or less balanced (but generally too less) data."
   ]
  },
  {
   "cell_type": "markdown",
   "metadata": {},
   "source": [
    "## Sentiment Assignment\n",
    "\n",
    "ML-based approach."
   ]
  },
  {
   "cell_type": "markdown",
   "metadata": {},
   "source": [
    "### Train/Test-Split"
   ]
  },
  {
   "cell_type": "markdown",
   "metadata": {},
   "source": [
    "No need for Dev-Set, as we use cross-validation for model tuning."
   ]
  },
  {
   "cell_type": "code",
   "execution_count": 10,
   "metadata": {},
   "outputs": [
    {
     "name": "stdout",
     "output_type": "stream",
     "text": [
      "X shapes (train/test): (842,) / (211,)\n",
      "y shapes (train/test): (842,) / (211,)\n"
     ]
    }
   ],
   "source": [
    "X_train, X_test, y_train, y_test = train_test_split(labeled_data.text, labeled_data.rating,\n",
    "                                                    test_size=0.2, stratify=labeled_data.rating, \n",
    "                                                    random_state=random_state)\n",
    "\n",
    "print(\"X shapes (train/test):\", X_train.shape, \"/\", X_test.shape)\n",
    "print(\"y shapes (train/test):\", y_train.shape, \"/\", y_test.shape)"
   ]
  },
  {
   "cell_type": "markdown",
   "metadata": {},
   "source": [
    "### Vectorizer"
   ]
  },
  {
   "cell_type": "code",
   "execution_count": 11,
   "metadata": {},
   "outputs": [],
   "source": [
    "from spacy_tokenize import spacy_tokenizer\n",
    "\n",
    "count_vect = CountVectorizer(tokenizer=spacy_tokenizer, max_features=4500)"
   ]
  },
  {
   "cell_type": "markdown",
   "metadata": {},
   "source": [
    "### Models"
   ]
  },
  {
   "cell_type": "code",
   "execution_count": 12,
   "metadata": {},
   "outputs": [],
   "source": [
    "logreg = LogisticRegression(solver=\"liblinear\", max_iter=4000, random_state=random_state, n_jobs=1)\n",
    "nb = MultinomialNB()\n",
    "\n",
    "models = [logreg, nb]"
   ]
  },
  {
   "cell_type": "markdown",
   "metadata": {},
   "source": [
    "Parameters"
   ]
  },
  {
   "cell_type": "code",
   "execution_count": 13,
   "metadata": {},
   "outputs": [],
   "source": [
    "params = {}\n",
    "params[\"LogisticRegression\"] = {\"penalty\": [\"l2\"],\n",
    "                                \"dual\": [False, True],\n",
    "                                \"C\": [0.5, 1., 10., 20.]}\n",
    "params[\"MultinomialNB\"] = {\"alpha\": [1.0e-10, 1.0e-9, 1.],\n",
    "                           \"fit_prior\": [True, False]}"
   ]
  },
  {
   "cell_type": "markdown",
   "metadata": {},
   "source": [
    "### Pipeline"
   ]
  },
  {
   "cell_type": "code",
   "execution_count": 14,
   "metadata": {},
   "outputs": [],
   "source": [
    "classifiers = {}\n",
    "scoring = \"f1\"\n",
    "\n",
    "for model in models:\n",
    "    classifiers[type(model).__name__ + \"_pipe\"] = Pipeline([\n",
    "        (\"count_vect\", count_vect),\n",
    "        (\"clf\", GridSearchCV(model, param_grid=params[type(model).__name__],\n",
    "                             scoring=scoring, cv=8, refit=True, n_jobs=-1))\n",
    "    ])"
   ]
  },
  {
   "cell_type": "markdown",
   "metadata": {},
   "source": [
    "Train"
   ]
  },
  {
   "cell_type": "code",
   "execution_count": 15,
   "metadata": {},
   "outputs": [],
   "source": [
    "for _, clf_pipeline in classifiers.items():\n",
    "    clf_pipeline.fit(X_train, y_train)"
   ]
  },
  {
   "cell_type": "markdown",
   "metadata": {},
   "source": [
    "Score"
   ]
  },
  {
   "cell_type": "code",
   "execution_count": 16,
   "metadata": {},
   "outputs": [
    {
     "name": "stdout",
     "output_type": "stream",
     "text": [
      "LogisticRegression_pipe\n",
      "Test score (mean): 0.6267930245574932\n",
      "Test fit time (mean): 0.2458558976650238\n",
      "Train score: 0.6469982097775235\n",
      "Params: {'C': 0.5, 'dual': False, 'penalty': 'l2'} \n",
      "\n",
      "MultinomialNB_pipe\n",
      "Test score (mean): 0.6500003157761778\n",
      "Test fit time (mean): 0.15920591354370117\n",
      "Train score: 0.62137284260612\n",
      "Params: {'alpha': 1e-10, 'fit_prior': True} \n",
      "\n"
     ]
    }
   ],
   "source": [
    "best_score = 0\n",
    "best_model_pipe = None # = best generalization\n",
    "\n",
    "for name, clf_pipeline in classifiers.items():\n",
    "    y_pred = clf_pipeline.predict(X_test)\n",
    "    scores = cross_validate(clf_pipeline, X_test, y_test, scoring=scoring, cv=8, n_jobs=1)\n",
    "    mean_score = scores[\"test_score\"].mean()\n",
    "    mean_fit_time = scores[\"fit_time\"].mean()\n",
    "    \n",
    "    print(name)\n",
    "    print(\"Test score (mean):\", mean_score)\n",
    "    print(\"Test fit time (mean):\", mean_fit_time)\n",
    "    print(\"Train score:\", clf_pipeline.named_steps[\"clf\"].best_score_)\n",
    "    print(\"Params:\", clf_pipeline.named_steps[\"clf\"].best_params_, \"\\n\")\n",
    "    \n",
    "    if mean_score > best_score:\n",
    "        best_model_pipe = clf_pipeline\n",
    "        best_score = mean_score"
   ]
  },
  {
   "cell_type": "code",
   "execution_count": 17,
   "metadata": {},
   "outputs": [],
   "source": [
    "#len(best_model_pipe.named_steps[\"count_vect\"].get_feature_names())\n",
    "#best_model_pipe.named_steps[\"count_vect\"].vocabulary_"
   ]
  },
  {
   "cell_type": "markdown",
   "metadata": {},
   "source": [
    "## Evaluation"
   ]
  },
  {
   "cell_type": "code",
   "execution_count": 18,
   "metadata": {},
   "outputs": [
    {
     "name": "stdout",
     "output_type": "stream",
     "text": [
      "Best pipeline CLF: MultinomialNB(alpha=1e-10, class_prior=None, fit_prior=True)\n"
     ]
    }
   ],
   "source": [
    "print(\"Best pipeline CLF:\", best_model_pipe.named_steps[\"clf\"].best_estimator_)"
   ]
  },
  {
   "cell_type": "code",
   "execution_count": 19,
   "metadata": {},
   "outputs": [],
   "source": [
    "class_encoding = {1: \"non-negative\", -1: \"negative\"}"
   ]
  },
  {
   "cell_type": "markdown",
   "metadata": {},
   "source": [
    "#### Confusion Matrix"
   ]
  },
  {
   "cell_type": "code",
   "execution_count": 20,
   "metadata": {},
   "outputs": [
    {
     "name": "stderr",
     "output_type": "stream",
     "text": [
      "/home/datadonk23/anaconda3/envs/WBNRW19/lib/python3.7/site-packages/yellowbrick/classifier/base.py:232: YellowbrickWarning: could not determine class_counts_ from previously fitted classifier\n",
      "  YellowbrickWarning,\n"
     ]
    },
    {
     "data": {
      "image/png": "[encoded data removed]",
      "text/plain": [
       "<Figure size 432x288 with 1 Axes>"
      ]
     },
     "metadata": {
      "needs_background": "light"
     },
     "output_type": "display_data"
    },
    {
     "data": {
      "text/plain": [
       "<matplotlib.axes._subplots.AxesSubplot at 0x7fb573300d10>"
      ]
     },
     "execution_count": 20,
     "metadata": {},
     "output_type": "execute_result"
    }
   ],
   "source": [
    "cm = ConfusionMatrix(best_model_pipe, is_fitted=True, encoder=class_encoding)\n",
    "cm.score(X_test, y_test)\n",
    "cm.poof()"
   ]
  },
  {
   "cell_type": "markdown",
   "metadata": {},
   "source": [
    "#### Classification Report"
   ]
  },
  {
   "cell_type": "code",
   "execution_count": 21,
   "metadata": {},
   "outputs": [
    {
     "name": "stdout",
     "output_type": "stream",
     "text": [
      "              precision    recall  f1-score   support\n",
      "\n",
      "          -1       0.58      0.60      0.59       102\n",
      "           1       0.61      0.59      0.60       109\n",
      "\n",
      "    accuracy                           0.59       211\n",
      "   macro avg       0.59      0.59      0.59       211\n",
      "weighted avg       0.59      0.59      0.59       211\n",
      "\n"
     ]
    },
    {
     "data": {
      "image/png": "[encoded data removed]",
      "text/plain": [
       "<Figure size 432x288 with 2 Axes>"
      ]
     },
     "metadata": {
      "needs_background": "light"
     },
     "output_type": "display_data"
    },
    {
     "data": {
      "text/plain": [
       "<matplotlib.axes._subplots.AxesSubplot at 0x7fb57317be50>"
      ]
     },
     "execution_count": 21,
     "metadata": {},
     "output_type": "execute_result"
    }
   ],
   "source": [
    "print(classification_report(y_test, best_model_pipe.predict(X_test)))\n",
    "\n",
    "# Visualizer\n",
    "report = ClassificationReport(best_model_pipe, is_fitted=True, encoder=class_encoding, support=True)\n",
    "report.score(X_test, y_test)\n",
    "report.poof()"
   ]
  },
  {
   "cell_type": "markdown",
   "metadata": {},
   "source": [
    "#### Precision-Recall Curve"
   ]
  },
  {
   "cell_type": "code",
   "execution_count": 22,
   "metadata": {},
   "outputs": [
    {
     "data": {
      "image/png": "[encoded data removed]",
      "text/plain": [
       "<Figure size 432x288 with 1 Axes>"
      ]
     },
     "metadata": {
      "needs_background": "light"
     },
     "output_type": "display_data"
    },
    {
     "data": {
      "text/plain": [
       "<matplotlib.axes._subplots.AxesSubplot at 0x7fb572cdb390>"
      ]
     },
     "execution_count": 22,
     "metadata": {},
     "output_type": "execute_result"
    }
   ],
   "source": [
    "pr_curve = PrecisionRecallCurve(best_model_pipe)\n",
    "pr_curve.fit(X_train, y_train)\n",
    "pr_curve.score(X_test, y_test)\n",
    "pr_curve.poof()"
   ]
  },
  {
   "cell_type": "markdown",
   "metadata": {},
   "source": [
    "#### ROCAUC"
   ]
  },
  {
   "cell_type": "code",
   "execution_count": 23,
   "metadata": {},
   "outputs": [
    {
     "name": "stderr",
     "output_type": "stream",
     "text": [
      "/home/datadonk23/anaconda3/envs/WBNRW19/lib/python3.7/site-packages/yellowbrick/classifier/base.py:232: YellowbrickWarning: could not determine class_counts_ from previously fitted classifier\n",
      "  YellowbrickWarning,\n"
     ]
    },
    {
     "data": {
      "image/png": "[encoded data removed]",
      "text/plain": [
       "<Figure size 432x288 with 1 Axes>"
      ]
     },
     "metadata": {
      "needs_background": "light"
     },
     "output_type": "display_data"
    },
    {
     "data": {
      "text/plain": [
       "<matplotlib.axes._subplots.AxesSubplot at 0x7fb572ec5950>"
      ]
     },
     "execution_count": 23,
     "metadata": {},
     "output_type": "execute_result"
    }
   ],
   "source": [
    "rocauc = ROCAUC(best_model_pipe, is_fitted=True, encoder=class_encoding)\n",
    "rocauc.score(X_test, y_test)\n",
    "rocauc.poof()"
   ]
  },
  {
   "cell_type": "markdown",
   "metadata": {},
   "source": [
    "# Conclusion\n",
    "\n",
    "Spacy-based preprocessing leads to slightly better performance of the model. Nonetheless, it is still far too bad for production use."
   ]
  },
  {
   "cell_type": "code",
   "execution_count": null,
   "metadata": {},
   "outputs": [],
   "source": []
  }
 ],
 "metadata": {
  "kernelspec": {
   "display_name": "Python 3",
   "language": "python",
   "name": "python3"
  },
  "language_info": {
   "codemirror_mode": {
    "name": "ipython",
    "version": 3
   },
   "file_extension": ".py",
   "mimetype": "text/x-python",
   "name": "python",
   "nbconvert_exporter": "python",
   "pygments_lexer": "ipython3",
   "version": "3.7.4"
  }
 },
 "nbformat": 4,
 "nbformat_minor": 4
}

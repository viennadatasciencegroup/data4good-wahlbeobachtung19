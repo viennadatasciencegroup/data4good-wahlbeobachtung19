{
 "cells": [
  {
   "cell_type": "markdown",
   "metadata": {},
   "source": [
    "# Topic Visualization\n",
    "\n",
    "Visualize topic distributions of Posts from enhanced Topic Model (topic_tokenizer2 and enhanced preprocessing)."
   ]
  },
  {
   "cell_type": "code",
   "execution_count": 1,
   "metadata": {},
   "outputs": [],
   "source": [
    "import os, sys, ast\n",
    "sys.path.append(\"..\")\n",
    "from config import credentials\n",
    "import dropbox\n",
    "\n",
    "import numpy as np\n",
    "import pandas as pd\n",
    "\n",
    "import warnings\n",
    "warnings.filterwarnings(\"ignore\", category=DeprecationWarning)\n",
    "\n",
    "import altair as alt\n",
    "import matplotlib.pyplot as plt\n",
    "%matplotlib inline"
   ]
  },
  {
   "cell_type": "code",
   "execution_count": 2,
   "metadata": {},
   "outputs": [],
   "source": [
    "random_state = 23"
   ]
  },
  {
   "cell_type": "markdown",
   "metadata": {},
   "source": [
    "## Loading"
   ]
  },
  {
   "cell_type": "code",
   "execution_count": 3,
   "metadata": {},
   "outputs": [],
   "source": [
    "team_dbx = dropbox.DropboxTeam(credentials.dropbox_team_access_token)\n",
    "team_root = team_dbx.with_path_root(dropbox.common.PathRoot.namespace_id(\n",
    "    credentials.dropbox_team_namespace_id))\n",
    "user_dbx = team_root.as_user(credentials.dropbox_team_member_id)"
   ]
  },
  {
   "cell_type": "code",
   "execution_count": 4,
   "metadata": {},
   "outputs": [],
   "source": [
    "data_path = \"/Data/CSVData\"\n",
    "model_path = \"../models\"\n",
    "figures_path = \"../reports/figures/\""
   ]
  },
  {
   "cell_type": "code",
   "execution_count": 5,
   "metadata": {},
   "outputs": [
    {
     "name": "stdout",
     "output_type": "stream",
     "text": [
      "Topics n20 (21970, 4)\n",
      "All Posts (27204, 23)\n"
     ]
    }
   ],
   "source": [
    "topics20_fpath = os.path.join(data_path, \"topics\", \"final_topics_LDAn20.csv\")\n",
    "_, res = user_dbx.files_download(topics20_fpath)\n",
    "topics20 = pd.read_csv(res.raw)\n",
    "\n",
    "posts_fpath = os.path.join(data_path, \"PolPosts.csv\")\n",
    "_, res = user_dbx.files_download(posts_fpath)\n",
    "posts = pd.read_csv(res.raw)\n",
    "\n",
    "print(\"Topics n20\", topics20.shape)\n",
    "print(\"All Posts\", posts.shape)"
   ]
  },
  {
   "cell_type": "markdown",
   "metadata": {},
   "source": [
    "## Postprocess topics\n",
    "\n",
    "Join Posts with Topic tables and assign topics to duplicated texts."
   ]
  },
  {
   "cell_type": "code",
   "execution_count": 6,
   "metadata": {},
   "outputs": [
    {
     "data": {
      "text/plain": [
       "(23384, 24)"
      ]
     },
     "execution_count": 6,
     "metadata": {},
     "output_type": "execute_result"
    }
   ],
   "source": [
    "# Join\n",
    "data = posts.set_index(\"textID\").join(topics20.set_index(\"textID\"), lsuffix=\"_posts\", rsuffix=\"_topics\")\n",
    "\n",
    "# Assign topics to duplicated texts\n",
    "data.topic = data.topic.astype(\"Int64\")\n",
    "data.topic = data.groupby(\"text_posts\")[\"topic\"].ffill()\n",
    "\n",
    "# Cleansing\n",
    "data[\"source\"] = data.Site\n",
    "data.drop([\"text_topics\", \"Site\"], axis=1, inplace=True)\n",
    "data.dropna(subset=[\"text_posts\", \"topic\"], inplace=True)\n",
    "data.dateCreated = data.dateCreated.astype(\"datetime64[D]\")\n",
    "\n",
    "data.shape"
   ]
  },
  {
   "cell_type": "markdown",
   "metadata": {},
   "source": [
    "## Topic Interpretation"
   ]
  },
  {
   "cell_type": "code",
   "execution_count": 7,
   "metadata": {},
   "outputs": [],
   "source": [
    "topic_interpretation = {0: \"-\", 1: \"-\", 2: \"Wohnen\", 3: \"Grüne\",\n",
    "                        4: \"Steuern / Geld\", 5: \"ÖVP Mobilisierung\", 6: \"Parteien\", \n",
    "                        7: \"Prognosen\", 8: \"KPÖ / Linke Forderungen\", 9: \"Dank / TV-Runde\",\n",
    "                        10: \"Links / Alternativ\", 11: \"ÖVP\", 12: \"-\",\n",
    "                        13: \"SPÖ\", 14: \"Volksparteien\", 15: \"-\", 16: \"FPÖ\",\n",
    "                        17: \"-\", 18: \"Wahlkampfslogans\", 19: \"-\", 20: \"Stenzel Rede bei IB\"}\n",
    "\n",
    "topic_color = {\"Wohnen\": \"rosybrown\", \"Grüne\": \"green\", \"Steuern / Geld\": \"darkblue\",\n",
    "               \"ÖVP Mobilisierung\": \"mediumturquoise\", \"Parteien\": \"gold\",\n",
    "               \"Prognosen\": \"darkcyan\", \"KPÖ / Linke Forderungen\": \"darkred\",\n",
    "               \"Dank / TV-Runde\": \"palegreen\", \"Links / Alternativ\": \"lime\",\n",
    "               \"ÖVP\": \"turquoise\", \"SPÖ\": \"red\", \"Volksparteien\": \"indigo\", \"FPÖ\": \"blue\",\n",
    "               \"Wahlkampfslogans\": \"orange\", \"Stenzel Rede bei IB\": \"peru\"}\n",
    "\n",
    "\n",
    "data[\"topic_interpretation\"] = data.topic.map(topic_interpretation)"
   ]
  },
  {
   "cell_type": "markdown",
   "metadata": {},
   "source": [
    "## Exploration & Visualization"
   ]
  },
  {
   "cell_type": "markdown",
   "metadata": {},
   "source": [
    "### Posts per topic"
   ]
  },
  {
   "cell_type": "code",
   "execution_count": 8,
   "metadata": {},
   "outputs": [
    {
     "data": {
      "application/vnd.vegalite.v3+json": {
       "$schema": "https://vega.github.io/schema/vega-lite/v3.4.0.json",
       "config": {
        "mark": {
         "tooltip": null
        },
        "view": {
         "height": 300,
         "width": 400
        }
       },
       "data": {
        "name": "data-fa3f91fff771f96afd3d638f63cf7266"
       },
       "datasets": {
        "data-fa3f91fff771f96afd3d638f63cf7266": [
         {
          "count": 1824,
          "topic": 11,
          "topic_interpretation": "ÖVP"
         },
         {
          "count": 1564,
          "topic": 13,
          "topic_interpretation": "SPÖ"
         },
         {
          "count": 1495,
          "topic": 6,
          "topic_interpretation": "Parteien"
         },
         {
          "count": 1435,
          "topic": 4,
          "topic_interpretation": "Steuern / Geld"
         },
         {
          "count": 1335,
          "topic": 9,
          "topic_interpretation": "Dank / TV-Runde"
         },
         {
          "count": 1268,
          "topic": 20,
          "topic_interpretation": "Stenzel Rede bei IB"
         },
         {
          "count": 1234,
          "topic": 3,
          "topic_interpretation": "Grüne"
         },
         {
          "count": 1196,
          "topic": 7,
          "topic_interpretation": "Prognosen"
         },
         {
          "count": 1175,
          "topic": 15,
          "topic_interpretation": "-"
         },
         {
          "count": 1135,
          "topic": 12,
          "topic_interpretation": "-"
         },
         {
          "count": 1078,
          "topic": 16,
          "topic_interpretation": "FPÖ"
         },
         {
          "count": 1062,
          "topic": 19,
          "topic_interpretation": "-"
         },
         {
          "count": 1045,
          "topic": 8,
          "topic_interpretation": "KPÖ / Linke Forderungen"
         },
         {
          "count": 1044,
          "topic": 10,
          "topic_interpretation": "Links / Alternativ"
         },
         {
          "count": 1010,
          "topic": 18,
          "topic_interpretation": "Wahlkampfslogans"
         },
         {
          "count": 995,
          "topic": 2,
          "topic_interpretation": "Wohnen"
         },
         {
          "count": 937,
          "topic": 1,
          "topic_interpretation": "-"
         },
         {
          "count": 866,
          "topic": 5,
          "topic_interpretation": "ÖVP Mobilisierung"
         },
         {
          "count": 864,
          "topic": 17,
          "topic_interpretation": "-"
         },
         {
          "count": 822,
          "topic": 14,
          "topic_interpretation": "Volksparteien"
         }
        ]
       },
       "encoding": {
        "opacity": {
         "value": 0.75
        },
        "tooltip": [
         {
          "field": "topic_interpretation",
          "title": "Interpretation",
          "type": "nominal"
         }
        ],
        "x": {
         "field": "topic",
         "title": "Topic",
         "type": "nominal"
        },
        "y": {
         "field": "count",
         "title": "Number of posts",
         "type": "quantitative"
        }
       },
       "mark": "bar",
       "title": "Posts per Topic"
      },
      "image/png": "[encoded data removed]",
      "text/plain": [
       "<VegaLite 3 object>\n",
       "\n",
       "If you see this message, it means the renderer has not been properly enabled\n",
       "for the frontend that you are using. For more information, see\n",
       "https://altair-viz.github.io/user_guide/troubleshooting.html\n"
      ]
     },
     "execution_count": 8,
     "metadata": {},
     "output_type": "execute_result"
    }
   ],
   "source": [
    "p_data = data.topic.value_counts().to_frame(\"count\").rename_axis(\"topic\").reset_index()\n",
    "p_data[\"topic_interpretation\"] = p_data.topic.map(topic_interpretation)\n",
    "\n",
    "chart = alt.Chart(p_data, title=\"Posts per Topic\").mark_bar().encode(\n",
    "    x=alt.X(\"topic:N\", title=\"Topic\"),\n",
    "    y=alt.Y(\"count:Q\", title=\"Number of posts\"),\n",
    "    opacity=alt.value(0.75),\n",
    "    tooltip=[alt.Tooltip(\"topic_interpretation\", title=\"Interpretation\")]\n",
    ")\n",
    "\n",
    "#chart.save(os.path.join(figures_path, \"topics\", \"LDAn20_posts_per_topic.html\"))\n",
    "chart"
   ]
  },
  {
   "cell_type": "markdown",
   "metadata": {},
   "source": [
    "Top-20 Posts per Topic"
   ]
  },
  {
   "cell_type": "code",
   "execution_count": 9,
   "metadata": {},
   "outputs": [],
   "source": [
    "def get_top_20(df, topic, topic_range):\n",
    "    topic_subset = df[df.topic == topic].copy()\n",
    "    topic_subset.topic_distribution = topic_subset.topic_distribution.apply(ast.literal_eval)\n",
    "    flattend_subset = pd.concat([topic_subset,\n",
    "                                pd.DataFrame(topic_subset.topic_distribution.values.tolist(),\n",
    "                                             index=topic_subset.index, columns=topic_range)],\n",
    "                               axis=1)\n",
    "    return flattend_subset.sort_values(by=[topic], ascending=False).text.head(20)"
   ]
  },
  {
   "cell_type": "code",
   "execution_count": 10,
   "metadata": {},
   "outputs": [],
   "source": [
    "topics20_top20_fp = \"../reports/topics_n20_top-20.txt\"\n",
    "topic_range = range(1, 21)\n",
    "\n",
    "# with open(topics20_top20_fp, \"w\") as f:\n",
    "#     for i in topic_range:\n",
    "#         with pd.option_context(\"display.max_colwidth\", -1):\n",
    "#             f.write(\"Topic \" + str(i) + \":\\n\" + get_top_20(topics20, i, topic_range).to_string(index=False) + \"\\n\\n\")"
   ]
  },
  {
   "cell_type": "markdown",
   "metadata": {},
   "source": [
    "### Interactions per topic"
   ]
  },
  {
   "cell_type": "markdown",
   "metadata": {},
   "source": [
    "Total interactions"
   ]
  },
  {
   "cell_type": "code",
   "execution_count": 11,
   "metadata": {},
   "outputs": [
    {
     "data": {
      "text/html": [
       "<div>\n",
       "<style scoped>\n",
       "    .dataframe tbody tr th:only-of-type {\n",
       "        vertical-align: middle;\n",
       "    }\n",
       "\n",
       "    .dataframe tbody tr th {\n",
       "        vertical-align: top;\n",
       "    }\n",
       "\n",
       "    .dataframe thead tr th {\n",
       "        text-align: left;\n",
       "    }\n",
       "\n",
       "    .dataframe thead tr:last-of-type th {\n",
       "        text-align: right;\n",
       "    }\n",
       "</style>\n",
       "<table border=\"1\" class=\"dataframe\">\n",
       "  <thead>\n",
       "    <tr>\n",
       "      <th></th>\n",
       "      <th></th>\n",
       "      <th colspan=\"3\" halign=\"left\">interactionCount</th>\n",
       "    </tr>\n",
       "    <tr>\n",
       "      <th></th>\n",
       "      <th></th>\n",
       "      <th>count</th>\n",
       "      <th>sum</th>\n",
       "      <th>mean</th>\n",
       "    </tr>\n",
       "    <tr>\n",
       "      <th>topic</th>\n",
       "      <th>topic_interpretation</th>\n",
       "      <th></th>\n",
       "      <th></th>\n",
       "      <th></th>\n",
       "    </tr>\n",
       "  </thead>\n",
       "  <tbody>\n",
       "    <tr>\n",
       "      <td>1</td>\n",
       "      <td>-</td>\n",
       "      <td>937</td>\n",
       "      <td>105285</td>\n",
       "      <td>112.363927</td>\n",
       "    </tr>\n",
       "    <tr>\n",
       "      <td>2</td>\n",
       "      <td>Wohnen</td>\n",
       "      <td>995</td>\n",
       "      <td>144655</td>\n",
       "      <td>145.381910</td>\n",
       "    </tr>\n",
       "    <tr>\n",
       "      <td>3</td>\n",
       "      <td>Grüne</td>\n",
       "      <td>1234</td>\n",
       "      <td>176640</td>\n",
       "      <td>143.144246</td>\n",
       "    </tr>\n",
       "    <tr>\n",
       "      <td>4</td>\n",
       "      <td>Steuern / Geld</td>\n",
       "      <td>1435</td>\n",
       "      <td>255748</td>\n",
       "      <td>178.221603</td>\n",
       "    </tr>\n",
       "    <tr>\n",
       "      <td>5</td>\n",
       "      <td>ÖVP Mobilisierung</td>\n",
       "      <td>866</td>\n",
       "      <td>132610</td>\n",
       "      <td>153.129330</td>\n",
       "    </tr>\n",
       "    <tr>\n",
       "      <td>6</td>\n",
       "      <td>Parteien</td>\n",
       "      <td>1495</td>\n",
       "      <td>217015</td>\n",
       "      <td>145.160535</td>\n",
       "    </tr>\n",
       "    <tr>\n",
       "      <td>7</td>\n",
       "      <td>Prognosen</td>\n",
       "      <td>1196</td>\n",
       "      <td>176082</td>\n",
       "      <td>147.225753</td>\n",
       "    </tr>\n",
       "    <tr>\n",
       "      <td>8</td>\n",
       "      <td>KPÖ / Linke Forderungen</td>\n",
       "      <td>1045</td>\n",
       "      <td>130028</td>\n",
       "      <td>124.428708</td>\n",
       "    </tr>\n",
       "    <tr>\n",
       "      <td>9</td>\n",
       "      <td>Dank / TV-Runde</td>\n",
       "      <td>1335</td>\n",
       "      <td>196337</td>\n",
       "      <td>147.068914</td>\n",
       "    </tr>\n",
       "    <tr>\n",
       "      <td>10</td>\n",
       "      <td>Links / Alternativ</td>\n",
       "      <td>1044</td>\n",
       "      <td>148251</td>\n",
       "      <td>142.002874</td>\n",
       "    </tr>\n",
       "    <tr>\n",
       "      <td>11</td>\n",
       "      <td>ÖVP</td>\n",
       "      <td>1824</td>\n",
       "      <td>482425</td>\n",
       "      <td>264.487390</td>\n",
       "    </tr>\n",
       "    <tr>\n",
       "      <td>12</td>\n",
       "      <td>-</td>\n",
       "      <td>1135</td>\n",
       "      <td>157714</td>\n",
       "      <td>138.955066</td>\n",
       "    </tr>\n",
       "    <tr>\n",
       "      <td>13</td>\n",
       "      <td>SPÖ</td>\n",
       "      <td>1564</td>\n",
       "      <td>295396</td>\n",
       "      <td>188.872123</td>\n",
       "    </tr>\n",
       "    <tr>\n",
       "      <td>14</td>\n",
       "      <td>Volksparteien</td>\n",
       "      <td>822</td>\n",
       "      <td>138625</td>\n",
       "      <td>168.643552</td>\n",
       "    </tr>\n",
       "    <tr>\n",
       "      <td>15</td>\n",
       "      <td>-</td>\n",
       "      <td>1175</td>\n",
       "      <td>227565</td>\n",
       "      <td>193.672340</td>\n",
       "    </tr>\n",
       "    <tr>\n",
       "      <td>16</td>\n",
       "      <td>FPÖ</td>\n",
       "      <td>1078</td>\n",
       "      <td>261477</td>\n",
       "      <td>242.557514</td>\n",
       "    </tr>\n",
       "    <tr>\n",
       "      <td>17</td>\n",
       "      <td>-</td>\n",
       "      <td>864</td>\n",
       "      <td>115372</td>\n",
       "      <td>133.532407</td>\n",
       "    </tr>\n",
       "    <tr>\n",
       "      <td>18</td>\n",
       "      <td>Wahlkampfslogans</td>\n",
       "      <td>1010</td>\n",
       "      <td>183748</td>\n",
       "      <td>181.928713</td>\n",
       "    </tr>\n",
       "    <tr>\n",
       "      <td>19</td>\n",
       "      <td>-</td>\n",
       "      <td>1062</td>\n",
       "      <td>147963</td>\n",
       "      <td>139.324859</td>\n",
       "    </tr>\n",
       "    <tr>\n",
       "      <td>20</td>\n",
       "      <td>Stenzel Rede bei IB</td>\n",
       "      <td>1268</td>\n",
       "      <td>215937</td>\n",
       "      <td>170.297319</td>\n",
       "    </tr>\n",
       "  </tbody>\n",
       "</table>\n",
       "</div>"
      ],
      "text/plain": [
       "                              interactionCount                    \n",
       "                                         count     sum        mean\n",
       "topic topic_interpretation                                        \n",
       "1     -                                    937  105285  112.363927\n",
       "2     Wohnen                               995  144655  145.381910\n",
       "3     Grüne                               1234  176640  143.144246\n",
       "4     Steuern / Geld                      1435  255748  178.221603\n",
       "5     ÖVP Mobilisierung                    866  132610  153.129330\n",
       "6     Parteien                            1495  217015  145.160535\n",
       "7     Prognosen                           1196  176082  147.225753\n",
       "8     KPÖ / Linke Forderungen             1045  130028  124.428708\n",
       "9     Dank / TV-Runde                     1335  196337  147.068914\n",
       "10    Links / Alternativ                  1044  148251  142.002874\n",
       "11    ÖVP                                 1824  482425  264.487390\n",
       "12    -                                   1135  157714  138.955066\n",
       "13    SPÖ                                 1564  295396  188.872123\n",
       "14    Volksparteien                        822  138625  168.643552\n",
       "15    -                                   1175  227565  193.672340\n",
       "16    FPÖ                                 1078  261477  242.557514\n",
       "17    -                                    864  115372  133.532407\n",
       "18    Wahlkampfslogans                    1010  183748  181.928713\n",
       "19    -                                   1062  147963  139.324859\n",
       "20    Stenzel Rede bei IB                 1268  215937  170.297319"
      ]
     },
     "execution_count": 11,
     "metadata": {},
     "output_type": "execute_result"
    }
   ],
   "source": [
    "grouped = data.groupby([\"topic\", \"topic_interpretation\"]).agg({\"interactionCount\": [\"count\", \"sum\", \"mean\"]})\n",
    "pd.set_option(\"display.max_rows\", None)\n",
    "grouped"
   ]
  },
  {
   "cell_type": "code",
   "execution_count": 12,
   "metadata": {},
   "outputs": [
    {
     "data": {
      "application/vnd.vegalite.v3+json": {
       "$schema": "https://vega.github.io/schema/vega-lite/v3.4.0.json",
       "config": {
        "mark": {
         "tooltip": null
        },
        "view": {
         "height": 300,
         "width": 400
        }
       },
       "data": {
        "name": "data-2ac605ec8a340a940a1bb7d943a11a42"
       },
       "datasets": {
        "data-2ac605ec8a340a940a1bb7d943a11a42": [
         {
          "Topic": "-",
          "bar_label": "Total interactions",
          "count": 937,
          "mean": 112.36,
          "mean_label": "Mean interactions",
          "sum": 105285,
          "topic": 1,
          "topic_interpretation": "-"
         },
         {
          "Topic": "Wohnen",
          "bar_label": "Total interactions",
          "count": 995,
          "mean": 145.38,
          "mean_label": "Mean interactions",
          "sum": 144655,
          "topic": 2,
          "topic_interpretation": "Wohnen"
         },
         {
          "Topic": "Grüne",
          "bar_label": "Total interactions",
          "count": 1234,
          "mean": 143.14,
          "mean_label": "Mean interactions",
          "sum": 176640,
          "topic": 3,
          "topic_interpretation": "Grüne"
         },
         {
          "Topic": "Steuern / Geld",
          "bar_label": "Total interactions",
          "count": 1435,
          "mean": 178.22,
          "mean_label": "Mean interactions",
          "sum": 255748,
          "topic": 4,
          "topic_interpretation": "Steuern / Geld"
         },
         {
          "Topic": "ÖVP Mobilisierung",
          "bar_label": "Total interactions",
          "count": 866,
          "mean": 153.13,
          "mean_label": "Mean interactions",
          "sum": 132610,
          "topic": 5,
          "topic_interpretation": "ÖVP Mobilisierung"
         },
         {
          "Topic": "Parteien",
          "bar_label": "Total interactions",
          "count": 1495,
          "mean": 145.16,
          "mean_label": "Mean interactions",
          "sum": 217015,
          "topic": 6,
          "topic_interpretation": "Parteien"
         },
         {
          "Topic": "Prognosen",
          "bar_label": "Total interactions",
          "count": 1196,
          "mean": 147.23,
          "mean_label": "Mean interactions",
          "sum": 176082,
          "topic": 7,
          "topic_interpretation": "Prognosen"
         },
         {
          "Topic": "KPÖ / Linke Forderungen",
          "bar_label": "Total interactions",
          "count": 1045,
          "mean": 124.43,
          "mean_label": "Mean interactions",
          "sum": 130028,
          "topic": 8,
          "topic_interpretation": "KPÖ / Linke Forderungen"
         },
         {
          "Topic": "Dank / TV-Runde",
          "bar_label": "Total interactions",
          "count": 1335,
          "mean": 147.07,
          "mean_label": "Mean interactions",
          "sum": 196337,
          "topic": 9,
          "topic_interpretation": "Dank / TV-Runde"
         },
         {
          "Topic": "Links / Alternativ",
          "bar_label": "Total interactions",
          "count": 1044,
          "mean": 142,
          "mean_label": "Mean interactions",
          "sum": 148251,
          "topic": 10,
          "topic_interpretation": "Links / Alternativ"
         },
         {
          "Topic": "ÖVP",
          "bar_label": "Total interactions",
          "count": 1824,
          "mean": 264.49,
          "mean_label": "Mean interactions",
          "sum": 482425,
          "topic": 11,
          "topic_interpretation": "ÖVP"
         },
         {
          "Topic": "-",
          "bar_label": "Total interactions",
          "count": 1135,
          "mean": 138.96,
          "mean_label": "Mean interactions",
          "sum": 157714,
          "topic": 12,
          "topic_interpretation": "-"
         },
         {
          "Topic": "SPÖ",
          "bar_label": "Total interactions",
          "count": 1564,
          "mean": 188.87,
          "mean_label": "Mean interactions",
          "sum": 295396,
          "topic": 13,
          "topic_interpretation": "SPÖ"
         },
         {
          "Topic": "Volksparteien",
          "bar_label": "Total interactions",
          "count": 822,
          "mean": 168.64,
          "mean_label": "Mean interactions",
          "sum": 138625,
          "topic": 14,
          "topic_interpretation": "Volksparteien"
         },
         {
          "Topic": "-",
          "bar_label": "Total interactions",
          "count": 1175,
          "mean": 193.67,
          "mean_label": "Mean interactions",
          "sum": 227565,
          "topic": 15,
          "topic_interpretation": "-"
         },
         {
          "Topic": "FPÖ",
          "bar_label": "Total interactions",
          "count": 1078,
          "mean": 242.56,
          "mean_label": "Mean interactions",
          "sum": 261477,
          "topic": 16,
          "topic_interpretation": "FPÖ"
         },
         {
          "Topic": "-",
          "bar_label": "Total interactions",
          "count": 864,
          "mean": 133.53,
          "mean_label": "Mean interactions",
          "sum": 115372,
          "topic": 17,
          "topic_interpretation": "-"
         },
         {
          "Topic": "Wahlkampfslogans",
          "bar_label": "Total interactions",
          "count": 1010,
          "mean": 181.93,
          "mean_label": "Mean interactions",
          "sum": 183748,
          "topic": 18,
          "topic_interpretation": "Wahlkampfslogans"
         },
         {
          "Topic": "-",
          "bar_label": "Total interactions",
          "count": 1062,
          "mean": 139.32,
          "mean_label": "Mean interactions",
          "sum": 147963,
          "topic": 19,
          "topic_interpretation": "-"
         },
         {
          "Topic": "Stenzel Rede bei IB",
          "bar_label": "Total interactions",
          "count": 1268,
          "mean": 170.3,
          "mean_label": "Mean interactions",
          "sum": 215937,
          "topic": 20,
          "topic_interpretation": "Stenzel Rede bei IB"
         }
        ]
       },
       "layer": [
        {
         "encoding": {
          "opacity": {
           "value": 0.75
          },
          "tooltip": [
           {
            "field": "Topic",
            "title": "Topic",
            "type": "nominal"
           },
           {
            "field": "count",
            "title": "Posts",
            "type": "quantitative"
           },
           {
            "field": "sum",
            "title": "Total interactions",
            "type": "quantitative"
           },
           {
            "field": "mean",
            "title": "Mean interactions",
            "type": "quantitative"
           }
          ],
          "x": {
           "field": "topic",
           "title": "Topic",
           "type": "nominal"
          },
          "y": {
           "field": "sum",
           "scale": {
            "base": 10,
            "type": "log"
           },
           "title": "Total interactions (log)",
           "type": "quantitative"
          }
         },
         "mark": "bar",
         "title": "Interactions per Topic"
        },
        {
         "encoding": {
          "color": {
           "field": "mean_label",
           "scale": {
            "domain": [
             "Mean interactions"
            ],
            "range": [
             "red"
            ]
           },
           "title": "Legend",
           "type": "nominal"
          },
          "opacity": {
           "value": 1
          },
          "x": {
           "field": "topic",
           "title": "Topic",
           "type": "nominal"
          },
          "y": {
           "field": "mean",
           "scale": {
            "base": 10,
            "type": "log"
           },
           "title": "",
           "type": "quantitative"
          }
         },
         "mark": {
          "color": "red",
          "thickness": 2,
          "type": "tick"
         }
        }
       ]
      },
      "image/png": "[encoded data removed]",
      "text/plain": [
       "<VegaLite 3 object>\n",
       "\n",
       "If you see this message, it means the renderer has not been properly enabled\n",
       "for the frontend that you are using. For more information, see\n",
       "https://altair-viz.github.io/user_guide/troubleshooting.html\n"
      ]
     },
     "execution_count": 12,
     "metadata": {},
     "output_type": "execute_result"
    }
   ],
   "source": [
    "grouped.columns = [\"count\", \"sum\", \"mean\"]\n",
    "p_data = grouped.reset_index().round(2)\n",
    "p_data[\"Topic\"] = p_data.topic_interpretation\n",
    "p_data[\"bar_label\"] = [\"Total interactions\"] * p_data.shape[0]\n",
    "p_data[\"mean_label\"] = [\"Mean interactions\"] * p_data.shape[0]\n",
    "\n",
    "bars = alt.Chart(p_data, title=\"Interactions per Topic\").mark_bar().encode(\n",
    "    x=alt.X(\"topic:N\", title=\"Topic\"),\n",
    "    y=alt.Y(\"sum:Q\",\n",
    "            scale=alt.Scale(type=\"log\", base=10),\n",
    "            title=\"Total interactions (log)\"),\n",
    "    opacity=alt.value(0.75),\n",
    "    tooltip=[alt.Tooltip(\"Topic\", title=\"Topic\"),\n",
    "             alt.Tooltip(\"count\", title=\"Posts\"),\n",
    "             alt.Tooltip(\"sum\", title=\"Total interactions\"),\n",
    "             alt.Tooltip(\"mean\", title=\"Mean interactions\")]\n",
    ")\n",
    "\n",
    "mean_ticks = alt.Chart(p_data).mark_tick(color=\"red\", thickness=2).encode(\n",
    "    x=alt.X(\"topic:N\", title=\"Topic\"),\n",
    "    y=alt.Y(\"mean:Q\",\n",
    "            scale=alt.Scale(type=\"log\", base=10),\n",
    "            title=\"\"),\n",
    "    color=alt.Color(\"mean_label\",\n",
    "                    scale=alt.Scale(range=[\"red\"], domain=[\"Mean interactions\"]), \n",
    "                    title=\"Legend\"),\n",
    "    opacity=alt.value(1)\n",
    ")\n",
    "\n",
    "chart = bars + mean_ticks\n",
    "#chart.save(os.path.join(figures_path, \"topics\", \"interactions_per_topic.html\"))\n",
    "chart"
   ]
  },
  {
   "cell_type": "markdown",
   "metadata": {},
   "source": [
    "Interactions per source"
   ]
  },
  {
   "cell_type": "code",
   "execution_count": 13,
   "metadata": {},
   "outputs": [
    {
     "data": {
      "text/html": [
       "<div>\n",
       "<style scoped>\n",
       "    .dataframe tbody tr th:only-of-type {\n",
       "        vertical-align: middle;\n",
       "    }\n",
       "\n",
       "    .dataframe tbody tr th {\n",
       "        vertical-align: top;\n",
       "    }\n",
       "\n",
       "    .dataframe thead tr th {\n",
       "        text-align: left;\n",
       "    }\n",
       "\n",
       "    .dataframe thead tr:last-of-type th {\n",
       "        text-align: right;\n",
       "    }\n",
       "</style>\n",
       "<table border=\"1\" class=\"dataframe\">\n",
       "  <thead>\n",
       "    <tr>\n",
       "      <th></th>\n",
       "      <th></th>\n",
       "      <th></th>\n",
       "      <th colspan=\"3\" halign=\"left\">interactionCount</th>\n",
       "    </tr>\n",
       "    <tr>\n",
       "      <th></th>\n",
       "      <th></th>\n",
       "      <th></th>\n",
       "      <th>count</th>\n",
       "      <th>sum</th>\n",
       "      <th>mean</th>\n",
       "    </tr>\n",
       "    <tr>\n",
       "      <th>topic</th>\n",
       "      <th>topic_interpretation</th>\n",
       "      <th>source</th>\n",
       "      <th></th>\n",
       "      <th></th>\n",
       "      <th></th>\n",
       "    </tr>\n",
       "  </thead>\n",
       "  <tbody>\n",
       "    <tr>\n",
       "      <td rowspan=\"2\" valign=\"top\">1</td>\n",
       "      <td rowspan=\"2\" valign=\"top\">-</td>\n",
       "      <td>Facebook</td>\n",
       "      <td>469</td>\n",
       "      <td>88713</td>\n",
       "      <td>189.153518</td>\n",
       "    </tr>\n",
       "    <tr>\n",
       "      <td>Twitter</td>\n",
       "      <td>468</td>\n",
       "      <td>16572</td>\n",
       "      <td>35.410256</td>\n",
       "    </tr>\n",
       "    <tr>\n",
       "      <td rowspan=\"2\" valign=\"top\">2</td>\n",
       "      <td rowspan=\"2\" valign=\"top\">Wohnen</td>\n",
       "      <td>Facebook</td>\n",
       "      <td>524</td>\n",
       "      <td>132659</td>\n",
       "      <td>253.166031</td>\n",
       "    </tr>\n",
       "    <tr>\n",
       "      <td>Twitter</td>\n",
       "      <td>471</td>\n",
       "      <td>11996</td>\n",
       "      <td>25.469214</td>\n",
       "    </tr>\n",
       "    <tr>\n",
       "      <td rowspan=\"2\" valign=\"top\">3</td>\n",
       "      <td rowspan=\"2\" valign=\"top\">Grüne</td>\n",
       "      <td>Facebook</td>\n",
       "      <td>602</td>\n",
       "      <td>159577</td>\n",
       "      <td>265.078073</td>\n",
       "    </tr>\n",
       "    <tr>\n",
       "      <td>Twitter</td>\n",
       "      <td>632</td>\n",
       "      <td>17063</td>\n",
       "      <td>26.998418</td>\n",
       "    </tr>\n",
       "    <tr>\n",
       "      <td rowspan=\"2\" valign=\"top\">4</td>\n",
       "      <td rowspan=\"2\" valign=\"top\">Steuern / Geld</td>\n",
       "      <td>Facebook</td>\n",
       "      <td>707</td>\n",
       "      <td>227364</td>\n",
       "      <td>321.589816</td>\n",
       "    </tr>\n",
       "    <tr>\n",
       "      <td>Twitter</td>\n",
       "      <td>728</td>\n",
       "      <td>28384</td>\n",
       "      <td>38.989011</td>\n",
       "    </tr>\n",
       "    <tr>\n",
       "      <td rowspan=\"2\" valign=\"top\">5</td>\n",
       "      <td rowspan=\"2\" valign=\"top\">ÖVP Mobilisierung</td>\n",
       "      <td>Facebook</td>\n",
       "      <td>449</td>\n",
       "      <td>113189</td>\n",
       "      <td>252.091314</td>\n",
       "    </tr>\n",
       "    <tr>\n",
       "      <td>Twitter</td>\n",
       "      <td>417</td>\n",
       "      <td>19421</td>\n",
       "      <td>46.573141</td>\n",
       "    </tr>\n",
       "    <tr>\n",
       "      <td rowspan=\"2\" valign=\"top\">6</td>\n",
       "      <td rowspan=\"2\" valign=\"top\">Parteien</td>\n",
       "      <td>Facebook</td>\n",
       "      <td>719</td>\n",
       "      <td>194006</td>\n",
       "      <td>269.827538</td>\n",
       "    </tr>\n",
       "    <tr>\n",
       "      <td>Twitter</td>\n",
       "      <td>776</td>\n",
       "      <td>23009</td>\n",
       "      <td>29.650773</td>\n",
       "    </tr>\n",
       "    <tr>\n",
       "      <td rowspan=\"2\" valign=\"top\">7</td>\n",
       "      <td rowspan=\"2\" valign=\"top\">Prognosen</td>\n",
       "      <td>Facebook</td>\n",
       "      <td>634</td>\n",
       "      <td>149874</td>\n",
       "      <td>236.394322</td>\n",
       "    </tr>\n",
       "    <tr>\n",
       "      <td>Twitter</td>\n",
       "      <td>562</td>\n",
       "      <td>26208</td>\n",
       "      <td>46.633452</td>\n",
       "    </tr>\n",
       "    <tr>\n",
       "      <td rowspan=\"2\" valign=\"top\">8</td>\n",
       "      <td rowspan=\"2\" valign=\"top\">KPÖ / Linke Forderungen</td>\n",
       "      <td>Facebook</td>\n",
       "      <td>492</td>\n",
       "      <td>115130</td>\n",
       "      <td>234.004065</td>\n",
       "    </tr>\n",
       "    <tr>\n",
       "      <td>Twitter</td>\n",
       "      <td>553</td>\n",
       "      <td>14898</td>\n",
       "      <td>26.940325</td>\n",
       "    </tr>\n",
       "    <tr>\n",
       "      <td rowspan=\"2\" valign=\"top\">9</td>\n",
       "      <td rowspan=\"2\" valign=\"top\">Dank / TV-Runde</td>\n",
       "      <td>Facebook</td>\n",
       "      <td>544</td>\n",
       "      <td>167913</td>\n",
       "      <td>308.663603</td>\n",
       "    </tr>\n",
       "    <tr>\n",
       "      <td>Twitter</td>\n",
       "      <td>791</td>\n",
       "      <td>28424</td>\n",
       "      <td>35.934260</td>\n",
       "    </tr>\n",
       "    <tr>\n",
       "      <td rowspan=\"2\" valign=\"top\">10</td>\n",
       "      <td rowspan=\"2\" valign=\"top\">Links / Alternativ</td>\n",
       "      <td>Facebook</td>\n",
       "      <td>518</td>\n",
       "      <td>133007</td>\n",
       "      <td>256.770270</td>\n",
       "    </tr>\n",
       "    <tr>\n",
       "      <td>Twitter</td>\n",
       "      <td>526</td>\n",
       "      <td>15244</td>\n",
       "      <td>28.980989</td>\n",
       "    </tr>\n",
       "    <tr>\n",
       "      <td rowspan=\"2\" valign=\"top\">11</td>\n",
       "      <td rowspan=\"2\" valign=\"top\">ÖVP</td>\n",
       "      <td>Facebook</td>\n",
       "      <td>1099</td>\n",
       "      <td>452139</td>\n",
       "      <td>411.409463</td>\n",
       "    </tr>\n",
       "    <tr>\n",
       "      <td>Twitter</td>\n",
       "      <td>725</td>\n",
       "      <td>30286</td>\n",
       "      <td>41.773793</td>\n",
       "    </tr>\n",
       "    <tr>\n",
       "      <td rowspan=\"2\" valign=\"top\">12</td>\n",
       "      <td rowspan=\"2\" valign=\"top\">-</td>\n",
       "      <td>Facebook</td>\n",
       "      <td>626</td>\n",
       "      <td>141228</td>\n",
       "      <td>225.603834</td>\n",
       "    </tr>\n",
       "    <tr>\n",
       "      <td>Twitter</td>\n",
       "      <td>509</td>\n",
       "      <td>16486</td>\n",
       "      <td>32.388998</td>\n",
       "    </tr>\n",
       "    <tr>\n",
       "      <td rowspan=\"2\" valign=\"top\">13</td>\n",
       "      <td rowspan=\"2\" valign=\"top\">SPÖ</td>\n",
       "      <td>Facebook</td>\n",
       "      <td>809</td>\n",
       "      <td>273951</td>\n",
       "      <td>338.629172</td>\n",
       "    </tr>\n",
       "    <tr>\n",
       "      <td>Twitter</td>\n",
       "      <td>755</td>\n",
       "      <td>21445</td>\n",
       "      <td>28.403974</td>\n",
       "    </tr>\n",
       "    <tr>\n",
       "      <td rowspan=\"2\" valign=\"top\">14</td>\n",
       "      <td rowspan=\"2\" valign=\"top\">Volksparteien</td>\n",
       "      <td>Facebook</td>\n",
       "      <td>428</td>\n",
       "      <td>128653</td>\n",
       "      <td>300.591121</td>\n",
       "    </tr>\n",
       "    <tr>\n",
       "      <td>Twitter</td>\n",
       "      <td>394</td>\n",
       "      <td>9972</td>\n",
       "      <td>25.309645</td>\n",
       "    </tr>\n",
       "    <tr>\n",
       "      <td rowspan=\"2\" valign=\"top\">15</td>\n",
       "      <td rowspan=\"2\" valign=\"top\">-</td>\n",
       "      <td>Facebook</td>\n",
       "      <td>587</td>\n",
       "      <td>211253</td>\n",
       "      <td>359.885860</td>\n",
       "    </tr>\n",
       "    <tr>\n",
       "      <td>Twitter</td>\n",
       "      <td>588</td>\n",
       "      <td>16312</td>\n",
       "      <td>27.741497</td>\n",
       "    </tr>\n",
       "    <tr>\n",
       "      <td rowspan=\"2\" valign=\"top\">16</td>\n",
       "      <td rowspan=\"2\" valign=\"top\">FPÖ</td>\n",
       "      <td>Facebook</td>\n",
       "      <td>621</td>\n",
       "      <td>249352</td>\n",
       "      <td>401.533011</td>\n",
       "    </tr>\n",
       "    <tr>\n",
       "      <td>Twitter</td>\n",
       "      <td>457</td>\n",
       "      <td>12125</td>\n",
       "      <td>26.531729</td>\n",
       "    </tr>\n",
       "    <tr>\n",
       "      <td rowspan=\"2\" valign=\"top\">17</td>\n",
       "      <td rowspan=\"2\" valign=\"top\">-</td>\n",
       "      <td>Facebook</td>\n",
       "      <td>473</td>\n",
       "      <td>105266</td>\n",
       "      <td>222.549683</td>\n",
       "    </tr>\n",
       "    <tr>\n",
       "      <td>Twitter</td>\n",
       "      <td>391</td>\n",
       "      <td>10106</td>\n",
       "      <td>25.846547</td>\n",
       "    </tr>\n",
       "    <tr>\n",
       "      <td rowspan=\"2\" valign=\"top\">18</td>\n",
       "      <td rowspan=\"2\" valign=\"top\">Wahlkampfslogans</td>\n",
       "      <td>Facebook</td>\n",
       "      <td>589</td>\n",
       "      <td>167896</td>\n",
       "      <td>285.052632</td>\n",
       "    </tr>\n",
       "    <tr>\n",
       "      <td>Twitter</td>\n",
       "      <td>421</td>\n",
       "      <td>15852</td>\n",
       "      <td>37.653207</td>\n",
       "    </tr>\n",
       "    <tr>\n",
       "      <td rowspan=\"2\" valign=\"top\">19</td>\n",
       "      <td rowspan=\"2\" valign=\"top\">-</td>\n",
       "      <td>Facebook</td>\n",
       "      <td>520</td>\n",
       "      <td>132786</td>\n",
       "      <td>255.357692</td>\n",
       "    </tr>\n",
       "    <tr>\n",
       "      <td>Twitter</td>\n",
       "      <td>542</td>\n",
       "      <td>15177</td>\n",
       "      <td>28.001845</td>\n",
       "    </tr>\n",
       "    <tr>\n",
       "      <td rowspan=\"2\" valign=\"top\">20</td>\n",
       "      <td rowspan=\"2\" valign=\"top\">Stenzel Rede bei IB</td>\n",
       "      <td>Facebook</td>\n",
       "      <td>621</td>\n",
       "      <td>188230</td>\n",
       "      <td>303.107890</td>\n",
       "    </tr>\n",
       "    <tr>\n",
       "      <td>Twitter</td>\n",
       "      <td>647</td>\n",
       "      <td>27707</td>\n",
       "      <td>42.823802</td>\n",
       "    </tr>\n",
       "  </tbody>\n",
       "</table>\n",
       "</div>"
      ],
      "text/plain": [
       "                                       interactionCount                    \n",
       "                                                  count     sum        mean\n",
       "topic topic_interpretation    source                                       \n",
       "1     -                       Facebook              469   88713  189.153518\n",
       "                              Twitter               468   16572   35.410256\n",
       "2     Wohnen                  Facebook              524  132659  253.166031\n",
       "                              Twitter               471   11996   25.469214\n",
       "3     Grüne                   Facebook              602  159577  265.078073\n",
       "                              Twitter               632   17063   26.998418\n",
       "4     Steuern / Geld          Facebook              707  227364  321.589816\n",
       "                              Twitter               728   28384   38.989011\n",
       "5     ÖVP Mobilisierung       Facebook              449  113189  252.091314\n",
       "                              Twitter               417   19421   46.573141\n",
       "6     Parteien                Facebook              719  194006  269.827538\n",
       "                              Twitter               776   23009   29.650773\n",
       "7     Prognosen               Facebook              634  149874  236.394322\n",
       "                              Twitter               562   26208   46.633452\n",
       "8     KPÖ / Linke Forderungen Facebook              492  115130  234.004065\n",
       "                              Twitter               553   14898   26.940325\n",
       "9     Dank / TV-Runde         Facebook              544  167913  308.663603\n",
       "                              Twitter               791   28424   35.934260\n",
       "10    Links / Alternativ      Facebook              518  133007  256.770270\n",
       "                              Twitter               526   15244   28.980989\n",
       "11    ÖVP                     Facebook             1099  452139  411.409463\n",
       "                              Twitter               725   30286   41.773793\n",
       "12    -                       Facebook              626  141228  225.603834\n",
       "                              Twitter               509   16486   32.388998\n",
       "13    SPÖ                     Facebook              809  273951  338.629172\n",
       "                              Twitter               755   21445   28.403974\n",
       "14    Volksparteien           Facebook              428  128653  300.591121\n",
       "                              Twitter               394    9972   25.309645\n",
       "15    -                       Facebook              587  211253  359.885860\n",
       "                              Twitter               588   16312   27.741497\n",
       "16    FPÖ                     Facebook              621  249352  401.533011\n",
       "                              Twitter               457   12125   26.531729\n",
       "17    -                       Facebook              473  105266  222.549683\n",
       "                              Twitter               391   10106   25.846547\n",
       "18    Wahlkampfslogans        Facebook              589  167896  285.052632\n",
       "                              Twitter               421   15852   37.653207\n",
       "19    -                       Facebook              520  132786  255.357692\n",
       "                              Twitter               542   15177   28.001845\n",
       "20    Stenzel Rede bei IB     Facebook              621  188230  303.107890\n",
       "                              Twitter               647   27707   42.823802"
      ]
     },
     "execution_count": 13,
     "metadata": {},
     "output_type": "execute_result"
    }
   ],
   "source": [
    "grouped = data.groupby([\"topic\", \"topic_interpretation\", \"source\"]).agg({\"interactionCount\": [\"count\", \"sum\", \"mean\"]})\n",
    "pd.set_option(\"display.max_rows\", None)\n",
    "grouped"
   ]
  },
  {
   "cell_type": "code",
   "execution_count": 14,
   "metadata": {},
   "outputs": [
    {
     "data": {
      "application/vnd.vegalite.v3+json": {
       "$schema": "https://vega.github.io/schema/vega-lite/v3.4.0.json",
       "config": {
        "mark": {
         "tooltip": null
        },
        "view": {
         "height": 300,
         "width": 400
        }
       },
       "data": {
        "name": "data-33738a9dd98b4fd2656d0e23b7e39281"
       },
       "datasets": {
        "data-33738a9dd98b4fd2656d0e23b7e39281": [
         {
          "Source": "Facebook",
          "Topic": "-",
          "count": 469,
          "mean": 189.15351812366737,
          "source": "Facebook",
          "sum": 88713,
          "topic": 1,
          "topic_interpretation": "-"
         },
         {
          "Source": "Twitter",
          "Topic": "-",
          "count": 468,
          "mean": 35.41025641025641,
          "source": "Twitter",
          "sum": 16572,
          "topic": 1,
          "topic_interpretation": "-"
         },
         {
          "Source": "Facebook",
          "Topic": "Wohnen",
          "count": 524,
          "mean": 253.16603053435114,
          "source": "Facebook",
          "sum": 132659,
          "topic": 2,
          "topic_interpretation": "Wohnen"
         },
         {
          "Source": "Twitter",
          "Topic": "Wohnen",
          "count": 471,
          "mean": 25.469214437367302,
          "source": "Twitter",
          "sum": 11996,
          "topic": 2,
          "topic_interpretation": "Wohnen"
         },
         {
          "Source": "Facebook",
          "Topic": "Grüne",
          "count": 602,
          "mean": 265.078073089701,
          "source": "Facebook",
          "sum": 159577,
          "topic": 3,
          "topic_interpretation": "Grüne"
         },
         {
          "Source": "Twitter",
          "Topic": "Grüne",
          "count": 632,
          "mean": 26.998417721518987,
          "source": "Twitter",
          "sum": 17063,
          "topic": 3,
          "topic_interpretation": "Grüne"
         },
         {
          "Source": "Facebook",
          "Topic": "Steuern / Geld",
          "count": 707,
          "mean": 321.58981612446956,
          "source": "Facebook",
          "sum": 227364,
          "topic": 4,
          "topic_interpretation": "Steuern / Geld"
         },
         {
          "Source": "Twitter",
          "Topic": "Steuern / Geld",
          "count": 728,
          "mean": 38.989010989010985,
          "source": "Twitter",
          "sum": 28384,
          "topic": 4,
          "topic_interpretation": "Steuern / Geld"
         },
         {
          "Source": "Facebook",
          "Topic": "ÖVP Mobilisierung",
          "count": 449,
          "mean": 252.0913140311804,
          "source": "Facebook",
          "sum": 113189,
          "topic": 5,
          "topic_interpretation": "ÖVP Mobilisierung"
         },
         {
          "Source": "Twitter",
          "Topic": "ÖVP Mobilisierung",
          "count": 417,
          "mean": 46.57314148681055,
          "source": "Twitter",
          "sum": 19421,
          "topic": 5,
          "topic_interpretation": "ÖVP Mobilisierung"
         },
         {
          "Source": "Facebook",
          "Topic": "Parteien",
          "count": 719,
          "mean": 269.82753824756605,
          "source": "Facebook",
          "sum": 194006,
          "topic": 6,
          "topic_interpretation": "Parteien"
         },
         {
          "Source": "Twitter",
          "Topic": "Parteien",
          "count": 776,
          "mean": 29.65077319587629,
          "source": "Twitter",
          "sum": 23009,
          "topic": 6,
          "topic_interpretation": "Parteien"
         },
         {
          "Source": "Facebook",
          "Topic": "Prognosen",
          "count": 634,
          "mean": 236.39432176656152,
          "source": "Facebook",
          "sum": 149874,
          "topic": 7,
          "topic_interpretation": "Prognosen"
         },
         {
          "Source": "Twitter",
          "Topic": "Prognosen",
          "count": 562,
          "mean": 46.63345195729537,
          "source": "Twitter",
          "sum": 26208,
          "topic": 7,
          "topic_interpretation": "Prognosen"
         },
         {
          "Source": "Facebook",
          "Topic": "KPÖ / Linke Forderungen",
          "count": 492,
          "mean": 234.0040650406504,
          "source": "Facebook",
          "sum": 115130,
          "topic": 8,
          "topic_interpretation": "KPÖ / Linke Forderungen"
         },
         {
          "Source": "Twitter",
          "Topic": "KPÖ / Linke Forderungen",
          "count": 553,
          "mean": 26.94032549728752,
          "source": "Twitter",
          "sum": 14898,
          "topic": 8,
          "topic_interpretation": "KPÖ / Linke Forderungen"
         },
         {
          "Source": "Facebook",
          "Topic": "Dank / TV-Runde",
          "count": 544,
          "mean": 308.66360294117646,
          "source": "Facebook",
          "sum": 167913,
          "topic": 9,
          "topic_interpretation": "Dank / TV-Runde"
         },
         {
          "Source": "Twitter",
          "Topic": "Dank / TV-Runde",
          "count": 791,
          "mean": 35.93426042983565,
          "source": "Twitter",
          "sum": 28424,
          "topic": 9,
          "topic_interpretation": "Dank / TV-Runde"
         },
         {
          "Source": "Facebook",
          "Topic": "Links / Alternativ",
          "count": 518,
          "mean": 256.77027027027026,
          "source": "Facebook",
          "sum": 133007,
          "topic": 10,
          "topic_interpretation": "Links / Alternativ"
         },
         {
          "Source": "Twitter",
          "Topic": "Links / Alternativ",
          "count": 526,
          "mean": 28.980988593155892,
          "source": "Twitter",
          "sum": 15244,
          "topic": 10,
          "topic_interpretation": "Links / Alternativ"
         },
         {
          "Source": "Facebook",
          "Topic": "ÖVP",
          "count": 1099,
          "mean": 411.40946314831666,
          "source": "Facebook",
          "sum": 452139,
          "topic": 11,
          "topic_interpretation": "ÖVP"
         },
         {
          "Source": "Twitter",
          "Topic": "ÖVP",
          "count": 725,
          "mean": 41.77379310344828,
          "source": "Twitter",
          "sum": 30286,
          "topic": 11,
          "topic_interpretation": "ÖVP"
         },
         {
          "Source": "Facebook",
          "Topic": "-",
          "count": 626,
          "mean": 225.6038338658147,
          "source": "Facebook",
          "sum": 141228,
          "topic": 12,
          "topic_interpretation": "-"
         },
         {
          "Source": "Twitter",
          "Topic": "-",
          "count": 509,
          "mean": 32.38899803536346,
          "source": "Twitter",
          "sum": 16486,
          "topic": 12,
          "topic_interpretation": "-"
         },
         {
          "Source": "Facebook",
          "Topic": "SPÖ",
          "count": 809,
          "mean": 338.6291718170581,
          "source": "Facebook",
          "sum": 273951,
          "topic": 13,
          "topic_interpretation": "SPÖ"
         },
         {
          "Source": "Twitter",
          "Topic": "SPÖ",
          "count": 755,
          "mean": 28.403973509933774,
          "source": "Twitter",
          "sum": 21445,
          "topic": 13,
          "topic_interpretation": "SPÖ"
         },
         {
          "Source": "Facebook",
          "Topic": "Volksparteien",
          "count": 428,
          "mean": 300.5911214953271,
          "source": "Facebook",
          "sum": 128653,
          "topic": 14,
          "topic_interpretation": "Volksparteien"
         },
         {
          "Source": "Twitter",
          "Topic": "Volksparteien",
          "count": 394,
          "mean": 25.309644670050762,
          "source": "Twitter",
          "sum": 9972,
          "topic": 14,
          "topic_interpretation": "Volksparteien"
         },
         {
          "Source": "Facebook",
          "Topic": "-",
          "count": 587,
          "mean": 359.88586030664396,
          "source": "Facebook",
          "sum": 211253,
          "topic": 15,
          "topic_interpretation": "-"
         },
         {
          "Source": "Twitter",
          "Topic": "-",
          "count": 588,
          "mean": 27.741496598639454,
          "source": "Twitter",
          "sum": 16312,
          "topic": 15,
          "topic_interpretation": "-"
         },
         {
          "Source": "Facebook",
          "Topic": "FPÖ",
          "count": 621,
          "mean": 401.5330112721417,
          "source": "Facebook",
          "sum": 249352,
          "topic": 16,
          "topic_interpretation": "FPÖ"
         },
         {
          "Source": "Twitter",
          "Topic": "FPÖ",
          "count": 457,
          "mean": 26.53172866520788,
          "source": "Twitter",
          "sum": 12125,
          "topic": 16,
          "topic_interpretation": "FPÖ"
         },
         {
          "Source": "Facebook",
          "Topic": "-",
          "count": 473,
          "mean": 222.54968287526427,
          "source": "Facebook",
          "sum": 105266,
          "topic": 17,
          "topic_interpretation": "-"
         },
         {
          "Source": "Twitter",
          "Topic": "-",
          "count": 391,
          "mean": 25.846547314578004,
          "source": "Twitter",
          "sum": 10106,
          "topic": 17,
          "topic_interpretation": "-"
         },
         {
          "Source": "Facebook",
          "Topic": "Wahlkampfslogans",
          "count": 589,
          "mean": 285.05263157894734,
          "source": "Facebook",
          "sum": 167896,
          "topic": 18,
          "topic_interpretation": "Wahlkampfslogans"
         },
         {
          "Source": "Twitter",
          "Topic": "Wahlkampfslogans",
          "count": 421,
          "mean": 37.65320665083135,
          "source": "Twitter",
          "sum": 15852,
          "topic": 18,
          "topic_interpretation": "Wahlkampfslogans"
         },
         {
          "Source": "Facebook",
          "Topic": "-",
          "count": 520,
          "mean": 255.3576923076923,
          "source": "Facebook",
          "sum": 132786,
          "topic": 19,
          "topic_interpretation": "-"
         },
         {
          "Source": "Twitter",
          "Topic": "-",
          "count": 542,
          "mean": 28.001845018450183,
          "source": "Twitter",
          "sum": 15177,
          "topic": 19,
          "topic_interpretation": "-"
         },
         {
          "Source": "Facebook",
          "Topic": "Stenzel Rede bei IB",
          "count": 621,
          "mean": 303.10789049919487,
          "source": "Facebook",
          "sum": 188230,
          "topic": 20,
          "topic_interpretation": "Stenzel Rede bei IB"
         },
         {
          "Source": "Twitter",
          "Topic": "Stenzel Rede bei IB",
          "count": 647,
          "mean": 42.82380216383308,
          "source": "Twitter",
          "sum": 27707,
          "topic": 20,
          "topic_interpretation": "Stenzel Rede bei IB"
         }
        ]
       },
       "encoding": {
        "color": {
         "field": "Source",
         "legend": null,
         "type": "nominal"
        },
        "column": {
         "field": "topic",
         "title": "Topic",
         "type": "ordinal"
        },
        "opacity": {
         "value": 0.75
        },
        "tooltip": [
         {
          "field": "Topic",
          "type": "nominal"
         }
        ],
        "x": {
         "field": "Source",
         "type": "nominal"
        },
        "y": {
         "aggregate": "sum",
         "field": "sum",
         "scale": {
          "base": 10,
          "type": "log"
         },
         "title": "Interactions (log)",
         "type": "quantitative"
        }
       },
       "mark": "bar",
       "title": "Interactions per Source and Topic",
       "width": 20
      },
      "image/png": "[encoded data removed]",
      "text/plain": [
       "<VegaLite 3 object>\n",
       "\n",
       "If you see this message, it means the renderer has not been properly enabled\n",
       "for the frontend that you are using. For more information, see\n",
       "https://altair-viz.github.io/user_guide/troubleshooting.html\n"
      ]
     },
     "execution_count": 14,
     "metadata": {},
     "output_type": "execute_result"
    }
   ],
   "source": [
    "p_data = grouped.copy()\n",
    "p_data[\"source\"] = p_data.index.get_level_values(\"source\")\n",
    "p_data.columns = [\"count\", \"sum\", \"mean\", \"Source\"]\n",
    "p_data.reset_index(inplace=True)\n",
    "p_data[\"Topic\"] = p_data.topic_interpretation\n",
    "\n",
    "chart = alt.Chart(p_data, title=\"Interactions per Source and Topic\").mark_bar().encode(\n",
    "    alt.X(\"Source:N\"),\n",
    "    alt.Y(\"sum(sum):Q\", \n",
    "          scale=alt.Scale(type=\"log\", base=10),\n",
    "          title=\"Interactions (log)\"),\n",
    "    column=alt.Column(\"topic:O\", title=\"Topic\"),\n",
    "    color=alt.Color(\"Source\", legend=None),\n",
    "    opacity=alt.value(0.75),\n",
    "    tooltip=[\"Topic\"]\n",
    ").properties(\n",
    "    width=20\n",
    ")\n",
    "\n",
    "#chart.save(os.path.join(figures_path, \"topics\", \"interactions_per_source_layered.html\"))\n",
    "chart"
   ]
  },
  {
   "cell_type": "code",
   "execution_count": 15,
   "metadata": {},
   "outputs": [
    {
     "data": {
      "application/vnd.vegalite.v3+json": {
       "$schema": "https://vega.github.io/schema/vega-lite/v3.4.0.json",
       "config": {
        "mark": {
         "tooltip": null
        },
        "view": {
         "height": 300,
         "width": 400
        }
       },
       "data": {
        "name": "data-99aeef9a97132e2f31c11efa121007fb"
       },
       "datasets": {
        "data-99aeef9a97132e2f31c11efa121007fb": [
         {
          "Source": "Facebook",
          "Topic": "-",
          "count": 469,
          "mean": 189.15,
          "order": 0,
          "source": "Facebook",
          "sum": 88713,
          "topic": 1,
          "topic_interpretation": "-"
         },
         {
          "Source": "Twitter",
          "Topic": "-",
          "count": 468,
          "mean": 35.41,
          "order": 1,
          "source": "Twitter",
          "sum": 16572,
          "topic": 1,
          "topic_interpretation": "-"
         },
         {
          "Source": "Facebook",
          "Topic": "Wohnen",
          "count": 524,
          "mean": 253.17,
          "order": 0,
          "source": "Facebook",
          "sum": 132659,
          "topic": 2,
          "topic_interpretation": "Wohnen"
         },
         {
          "Source": "Twitter",
          "Topic": "Wohnen",
          "count": 471,
          "mean": 25.47,
          "order": 1,
          "source": "Twitter",
          "sum": 11996,
          "topic": 2,
          "topic_interpretation": "Wohnen"
         },
         {
          "Source": "Facebook",
          "Topic": "Grüne",
          "count": 602,
          "mean": 265.08,
          "order": 0,
          "source": "Facebook",
          "sum": 159577,
          "topic": 3,
          "topic_interpretation": "Grüne"
         },
         {
          "Source": "Twitter",
          "Topic": "Grüne",
          "count": 632,
          "mean": 27,
          "order": 1,
          "source": "Twitter",
          "sum": 17063,
          "topic": 3,
          "topic_interpretation": "Grüne"
         },
         {
          "Source": "Facebook",
          "Topic": "Steuern / Geld",
          "count": 707,
          "mean": 321.59,
          "order": 0,
          "source": "Facebook",
          "sum": 227364,
          "topic": 4,
          "topic_interpretation": "Steuern / Geld"
         },
         {
          "Source": "Twitter",
          "Topic": "Steuern / Geld",
          "count": 728,
          "mean": 38.99,
          "order": 1,
          "source": "Twitter",
          "sum": 28384,
          "topic": 4,
          "topic_interpretation": "Steuern / Geld"
         },
         {
          "Source": "Facebook",
          "Topic": "ÖVP Mobilisierung",
          "count": 449,
          "mean": 252.09,
          "order": 0,
          "source": "Facebook",
          "sum": 113189,
          "topic": 5,
          "topic_interpretation": "ÖVP Mobilisierung"
         },
         {
          "Source": "Twitter",
          "Topic": "ÖVP Mobilisierung",
          "count": 417,
          "mean": 46.57,
          "order": 1,
          "source": "Twitter",
          "sum": 19421,
          "topic": 5,
          "topic_interpretation": "ÖVP Mobilisierung"
         },
         {
          "Source": "Facebook",
          "Topic": "Parteien",
          "count": 719,
          "mean": 269.83,
          "order": 0,
          "source": "Facebook",
          "sum": 194006,
          "topic": 6,
          "topic_interpretation": "Parteien"
         },
         {
          "Source": "Twitter",
          "Topic": "Parteien",
          "count": 776,
          "mean": 29.65,
          "order": 1,
          "source": "Twitter",
          "sum": 23009,
          "topic": 6,
          "topic_interpretation": "Parteien"
         },
         {
          "Source": "Facebook",
          "Topic": "Prognosen",
          "count": 634,
          "mean": 236.39,
          "order": 0,
          "source": "Facebook",
          "sum": 149874,
          "topic": 7,
          "topic_interpretation": "Prognosen"
         },
         {
          "Source": "Twitter",
          "Topic": "Prognosen",
          "count": 562,
          "mean": 46.63,
          "order": 1,
          "source": "Twitter",
          "sum": 26208,
          "topic": 7,
          "topic_interpretation": "Prognosen"
         },
         {
          "Source": "Facebook",
          "Topic": "KPÖ / Linke Forderungen",
          "count": 492,
          "mean": 234,
          "order": 0,
          "source": "Facebook",
          "sum": 115130,
          "topic": 8,
          "topic_interpretation": "KPÖ / Linke Forderungen"
         },
         {
          "Source": "Twitter",
          "Topic": "KPÖ / Linke Forderungen",
          "count": 553,
          "mean": 26.94,
          "order": 1,
          "source": "Twitter",
          "sum": 14898,
          "topic": 8,
          "topic_interpretation": "KPÖ / Linke Forderungen"
         },
         {
          "Source": "Facebook",
          "Topic": "Dank / TV-Runde",
          "count": 544,
          "mean": 308.66,
          "order": 0,
          "source": "Facebook",
          "sum": 167913,
          "topic": 9,
          "topic_interpretation": "Dank / TV-Runde"
         },
         {
          "Source": "Twitter",
          "Topic": "Dank / TV-Runde",
          "count": 791,
          "mean": 35.93,
          "order": 1,
          "source": "Twitter",
          "sum": 28424,
          "topic": 9,
          "topic_interpretation": "Dank / TV-Runde"
         },
         {
          "Source": "Facebook",
          "Topic": "Links / Alternativ",
          "count": 518,
          "mean": 256.77,
          "order": 0,
          "source": "Facebook",
          "sum": 133007,
          "topic": 10,
          "topic_interpretation": "Links / Alternativ"
         },
         {
          "Source": "Twitter",
          "Topic": "Links / Alternativ",
          "count": 526,
          "mean": 28.98,
          "order": 1,
          "source": "Twitter",
          "sum": 15244,
          "topic": 10,
          "topic_interpretation": "Links / Alternativ"
         },
         {
          "Source": "Facebook",
          "Topic": "ÖVP",
          "count": 1099,
          "mean": 411.41,
          "order": 0,
          "source": "Facebook",
          "sum": 452139,
          "topic": 11,
          "topic_interpretation": "ÖVP"
         },
         {
          "Source": "Twitter",
          "Topic": "ÖVP",
          "count": 725,
          "mean": 41.77,
          "order": 1,
          "source": "Twitter",
          "sum": 30286,
          "topic": 11,
          "topic_interpretation": "ÖVP"
         },
         {
          "Source": "Facebook",
          "Topic": "-",
          "count": 626,
          "mean": 225.6,
          "order": 0,
          "source": "Facebook",
          "sum": 141228,
          "topic": 12,
          "topic_interpretation": "-"
         },
         {
          "Source": "Twitter",
          "Topic": "-",
          "count": 509,
          "mean": 32.39,
          "order": 1,
          "source": "Twitter",
          "sum": 16486,
          "topic": 12,
          "topic_interpretation": "-"
         },
         {
          "Source": "Facebook",
          "Topic": "SPÖ",
          "count": 809,
          "mean": 338.63,
          "order": 0,
          "source": "Facebook",
          "sum": 273951,
          "topic": 13,
          "topic_interpretation": "SPÖ"
         },
         {
          "Source": "Twitter",
          "Topic": "SPÖ",
          "count": 755,
          "mean": 28.4,
          "order": 1,
          "source": "Twitter",
          "sum": 21445,
          "topic": 13,
          "topic_interpretation": "SPÖ"
         },
         {
          "Source": "Facebook",
          "Topic": "Volksparteien",
          "count": 428,
          "mean": 300.59,
          "order": 0,
          "source": "Facebook",
          "sum": 128653,
          "topic": 14,
          "topic_interpretation": "Volksparteien"
         },
         {
          "Source": "Twitter",
          "Topic": "Volksparteien",
          "count": 394,
          "mean": 25.31,
          "order": 1,
          "source": "Twitter",
          "sum": 9972,
          "topic": 14,
          "topic_interpretation": "Volksparteien"
         },
         {
          "Source": "Facebook",
          "Topic": "-",
          "count": 587,
          "mean": 359.89,
          "order": 0,
          "source": "Facebook",
          "sum": 211253,
          "topic": 15,
          "topic_interpretation": "-"
         },
         {
          "Source": "Twitter",
          "Topic": "-",
          "count": 588,
          "mean": 27.74,
          "order": 1,
          "source": "Twitter",
          "sum": 16312,
          "topic": 15,
          "topic_interpretation": "-"
         },
         {
          "Source": "Facebook",
          "Topic": "FPÖ",
          "count": 621,
          "mean": 401.53,
          "order": 0,
          "source": "Facebook",
          "sum": 249352,
          "topic": 16,
          "topic_interpretation": "FPÖ"
         },
         {
          "Source": "Twitter",
          "Topic": "FPÖ",
          "count": 457,
          "mean": 26.53,
          "order": 1,
          "source": "Twitter",
          "sum": 12125,
          "topic": 16,
          "topic_interpretation": "FPÖ"
         },
         {
          "Source": "Facebook",
          "Topic": "-",
          "count": 473,
          "mean": 222.55,
          "order": 0,
          "source": "Facebook",
          "sum": 105266,
          "topic": 17,
          "topic_interpretation": "-"
         },
         {
          "Source": "Twitter",
          "Topic": "-",
          "count": 391,
          "mean": 25.85,
          "order": 1,
          "source": "Twitter",
          "sum": 10106,
          "topic": 17,
          "topic_interpretation": "-"
         },
         {
          "Source": "Facebook",
          "Topic": "Wahlkampfslogans",
          "count": 589,
          "mean": 285.05,
          "order": 0,
          "source": "Facebook",
          "sum": 167896,
          "topic": 18,
          "topic_interpretation": "Wahlkampfslogans"
         },
         {
          "Source": "Twitter",
          "Topic": "Wahlkampfslogans",
          "count": 421,
          "mean": 37.65,
          "order": 1,
          "source": "Twitter",
          "sum": 15852,
          "topic": 18,
          "topic_interpretation": "Wahlkampfslogans"
         },
         {
          "Source": "Facebook",
          "Topic": "-",
          "count": 520,
          "mean": 255.36,
          "order": 0,
          "source": "Facebook",
          "sum": 132786,
          "topic": 19,
          "topic_interpretation": "-"
         },
         {
          "Source": "Twitter",
          "Topic": "-",
          "count": 542,
          "mean": 28,
          "order": 1,
          "source": "Twitter",
          "sum": 15177,
          "topic": 19,
          "topic_interpretation": "-"
         },
         {
          "Source": "Facebook",
          "Topic": "Stenzel Rede bei IB",
          "count": 621,
          "mean": 303.11,
          "order": 0,
          "source": "Facebook",
          "sum": 188230,
          "topic": 20,
          "topic_interpretation": "Stenzel Rede bei IB"
         },
         {
          "Source": "Twitter",
          "Topic": "Stenzel Rede bei IB",
          "count": 647,
          "mean": 42.82,
          "order": 1,
          "source": "Twitter",
          "sum": 27707,
          "topic": 20,
          "topic_interpretation": "Stenzel Rede bei IB"
         }
        ]
       },
       "encoding": {
        "color": {
         "field": "Source",
         "type": "nominal"
        },
        "opacity": {
         "value": 0.75
        },
        "order": {
         "field": "order",
         "type": "quantitative"
        },
        "tooltip": [
         {
          "field": "Topic",
          "title": "Topic",
          "type": "nominal"
         },
         {
          "field": "source",
          "title": "Source",
          "type": "nominal"
         },
         {
          "field": "count",
          "title": "Posts per source",
          "type": "quantitative"
         },
         {
          "field": "sum",
          "title": "Total interactions per source",
          "type": "quantitative"
         },
         {
          "field": "mean",
          "title": "Mean interactions per source",
          "type": "quantitative"
         }
        ],
        "x": {
         "field": "topic",
         "type": "nominal"
        },
        "y": {
         "aggregate": "sum",
         "field": "sum",
         "title": "Interactions",
         "type": "quantitative"
        }
       },
       "mark": "bar",
       "title": "Interactions per Topic"
      },
      "image/png": "[encoded data removed]",
      "text/plain": [
       "<VegaLite 3 object>\n",
       "\n",
       "If you see this message, it means the renderer has not been properly enabled\n",
       "for the frontend that you are using. For more information, see\n",
       "https://altair-viz.github.io/user_guide/troubleshooting.html\n"
      ]
     },
     "execution_count": 15,
     "metadata": {},
     "output_type": "execute_result"
    }
   ],
   "source": [
    "p_data = grouped.copy().round(2)\n",
    "p_data[\"source\"] = p_data.index.get_level_values(\"source\")\n",
    "p_data.columns = [\"count\", \"sum\", \"mean\", \"Source\"]\n",
    "p_data.reset_index(inplace=True)\n",
    "p_data[\"Topic\"] = p_data.topic_interpretation\n",
    "p_data[\"order\"] = p_data.source.map({\"Facebook\": 0, \"Twitter\": 1})\n",
    "\n",
    "chart = alt.Chart(p_data, title=\"Interactions per Topic\").mark_bar().encode(\n",
    "    alt.X(\"topic:N\"),\n",
    "    alt.Y(\"sum(sum):Q\", \n",
    "          title=\"Interactions\"),\n",
    "    color=alt.Color(\"Source\"),\n",
    "    order=alt.Order(\"order\"),\n",
    "    opacity=alt.value(0.75),\n",
    "    tooltip=[alt.Tooltip(\"Topic\", title=\"Topic\"),\n",
    "             alt.Tooltip(\"source\", title=\"Source\"),\n",
    "             alt.Tooltip(\"count\", title=\"Posts per source\"),\n",
    "             alt.Tooltip(\"sum\", title=\"Total interactions per source\"),\n",
    "             alt.Tooltip(\"mean\", title=\"Mean interactions per source\")]\n",
    ")\n",
    "\n",
    "#chart.save(os.path.join(figures_path, \"topics\", \"interactions_per_source_stacked.html\"))\n",
    "chart"
   ]
  },
  {
   "cell_type": "code",
   "execution_count": 16,
   "metadata": {},
   "outputs": [
    {
     "data": {
      "application/vnd.vegalite.v3+json": {
       "$schema": "https://vega.github.io/schema/vega-lite/v3.4.0.json",
       "config": {
        "mark": {
         "tooltip": null
        },
        "view": {
         "height": 300,
         "width": 400
        }
       },
       "data": {
        "name": "data-33738a9dd98b4fd2656d0e23b7e39281"
       },
       "datasets": {
        "data-33738a9dd98b4fd2656d0e23b7e39281": [
         {
          "Source": "Facebook",
          "Topic": "-",
          "count": 469,
          "mean": 189.15351812366737,
          "source": "Facebook",
          "sum": 88713,
          "topic": 1,
          "topic_interpretation": "-"
         },
         {
          "Source": "Twitter",
          "Topic": "-",
          "count": 468,
          "mean": 35.41025641025641,
          "source": "Twitter",
          "sum": 16572,
          "topic": 1,
          "topic_interpretation": "-"
         },
         {
          "Source": "Facebook",
          "Topic": "Wohnen",
          "count": 524,
          "mean": 253.16603053435114,
          "source": "Facebook",
          "sum": 132659,
          "topic": 2,
          "topic_interpretation": "Wohnen"
         },
         {
          "Source": "Twitter",
          "Topic": "Wohnen",
          "count": 471,
          "mean": 25.469214437367302,
          "source": "Twitter",
          "sum": 11996,
          "topic": 2,
          "topic_interpretation": "Wohnen"
         },
         {
          "Source": "Facebook",
          "Topic": "Grüne",
          "count": 602,
          "mean": 265.078073089701,
          "source": "Facebook",
          "sum": 159577,
          "topic": 3,
          "topic_interpretation": "Grüne"
         },
         {
          "Source": "Twitter",
          "Topic": "Grüne",
          "count": 632,
          "mean": 26.998417721518987,
          "source": "Twitter",
          "sum": 17063,
          "topic": 3,
          "topic_interpretation": "Grüne"
         },
         {
          "Source": "Facebook",
          "Topic": "Steuern / Geld",
          "count": 707,
          "mean": 321.58981612446956,
          "source": "Facebook",
          "sum": 227364,
          "topic": 4,
          "topic_interpretation": "Steuern / Geld"
         },
         {
          "Source": "Twitter",
          "Topic": "Steuern / Geld",
          "count": 728,
          "mean": 38.989010989010985,
          "source": "Twitter",
          "sum": 28384,
          "topic": 4,
          "topic_interpretation": "Steuern / Geld"
         },
         {
          "Source": "Facebook",
          "Topic": "ÖVP Mobilisierung",
          "count": 449,
          "mean": 252.0913140311804,
          "source": "Facebook",
          "sum": 113189,
          "topic": 5,
          "topic_interpretation": "ÖVP Mobilisierung"
         },
         {
          "Source": "Twitter",
          "Topic": "ÖVP Mobilisierung",
          "count": 417,
          "mean": 46.57314148681055,
          "source": "Twitter",
          "sum": 19421,
          "topic": 5,
          "topic_interpretation": "ÖVP Mobilisierung"
         },
         {
          "Source": "Facebook",
          "Topic": "Parteien",
          "count": 719,
          "mean": 269.82753824756605,
          "source": "Facebook",
          "sum": 194006,
          "topic": 6,
          "topic_interpretation": "Parteien"
         },
         {
          "Source": "Twitter",
          "Topic": "Parteien",
          "count": 776,
          "mean": 29.65077319587629,
          "source": "Twitter",
          "sum": 23009,
          "topic": 6,
          "topic_interpretation": "Parteien"
         },
         {
          "Source": "Facebook",
          "Topic": "Prognosen",
          "count": 634,
          "mean": 236.39432176656152,
          "source": "Facebook",
          "sum": 149874,
          "topic": 7,
          "topic_interpretation": "Prognosen"
         },
         {
          "Source": "Twitter",
          "Topic": "Prognosen",
          "count": 562,
          "mean": 46.63345195729537,
          "source": "Twitter",
          "sum": 26208,
          "topic": 7,
          "topic_interpretation": "Prognosen"
         },
         {
          "Source": "Facebook",
          "Topic": "KPÖ / Linke Forderungen",
          "count": 492,
          "mean": 234.0040650406504,
          "source": "Facebook",
          "sum": 115130,
          "topic": 8,
          "topic_interpretation": "KPÖ / Linke Forderungen"
         },
         {
          "Source": "Twitter",
          "Topic": "KPÖ / Linke Forderungen",
          "count": 553,
          "mean": 26.94032549728752,
          "source": "Twitter",
          "sum": 14898,
          "topic": 8,
          "topic_interpretation": "KPÖ / Linke Forderungen"
         },
         {
          "Source": "Facebook",
          "Topic": "Dank / TV-Runde",
          "count": 544,
          "mean": 308.66360294117646,
          "source": "Facebook",
          "sum": 167913,
          "topic": 9,
          "topic_interpretation": "Dank / TV-Runde"
         },
         {
          "Source": "Twitter",
          "Topic": "Dank / TV-Runde",
          "count": 791,
          "mean": 35.93426042983565,
          "source": "Twitter",
          "sum": 28424,
          "topic": 9,
          "topic_interpretation": "Dank / TV-Runde"
         },
         {
          "Source": "Facebook",
          "Topic": "Links / Alternativ",
          "count": 518,
          "mean": 256.77027027027026,
          "source": "Facebook",
          "sum": 133007,
          "topic": 10,
          "topic_interpretation": "Links / Alternativ"
         },
         {
          "Source": "Twitter",
          "Topic": "Links / Alternativ",
          "count": 526,
          "mean": 28.980988593155892,
          "source": "Twitter",
          "sum": 15244,
          "topic": 10,
          "topic_interpretation": "Links / Alternativ"
         },
         {
          "Source": "Facebook",
          "Topic": "ÖVP",
          "count": 1099,
          "mean": 411.40946314831666,
          "source": "Facebook",
          "sum": 452139,
          "topic": 11,
          "topic_interpretation": "ÖVP"
         },
         {
          "Source": "Twitter",
          "Topic": "ÖVP",
          "count": 725,
          "mean": 41.77379310344828,
          "source": "Twitter",
          "sum": 30286,
          "topic": 11,
          "topic_interpretation": "ÖVP"
         },
         {
          "Source": "Facebook",
          "Topic": "-",
          "count": 626,
          "mean": 225.6038338658147,
          "source": "Facebook",
          "sum": 141228,
          "topic": 12,
          "topic_interpretation": "-"
         },
         {
          "Source": "Twitter",
          "Topic": "-",
          "count": 509,
          "mean": 32.38899803536346,
          "source": "Twitter",
          "sum": 16486,
          "topic": 12,
          "topic_interpretation": "-"
         },
         {
          "Source": "Facebook",
          "Topic": "SPÖ",
          "count": 809,
          "mean": 338.6291718170581,
          "source": "Facebook",
          "sum": 273951,
          "topic": 13,
          "topic_interpretation": "SPÖ"
         },
         {
          "Source": "Twitter",
          "Topic": "SPÖ",
          "count": 755,
          "mean": 28.403973509933774,
          "source": "Twitter",
          "sum": 21445,
          "topic": 13,
          "topic_interpretation": "SPÖ"
         },
         {
          "Source": "Facebook",
          "Topic": "Volksparteien",
          "count": 428,
          "mean": 300.5911214953271,
          "source": "Facebook",
          "sum": 128653,
          "topic": 14,
          "topic_interpretation": "Volksparteien"
         },
         {
          "Source": "Twitter",
          "Topic": "Volksparteien",
          "count": 394,
          "mean": 25.309644670050762,
          "source": "Twitter",
          "sum": 9972,
          "topic": 14,
          "topic_interpretation": "Volksparteien"
         },
         {
          "Source": "Facebook",
          "Topic": "-",
          "count": 587,
          "mean": 359.88586030664396,
          "source": "Facebook",
          "sum": 211253,
          "topic": 15,
          "topic_interpretation": "-"
         },
         {
          "Source": "Twitter",
          "Topic": "-",
          "count": 588,
          "mean": 27.741496598639454,
          "source": "Twitter",
          "sum": 16312,
          "topic": 15,
          "topic_interpretation": "-"
         },
         {
          "Source": "Facebook",
          "Topic": "FPÖ",
          "count": 621,
          "mean": 401.5330112721417,
          "source": "Facebook",
          "sum": 249352,
          "topic": 16,
          "topic_interpretation": "FPÖ"
         },
         {
          "Source": "Twitter",
          "Topic": "FPÖ",
          "count": 457,
          "mean": 26.53172866520788,
          "source": "Twitter",
          "sum": 12125,
          "topic": 16,
          "topic_interpretation": "FPÖ"
         },
         {
          "Source": "Facebook",
          "Topic": "-",
          "count": 473,
          "mean": 222.54968287526427,
          "source": "Facebook",
          "sum": 105266,
          "topic": 17,
          "topic_interpretation": "-"
         },
         {
          "Source": "Twitter",
          "Topic": "-",
          "count": 391,
          "mean": 25.846547314578004,
          "source": "Twitter",
          "sum": 10106,
          "topic": 17,
          "topic_interpretation": "-"
         },
         {
          "Source": "Facebook",
          "Topic": "Wahlkampfslogans",
          "count": 589,
          "mean": 285.05263157894734,
          "source": "Facebook",
          "sum": 167896,
          "topic": 18,
          "topic_interpretation": "Wahlkampfslogans"
         },
         {
          "Source": "Twitter",
          "Topic": "Wahlkampfslogans",
          "count": 421,
          "mean": 37.65320665083135,
          "source": "Twitter",
          "sum": 15852,
          "topic": 18,
          "topic_interpretation": "Wahlkampfslogans"
         },
         {
          "Source": "Facebook",
          "Topic": "-",
          "count": 520,
          "mean": 255.3576923076923,
          "source": "Facebook",
          "sum": 132786,
          "topic": 19,
          "topic_interpretation": "-"
         },
         {
          "Source": "Twitter",
          "Topic": "-",
          "count": 542,
          "mean": 28.001845018450183,
          "source": "Twitter",
          "sum": 15177,
          "topic": 19,
          "topic_interpretation": "-"
         },
         {
          "Source": "Facebook",
          "Topic": "Stenzel Rede bei IB",
          "count": 621,
          "mean": 303.10789049919487,
          "source": "Facebook",
          "sum": 188230,
          "topic": 20,
          "topic_interpretation": "Stenzel Rede bei IB"
         },
         {
          "Source": "Twitter",
          "Topic": "Stenzel Rede bei IB",
          "count": 647,
          "mean": 42.82380216383308,
          "source": "Twitter",
          "sum": 27707,
          "topic": 20,
          "topic_interpretation": "Stenzel Rede bei IB"
         }
        ]
       },
       "encoding": {
        "color": {
         "field": "Source",
         "legend": null,
         "type": "nominal"
        },
        "column": {
         "field": "topic",
         "title": "Topic",
         "type": "ordinal"
        },
        "opacity": {
         "value": 0.75
        },
        "tooltip": [
         {
          "field": "Topic",
          "type": "nominal"
         }
        ],
        "x": {
         "field": "Source",
         "type": "nominal"
        },
        "y": {
         "aggregate": "sum",
         "field": "mean",
         "scale": {
          "base": 10,
          "type": "log"
         },
         "title": "Mean interactions (log)",
         "type": "quantitative"
        }
       },
       "mark": "bar",
       "title": "Interactions per Source and Topic",
       "width": 20
      },
      "image/png": "[encoded data removed]",
      "text/plain": [
       "<VegaLite 3 object>\n",
       "\n",
       "If you see this message, it means the renderer has not been properly enabled\n",
       "for the frontend that you are using. For more information, see\n",
       "https://altair-viz.github.io/user_guide/troubleshooting.html\n"
      ]
     },
     "execution_count": 16,
     "metadata": {},
     "output_type": "execute_result"
    }
   ],
   "source": [
    "p_data = grouped.copy()\n",
    "p_data[\"source\"] = p_data.index.get_level_values(\"source\")\n",
    "p_data.columns = [\"count\", \"sum\", \"mean\", \"Source\"]\n",
    "p_data.reset_index(inplace=True)\n",
    "p_data[\"Topic\"] = p_data.topic_interpretation\n",
    "\n",
    "chart = alt.Chart(p_data, title=\"Interactions per Source and Topic\").mark_bar().encode(\n",
    "    alt.X(\"Source:N\"),\n",
    "    alt.Y(\"sum(mean):Q\", \n",
    "          scale=alt.Scale(type=\"log\", base=10),\n",
    "          title=\"Mean interactions (log)\"),\n",
    "    column=alt.Column(\"topic:O\", title=\"Topic\"),\n",
    "    color=alt.Color(\"Source\", legend=None),\n",
    "    opacity=alt.value(0.75),\n",
    "    tooltip=[\"Topic\"]\n",
    ").properties(\n",
    "    width=20\n",
    ")\n",
    "\n",
    "#chart.save(os.path.join(figures_path, \"topics\", \"mean_interactions_per_source.html\"))\n",
    "chart"
   ]
  },
  {
   "cell_type": "markdown",
   "metadata": {},
   "source": [
    "### Topics Timeline\n",
    "\n",
    "Number of Posts per topic over monitoring period"
   ]
  },
  {
   "cell_type": "code",
   "execution_count": 17,
   "metadata": {},
   "outputs": [],
   "source": [
    "grouped = data.groupby([\"topic\", \"topic_interpretation\", \"dateCreated\"]).agg({\"interactionCount\": [\"count\", \"sum\", \"mean\"]})\n",
    "pd.set_option(\"display.max_rows\", None)\n",
    "#grouped"
   ]
  },
  {
   "cell_type": "code",
   "execution_count": 18,
   "metadata": {},
   "outputs": [
    {
     "data": {
      "application/vnd.vegalite.v3+json": {
       "$schema": "https://vega.github.io/schema/vega-lite/v3.4.0.json",
       "config": {
        "mark": {
         "tooltip": null
        },
        "view": {
         "height": 300,
         "width": 400
        }
       },
       "data": {
        "name": "data-98a4cffc24d63efc14f5346a7e55faf8"
       },
       "datasets": {
        "data-98a4cffc24d63efc14f5346a7e55faf8": [
         {
          "Topic": "Wohnen",
          "color": "rosybrown",
          "count": 65,
          "dateCreated": "2019-09-08T00:00:00",
          "mean": 63.48,
          "sum": 4126,
          "topic": 2,
          "topic_interpretation": "Wohnen"
         },
         {
          "Topic": "Wohnen",
          "color": "rosybrown",
          "count": 67,
          "dateCreated": "2019-09-09T00:00:00",
          "mean": 185.36,
          "sum": 12419,
          "topic": 2,
          "topic_interpretation": "Wohnen"
         },
         {
          "Topic": "Wohnen",
          "color": "rosybrown",
          "count": 42,
          "dateCreated": "2019-09-10T00:00:00",
          "mean": 91.29,
          "sum": 3834,
          "topic": 2,
          "topic_interpretation": "Wohnen"
         },
         {
          "Topic": "Wohnen",
          "color": "rosybrown",
          "count": 48,
          "dateCreated": "2019-09-11T00:00:00",
          "mean": 237.75,
          "sum": 11412,
          "topic": 2,
          "topic_interpretation": "Wohnen"
         },
         {
          "Topic": "Wohnen",
          "color": "rosybrown",
          "count": 51,
          "dateCreated": "2019-09-12T00:00:00",
          "mean": 227.33,
          "sum": 11594,
          "topic": 2,
          "topic_interpretation": "Wohnen"
         },
         {
          "Topic": "Wohnen",
          "color": "rosybrown",
          "count": 43,
          "dateCreated": "2019-09-13T00:00:00",
          "mean": 299.81,
          "sum": 12892,
          "topic": 2,
          "topic_interpretation": "Wohnen"
         },
         {
          "Topic": "Wohnen",
          "color": "rosybrown",
          "count": 22,
          "dateCreated": "2019-09-14T00:00:00",
          "mean": 61.09,
          "sum": 1344,
          "topic": 2,
          "topic_interpretation": "Wohnen"
         },
         {
          "Topic": "Wohnen",
          "color": "rosybrown",
          "count": 39,
          "dateCreated": "2019-09-15T00:00:00",
          "mean": 49.9,
          "sum": 1946,
          "topic": 2,
          "topic_interpretation": "Wohnen"
         },
         {
          "Topic": "Wohnen",
          "color": "rosybrown",
          "count": 44,
          "dateCreated": "2019-09-16T00:00:00",
          "mean": 186.95,
          "sum": 8226,
          "topic": 2,
          "topic_interpretation": "Wohnen"
         },
         {
          "Topic": "Wohnen",
          "color": "rosybrown",
          "count": 38,
          "dateCreated": "2019-09-17T00:00:00",
          "mean": 131.61,
          "sum": 5001,
          "topic": 2,
          "topic_interpretation": "Wohnen"
         },
         {
          "Topic": "Wohnen",
          "color": "rosybrown",
          "count": 46,
          "dateCreated": "2019-09-18T00:00:00",
          "mean": 78.09,
          "sum": 3592,
          "topic": 2,
          "topic_interpretation": "Wohnen"
         },
         {
          "Topic": "Wohnen",
          "color": "rosybrown",
          "count": 31,
          "dateCreated": "2019-09-19T00:00:00",
          "mean": 64.81,
          "sum": 2009,
          "topic": 2,
          "topic_interpretation": "Wohnen"
         },
         {
          "Topic": "Wohnen",
          "color": "rosybrown",
          "count": 33,
          "dateCreated": "2019-09-20T00:00:00",
          "mean": 104.12,
          "sum": 3436,
          "topic": 2,
          "topic_interpretation": "Wohnen"
         },
         {
          "Topic": "Wohnen",
          "color": "rosybrown",
          "count": 27,
          "dateCreated": "2019-09-21T00:00:00",
          "mean": 866.78,
          "sum": 23403,
          "topic": 2,
          "topic_interpretation": "Wohnen"
         },
         {
          "Topic": "Wohnen",
          "color": "rosybrown",
          "count": 49,
          "dateCreated": "2019-09-22T00:00:00",
          "mean": 90.61,
          "sum": 4440,
          "topic": 2,
          "topic_interpretation": "Wohnen"
         },
         {
          "Topic": "Wohnen",
          "color": "rosybrown",
          "count": 26,
          "dateCreated": "2019-09-23T00:00:00",
          "mean": 103.77,
          "sum": 2698,
          "topic": 2,
          "topic_interpretation": "Wohnen"
         },
         {
          "Topic": "Wohnen",
          "color": "rosybrown",
          "count": 55,
          "dateCreated": "2019-09-24T00:00:00",
          "mean": 76.29,
          "sum": 4196,
          "topic": 2,
          "topic_interpretation": "Wohnen"
         },
         {
          "Topic": "Wohnen",
          "color": "rosybrown",
          "count": 58,
          "dateCreated": "2019-09-25T00:00:00",
          "mean": 106.19,
          "sum": 6159,
          "topic": 2,
          "topic_interpretation": "Wohnen"
         },
         {
          "Topic": "Wohnen",
          "color": "rosybrown",
          "count": 66,
          "dateCreated": "2019-09-26T00:00:00",
          "mean": 117.53,
          "sum": 7757,
          "topic": 2,
          "topic_interpretation": "Wohnen"
         },
         {
          "Topic": "Wohnen",
          "color": "rosybrown",
          "count": 45,
          "dateCreated": "2019-09-27T00:00:00",
          "mean": 50.36,
          "sum": 2266,
          "topic": 2,
          "topic_interpretation": "Wohnen"
         },
         {
          "Topic": "Wohnen",
          "color": "rosybrown",
          "count": 43,
          "dateCreated": "2019-09-28T00:00:00",
          "mean": 97.53,
          "sum": 4194,
          "topic": 2,
          "topic_interpretation": "Wohnen"
         },
         {
          "Topic": "Wohnen",
          "color": "rosybrown",
          "count": 34,
          "dateCreated": "2019-09-29T00:00:00",
          "mean": 167.03,
          "sum": 5679,
          "topic": 2,
          "topic_interpretation": "Wohnen"
         },
         {
          "Topic": "Wohnen",
          "color": "rosybrown",
          "count": 23,
          "dateCreated": "2019-09-30T00:00:00",
          "mean": 88.35,
          "sum": 2032,
          "topic": 2,
          "topic_interpretation": "Wohnen"
         },
         {
          "Topic": "Grüne",
          "color": "green",
          "count": 69,
          "dateCreated": "2019-09-08T00:00:00",
          "mean": 124.74,
          "sum": 8607,
          "topic": 3,
          "topic_interpretation": "Grüne"
         },
         {
          "Topic": "Grüne",
          "color": "green",
          "count": 73,
          "dateCreated": "2019-09-09T00:00:00",
          "mean": 86.01,
          "sum": 6279,
          "topic": 3,
          "topic_interpretation": "Grüne"
         },
         {
          "Topic": "Grüne",
          "color": "green",
          "count": 40,
          "dateCreated": "2019-09-10T00:00:00",
          "mean": 179.78,
          "sum": 7191,
          "topic": 3,
          "topic_interpretation": "Grüne"
         },
         {
          "Topic": "Grüne",
          "color": "green",
          "count": 48,
          "dateCreated": "2019-09-11T00:00:00",
          "mean": 96.15,
          "sum": 4615,
          "topic": 3,
          "topic_interpretation": "Grüne"
         },
         {
          "Topic": "Grüne",
          "color": "green",
          "count": 50,
          "dateCreated": "2019-09-12T00:00:00",
          "mean": 67.74,
          "sum": 3387,
          "topic": 3,
          "topic_interpretation": "Grüne"
         },
         {
          "Topic": "Grüne",
          "color": "green",
          "count": 51,
          "dateCreated": "2019-09-13T00:00:00",
          "mean": 203.45,
          "sum": 10376,
          "topic": 3,
          "topic_interpretation": "Grüne"
         },
         {
          "Topic": "Grüne",
          "color": "green",
          "count": 47,
          "dateCreated": "2019-09-14T00:00:00",
          "mean": 121.94,
          "sum": 5731,
          "topic": 3,
          "topic_interpretation": "Grüne"
         },
         {
          "Topic": "Grüne",
          "color": "green",
          "count": 45,
          "dateCreated": "2019-09-15T00:00:00",
          "mean": 103,
          "sum": 4635,
          "topic": 3,
          "topic_interpretation": "Grüne"
         },
         {
          "Topic": "Grüne",
          "color": "green",
          "count": 41,
          "dateCreated": "2019-09-16T00:00:00",
          "mean": 122.15,
          "sum": 5008,
          "topic": 3,
          "topic_interpretation": "Grüne"
         },
         {
          "Topic": "Grüne",
          "color": "green",
          "count": 42,
          "dateCreated": "2019-09-17T00:00:00",
          "mean": 94.17,
          "sum": 3955,
          "topic": 3,
          "topic_interpretation": "Grüne"
         },
         {
          "Topic": "Grüne",
          "color": "green",
          "count": 50,
          "dateCreated": "2019-09-18T00:00:00",
          "mean": 117.48,
          "sum": 5874,
          "topic": 3,
          "topic_interpretation": "Grüne"
         },
         {
          "Topic": "Grüne",
          "color": "green",
          "count": 61,
          "dateCreated": "2019-09-19T00:00:00",
          "mean": 156.43,
          "sum": 9542,
          "topic": 3,
          "topic_interpretation": "Grüne"
         },
         {
          "Topic": "Grüne",
          "color": "green",
          "count": 53,
          "dateCreated": "2019-09-20T00:00:00",
          "mean": 124.91,
          "sum": 6620,
          "topic": 3,
          "topic_interpretation": "Grüne"
         },
         {
          "Topic": "Grüne",
          "color": "green",
          "count": 35,
          "dateCreated": "2019-09-21T00:00:00",
          "mean": 328.57,
          "sum": 11500,
          "topic": 3,
          "topic_interpretation": "Grüne"
         },
         {
          "Topic": "Grüne",
          "color": "green",
          "count": 25,
          "dateCreated": "2019-09-22T00:00:00",
          "mean": 61.08,
          "sum": 1527,
          "topic": 3,
          "topic_interpretation": "Grüne"
         },
         {
          "Topic": "Grüne",
          "color": "green",
          "count": 40,
          "dateCreated": "2019-09-23T00:00:00",
          "mean": 171,
          "sum": 6840,
          "topic": 3,
          "topic_interpretation": "Grüne"
         },
         {
          "Topic": "Grüne",
          "color": "green",
          "count": 58,
          "dateCreated": "2019-09-24T00:00:00",
          "mean": 98.83,
          "sum": 5732,
          "topic": 3,
          "topic_interpretation": "Grüne"
         },
         {
          "Topic": "Grüne",
          "color": "green",
          "count": 62,
          "dateCreated": "2019-09-25T00:00:00",
          "mean": 255.48,
          "sum": 15840,
          "topic": 3,
          "topic_interpretation": "Grüne"
         },
         {
          "Topic": "Grüne",
          "color": "green",
          "count": 68,
          "dateCreated": "2019-09-26T00:00:00",
          "mean": 186.78,
          "sum": 12701,
          "topic": 3,
          "topic_interpretation": "Grüne"
         },
         {
          "Topic": "Grüne",
          "color": "green",
          "count": 78,
          "dateCreated": "2019-09-27T00:00:00",
          "mean": 140.76,
          "sum": 10979,
          "topic": 3,
          "topic_interpretation": "Grüne"
         },
         {
          "Topic": "Grüne",
          "color": "green",
          "count": 91,
          "dateCreated": "2019-09-28T00:00:00",
          "mean": 123.22,
          "sum": 11213,
          "topic": 3,
          "topic_interpretation": "Grüne"
         },
         {
          "Topic": "Grüne",
          "color": "green",
          "count": 67,
          "dateCreated": "2019-09-29T00:00:00",
          "mean": 199.16,
          "sum": 13344,
          "topic": 3,
          "topic_interpretation": "Grüne"
         },
         {
          "Topic": "Grüne",
          "color": "green",
          "count": 40,
          "dateCreated": "2019-09-30T00:00:00",
          "mean": 128.6,
          "sum": 5144,
          "topic": 3,
          "topic_interpretation": "Grüne"
         },
         {
          "Topic": "Steuern / Geld",
          "color": "darkblue",
          "count": 77,
          "dateCreated": "2019-09-08T00:00:00",
          "mean": 131.6,
          "sum": 10133,
          "topic": 4,
          "topic_interpretation": "Steuern / Geld"
         },
         {
          "Topic": "Steuern / Geld",
          "color": "darkblue",
          "count": 84,
          "dateCreated": "2019-09-09T00:00:00",
          "mean": 119.42,
          "sum": 10031,
          "topic": 4,
          "topic_interpretation": "Steuern / Geld"
         },
         {
          "Topic": "Steuern / Geld",
          "color": "darkblue",
          "count": 81,
          "dateCreated": "2019-09-10T00:00:00",
          "mean": 63.05,
          "sum": 5107,
          "topic": 4,
          "topic_interpretation": "Steuern / Geld"
         },
         {
          "Topic": "Steuern / Geld",
          "color": "darkblue",
          "count": 65,
          "dateCreated": "2019-09-11T00:00:00",
          "mean": 239.08,
          "sum": 15540,
          "topic": 4,
          "topic_interpretation": "Steuern / Geld"
         },
         {
          "Topic": "Steuern / Geld",
          "color": "darkblue",
          "count": 54,
          "dateCreated": "2019-09-12T00:00:00",
          "mean": 116.31,
          "sum": 6281,
          "topic": 4,
          "topic_interpretation": "Steuern / Geld"
         },
         {
          "Topic": "Steuern / Geld",
          "color": "darkblue",
          "count": 50,
          "dateCreated": "2019-09-13T00:00:00",
          "mean": 259.38,
          "sum": 12969,
          "topic": 4,
          "topic_interpretation": "Steuern / Geld"
         },
         {
          "Topic": "Steuern / Geld",
          "color": "darkblue",
          "count": 48,
          "dateCreated": "2019-09-14T00:00:00",
          "mean": 107.4,
          "sum": 5155,
          "topic": 4,
          "topic_interpretation": "Steuern / Geld"
         },
         {
          "Topic": "Steuern / Geld",
          "color": "darkblue",
          "count": 66,
          "dateCreated": "2019-09-15T00:00:00",
          "mean": 85.21,
          "sum": 5624,
          "topic": 4,
          "topic_interpretation": "Steuern / Geld"
         },
         {
          "Topic": "Steuern / Geld",
          "color": "darkblue",
          "count": 54,
          "dateCreated": "2019-09-16T00:00:00",
          "mean": 93.43,
          "sum": 5045,
          "topic": 4,
          "topic_interpretation": "Steuern / Geld"
         },
         {
          "Topic": "Steuern / Geld",
          "color": "darkblue",
          "count": 67,
          "dateCreated": "2019-09-17T00:00:00",
          "mean": 191.94,
          "sum": 12860,
          "topic": 4,
          "topic_interpretation": "Steuern / Geld"
         },
         {
          "Topic": "Steuern / Geld",
          "color": "darkblue",
          "count": 52,
          "dateCreated": "2019-09-18T00:00:00",
          "mean": 47.29,
          "sum": 2459,
          "topic": 4,
          "topic_interpretation": "Steuern / Geld"
         },
         {
          "Topic": "Steuern / Geld",
          "color": "darkblue",
          "count": 94,
          "dateCreated": "2019-09-19T00:00:00",
          "mean": 122.37,
          "sum": 11503,
          "topic": 4,
          "topic_interpretation": "Steuern / Geld"
         },
         {
          "Topic": "Steuern / Geld",
          "color": "darkblue",
          "count": 88,
          "dateCreated": "2019-09-20T00:00:00",
          "mean": 197.7,
          "sum": 17398,
          "topic": 4,
          "topic_interpretation": "Steuern / Geld"
         },
         {
          "Topic": "Steuern / Geld",
          "color": "darkblue",
          "count": 47,
          "dateCreated": "2019-09-21T00:00:00",
          "mean": 92.49,
          "sum": 4347,
          "topic": 4,
          "topic_interpretation": "Steuern / Geld"
         },
         {
          "Topic": "Steuern / Geld",
          "color": "darkblue",
          "count": 56,
          "dateCreated": "2019-09-22T00:00:00",
          "mean": 433.73,
          "sum": 24289,
          "topic": 4,
          "topic_interpretation": "Steuern / Geld"
         },
         {
          "Topic": "Steuern / Geld",
          "color": "darkblue",
          "count": 41,
          "dateCreated": "2019-09-23T00:00:00",
          "mean": 599.07,
          "sum": 24562,
          "topic": 4,
          "topic_interpretation": "Steuern / Geld"
         },
         {
          "Topic": "Steuern / Geld",
          "color": "darkblue",
          "count": 57,
          "dateCreated": "2019-09-24T00:00:00",
          "mean": 197.11,
          "sum": 11235,
          "topic": 4,
          "topic_interpretation": "Steuern / Geld"
         },
         {
          "Topic": "Steuern / Geld",
          "color": "darkblue",
          "count": 77,
          "dateCreated": "2019-09-25T00:00:00",
          "mean": 349.16,
          "sum": 26885,
          "topic": 4,
          "topic_interpretation": "Steuern / Geld"
         },
         {
          "Topic": "Steuern / Geld",
          "color": "darkblue",
          "count": 79,
          "dateCreated": "2019-09-26T00:00:00",
          "mean": 73.48,
          "sum": 5805,
          "topic": 4,
          "topic_interpretation": "Steuern / Geld"
         },
         {
          "Topic": "Steuern / Geld",
          "color": "darkblue",
          "count": 47,
          "dateCreated": "2019-09-27T00:00:00",
          "mean": 433.23,
          "sum": 20362,
          "topic": 4,
          "topic_interpretation": "Steuern / Geld"
         },
         {
          "Topic": "Steuern / Geld",
          "color": "darkblue",
          "count": 62,
          "dateCreated": "2019-09-28T00:00:00",
          "mean": 136.87,
          "sum": 8486,
          "topic": 4,
          "topic_interpretation": "Steuern / Geld"
         },
         {
          "Topic": "Steuern / Geld",
          "color": "darkblue",
          "count": 59,
          "dateCreated": "2019-09-29T00:00:00",
          "mean": 116.08,
          "sum": 6849,
          "topic": 4,
          "topic_interpretation": "Steuern / Geld"
         },
         {
          "Topic": "Steuern / Geld",
          "color": "darkblue",
          "count": 30,
          "dateCreated": "2019-09-30T00:00:00",
          "mean": 94.1,
          "sum": 2823,
          "topic": 4,
          "topic_interpretation": "Steuern / Geld"
         },
         {
          "Topic": "ÖVP Mobilisierung",
          "color": "mediumturquoise",
          "count": 25,
          "dateCreated": "2019-09-08T00:00:00",
          "mean": 60.6,
          "sum": 1515,
          "topic": 5,
          "topic_interpretation": "ÖVP Mobilisierung"
         },
         {
          "Topic": "ÖVP Mobilisierung",
          "color": "mediumturquoise",
          "count": 54,
          "dateCreated": "2019-09-09T00:00:00",
          "mean": 69.93,
          "sum": 3776,
          "topic": 5,
          "topic_interpretation": "ÖVP Mobilisierung"
         },
         {
          "Topic": "ÖVP Mobilisierung",
          "color": "mediumturquoise",
          "count": 28,
          "dateCreated": "2019-09-10T00:00:00",
          "mean": 99.04,
          "sum": 2773,
          "topic": 5,
          "topic_interpretation": "ÖVP Mobilisierung"
         },
         {
          "Topic": "ÖVP Mobilisierung",
          "color": "mediumturquoise",
          "count": 44,
          "dateCreated": "2019-09-11T00:00:00",
          "mean": 211.86,
          "sum": 9322,
          "topic": 5,
          "topic_interpretation": "ÖVP Mobilisierung"
         },
         {
          "Topic": "ÖVP Mobilisierung",
          "color": "mediumturquoise",
          "count": 37,
          "dateCreated": "2019-09-12T00:00:00",
          "mean": 83.14,
          "sum": 3076,
          "topic": 5,
          "topic_interpretation": "ÖVP Mobilisierung"
         },
         {
          "Topic": "ÖVP Mobilisierung",
          "color": "mediumturquoise",
          "count": 40,
          "dateCreated": "2019-09-13T00:00:00",
          "mean": 160.55,
          "sum": 6422,
          "topic": 5,
          "topic_interpretation": "ÖVP Mobilisierung"
         },
         {
          "Topic": "ÖVP Mobilisierung",
          "color": "mediumturquoise",
          "count": 29,
          "dateCreated": "2019-09-14T00:00:00",
          "mean": 409.9,
          "sum": 11887,
          "topic": 5,
          "topic_interpretation": "ÖVP Mobilisierung"
         },
         {
          "Topic": "ÖVP Mobilisierung",
          "color": "mediumturquoise",
          "count": 40,
          "dateCreated": "2019-09-15T00:00:00",
          "mean": 178.7,
          "sum": 7148,
          "topic": 5,
          "topic_interpretation": "ÖVP Mobilisierung"
         },
         {
          "Topic": "ÖVP Mobilisierung",
          "color": "mediumturquoise",
          "count": 40,
          "dateCreated": "2019-09-16T00:00:00",
          "mean": 37.78,
          "sum": 1511,
          "topic": 5,
          "topic_interpretation": "ÖVP Mobilisierung"
         },
         {
          "Topic": "ÖVP Mobilisierung",
          "color": "mediumturquoise",
          "count": 39,
          "dateCreated": "2019-09-17T00:00:00",
          "mean": 215.41,
          "sum": 8401,
          "topic": 5,
          "topic_interpretation": "ÖVP Mobilisierung"
         },
         {
          "Topic": "ÖVP Mobilisierung",
          "color": "mediumturquoise",
          "count": 31,
          "dateCreated": "2019-09-18T00:00:00",
          "mean": 367.19,
          "sum": 11383,
          "topic": 5,
          "topic_interpretation": "ÖVP Mobilisierung"
         },
         {
          "Topic": "ÖVP Mobilisierung",
          "color": "mediumturquoise",
          "count": 33,
          "dateCreated": "2019-09-19T00:00:00",
          "mean": 82.39,
          "sum": 2719,
          "topic": 5,
          "topic_interpretation": "ÖVP Mobilisierung"
         },
         {
          "Topic": "ÖVP Mobilisierung",
          "color": "mediumturquoise",
          "count": 40,
          "dateCreated": "2019-09-20T00:00:00",
          "mean": 39.62,
          "sum": 1585,
          "topic": 5,
          "topic_interpretation": "ÖVP Mobilisierung"
         },
         {
          "Topic": "ÖVP Mobilisierung",
          "color": "mediumturquoise",
          "count": 21,
          "dateCreated": "2019-09-21T00:00:00",
          "mean": 165.05,
          "sum": 3466,
          "topic": 5,
          "topic_interpretation": "ÖVP Mobilisierung"
         },
         {
          "Topic": "ÖVP Mobilisierung",
          "color": "mediumturquoise",
          "count": 50,
          "dateCreated": "2019-09-22T00:00:00",
          "mean": 194.2,
          "sum": 9710,
          "topic": 5,
          "topic_interpretation": "ÖVP Mobilisierung"
         },
         {
          "Topic": "ÖVP Mobilisierung",
          "color": "mediumturquoise",
          "count": 28,
          "dateCreated": "2019-09-23T00:00:00",
          "mean": 85.93,
          "sum": 2406,
          "topic": 5,
          "topic_interpretation": "ÖVP Mobilisierung"
         },
         {
          "Topic": "ÖVP Mobilisierung",
          "color": "mediumturquoise",
          "count": 38,
          "dateCreated": "2019-09-24T00:00:00",
          "mean": 381.84,
          "sum": 14510,
          "topic": 5,
          "topic_interpretation": "ÖVP Mobilisierung"
         },
         {
          "Topic": "ÖVP Mobilisierung",
          "color": "mediumturquoise",
          "count": 32,
          "dateCreated": "2019-09-25T00:00:00",
          "mean": 78.12,
          "sum": 2500,
          "topic": 5,
          "topic_interpretation": "ÖVP Mobilisierung"
         },
         {
          "Topic": "ÖVP Mobilisierung",
          "color": "mediumturquoise",
          "count": 73,
          "dateCreated": "2019-09-26T00:00:00",
          "mean": 128.64,
          "sum": 9391,
          "topic": 5,
          "topic_interpretation": "ÖVP Mobilisierung"
         },
         {
          "Topic": "ÖVP Mobilisierung",
          "color": "mediumturquoise",
          "count": 45,
          "dateCreated": "2019-09-27T00:00:00",
          "mean": 173.47,
          "sum": 7806,
          "topic": 5,
          "topic_interpretation": "ÖVP Mobilisierung"
         },
         {
          "Topic": "ÖVP Mobilisierung",
          "color": "mediumturquoise",
          "count": 47,
          "dateCreated": "2019-09-28T00:00:00",
          "mean": 75.98,
          "sum": 3571,
          "topic": 5,
          "topic_interpretation": "ÖVP Mobilisierung"
         },
         {
          "Topic": "ÖVP Mobilisierung",
          "color": "mediumturquoise",
          "count": 35,
          "dateCreated": "2019-09-29T00:00:00",
          "mean": 179.23,
          "sum": 6273,
          "topic": 5,
          "topic_interpretation": "ÖVP Mobilisierung"
         },
         {
          "Topic": "ÖVP Mobilisierung",
          "color": "mediumturquoise",
          "count": 17,
          "dateCreated": "2019-09-30T00:00:00",
          "mean": 85.82,
          "sum": 1459,
          "topic": 5,
          "topic_interpretation": "ÖVP Mobilisierung"
         },
         {
          "Topic": "Parteien",
          "color": "gold",
          "count": 88,
          "dateCreated": "2019-09-08T00:00:00",
          "mean": 146.84,
          "sum": 12922,
          "topic": 6,
          "topic_interpretation": "Parteien"
         },
         {
          "Topic": "Parteien",
          "color": "gold",
          "count": 80,
          "dateCreated": "2019-09-09T00:00:00",
          "mean": 48.1,
          "sum": 3848,
          "topic": 6,
          "topic_interpretation": "Parteien"
         },
         {
          "Topic": "Parteien",
          "color": "gold",
          "count": 40,
          "dateCreated": "2019-09-10T00:00:00",
          "mean": 116.92,
          "sum": 4677,
          "topic": 6,
          "topic_interpretation": "Parteien"
         },
         {
          "Topic": "Parteien",
          "color": "gold",
          "count": 58,
          "dateCreated": "2019-09-11T00:00:00",
          "mean": 139.07,
          "sum": 8066,
          "topic": 6,
          "topic_interpretation": "Parteien"
         },
         {
          "Topic": "Parteien",
          "color": "gold",
          "count": 68,
          "dateCreated": "2019-09-12T00:00:00",
          "mean": 72.56,
          "sum": 4934,
          "topic": 6,
          "topic_interpretation": "Parteien"
         },
         {
          "Topic": "Parteien",
          "color": "gold",
          "count": 59,
          "dateCreated": "2019-09-13T00:00:00",
          "mean": 203.85,
          "sum": 12027,
          "topic": 6,
          "topic_interpretation": "Parteien"
         },
         {
          "Topic": "Parteien",
          "color": "gold",
          "count": 58,
          "dateCreated": "2019-09-14T00:00:00",
          "mean": 232.83,
          "sum": 13504,
          "topic": 6,
          "topic_interpretation": "Parteien"
         },
         {
          "Topic": "Parteien",
          "color": "gold",
          "count": 67,
          "dateCreated": "2019-09-15T00:00:00",
          "mean": 60.6,
          "sum": 4060,
          "topic": 6,
          "topic_interpretation": "Parteien"
         },
         {
          "Topic": "Parteien",
          "color": "gold",
          "count": 57,
          "dateCreated": "2019-09-16T00:00:00",
          "mean": 103.84,
          "sum": 5919,
          "topic": 6,
          "topic_interpretation": "Parteien"
         },
         {
          "Topic": "Parteien",
          "color": "gold",
          "count": 70,
          "dateCreated": "2019-09-17T00:00:00",
          "mean": 47.73,
          "sum": 3341,
          "topic": 6,
          "topic_interpretation": "Parteien"
         },
         {
          "Topic": "Parteien",
          "color": "gold",
          "count": 68,
          "dateCreated": "2019-09-18T00:00:00",
          "mean": 202.29,
          "sum": 13756,
          "topic": 6,
          "topic_interpretation": "Parteien"
         },
         {
          "Topic": "Parteien",
          "color": "gold",
          "count": 67,
          "dateCreated": "2019-09-19T00:00:00",
          "mean": 138.94,
          "sum": 9309,
          "topic": 6,
          "topic_interpretation": "Parteien"
         },
         {
          "Topic": "Parteien",
          "color": "gold",
          "count": 75,
          "dateCreated": "2019-09-20T00:00:00",
          "mean": 223.56,
          "sum": 16767,
          "topic": 6,
          "topic_interpretation": "Parteien"
         },
         {
          "Topic": "Parteien",
          "color": "gold",
          "count": 46,
          "dateCreated": "2019-09-21T00:00:00",
          "mean": 326.17,
          "sum": 15004,
          "topic": 6,
          "topic_interpretation": "Parteien"
         },
         {
          "Topic": "Parteien",
          "color": "gold",
          "count": 58,
          "dateCreated": "2019-09-22T00:00:00",
          "mean": 67.03,
          "sum": 3888,
          "topic": 6,
          "topic_interpretation": "Parteien"
         },
         {
          "Topic": "Parteien",
          "color": "gold",
          "count": 60,
          "dateCreated": "2019-09-23T00:00:00",
          "mean": 230.3,
          "sum": 13818,
          "topic": 6,
          "topic_interpretation": "Parteien"
         },
         {
          "Topic": "Parteien",
          "color": "gold",
          "count": 59,
          "dateCreated": "2019-09-24T00:00:00",
          "mean": 133.85,
          "sum": 7897,
          "topic": 6,
          "topic_interpretation": "Parteien"
         },
         {
          "Topic": "Parteien",
          "color": "gold",
          "count": 79,
          "dateCreated": "2019-09-25T00:00:00",
          "mean": 137.73,
          "sum": 10881,
          "topic": 6,
          "topic_interpretation": "Parteien"
         },
         {
          "Topic": "Parteien",
          "color": "gold",
          "count": 98,
          "dateCreated": "2019-09-26T00:00:00",
          "mean": 94.81,
          "sum": 9291,
          "topic": 6,
          "topic_interpretation": "Parteien"
         },
         {
          "Topic": "Parteien",
          "color": "gold",
          "count": 72,
          "dateCreated": "2019-09-27T00:00:00",
          "mean": 143.54,
          "sum": 10335,
          "topic": 6,
          "topic_interpretation": "Parteien"
         },
         {
          "Topic": "Parteien",
          "color": "gold",
          "count": 79,
          "dateCreated": "2019-09-28T00:00:00",
          "mean": 110.15,
          "sum": 8702,
          "topic": 6,
          "topic_interpretation": "Parteien"
         },
         {
          "Topic": "Parteien",
          "color": "gold",
          "count": 47,
          "dateCreated": "2019-09-29T00:00:00",
          "mean": 440.89,
          "sum": 20722,
          "topic": 6,
          "topic_interpretation": "Parteien"
         },
         {
          "Topic": "Parteien",
          "color": "gold",
          "count": 42,
          "dateCreated": "2019-09-30T00:00:00",
          "mean": 79.69,
          "sum": 3347,
          "topic": 6,
          "topic_interpretation": "Parteien"
         },
         {
          "Topic": "Prognosen",
          "color": "darkcyan",
          "count": 55,
          "dateCreated": "2019-09-08T00:00:00",
          "mean": 128.15,
          "sum": 7048,
          "topic": 7,
          "topic_interpretation": "Prognosen"
         },
         {
          "Topic": "Prognosen",
          "color": "darkcyan",
          "count": 56,
          "dateCreated": "2019-09-09T00:00:00",
          "mean": 103.43,
          "sum": 5792,
          "topic": 7,
          "topic_interpretation": "Prognosen"
         },
         {
          "Topic": "Prognosen",
          "color": "darkcyan",
          "count": 65,
          "dateCreated": "2019-09-10T00:00:00",
          "mean": 99.6,
          "sum": 6474,
          "topic": 7,
          "topic_interpretation": "Prognosen"
         },
         {
          "Topic": "Prognosen",
          "color": "darkcyan",
          "count": 36,
          "dateCreated": "2019-09-11T00:00:00",
          "mean": 165.67,
          "sum": 5964,
          "topic": 7,
          "topic_interpretation": "Prognosen"
         },
         {
          "Topic": "Prognosen",
          "color": "darkcyan",
          "count": 64,
          "dateCreated": "2019-09-12T00:00:00",
          "mean": 304.03,
          "sum": 19458,
          "topic": 7,
          "topic_interpretation": "Prognosen"
         },
         {
          "Topic": "Prognosen",
          "color": "darkcyan",
          "count": 45,
          "dateCreated": "2019-09-13T00:00:00",
          "mean": 117.04,
          "sum": 5267,
          "topic": 7,
          "topic_interpretation": "Prognosen"
         },
         {
          "Topic": "Prognosen",
          "color": "darkcyan",
          "count": 34,
          "dateCreated": "2019-09-14T00:00:00",
          "mean": 93.68,
          "sum": 3185,
          "topic": 7,
          "topic_interpretation": "Prognosen"
         },
         {
          "Topic": "Prognosen",
          "color": "darkcyan",
          "count": 47,
          "dateCreated": "2019-09-15T00:00:00",
          "mean": 199.66,
          "sum": 9384,
          "topic": 7,
          "topic_interpretation": "Prognosen"
         },
         {
          "Topic": "Prognosen",
          "color": "darkcyan",
          "count": 54,
          "dateCreated": "2019-09-16T00:00:00",
          "mean": 113.61,
          "sum": 6135,
          "topic": 7,
          "topic_interpretation": "Prognosen"
         },
         {
          "Topic": "Prognosen",
          "color": "darkcyan",
          "count": 69,
          "dateCreated": "2019-09-17T00:00:00",
          "mean": 143.42,
          "sum": 9896,
          "topic": 7,
          "topic_interpretation": "Prognosen"
         },
         {
          "Topic": "Prognosen",
          "color": "darkcyan",
          "count": 45,
          "dateCreated": "2019-09-18T00:00:00",
          "mean": 104.09,
          "sum": 4684,
          "topic": 7,
          "topic_interpretation": "Prognosen"
         },
         {
          "Topic": "Prognosen",
          "color": "darkcyan",
          "count": 68,
          "dateCreated": "2019-09-19T00:00:00",
          "mean": 120.68,
          "sum": 8206,
          "topic": 7,
          "topic_interpretation": "Prognosen"
         },
         {
          "Topic": "Prognosen",
          "color": "darkcyan",
          "count": 44,
          "dateCreated": "2019-09-20T00:00:00",
          "mean": 215.43,
          "sum": 9479,
          "topic": 7,
          "topic_interpretation": "Prognosen"
         },
         {
          "Topic": "Prognosen",
          "color": "darkcyan",
          "count": 49,
          "dateCreated": "2019-09-21T00:00:00",
          "mean": 241.12,
          "sum": 11815,
          "topic": 7,
          "topic_interpretation": "Prognosen"
         },
         {
          "Topic": "Prognosen",
          "color": "darkcyan",
          "count": 45,
          "dateCreated": "2019-09-22T00:00:00",
          "mean": 177.73,
          "sum": 7998,
          "topic": 7,
          "topic_interpretation": "Prognosen"
         },
         {
          "Topic": "Prognosen",
          "color": "darkcyan",
          "count": 41,
          "dateCreated": "2019-09-23T00:00:00",
          "mean": 108.29,
          "sum": 4440,
          "topic": 7,
          "topic_interpretation": "Prognosen"
         },
         {
          "Topic": "Prognosen",
          "color": "darkcyan",
          "count": 50,
          "dateCreated": "2019-09-24T00:00:00",
          "mean": 245.74,
          "sum": 12287,
          "topic": 7,
          "topic_interpretation": "Prognosen"
         },
         {
          "Topic": "Prognosen",
          "color": "darkcyan",
          "count": 66,
          "dateCreated": "2019-09-25T00:00:00",
          "mean": 79.39,
          "sum": 5240,
          "topic": 7,
          "topic_interpretation": "Prognosen"
         },
         {
          "Topic": "Prognosen",
          "color": "darkcyan",
          "count": 71,
          "dateCreated": "2019-09-26T00:00:00",
          "mean": 55.93,
          "sum": 3971,
          "topic": 7,
          "topic_interpretation": "Prognosen"
         },
         {
          "Topic": "Prognosen",
          "color": "darkcyan",
          "count": 59,
          "dateCreated": "2019-09-27T00:00:00",
          "mean": 136,
          "sum": 8024,
          "topic": 7,
          "topic_interpretation": "Prognosen"
         },
         {
          "Topic": "Prognosen",
          "color": "darkcyan",
          "count": 61,
          "dateCreated": "2019-09-28T00:00:00",
          "mean": 67.97,
          "sum": 4146,
          "topic": 7,
          "topic_interpretation": "Prognosen"
         },
         {
          "Topic": "Prognosen",
          "color": "darkcyan",
          "count": 48,
          "dateCreated": "2019-09-29T00:00:00",
          "mean": 251.67,
          "sum": 12080,
          "topic": 7,
          "topic_interpretation": "Prognosen"
         },
         {
          "Topic": "Prognosen",
          "color": "darkcyan",
          "count": 24,
          "dateCreated": "2019-09-30T00:00:00",
          "mean": 212.88,
          "sum": 5109,
          "topic": 7,
          "topic_interpretation": "Prognosen"
         },
         {
          "Topic": "KPÖ / Linke Forderungen",
          "color": "darkred",
          "count": 37,
          "dateCreated": "2019-09-08T00:00:00",
          "mean": 202.05,
          "sum": 7476,
          "topic": 8,
          "topic_interpretation": "KPÖ / Linke Forderungen"
         },
         {
          "Topic": "KPÖ / Linke Forderungen",
          "color": "darkred",
          "count": 63,
          "dateCreated": "2019-09-09T00:00:00",
          "mean": 107.1,
          "sum": 6747,
          "topic": 8,
          "topic_interpretation": "KPÖ / Linke Forderungen"
         },
         {
          "Topic": "KPÖ / Linke Forderungen",
          "color": "darkred",
          "count": 58,
          "dateCreated": "2019-09-10T00:00:00",
          "mean": 63.43,
          "sum": 3679,
          "topic": 8,
          "topic_interpretation": "KPÖ / Linke Forderungen"
         },
         {
          "Topic": "KPÖ / Linke Forderungen",
          "color": "darkred",
          "count": 52,
          "dateCreated": "2019-09-11T00:00:00",
          "mean": 97.75,
          "sum": 5083,
          "topic": 8,
          "topic_interpretation": "KPÖ / Linke Forderungen"
         },
         {
          "Topic": "KPÖ / Linke Forderungen",
          "color": "darkred",
          "count": 66,
          "dateCreated": "2019-09-12T00:00:00",
          "mean": 77.47,
          "sum": 5113,
          "topic": 8,
          "topic_interpretation": "KPÖ / Linke Forderungen"
         },
         {
          "Topic": "KPÖ / Linke Forderungen",
          "color": "darkred",
          "count": 35,
          "dateCreated": "2019-09-13T00:00:00",
          "mean": 195.91,
          "sum": 6857,
          "topic": 8,
          "topic_interpretation": "KPÖ / Linke Forderungen"
         },
         {
          "Topic": "KPÖ / Linke Forderungen",
          "color": "darkred",
          "count": 27,
          "dateCreated": "2019-09-14T00:00:00",
          "mean": 136.81,
          "sum": 3694,
          "topic": 8,
          "topic_interpretation": "KPÖ / Linke Forderungen"
         },
         {
          "Topic": "KPÖ / Linke Forderungen",
          "color": "darkred",
          "count": 43,
          "dateCreated": "2019-09-15T00:00:00",
          "mean": 66.79,
          "sum": 2872,
          "topic": 8,
          "topic_interpretation": "KPÖ / Linke Forderungen"
         },
         {
          "Topic": "KPÖ / Linke Forderungen",
          "color": "darkred",
          "count": 46,
          "dateCreated": "2019-09-16T00:00:00",
          "mean": 72.89,
          "sum": 3353,
          "topic": 8,
          "topic_interpretation": "KPÖ / Linke Forderungen"
         },
         {
          "Topic": "KPÖ / Linke Forderungen",
          "color": "darkred",
          "count": 45,
          "dateCreated": "2019-09-17T00:00:00",
          "mean": 105.24,
          "sum": 4736,
          "topic": 8,
          "topic_interpretation": "KPÖ / Linke Forderungen"
         },
         {
          "Topic": "KPÖ / Linke Forderungen",
          "color": "darkred",
          "count": 44,
          "dateCreated": "2019-09-18T00:00:00",
          "mean": 199.39,
          "sum": 8773,
          "topic": 8,
          "topic_interpretation": "KPÖ / Linke Forderungen"
         },
         {
          "Topic": "KPÖ / Linke Forderungen",
          "color": "darkred",
          "count": 50,
          "dateCreated": "2019-09-19T00:00:00",
          "mean": 169.54,
          "sum": 8477,
          "topic": 8,
          "topic_interpretation": "KPÖ / Linke Forderungen"
         },
         {
          "Topic": "KPÖ / Linke Forderungen",
          "color": "darkred",
          "count": 47,
          "dateCreated": "2019-09-20T00:00:00",
          "mean": 176.3,
          "sum": 8286,
          "topic": 8,
          "topic_interpretation": "KPÖ / Linke Forderungen"
         },
         {
          "Topic": "KPÖ / Linke Forderungen",
          "color": "darkred",
          "count": 30,
          "dateCreated": "2019-09-21T00:00:00",
          "mean": 97.77,
          "sum": 2933,
          "topic": 8,
          "topic_interpretation": "KPÖ / Linke Forderungen"
         },
         {
          "Topic": "KPÖ / Linke Forderungen",
          "color": "darkred",
          "count": 44,
          "dateCreated": "2019-09-22T00:00:00",
          "mean": 141.32,
          "sum": 6218,
          "topic": 8,
          "topic_interpretation": "KPÖ / Linke Forderungen"
         },
         {
          "Topic": "KPÖ / Linke Forderungen",
          "color": "darkred",
          "count": 32,
          "dateCreated": "2019-09-23T00:00:00",
          "mean": 155.62,
          "sum": 4980,
          "topic": 8,
          "topic_interpretation": "KPÖ / Linke Forderungen"
         },
         {
          "Topic": "KPÖ / Linke Forderungen",
          "color": "darkred",
          "count": 51,
          "dateCreated": "2019-09-24T00:00:00",
          "mean": 302.8,
          "sum": 15443,
          "topic": 8,
          "topic_interpretation": "KPÖ / Linke Forderungen"
         },
         {
          "Topic": "KPÖ / Linke Forderungen",
          "color": "darkred",
          "count": 48,
          "dateCreated": "2019-09-25T00:00:00",
          "mean": 101.75,
          "sum": 4884,
          "topic": 8,
          "topic_interpretation": "KPÖ / Linke Forderungen"
         },
         {
          "Topic": "KPÖ / Linke Forderungen",
          "color": "darkred",
          "count": 57,
          "dateCreated": "2019-09-26T00:00:00",
          "mean": 93,
          "sum": 5301,
          "topic": 8,
          "topic_interpretation": "KPÖ / Linke Forderungen"
         },
         {
          "Topic": "KPÖ / Linke Forderungen",
          "color": "darkred",
          "count": 48,
          "dateCreated": "2019-09-27T00:00:00",
          "mean": 68.46,
          "sum": 3286,
          "topic": 8,
          "topic_interpretation": "KPÖ / Linke Forderungen"
         },
         {
          "Topic": "KPÖ / Linke Forderungen",
          "color": "darkred",
          "count": 60,
          "dateCreated": "2019-09-28T00:00:00",
          "mean": 90.45,
          "sum": 5427,
          "topic": 8,
          "topic_interpretation": "KPÖ / Linke Forderungen"
         },
         {
          "Topic": "KPÖ / Linke Forderungen",
          "color": "darkred",
          "count": 33,
          "dateCreated": "2019-09-29T00:00:00",
          "mean": 101.36,
          "sum": 3345,
          "topic": 8,
          "topic_interpretation": "KPÖ / Linke Forderungen"
         },
         {
          "Topic": "KPÖ / Linke Forderungen",
          "color": "darkred",
          "count": 29,
          "dateCreated": "2019-09-30T00:00:00",
          "mean": 105.69,
          "sum": 3065,
          "topic": 8,
          "topic_interpretation": "KPÖ / Linke Forderungen"
         },
         {
          "Topic": "Dank / TV-Runde",
          "color": "palegreen",
          "count": 81,
          "dateCreated": "2019-09-08T00:00:00",
          "mean": 108.42,
          "sum": 8782,
          "topic": 9,
          "topic_interpretation": "Dank / TV-Runde"
         },
         {
          "Topic": "Dank / TV-Runde",
          "color": "palegreen",
          "count": 60,
          "dateCreated": "2019-09-09T00:00:00",
          "mean": 187.95,
          "sum": 11277,
          "topic": 9,
          "topic_interpretation": "Dank / TV-Runde"
         },
         {
          "Topic": "Dank / TV-Runde",
          "color": "palegreen",
          "count": 56,
          "dateCreated": "2019-09-10T00:00:00",
          "mean": 84.04,
          "sum": 4706,
          "topic": 9,
          "topic_interpretation": "Dank / TV-Runde"
         },
         {
          "Topic": "Dank / TV-Runde",
          "color": "palegreen",
          "count": 63,
          "dateCreated": "2019-09-11T00:00:00",
          "mean": 251.24,
          "sum": 15828,
          "topic": 9,
          "topic_interpretation": "Dank / TV-Runde"
         },
         {
          "Topic": "Dank / TV-Runde",
          "color": "palegreen",
          "count": 72,
          "dateCreated": "2019-09-12T00:00:00",
          "mean": 143.32,
          "sum": 10319,
          "topic": 9,
          "topic_interpretation": "Dank / TV-Runde"
         },
         {
          "Topic": "Dank / TV-Runde",
          "color": "palegreen",
          "count": 44,
          "dateCreated": "2019-09-13T00:00:00",
          "mean": 102.66,
          "sum": 4517,
          "topic": 9,
          "topic_interpretation": "Dank / TV-Runde"
         },
         {
          "Topic": "Dank / TV-Runde",
          "color": "palegreen",
          "count": 44,
          "dateCreated": "2019-09-14T00:00:00",
          "mean": 287.86,
          "sum": 12666,
          "topic": 9,
          "topic_interpretation": "Dank / TV-Runde"
         },
         {
          "Topic": "Dank / TV-Runde",
          "color": "palegreen",
          "count": 65,
          "dateCreated": "2019-09-15T00:00:00",
          "mean": 96.49,
          "sum": 6272,
          "topic": 9,
          "topic_interpretation": "Dank / TV-Runde"
         },
         {
          "Topic": "Dank / TV-Runde",
          "color": "palegreen",
          "count": 45,
          "dateCreated": "2019-09-16T00:00:00",
          "mean": 116.24,
          "sum": 5231,
          "topic": 9,
          "topic_interpretation": "Dank / TV-Runde"
         },
         {
          "Topic": "Dank / TV-Runde",
          "color": "palegreen",
          "count": 51,
          "dateCreated": "2019-09-17T00:00:00",
          "mean": 147.14,
          "sum": 7504,
          "topic": 9,
          "topic_interpretation": "Dank / TV-Runde"
         },
         {
          "Topic": "Dank / TV-Runde",
          "color": "palegreen",
          "count": 50,
          "dateCreated": "2019-09-18T00:00:00",
          "mean": 107.56,
          "sum": 5378,
          "topic": 9,
          "topic_interpretation": "Dank / TV-Runde"
         },
         {
          "Topic": "Dank / TV-Runde",
          "color": "palegreen",
          "count": 78,
          "dateCreated": "2019-09-19T00:00:00",
          "mean": 187.74,
          "sum": 14644,
          "topic": 9,
          "topic_interpretation": "Dank / TV-Runde"
         },
         {
          "Topic": "Dank / TV-Runde",
          "color": "palegreen",
          "count": 50,
          "dateCreated": "2019-09-20T00:00:00",
          "mean": 120.18,
          "sum": 6009,
          "topic": 9,
          "topic_interpretation": "Dank / TV-Runde"
         },
         {
          "Topic": "Dank / TV-Runde",
          "color": "palegreen",
          "count": 35,
          "dateCreated": "2019-09-21T00:00:00",
          "mean": 237.17,
          "sum": 8301,
          "topic": 9,
          "topic_interpretation": "Dank / TV-Runde"
         },
         {
          "Topic": "Dank / TV-Runde",
          "color": "palegreen",
          "count": 54,
          "dateCreated": "2019-09-22T00:00:00",
          "mean": 183.78,
          "sum": 9924,
          "topic": 9,
          "topic_interpretation": "Dank / TV-Runde"
         },
         {
          "Topic": "Dank / TV-Runde",
          "color": "palegreen",
          "count": 43,
          "dateCreated": "2019-09-23T00:00:00",
          "mean": 145.53,
          "sum": 6258,
          "topic": 9,
          "topic_interpretation": "Dank / TV-Runde"
         },
         {
          "Topic": "Dank / TV-Runde",
          "color": "palegreen",
          "count": 58,
          "dateCreated": "2019-09-24T00:00:00",
          "mean": 265.1,
          "sum": 15376,
          "topic": 9,
          "topic_interpretation": "Dank / TV-Runde"
         },
         {
          "Topic": "Dank / TV-Runde",
          "color": "palegreen",
          "count": 49,
          "dateCreated": "2019-09-25T00:00:00",
          "mean": 159.67,
          "sum": 7824,
          "topic": 9,
          "topic_interpretation": "Dank / TV-Runde"
         },
         {
          "Topic": "Dank / TV-Runde",
          "color": "palegreen",
          "count": 100,
          "dateCreated": "2019-09-26T00:00:00",
          "mean": 78.67,
          "sum": 7867,
          "topic": 9,
          "topic_interpretation": "Dank / TV-Runde"
         },
         {
          "Topic": "Dank / TV-Runde",
          "color": "palegreen",
          "count": 44,
          "dateCreated": "2019-09-27T00:00:00",
          "mean": 66.55,
          "sum": 2928,
          "topic": 9,
          "topic_interpretation": "Dank / TV-Runde"
         },
         {
          "Topic": "Dank / TV-Runde",
          "color": "palegreen",
          "count": 64,
          "dateCreated": "2019-09-28T00:00:00",
          "mean": 24.19,
          "sum": 1548,
          "topic": 9,
          "topic_interpretation": "Dank / TV-Runde"
         },
         {
          "Topic": "Dank / TV-Runde",
          "color": "palegreen",
          "count": 93,
          "dateCreated": "2019-09-29T00:00:00",
          "mean": 218.05,
          "sum": 20279,
          "topic": 9,
          "topic_interpretation": "Dank / TV-Runde"
         },
         {
          "Topic": "Dank / TV-Runde",
          "color": "palegreen",
          "count": 36,
          "dateCreated": "2019-09-30T00:00:00",
          "mean": 80.53,
          "sum": 2899,
          "topic": 9,
          "topic_interpretation": "Dank / TV-Runde"
         },
         {
          "Topic": "Links / Alternativ",
          "color": "lime",
          "count": 51,
          "dateCreated": "2019-09-08T00:00:00",
          "mean": 196.69,
          "sum": 10031,
          "topic": 10,
          "topic_interpretation": "Links / Alternativ"
         },
         {
          "Topic": "Links / Alternativ",
          "color": "lime",
          "count": 48,
          "dateCreated": "2019-09-09T00:00:00",
          "mean": 136.81,
          "sum": 6567,
          "topic": 10,
          "topic_interpretation": "Links / Alternativ"
         },
         {
          "Topic": "Links / Alternativ",
          "color": "lime",
          "count": 50,
          "dateCreated": "2019-09-10T00:00:00",
          "mean": 182.04,
          "sum": 9102,
          "topic": 10,
          "topic_interpretation": "Links / Alternativ"
         },
         {
          "Topic": "Links / Alternativ",
          "color": "lime",
          "count": 51,
          "dateCreated": "2019-09-11T00:00:00",
          "mean": 92.49,
          "sum": 4717,
          "topic": 10,
          "topic_interpretation": "Links / Alternativ"
         },
         {
          "Topic": "Links / Alternativ",
          "color": "lime",
          "count": 50,
          "dateCreated": "2019-09-12T00:00:00",
          "mean": 112.12,
          "sum": 5606,
          "topic": 10,
          "topic_interpretation": "Links / Alternativ"
         },
         {
          "Topic": "Links / Alternativ",
          "color": "lime",
          "count": 35,
          "dateCreated": "2019-09-13T00:00:00",
          "mean": 98.37,
          "sum": 3443,
          "topic": 10,
          "topic_interpretation": "Links / Alternativ"
         },
         {
          "Topic": "Links / Alternativ",
          "color": "lime",
          "count": 37,
          "dateCreated": "2019-09-14T00:00:00",
          "mean": 112.89,
          "sum": 4177,
          "topic": 10,
          "topic_interpretation": "Links / Alternativ"
         },
         {
          "Topic": "Links / Alternativ",
          "color": "lime",
          "count": 45,
          "dateCreated": "2019-09-15T00:00:00",
          "mean": 75.73,
          "sum": 3408,
          "topic": 10,
          "topic_interpretation": "Links / Alternativ"
         },
         {
          "Topic": "Links / Alternativ",
          "color": "lime",
          "count": 59,
          "dateCreated": "2019-09-16T00:00:00",
          "mean": 120.56,
          "sum": 7113,
          "topic": 10,
          "topic_interpretation": "Links / Alternativ"
         },
         {
          "Topic": "Links / Alternativ",
          "color": "lime",
          "count": 44,
          "dateCreated": "2019-09-17T00:00:00",
          "mean": 145.57,
          "sum": 6405,
          "topic": 10,
          "topic_interpretation": "Links / Alternativ"
         },
         {
          "Topic": "Links / Alternativ",
          "color": "lime",
          "count": 47,
          "dateCreated": "2019-09-18T00:00:00",
          "mean": 121.06,
          "sum": 5690,
          "topic": 10,
          "topic_interpretation": "Links / Alternativ"
         },
         {
          "Topic": "Links / Alternativ",
          "color": "lime",
          "count": 39,
          "dateCreated": "2019-09-19T00:00:00",
          "mean": 123.56,
          "sum": 4819,
          "topic": 10,
          "topic_interpretation": "Links / Alternativ"
         },
         {
          "Topic": "Links / Alternativ",
          "color": "lime",
          "count": 49,
          "dateCreated": "2019-09-20T00:00:00",
          "mean": 90.53,
          "sum": 4436,
          "topic": 10,
          "topic_interpretation": "Links / Alternativ"
         },
         {
          "Topic": "Links / Alternativ",
          "color": "lime",
          "count": 29,
          "dateCreated": "2019-09-21T00:00:00",
          "mean": 94.38,
          "sum": 2737,
          "topic": 10,
          "topic_interpretation": "Links / Alternativ"
         },
         {
          "Topic": "Links / Alternativ",
          "color": "lime",
          "count": 41,
          "dateCreated": "2019-09-22T00:00:00",
          "mean": 148.12,
          "sum": 6073,
          "topic": 10,
          "topic_interpretation": "Links / Alternativ"
         },
         {
          "Topic": "Links / Alternativ",
          "color": "lime",
          "count": 34,
          "dateCreated": "2019-09-23T00:00:00",
          "mean": 860.91,
          "sum": 29271,
          "topic": 10,
          "topic_interpretation": "Links / Alternativ"
         },
         {
          "Topic": "Links / Alternativ",
          "color": "lime",
          "count": 45,
          "dateCreated": "2019-09-24T00:00:00",
          "mean": 88.53,
          "sum": 3984,
          "topic": 10,
          "topic_interpretation": "Links / Alternativ"
         },
         {
          "Topic": "Links / Alternativ",
          "color": "lime",
          "count": 46,
          "dateCreated": "2019-09-25T00:00:00",
          "mean": 329.7,
          "sum": 15166,
          "topic": 10,
          "topic_interpretation": "Links / Alternativ"
         },
         {
          "Topic": "Links / Alternativ",
          "color": "lime",
          "count": 62,
          "dateCreated": "2019-09-26T00:00:00",
          "mean": 41.55,
          "sum": 2576,
          "topic": 10,
          "topic_interpretation": "Links / Alternativ"
         },
         {
          "Topic": "Links / Alternativ",
          "color": "lime",
          "count": 46,
          "dateCreated": "2019-09-27T00:00:00",
          "mean": 57.67,
          "sum": 2653,
          "topic": 10,
          "topic_interpretation": "Links / Alternativ"
         },
         {
          "Topic": "Links / Alternativ",
          "color": "lime",
          "count": 57,
          "dateCreated": "2019-09-28T00:00:00",
          "mean": 41.28,
          "sum": 2353,
          "topic": 10,
          "topic_interpretation": "Links / Alternativ"
         },
         {
          "Topic": "Links / Alternativ",
          "color": "lime",
          "count": 51,
          "dateCreated": "2019-09-29T00:00:00",
          "mean": 95.33,
          "sum": 4862,
          "topic": 10,
          "topic_interpretation": "Links / Alternativ"
         },
         {
          "Topic": "Links / Alternativ",
          "color": "lime",
          "count": 28,
          "dateCreated": "2019-09-30T00:00:00",
          "mean": 109.36,
          "sum": 3062,
          "topic": 10,
          "topic_interpretation": "Links / Alternativ"
         },
         {
          "Topic": "ÖVP",
          "color": "turquoise",
          "count": 61,
          "dateCreated": "2019-09-08T00:00:00",
          "mean": 150.7,
          "sum": 9193,
          "topic": 11,
          "topic_interpretation": "ÖVP"
         },
         {
          "Topic": "ÖVP",
          "color": "turquoise",
          "count": 78,
          "dateCreated": "2019-09-09T00:00:00",
          "mean": 87.86,
          "sum": 6853,
          "topic": 11,
          "topic_interpretation": "ÖVP"
         },
         {
          "Topic": "ÖVP",
          "color": "turquoise",
          "count": 72,
          "dateCreated": "2019-09-10T00:00:00",
          "mean": 127.47,
          "sum": 9178,
          "topic": 11,
          "topic_interpretation": "ÖVP"
         },
         {
          "Topic": "ÖVP",
          "color": "turquoise",
          "count": 54,
          "dateCreated": "2019-09-11T00:00:00",
          "mean": 167.09,
          "sum": 9023,
          "topic": 11,
          "topic_interpretation": "ÖVP"
         },
         {
          "Topic": "ÖVP",
          "color": "turquoise",
          "count": 70,
          "dateCreated": "2019-09-12T00:00:00",
          "mean": 217.71,
          "sum": 15240,
          "topic": 11,
          "topic_interpretation": "ÖVP"
         },
         {
          "Topic": "ÖVP",
          "color": "turquoise",
          "count": 69,
          "dateCreated": "2019-09-13T00:00:00",
          "mean": 203.74,
          "sum": 14058,
          "topic": 11,
          "topic_interpretation": "ÖVP"
         },
         {
          "Topic": "ÖVP",
          "color": "turquoise",
          "count": 64,
          "dateCreated": "2019-09-14T00:00:00",
          "mean": 121.58,
          "sum": 7781,
          "topic": 11,
          "topic_interpretation": "ÖVP"
         },
         {
          "Topic": "ÖVP",
          "color": "turquoise",
          "count": 61,
          "dateCreated": "2019-09-15T00:00:00",
          "mean": 240.2,
          "sum": 14652,
          "topic": 11,
          "topic_interpretation": "ÖVP"
         },
         {
          "Topic": "ÖVP",
          "color": "turquoise",
          "count": 59,
          "dateCreated": "2019-09-16T00:00:00",
          "mean": 191.1,
          "sum": 11275,
          "topic": 11,
          "topic_interpretation": "ÖVP"
         },
         {
          "Topic": "ÖVP",
          "color": "turquoise",
          "count": 75,
          "dateCreated": "2019-09-17T00:00:00",
          "mean": 195.35,
          "sum": 14651,
          "topic": 11,
          "topic_interpretation": "ÖVP"
         },
         {
          "Topic": "ÖVP",
          "color": "turquoise",
          "count": 73,
          "dateCreated": "2019-09-18T00:00:00",
          "mean": 347.59,
          "sum": 25374,
          "topic": 11,
          "topic_interpretation": "ÖVP"
         },
         {
          "Topic": "ÖVP",
          "color": "turquoise",
          "count": 78,
          "dateCreated": "2019-09-19T00:00:00",
          "mean": 99.31,
          "sum": 7746,
          "topic": 11,
          "topic_interpretation": "ÖVP"
         },
         {
          "Topic": "ÖVP",
          "color": "turquoise",
          "count": 76,
          "dateCreated": "2019-09-20T00:00:00",
          "mean": 144.92,
          "sum": 11014,
          "topic": 11,
          "topic_interpretation": "ÖVP"
         },
         {
          "Topic": "ÖVP",
          "color": "turquoise",
          "count": 57,
          "dateCreated": "2019-09-21T00:00:00",
          "mean": 274.7,
          "sum": 15658,
          "topic": 11,
          "topic_interpretation": "ÖVP"
         },
         {
          "Topic": "ÖVP",
          "color": "turquoise",
          "count": 83,
          "dateCreated": "2019-09-22T00:00:00",
          "mean": 136.87,
          "sum": 11360,
          "topic": 11,
          "topic_interpretation": "ÖVP"
         },
         {
          "Topic": "ÖVP",
          "color": "turquoise",
          "count": 65,
          "dateCreated": "2019-09-23T00:00:00",
          "mean": 277.85,
          "sum": 18060,
          "topic": 11,
          "topic_interpretation": "ÖVP"
         },
         {
          "Topic": "ÖVP",
          "color": "turquoise",
          "count": 97,
          "dateCreated": "2019-09-24T00:00:00",
          "mean": 178.09,
          "sum": 17275,
          "topic": 11,
          "topic_interpretation": "ÖVP"
         },
         {
          "Topic": "ÖVP",
          "color": "turquoise",
          "count": 95,
          "dateCreated": "2019-09-25T00:00:00",
          "mean": 411.63,
          "sum": 39105,
          "topic": 11,
          "topic_interpretation": "ÖVP"
         },
         {
          "Topic": "ÖVP",
          "color": "turquoise",
          "count": 127,
          "dateCreated": "2019-09-26T00:00:00",
          "mean": 314.74,
          "sum": 39972,
          "topic": 11,
          "topic_interpretation": "ÖVP"
         },
         {
          "Topic": "ÖVP",
          "color": "turquoise",
          "count": 97,
          "dateCreated": "2019-09-27T00:00:00",
          "mean": 429.68,
          "sum": 41679,
          "topic": 11,
          "topic_interpretation": "ÖVP"
         },
         {
          "Topic": "ÖVP",
          "color": "turquoise",
          "count": 85,
          "dateCreated": "2019-09-28T00:00:00",
          "mean": 481.78,
          "sum": 40951,
          "topic": 11,
          "topic_interpretation": "ÖVP"
         },
         {
          "Topic": "ÖVP",
          "color": "turquoise",
          "count": 162,
          "dateCreated": "2019-09-29T00:00:00",
          "mean": 529.93,
          "sum": 85849,
          "topic": 11,
          "topic_interpretation": "ÖVP"
         },
         {
          "Topic": "ÖVP",
          "color": "turquoise",
          "count": 66,
          "dateCreated": "2019-09-30T00:00:00",
          "mean": 249.67,
          "sum": 16478,
          "topic": 11,
          "topic_interpretation": "ÖVP"
         },
         {
          "Topic": "SPÖ",
          "color": "red",
          "count": 88,
          "dateCreated": "2019-09-08T00:00:00",
          "mean": 69.09,
          "sum": 6080,
          "topic": 13,
          "topic_interpretation": "SPÖ"
         },
         {
          "Topic": "SPÖ",
          "color": "red",
          "count": 62,
          "dateCreated": "2019-09-09T00:00:00",
          "mean": 117.6,
          "sum": 7291,
          "topic": 13,
          "topic_interpretation": "SPÖ"
         },
         {
          "Topic": "SPÖ",
          "color": "red",
          "count": 46,
          "dateCreated": "2019-09-10T00:00:00",
          "mean": 208.28,
          "sum": 9581,
          "topic": 13,
          "topic_interpretation": "SPÖ"
         },
         {
          "Topic": "SPÖ",
          "color": "red",
          "count": 67,
          "dateCreated": "2019-09-11T00:00:00",
          "mean": 51.52,
          "sum": 3452,
          "topic": 13,
          "topic_interpretation": "SPÖ"
         },
         {
          "Topic": "SPÖ",
          "color": "red",
          "count": 81,
          "dateCreated": "2019-09-12T00:00:00",
          "mean": 138.89,
          "sum": 11250,
          "topic": 13,
          "topic_interpretation": "SPÖ"
         },
         {
          "Topic": "SPÖ",
          "color": "red",
          "count": 63,
          "dateCreated": "2019-09-13T00:00:00",
          "mean": 114.92,
          "sum": 7240,
          "topic": 13,
          "topic_interpretation": "SPÖ"
         },
         {
          "Topic": "SPÖ",
          "color": "red",
          "count": 59,
          "dateCreated": "2019-09-14T00:00:00",
          "mean": 172.95,
          "sum": 10204,
          "topic": 13,
          "topic_interpretation": "SPÖ"
         },
         {
          "Topic": "SPÖ",
          "color": "red",
          "count": 50,
          "dateCreated": "2019-09-15T00:00:00",
          "mean": 114.72,
          "sum": 5736,
          "topic": 13,
          "topic_interpretation": "SPÖ"
         },
         {
          "Topic": "SPÖ",
          "color": "red",
          "count": 70,
          "dateCreated": "2019-09-16T00:00:00",
          "mean": 178.8,
          "sum": 12516,
          "topic": 13,
          "topic_interpretation": "SPÖ"
         },
         {
          "Topic": "SPÖ",
          "color": "red",
          "count": 58,
          "dateCreated": "2019-09-17T00:00:00",
          "mean": 160.02,
          "sum": 9281,
          "topic": 13,
          "topic_interpretation": "SPÖ"
         },
         {
          "Topic": "SPÖ",
          "color": "red",
          "count": 61,
          "dateCreated": "2019-09-18T00:00:00",
          "mean": 253.43,
          "sum": 15459,
          "topic": 13,
          "topic_interpretation": "SPÖ"
         },
         {
          "Topic": "SPÖ",
          "color": "red",
          "count": 80,
          "dateCreated": "2019-09-19T00:00:00",
          "mean": 98.24,
          "sum": 7859,
          "topic": 13,
          "topic_interpretation": "SPÖ"
         },
         {
          "Topic": "SPÖ",
          "color": "red",
          "count": 68,
          "dateCreated": "2019-09-20T00:00:00",
          "mean": 219.63,
          "sum": 14935,
          "topic": 13,
          "topic_interpretation": "SPÖ"
         },
         {
          "Topic": "SPÖ",
          "color": "red",
          "count": 60,
          "dateCreated": "2019-09-21T00:00:00",
          "mean": 199.98,
          "sum": 11999,
          "topic": 13,
          "topic_interpretation": "SPÖ"
         },
         {
          "Topic": "SPÖ",
          "color": "red",
          "count": 66,
          "dateCreated": "2019-09-22T00:00:00",
          "mean": 145.47,
          "sum": 9601,
          "topic": 13,
          "topic_interpretation": "SPÖ"
         },
         {
          "Topic": "SPÖ",
          "color": "red",
          "count": 75,
          "dateCreated": "2019-09-23T00:00:00",
          "mean": 182.6,
          "sum": 13695,
          "topic": 13,
          "topic_interpretation": "SPÖ"
         },
         {
          "Topic": "SPÖ",
          "color": "red",
          "count": 76,
          "dateCreated": "2019-09-24T00:00:00",
          "mean": 307,
          "sum": 23332,
          "topic": 13,
          "topic_interpretation": "SPÖ"
         },
         {
          "Topic": "SPÖ",
          "color": "red",
          "count": 61,
          "dateCreated": "2019-09-25T00:00:00",
          "mean": 240.93,
          "sum": 14697,
          "topic": 13,
          "topic_interpretation": "SPÖ"
         },
         {
          "Topic": "SPÖ",
          "color": "red",
          "count": 93,
          "dateCreated": "2019-09-26T00:00:00",
          "mean": 228.35,
          "sum": 21237,
          "topic": 13,
          "topic_interpretation": "SPÖ"
         },
         {
          "Topic": "SPÖ",
          "color": "red",
          "count": 93,
          "dateCreated": "2019-09-27T00:00:00",
          "mean": 312.78,
          "sum": 29089,
          "topic": 13,
          "topic_interpretation": "SPÖ"
         },
         {
          "Topic": "SPÖ",
          "color": "red",
          "count": 78,
          "dateCreated": "2019-09-28T00:00:00",
          "mean": 359.09,
          "sum": 28009,
          "topic": 13,
          "topic_interpretation": "SPÖ"
         },
         {
          "Topic": "SPÖ",
          "color": "red",
          "count": 72,
          "dateCreated": "2019-09-29T00:00:00",
          "mean": 292.5,
          "sum": 21060,
          "topic": 13,
          "topic_interpretation": "SPÖ"
         },
         {
          "Topic": "SPÖ",
          "color": "red",
          "count": 37,
          "dateCreated": "2019-09-30T00:00:00",
          "mean": 48.46,
          "sum": 1793,
          "topic": 13,
          "topic_interpretation": "SPÖ"
         },
         {
          "Topic": "Volksparteien",
          "color": "indigo",
          "count": 53,
          "dateCreated": "2019-09-08T00:00:00",
          "mean": 73.34,
          "sum": 3887,
          "topic": 14,
          "topic_interpretation": "Volksparteien"
         },
         {
          "Topic": "Volksparteien",
          "color": "indigo",
          "count": 52,
          "dateCreated": "2019-09-09T00:00:00",
          "mean": 66.31,
          "sum": 3448,
          "topic": 14,
          "topic_interpretation": "Volksparteien"
         },
         {
          "Topic": "Volksparteien",
          "color": "indigo",
          "count": 46,
          "dateCreated": "2019-09-10T00:00:00",
          "mean": 128.35,
          "sum": 5904,
          "topic": 14,
          "topic_interpretation": "Volksparteien"
         },
         {
          "Topic": "Volksparteien",
          "color": "indigo",
          "count": 41,
          "dateCreated": "2019-09-11T00:00:00",
          "mean": 81.34,
          "sum": 3335,
          "topic": 14,
          "topic_interpretation": "Volksparteien"
         },
         {
          "Topic": "Volksparteien",
          "color": "indigo",
          "count": 46,
          "dateCreated": "2019-09-12T00:00:00",
          "mean": 262.09,
          "sum": 12056,
          "topic": 14,
          "topic_interpretation": "Volksparteien"
         },
         {
          "Topic": "Volksparteien",
          "color": "indigo",
          "count": 25,
          "dateCreated": "2019-09-13T00:00:00",
          "mean": 122.68,
          "sum": 3067,
          "topic": 14,
          "topic_interpretation": "Volksparteien"
         },
         {
          "Topic": "Volksparteien",
          "color": "indigo",
          "count": 24,
          "dateCreated": "2019-09-14T00:00:00",
          "mean": 60.92,
          "sum": 1462,
          "topic": 14,
          "topic_interpretation": "Volksparteien"
         },
         {
          "Topic": "Volksparteien",
          "color": "indigo",
          "count": 33,
          "dateCreated": "2019-09-15T00:00:00",
          "mean": 548.61,
          "sum": 18104,
          "topic": 14,
          "topic_interpretation": "Volksparteien"
         },
         {
          "Topic": "Volksparteien",
          "color": "indigo",
          "count": 33,
          "dateCreated": "2019-09-16T00:00:00",
          "mean": 46.79,
          "sum": 1544,
          "topic": 14,
          "topic_interpretation": "Volksparteien"
         },
         {
          "Topic": "Volksparteien",
          "color": "indigo",
          "count": 32,
          "dateCreated": "2019-09-17T00:00:00",
          "mean": 123.5,
          "sum": 3952,
          "topic": 14,
          "topic_interpretation": "Volksparteien"
         },
         {
          "Topic": "Volksparteien",
          "color": "indigo",
          "count": 23,
          "dateCreated": "2019-09-18T00:00:00",
          "mean": 106,
          "sum": 2438,
          "topic": 14,
          "topic_interpretation": "Volksparteien"
         },
         {
          "Topic": "Volksparteien",
          "color": "indigo",
          "count": 42,
          "dateCreated": "2019-09-19T00:00:00",
          "mean": 161.93,
          "sum": 6801,
          "topic": 14,
          "topic_interpretation": "Volksparteien"
         },
         {
          "Topic": "Volksparteien",
          "color": "indigo",
          "count": 32,
          "dateCreated": "2019-09-20T00:00:00",
          "mean": 90.16,
          "sum": 2885,
          "topic": 14,
          "topic_interpretation": "Volksparteien"
         },
         {
          "Topic": "Volksparteien",
          "color": "indigo",
          "count": 27,
          "dateCreated": "2019-09-21T00:00:00",
          "mean": 50.67,
          "sum": 1368,
          "topic": 14,
          "topic_interpretation": "Volksparteien"
         },
         {
          "Topic": "Volksparteien",
          "color": "indigo",
          "count": 30,
          "dateCreated": "2019-09-22T00:00:00",
          "mean": 439.53,
          "sum": 13186,
          "topic": 14,
          "topic_interpretation": "Volksparteien"
         },
         {
          "Topic": "Volksparteien",
          "color": "indigo",
          "count": 36,
          "dateCreated": "2019-09-23T00:00:00",
          "mean": 177.11,
          "sum": 6376,
          "topic": 14,
          "topic_interpretation": "Volksparteien"
         },
         {
          "Topic": "Volksparteien",
          "color": "indigo",
          "count": 35,
          "dateCreated": "2019-09-24T00:00:00",
          "mean": 117.17,
          "sum": 4101,
          "topic": 14,
          "topic_interpretation": "Volksparteien"
         },
         {
          "Topic": "Volksparteien",
          "color": "indigo",
          "count": 51,
          "dateCreated": "2019-09-25T00:00:00",
          "mean": 103.49,
          "sum": 5278,
          "topic": 14,
          "topic_interpretation": "Volksparteien"
         },
         {
          "Topic": "Volksparteien",
          "color": "indigo",
          "count": 35,
          "dateCreated": "2019-09-26T00:00:00",
          "mean": 154.46,
          "sum": 5406,
          "topic": 14,
          "topic_interpretation": "Volksparteien"
         },
         {
          "Topic": "Volksparteien",
          "color": "indigo",
          "count": 26,
          "dateCreated": "2019-09-27T00:00:00",
          "mean": 243.08,
          "sum": 6320,
          "topic": 14,
          "topic_interpretation": "Volksparteien"
         },
         {
          "Topic": "Volksparteien",
          "color": "indigo",
          "count": 39,
          "dateCreated": "2019-09-28T00:00:00",
          "mean": 124.23,
          "sum": 4845,
          "topic": 14,
          "topic_interpretation": "Volksparteien"
         },
         {
          "Topic": "Volksparteien",
          "color": "indigo",
          "count": 42,
          "dateCreated": "2019-09-29T00:00:00",
          "mean": 495.57,
          "sum": 20814,
          "topic": 14,
          "topic_interpretation": "Volksparteien"
         },
         {
          "Topic": "Volksparteien",
          "color": "indigo",
          "count": 19,
          "dateCreated": "2019-09-30T00:00:00",
          "mean": 107.79,
          "sum": 2048,
          "topic": 14,
          "topic_interpretation": "Volksparteien"
         },
         {
          "Topic": "FPÖ",
          "color": "blue",
          "count": 50,
          "dateCreated": "2019-09-08T00:00:00",
          "mean": 165.02,
          "sum": 8251,
          "topic": 16,
          "topic_interpretation": "FPÖ"
         },
         {
          "Topic": "FPÖ",
          "color": "blue",
          "count": 71,
          "dateCreated": "2019-09-09T00:00:00",
          "mean": 319.3,
          "sum": 22670,
          "topic": 16,
          "topic_interpretation": "FPÖ"
         },
         {
          "Topic": "FPÖ",
          "color": "blue",
          "count": 51,
          "dateCreated": "2019-09-10T00:00:00",
          "mean": 93,
          "sum": 4743,
          "topic": 16,
          "topic_interpretation": "FPÖ"
         },
         {
          "Topic": "FPÖ",
          "color": "blue",
          "count": 34,
          "dateCreated": "2019-09-11T00:00:00",
          "mean": 148.94,
          "sum": 5064,
          "topic": 16,
          "topic_interpretation": "FPÖ"
         },
         {
          "Topic": "FPÖ",
          "color": "blue",
          "count": 41,
          "dateCreated": "2019-09-12T00:00:00",
          "mean": 231.37,
          "sum": 9486,
          "topic": 16,
          "topic_interpretation": "FPÖ"
         },
         {
          "Topic": "FPÖ",
          "color": "blue",
          "count": 57,
          "dateCreated": "2019-09-13T00:00:00",
          "mean": 172.65,
          "sum": 9841,
          "topic": 16,
          "topic_interpretation": "FPÖ"
         },
         {
          "Topic": "FPÖ",
          "color": "blue",
          "count": 65,
          "dateCreated": "2019-09-14T00:00:00",
          "mean": 269.92,
          "sum": 17545,
          "topic": 16,
          "topic_interpretation": "FPÖ"
         },
         {
          "Topic": "FPÖ",
          "color": "blue",
          "count": 38,
          "dateCreated": "2019-09-15T00:00:00",
          "mean": 204.87,
          "sum": 7785,
          "topic": 16,
          "topic_interpretation": "FPÖ"
         },
         {
          "Topic": "FPÖ",
          "color": "blue",
          "count": 55,
          "dateCreated": "2019-09-16T00:00:00",
          "mean": 222.75,
          "sum": 12251,
          "topic": 16,
          "topic_interpretation": "FPÖ"
         },
         {
          "Topic": "FPÖ",
          "color": "blue",
          "count": 39,
          "dateCreated": "2019-09-17T00:00:00",
          "mean": 103,
          "sum": 4017,
          "topic": 16,
          "topic_interpretation": "FPÖ"
         },
         {
          "Topic": "FPÖ",
          "color": "blue",
          "count": 48,
          "dateCreated": "2019-09-18T00:00:00",
          "mean": 156.19,
          "sum": 7497,
          "topic": 16,
          "topic_interpretation": "FPÖ"
         },
         {
          "Topic": "FPÖ",
          "color": "blue",
          "count": 56,
          "dateCreated": "2019-09-19T00:00:00",
          "mean": 252.23,
          "sum": 14125,
          "topic": 16,
          "topic_interpretation": "FPÖ"
         },
         {
          "Topic": "FPÖ",
          "color": "blue",
          "count": 39,
          "dateCreated": "2019-09-20T00:00:00",
          "mean": 255.74,
          "sum": 9974,
          "topic": 16,
          "topic_interpretation": "FPÖ"
         },
         {
          "Topic": "FPÖ",
          "color": "blue",
          "count": 25,
          "dateCreated": "2019-09-21T00:00:00",
          "mean": 288.28,
          "sum": 7207,
          "topic": 16,
          "topic_interpretation": "FPÖ"
         },
         {
          "Topic": "FPÖ",
          "color": "blue",
          "count": 44,
          "dateCreated": "2019-09-22T00:00:00",
          "mean": 171.5,
          "sum": 7546,
          "topic": 16,
          "topic_interpretation": "FPÖ"
         },
         {
          "Topic": "FPÖ",
          "color": "blue",
          "count": 41,
          "dateCreated": "2019-09-23T00:00:00",
          "mean": 401.8,
          "sum": 16474,
          "topic": 16,
          "topic_interpretation": "FPÖ"
         },
         {
          "Topic": "FPÖ",
          "color": "blue",
          "count": 45,
          "dateCreated": "2019-09-24T00:00:00",
          "mean": 649.51,
          "sum": 29228,
          "topic": 16,
          "topic_interpretation": "FPÖ"
         },
         {
          "Topic": "FPÖ",
          "color": "blue",
          "count": 69,
          "dateCreated": "2019-09-25T00:00:00",
          "mean": 75.35,
          "sum": 5199,
          "topic": 16,
          "topic_interpretation": "FPÖ"
         },
         {
          "Topic": "FPÖ",
          "color": "blue",
          "count": 59,
          "dateCreated": "2019-09-26T00:00:00",
          "mean": 90.56,
          "sum": 5343,
          "topic": 16,
          "topic_interpretation": "FPÖ"
         },
         {
          "Topic": "FPÖ",
          "color": "blue",
          "count": 55,
          "dateCreated": "2019-09-27T00:00:00",
          "mean": 432.69,
          "sum": 23798,
          "topic": 16,
          "topic_interpretation": "FPÖ"
         },
         {
          "Topic": "FPÖ",
          "color": "blue",
          "count": 36,
          "dateCreated": "2019-09-28T00:00:00",
          "mean": 377.89,
          "sum": 13604,
          "topic": 16,
          "topic_interpretation": "FPÖ"
         },
         {
          "Topic": "FPÖ",
          "color": "blue",
          "count": 46,
          "dateCreated": "2019-09-29T00:00:00",
          "mean": 404.52,
          "sum": 18608,
          "topic": 16,
          "topic_interpretation": "FPÖ"
         },
         {
          "Topic": "FPÖ",
          "color": "blue",
          "count": 14,
          "dateCreated": "2019-09-30T00:00:00",
          "mean": 87.21,
          "sum": 1221,
          "topic": 16,
          "topic_interpretation": "FPÖ"
         },
         {
          "Topic": "Wahlkampfslogans",
          "color": "orange",
          "count": 42,
          "dateCreated": "2019-09-08T00:00:00",
          "mean": 47.98,
          "sum": 2015,
          "topic": 18,
          "topic_interpretation": "Wahlkampfslogans"
         },
         {
          "Topic": "Wahlkampfslogans",
          "color": "orange",
          "count": 43,
          "dateCreated": "2019-09-09T00:00:00",
          "mean": 182.84,
          "sum": 7862,
          "topic": 18,
          "topic_interpretation": "Wahlkampfslogans"
         },
         {
          "Topic": "Wahlkampfslogans",
          "color": "orange",
          "count": 50,
          "dateCreated": "2019-09-10T00:00:00",
          "mean": 248.1,
          "sum": 12405,
          "topic": 18,
          "topic_interpretation": "Wahlkampfslogans"
         },
         {
          "Topic": "Wahlkampfslogans",
          "color": "orange",
          "count": 37,
          "dateCreated": "2019-09-11T00:00:00",
          "mean": 169.54,
          "sum": 6273,
          "topic": 18,
          "topic_interpretation": "Wahlkampfslogans"
         },
         {
          "Topic": "Wahlkampfslogans",
          "color": "orange",
          "count": 38,
          "dateCreated": "2019-09-12T00:00:00",
          "mean": 146.68,
          "sum": 5574,
          "topic": 18,
          "topic_interpretation": "Wahlkampfslogans"
         },
         {
          "Topic": "Wahlkampfslogans",
          "color": "orange",
          "count": 50,
          "dateCreated": "2019-09-13T00:00:00",
          "mean": 223.66,
          "sum": 11183,
          "topic": 18,
          "topic_interpretation": "Wahlkampfslogans"
         },
         {
          "Topic": "Wahlkampfslogans",
          "color": "orange",
          "count": 34,
          "dateCreated": "2019-09-14T00:00:00",
          "mean": 153.97,
          "sum": 5235,
          "topic": 18,
          "topic_interpretation": "Wahlkampfslogans"
         },
         {
          "Topic": "Wahlkampfslogans",
          "color": "orange",
          "count": 35,
          "dateCreated": "2019-09-15T00:00:00",
          "mean": 291.83,
          "sum": 10214,
          "topic": 18,
          "topic_interpretation": "Wahlkampfslogans"
         },
         {
          "Topic": "Wahlkampfslogans",
          "color": "orange",
          "count": 43,
          "dateCreated": "2019-09-16T00:00:00",
          "mean": 111.53,
          "sum": 4796,
          "topic": 18,
          "topic_interpretation": "Wahlkampfslogans"
         },
         {
          "Topic": "Wahlkampfslogans",
          "color": "orange",
          "count": 50,
          "dateCreated": "2019-09-17T00:00:00",
          "mean": 141.06,
          "sum": 7053,
          "topic": 18,
          "topic_interpretation": "Wahlkampfslogans"
         },
         {
          "Topic": "Wahlkampfslogans",
          "color": "orange",
          "count": 51,
          "dateCreated": "2019-09-18T00:00:00",
          "mean": 323.69,
          "sum": 16508,
          "topic": 18,
          "topic_interpretation": "Wahlkampfslogans"
         },
         {
          "Topic": "Wahlkampfslogans",
          "color": "orange",
          "count": 49,
          "dateCreated": "2019-09-19T00:00:00",
          "mean": 90.47,
          "sum": 4433,
          "topic": 18,
          "topic_interpretation": "Wahlkampfslogans"
         },
         {
          "Topic": "Wahlkampfslogans",
          "color": "orange",
          "count": 47,
          "dateCreated": "2019-09-20T00:00:00",
          "mean": 150.77,
          "sum": 7086,
          "topic": 18,
          "topic_interpretation": "Wahlkampfslogans"
         },
         {
          "Topic": "Wahlkampfslogans",
          "color": "orange",
          "count": 36,
          "dateCreated": "2019-09-21T00:00:00",
          "mean": 125.83,
          "sum": 4530,
          "topic": 18,
          "topic_interpretation": "Wahlkampfslogans"
         },
         {
          "Topic": "Wahlkampfslogans",
          "color": "orange",
          "count": 29,
          "dateCreated": "2019-09-22T00:00:00",
          "mean": 161.69,
          "sum": 4689,
          "topic": 18,
          "topic_interpretation": "Wahlkampfslogans"
         },
         {
          "Topic": "Wahlkampfslogans",
          "color": "orange",
          "count": 46,
          "dateCreated": "2019-09-23T00:00:00",
          "mean": 247.11,
          "sum": 11367,
          "topic": 18,
          "topic_interpretation": "Wahlkampfslogans"
         },
         {
          "Topic": "Wahlkampfslogans",
          "color": "orange",
          "count": 49,
          "dateCreated": "2019-09-24T00:00:00",
          "mean": 323.37,
          "sum": 15845,
          "topic": 18,
          "topic_interpretation": "Wahlkampfslogans"
         },
         {
          "Topic": "Wahlkampfslogans",
          "color": "orange",
          "count": 53,
          "dateCreated": "2019-09-25T00:00:00",
          "mean": 101.6,
          "sum": 5385,
          "topic": 18,
          "topic_interpretation": "Wahlkampfslogans"
         },
         {
          "Topic": "Wahlkampfslogans",
          "color": "orange",
          "count": 65,
          "dateCreated": "2019-09-26T00:00:00",
          "mean": 107.15,
          "sum": 6965,
          "topic": 18,
          "topic_interpretation": "Wahlkampfslogans"
         },
         {
          "Topic": "Wahlkampfslogans",
          "color": "orange",
          "count": 51,
          "dateCreated": "2019-09-27T00:00:00",
          "mean": 306.18,
          "sum": 15615,
          "topic": 18,
          "topic_interpretation": "Wahlkampfslogans"
         },
         {
          "Topic": "Wahlkampfslogans",
          "color": "orange",
          "count": 52,
          "dateCreated": "2019-09-28T00:00:00",
          "mean": 226.54,
          "sum": 11780,
          "topic": 18,
          "topic_interpretation": "Wahlkampfslogans"
         },
         {
          "Topic": "Wahlkampfslogans",
          "color": "orange",
          "count": 39,
          "dateCreated": "2019-09-29T00:00:00",
          "mean": 143.72,
          "sum": 5605,
          "topic": 18,
          "topic_interpretation": "Wahlkampfslogans"
         },
         {
          "Topic": "Wahlkampfslogans",
          "color": "orange",
          "count": 21,
          "dateCreated": "2019-09-30T00:00:00",
          "mean": 63.33,
          "sum": 1330,
          "topic": 18,
          "topic_interpretation": "Wahlkampfslogans"
         },
         {
          "Topic": "Stenzel Rede bei IB",
          "color": "peru",
          "count": 93,
          "dateCreated": "2019-09-08T00:00:00",
          "mean": 196.29,
          "sum": 18255,
          "topic": 20,
          "topic_interpretation": "Stenzel Rede bei IB"
         },
         {
          "Topic": "Stenzel Rede bei IB",
          "color": "peru",
          "count": 84,
          "dateCreated": "2019-09-09T00:00:00",
          "mean": 286.7,
          "sum": 24083,
          "topic": 20,
          "topic_interpretation": "Stenzel Rede bei IB"
         },
         {
          "Topic": "Stenzel Rede bei IB",
          "color": "peru",
          "count": 59,
          "dateCreated": "2019-09-10T00:00:00",
          "mean": 167.08,
          "sum": 9858,
          "topic": 20,
          "topic_interpretation": "Stenzel Rede bei IB"
         },
         {
          "Topic": "Stenzel Rede bei IB",
          "color": "peru",
          "count": 50,
          "dateCreated": "2019-09-11T00:00:00",
          "mean": 117.54,
          "sum": 5877,
          "topic": 20,
          "topic_interpretation": "Stenzel Rede bei IB"
         },
         {
          "Topic": "Stenzel Rede bei IB",
          "color": "peru",
          "count": 41,
          "dateCreated": "2019-09-12T00:00:00",
          "mean": 164.02,
          "sum": 6725,
          "topic": 20,
          "topic_interpretation": "Stenzel Rede bei IB"
         },
         {
          "Topic": "Stenzel Rede bei IB",
          "color": "peru",
          "count": 59,
          "dateCreated": "2019-09-13T00:00:00",
          "mean": 110.85,
          "sum": 6540,
          "topic": 20,
          "topic_interpretation": "Stenzel Rede bei IB"
         },
         {
          "Topic": "Stenzel Rede bei IB",
          "color": "peru",
          "count": 39,
          "dateCreated": "2019-09-14T00:00:00",
          "mean": 61.38,
          "sum": 2394,
          "topic": 20,
          "topic_interpretation": "Stenzel Rede bei IB"
         },
         {
          "Topic": "Stenzel Rede bei IB",
          "color": "peru",
          "count": 40,
          "dateCreated": "2019-09-15T00:00:00",
          "mean": 97.08,
          "sum": 3883,
          "topic": 20,
          "topic_interpretation": "Stenzel Rede bei IB"
         },
         {
          "Topic": "Stenzel Rede bei IB",
          "color": "peru",
          "count": 29,
          "dateCreated": "2019-09-16T00:00:00",
          "mean": 140.55,
          "sum": 4076,
          "topic": 20,
          "topic_interpretation": "Stenzel Rede bei IB"
         },
         {
          "Topic": "Stenzel Rede bei IB",
          "color": "peru",
          "count": 49,
          "dateCreated": "2019-09-17T00:00:00",
          "mean": 152.47,
          "sum": 7471,
          "topic": 20,
          "topic_interpretation": "Stenzel Rede bei IB"
         },
         {
          "Topic": "Stenzel Rede bei IB",
          "color": "peru",
          "count": 53,
          "dateCreated": "2019-09-18T00:00:00",
          "mean": 233.89,
          "sum": 12396,
          "topic": 20,
          "topic_interpretation": "Stenzel Rede bei IB"
         },
         {
          "Topic": "Stenzel Rede bei IB",
          "color": "peru",
          "count": 72,
          "dateCreated": "2019-09-19T00:00:00",
          "mean": 217.14,
          "sum": 15634,
          "topic": 20,
          "topic_interpretation": "Stenzel Rede bei IB"
         },
         {
          "Topic": "Stenzel Rede bei IB",
          "color": "peru",
          "count": 53,
          "dateCreated": "2019-09-20T00:00:00",
          "mean": 143.04,
          "sum": 7581,
          "topic": 20,
          "topic_interpretation": "Stenzel Rede bei IB"
         },
         {
          "Topic": "Stenzel Rede bei IB",
          "color": "peru",
          "count": 42,
          "dateCreated": "2019-09-21T00:00:00",
          "mean": 150.33,
          "sum": 6314,
          "topic": 20,
          "topic_interpretation": "Stenzel Rede bei IB"
         },
         {
          "Topic": "Stenzel Rede bei IB",
          "color": "peru",
          "count": 66,
          "dateCreated": "2019-09-22T00:00:00",
          "mean": 114.39,
          "sum": 7550,
          "topic": 20,
          "topic_interpretation": "Stenzel Rede bei IB"
         },
         {
          "Topic": "Stenzel Rede bei IB",
          "color": "peru",
          "count": 48,
          "dateCreated": "2019-09-23T00:00:00",
          "mean": 147.54,
          "sum": 7082,
          "topic": 20,
          "topic_interpretation": "Stenzel Rede bei IB"
         },
         {
          "Topic": "Stenzel Rede bei IB",
          "color": "peru",
          "count": 65,
          "dateCreated": "2019-09-24T00:00:00",
          "mean": 227.42,
          "sum": 14782,
          "topic": 20,
          "topic_interpretation": "Stenzel Rede bei IB"
         },
         {
          "Topic": "Stenzel Rede bei IB",
          "color": "peru",
          "count": 65,
          "dateCreated": "2019-09-25T00:00:00",
          "mean": 143.34,
          "sum": 9317,
          "topic": 20,
          "topic_interpretation": "Stenzel Rede bei IB"
         },
         {
          "Topic": "Stenzel Rede bei IB",
          "color": "peru",
          "count": 74,
          "dateCreated": "2019-09-26T00:00:00",
          "mean": 107.09,
          "sum": 7925,
          "topic": 20,
          "topic_interpretation": "Stenzel Rede bei IB"
         },
         {
          "Topic": "Stenzel Rede bei IB",
          "color": "peru",
          "count": 58,
          "dateCreated": "2019-09-27T00:00:00",
          "mean": 289.31,
          "sum": 16780,
          "topic": 20,
          "topic_interpretation": "Stenzel Rede bei IB"
         },
         {
          "Topic": "Stenzel Rede bei IB",
          "color": "peru",
          "count": 49,
          "dateCreated": "2019-09-28T00:00:00",
          "mean": 152.06,
          "sum": 7451,
          "topic": 20,
          "topic_interpretation": "Stenzel Rede bei IB"
         },
         {
          "Topic": "Stenzel Rede bei IB",
          "color": "peru",
          "count": 53,
          "dateCreated": "2019-09-29T00:00:00",
          "mean": 238.06,
          "sum": 12617,
          "topic": 20,
          "topic_interpretation": "Stenzel Rede bei IB"
         },
         {
          "Topic": "Stenzel Rede bei IB",
          "color": "peru",
          "count": 27,
          "dateCreated": "2019-09-30T00:00:00",
          "mean": 49.85,
          "sum": 1346,
          "topic": 20,
          "topic_interpretation": "Stenzel Rede bei IB"
         }
        ]
       },
       "layer": [
        {
         "encoding": {
          "color": {
           "field": "color",
           "scale": null,
           "type": "nominal"
          },
          "opacity": {
           "value": 0
          },
          "tooltip": [
           {
            "field": "Topic",
            "title": "Topic",
            "type": "nominal"
           },
           {
            "field": "dateCreated",
            "title": "Day",
            "type": "temporal"
           },
           {
            "field": "count",
            "title": "Posts",
            "type": "quantitative"
           }
          ],
          "x": {
           "field": "dateCreated",
           "timeUnit": "monthdate",
           "title": "Date",
           "type": "ordinal"
          },
          "y": {
           "field": "count",
           "scale": {
            "domain": [
             0,
             170
            ]
           },
           "title": "# of Posts",
           "type": "quantitative"
          }
         },
         "height": 500,
         "mark": "circle",
         "selection": {
          "selector001": {
           "fields": [
            "Topic"
           ],
           "nearest": true,
           "on": "mouseover",
           "type": "single"
          }
         },
         "title": "Topics over Time",
         "width": 800
        },
        {
         "encoding": {
          "color": {
           "field": "color",
           "scale": null,
           "type": "nominal"
          },
          "size": {
           "condition": {
            "selection": {
             "not": "selector001"
            },
            "value": 0.5
           },
           "value": 4
          },
          "tooltip": [
           {
            "field": "Topic",
            "title": "Topic",
            "type": "nominal"
           },
           {
            "field": "dateCreated",
            "title": "Day",
            "type": "temporal"
           },
           {
            "field": "count",
            "title": "Posts",
            "type": "quantitative"
           }
          ],
          "x": {
           "field": "dateCreated",
           "timeUnit": "monthdate",
           "title": "Date",
           "type": "ordinal"
          },
          "y": {
           "field": "count",
           "scale": {
            "domain": [
             0,
             170
            ]
           },
           "title": "# of Posts",
           "type": "quantitative"
          }
         },
         "mark": "line",
         "title": "Topics over Time"
        }
       ]
      },
      "image/png": "[encoded data removed]",
      "text/plain": [
       "<VegaLite 3 object>\n",
       "\n",
       "If you see this message, it means the renderer has not been properly enabled\n",
       "for the frontend that you are using. For more information, see\n",
       "https://altair-viz.github.io/user_guide/troubleshooting.html\n"
      ]
     },
     "execution_count": 18,
     "metadata": {},
     "output_type": "execute_result"
    }
   ],
   "source": [
    "grouped.columns = [\"count\", \"sum\", \"mean\"]\n",
    "# drop not interpreted topics, will be merged to one uber-topic otherwise\n",
    "grouped_cleaned = grouped.drop(\"-\", level=\"topic_interpretation\")\n",
    "p_data = grouped_cleaned.reset_index().round(2)\n",
    "p_data[\"Topic\"] = p_data.topic_interpretation\n",
    "p_data[\"color\"] = p_data.topic_interpretation.map(topic_color) \n",
    "\n",
    "highlight = alt.selection(type=\"single\", on=\"mouseover\", fields=[\"Topic\"],\n",
    "                          nearest=True)\n",
    "\n",
    "base = alt.Chart(p_data, title=\"Topics over Time\").mark_line().encode(\n",
    "    x=alt.X(\"monthdate(dateCreated):O\", title=\"Date\"),\n",
    "    y=alt.Y(\"count:Q\", title=\"# of Posts\",\n",
    "            scale=alt.Scale(domain=(0, 170))),\n",
    "    #color=alt.Color(\"Topic:N\", scale=alt.Scale(scheme=\"tableau20\")),\n",
    "    color=alt.Color(\"color\", scale=None),\n",
    "    tooltip=[alt.Tooltip(\"Topic\", title=\"Topic\"),\n",
    "             alt.Tooltip(\"dateCreated\", title=\"Day\"),\n",
    "             alt.Tooltip(\"count\", title=\"Posts\")]\n",
    ")\n",
    "\n",
    "points = base.mark_circle().encode(\n",
    "    opacity=alt.value(0)\n",
    ").add_selection(\n",
    "    highlight\n",
    ").properties(\n",
    "    width=800,\n",
    "    height=500\n",
    ")\n",
    "\n",
    "lines = base.mark_line().encode(\n",
    "    size=alt.condition(~highlight, alt.value(0.5), alt.value(4))\n",
    ")\n",
    "\n",
    "chart = points + lines\n",
    "#chart.save(os.path.join(figures_path, \"topics\", \"topics_timeline.html\"))\n",
    "chart"
   ]
  },
  {
   "cell_type": "code",
   "execution_count": null,
   "metadata": {},
   "outputs": [],
   "source": []
  }
 ],
 "metadata": {
  "kernelspec": {
   "display_name": "Python 3",
   "language": "python",
   "name": "python3"
  },
  "language_info": {
   "codemirror_mode": {
    "name": "ipython",
    "version": 3
   },
   "file_extension": ".py",
   "mimetype": "text/x-python",
   "name": "python",
   "nbconvert_exporter": "python",
   "pygments_lexer": "ipython3",
   "version": "3.7.4"
  }
 },
 "nbformat": 4,
 "nbformat_minor": 4
}

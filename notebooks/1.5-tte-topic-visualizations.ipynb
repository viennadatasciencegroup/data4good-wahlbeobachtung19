{
 "cells": [
  {
   "cell_type": "markdown",
   "metadata": {},
   "source": [
    "# Topic Visualization\n",
    "\n",
    "Visualize topic distributions of Posts from enhanced Topic Model (topic_tokenizer2 and enhanced preprocessing)."
   ]
  },
  {
   "cell_type": "code",
   "execution_count": 1,
   "metadata": {},
   "outputs": [],
   "source": [
    "import os, sys, ast\n",
    "sys.path.append(\"..\")\n",
    "from config import credentials\n",
    "import dropbox\n",
    "\n",
    "import numpy as np\n",
    "import pandas as pd\n",
    "\n",
    "import warnings\n",
    "warnings.filterwarnings(\"ignore\", category=DeprecationWarning)\n",
    "\n",
    "import altair as alt\n",
    "import matplotlib.pyplot as plt\n",
    "%matplotlib inline"
   ]
  },
  {
   "cell_type": "code",
   "execution_count": 2,
   "metadata": {},
   "outputs": [],
   "source": [
    "random_state = 23"
   ]
  },
  {
   "cell_type": "markdown",
   "metadata": {},
   "source": [
    "## Loading"
   ]
  },
  {
   "cell_type": "code",
   "execution_count": 3,
   "metadata": {},
   "outputs": [],
   "source": [
    "team_dbx = dropbox.DropboxTeam(credentials.dropbox_team_access_token)\n",
    "team_root = team_dbx.with_path_root(dropbox.common.PathRoot.namespace_id(\n",
    "    credentials.dropbox_team_namespace_id))\n",
    "user_dbx = team_root.as_user(credentials.dropbox_team_member_id)"
   ]
  },
  {
   "cell_type": "code",
   "execution_count": 4,
   "metadata": {},
   "outputs": [],
   "source": [
    "data_path = \"/Data/CSVData\"\n",
    "model_path = \"../models\"\n",
    "figures_path = \"../reports/figures/\""
   ]
  },
  {
   "cell_type": "code",
   "execution_count": 5,
   "metadata": {},
   "outputs": [
    {
     "name": "stdout",
     "output_type": "stream",
     "text": [
      "Topics n20 (21970, 4)\n",
      "All Posts (27204, 23)\n"
     ]
    }
   ],
   "source": [
    "topics20_fpath = os.path.join(data_path, \"topics\", \"final_topics_LDAn20.csv\")\n",
    "_, res = user_dbx.files_download(topics20_fpath)\n",
    "topics20 = pd.read_csv(res.raw)\n",
    "\n",
    "posts_fpath = os.path.join(data_path, \"PolPosts.csv\")\n",
    "_, res = user_dbx.files_download(posts_fpath)\n",
    "posts = pd.read_csv(res.raw)\n",
    "\n",
    "print(\"Topics n20\", topics20.shape)\n",
    "print(\"All Posts\", posts.shape)"
   ]
  },
  {
   "cell_type": "markdown",
   "metadata": {},
   "source": [
    "## Postprocess topics\n",
    "\n",
    "Join Posts with Topic tables and assign topics to duplicated texts."
   ]
  },
  {
   "cell_type": "code",
   "execution_count": 6,
   "metadata": {},
   "outputs": [
    {
     "data": {
      "text/plain": [
       "(23384, 24)"
      ]
     },
     "execution_count": 6,
     "metadata": {},
     "output_type": "execute_result"
    }
   ],
   "source": [
    "# Join\n",
    "data = posts.set_index(\"textID\").join(topics20.set_index(\"textID\"), lsuffix=\"_posts\", rsuffix=\"_topics\")\n",
    "\n",
    "# Assign topics to duplicated texts\n",
    "data.topic = data.topic.astype(\"Int64\")\n",
    "data.topic = data.groupby(\"text_posts\")[\"topic\"].ffill()\n",
    "\n",
    "# Cleaning\n",
    "data[\"source\"] = data.Site\n",
    "data.drop([\"text_topics\", \"Site\"], axis=1, inplace=True)\n",
    "data.dropna(subset=[\"text_posts\", \"topic\"], inplace=True)\n",
    "\n",
    "data.shape"
   ]
  },
  {
   "cell_type": "markdown",
   "metadata": {},
   "source": [
    "## Topic Interpretation"
   ]
  },
  {
   "cell_type": "code",
   "execution_count": 7,
   "metadata": {},
   "outputs": [],
   "source": [
    "topic_interpretation = {0: \"-\", 1: \"-\", 2: \"Wohnen/Sicherheit\", 3: \"Grüne\",\n",
    "                        4: \"Steuern/Geld\", 5: \"TV\", 6: \"Parteien\", \n",
    "                        7: \"Prognosen\", 8: \"KPÖ/LinkeVorderungen\", 9: \"Dank/TV-Runde\",\n",
    "                        10: \"Links/Alternativ\", 11: \"ÖVP\", 12: \"-\",\n",
    "                        13: \"SPÖ\", 14: \"Volksparteien\", 15: \"-\", 16: \"FPÖ\",\n",
    "                        17: \"-\", 18: \"Wahlkampfslogans\", 19: \"-\", 20: \"Rechts-außen\"}\n",
    "\n",
    "data[\"topic_interpretation\"] = data.topic.map(topic_interpretation)"
   ]
  },
  {
   "cell_type": "markdown",
   "metadata": {},
   "source": [
    "## Exploration & Visualization"
   ]
  },
  {
   "cell_type": "markdown",
   "metadata": {},
   "source": [
    "### Posts per topic"
   ]
  },
  {
   "cell_type": "code",
   "execution_count": 8,
   "metadata": {},
   "outputs": [
    {
     "data": {
      "application/vnd.vegalite.v3+json": {
       "$schema": "https://vega.github.io/schema/vega-lite/v3.4.0.json",
       "config": {
        "mark": {
         "tooltip": null
        },
        "view": {
         "height": 300,
         "width": 400
        }
       },
       "data": {
        "name": "data-9058c41fa96b5f47a278d712fee9e9f1"
       },
       "datasets": {
        "data-9058c41fa96b5f47a278d712fee9e9f1": [
         {
          "count": 1824,
          "topic": 11,
          "topic_interpretation": "ÖVP"
         },
         {
          "count": 1564,
          "topic": 13,
          "topic_interpretation": "SPÖ"
         },
         {
          "count": 1495,
          "topic": 6,
          "topic_interpretation": "Parteien"
         },
         {
          "count": 1435,
          "topic": 4,
          "topic_interpretation": "Steuern/Geld"
         },
         {
          "count": 1335,
          "topic": 9,
          "topic_interpretation": "Dank/TV-Runde"
         },
         {
          "count": 1268,
          "topic": 20,
          "topic_interpretation": "Rechts-außen"
         },
         {
          "count": 1234,
          "topic": 3,
          "topic_interpretation": "Grüne"
         },
         {
          "count": 1196,
          "topic": 7,
          "topic_interpretation": "Prognosen"
         },
         {
          "count": 1175,
          "topic": 15,
          "topic_interpretation": "-"
         },
         {
          "count": 1135,
          "topic": 12,
          "topic_interpretation": "-"
         },
         {
          "count": 1078,
          "topic": 16,
          "topic_interpretation": "FPÖ"
         },
         {
          "count": 1062,
          "topic": 19,
          "topic_interpretation": "-"
         },
         {
          "count": 1045,
          "topic": 8,
          "topic_interpretation": "KPÖ/LinkeVorderungen"
         },
         {
          "count": 1044,
          "topic": 10,
          "topic_interpretation": "Links/Alternativ"
         },
         {
          "count": 1010,
          "topic": 18,
          "topic_interpretation": "Wahlkampfslogans"
         },
         {
          "count": 995,
          "topic": 2,
          "topic_interpretation": "Wohnen/Sicherheit"
         },
         {
          "count": 937,
          "topic": 1,
          "topic_interpretation": "-"
         },
         {
          "count": 866,
          "topic": 5,
          "topic_interpretation": "TV"
         },
         {
          "count": 864,
          "topic": 17,
          "topic_interpretation": "-"
         },
         {
          "count": 822,
          "topic": 14,
          "topic_interpretation": "Volksparteien"
         }
        ]
       },
       "encoding": {
        "opacity": {
         "value": 0.75
        },
        "tooltip": [
         {
          "field": "topic_interpretation",
          "title": "Interpretation",
          "type": "nominal"
         }
        ],
        "x": {
         "field": "topic",
         "title": "Topic",
         "type": "nominal"
        },
        "y": {
         "field": "count",
         "title": "Number of posts",
         "type": "quantitative"
        }
       },
       "mark": "bar",
       "title": "Posts per Topic"
      },
      "image/png": "[encoded data removed]",
      "text/plain": [
       "<VegaLite 3 object>\n",
       "\n",
       "If you see this message, it means the renderer has not been properly enabled\n",
       "for the frontend that you are using. For more information, see\n",
       "https://altair-viz.github.io/user_guide/troubleshooting.html\n"
      ]
     },
     "execution_count": 8,
     "metadata": {},
     "output_type": "execute_result"
    }
   ],
   "source": [
    "p_data = data.topic.value_counts().to_frame(\"count\").rename_axis(\"topic\").reset_index()\n",
    "p_data[\"topic_interpretation\"] = p_data.topic.map(topic_interpretation)\n",
    "\n",
    "chart = alt.Chart(p_data, title=\"Posts per Topic\").mark_bar().encode(\n",
    "    x=alt.X(\"topic:N\", title=\"Topic\"),\n",
    "    y=alt.Y(\"count:Q\", title=\"Number of posts\"),\n",
    "    opacity=alt.value(0.75),\n",
    "    tooltip=[alt.Tooltip(\"topic_interpretation\", title=\"Interpretation\")]\n",
    ")\n",
    "\n",
    "chart.save(os.path.join(figures_path, \"topics\", \"LDAn20_posts_per_topic.html\"))\n",
    "chart"
   ]
  },
  {
   "cell_type": "markdown",
   "metadata": {},
   "source": [
    "Top-20 Posts per Topic"
   ]
  },
  {
   "cell_type": "code",
   "execution_count": 9,
   "metadata": {},
   "outputs": [],
   "source": [
    "def get_top_20(df, topic, topic_range):\n",
    "    topic_subset = df[df.topic == topic].copy()\n",
    "    topic_subset.topic_distribution = topic_subset.topic_distribution.apply(ast.literal_eval)\n",
    "    flattend_subset = pd.concat([topic_subset,\n",
    "                                pd.DataFrame(topic_subset.topic_distribution.values.tolist(),\n",
    "                                             index=topic_subset.index, columns=topic_range)],\n",
    "                               axis=1)\n",
    "    return flattend_subset.sort_values(by=[topic], ascending=False).text.head(20)"
   ]
  },
  {
   "cell_type": "code",
   "execution_count": 10,
   "metadata": {},
   "outputs": [],
   "source": [
    "topics20_top20_fp = \"../reports/topics_n20_top-20.txt\"\n",
    "topic_range = range(1, 21)\n",
    "\n",
    "with open(topics20_top20_fp, \"w\") as f:\n",
    "    for i in topic_range:\n",
    "        with pd.option_context(\"display.max_colwidth\", -1):\n",
    "            f.write(\"Topic \" + str(i) + \":\\n\" + get_top_20(topics20, i, topic_range).to_string(index=False) + \"\\n\\n\")"
   ]
  },
  {
   "cell_type": "markdown",
   "metadata": {},
   "source": [
    "### Interactions per topic"
   ]
  },
  {
   "cell_type": "markdown",
   "metadata": {},
   "source": [
    "Total interactions"
   ]
  },
  {
   "cell_type": "code",
   "execution_count": 11,
   "metadata": {},
   "outputs": [
    {
     "data": {
      "text/html": [
       "<div>\n",
       "<style scoped>\n",
       "    .dataframe tbody tr th:only-of-type {\n",
       "        vertical-align: middle;\n",
       "    }\n",
       "\n",
       "    .dataframe tbody tr th {\n",
       "        vertical-align: top;\n",
       "    }\n",
       "\n",
       "    .dataframe thead tr th {\n",
       "        text-align: left;\n",
       "    }\n",
       "\n",
       "    .dataframe thead tr:last-of-type th {\n",
       "        text-align: right;\n",
       "    }\n",
       "</style>\n",
       "<table border=\"1\" class=\"dataframe\">\n",
       "  <thead>\n",
       "    <tr>\n",
       "      <th></th>\n",
       "      <th></th>\n",
       "      <th colspan=\"3\" halign=\"left\">interactionCount</th>\n",
       "    </tr>\n",
       "    <tr>\n",
       "      <th></th>\n",
       "      <th></th>\n",
       "      <th>count</th>\n",
       "      <th>sum</th>\n",
       "      <th>mean</th>\n",
       "    </tr>\n",
       "    <tr>\n",
       "      <th>topic</th>\n",
       "      <th>topic_interpretation</th>\n",
       "      <th></th>\n",
       "      <th></th>\n",
       "      <th></th>\n",
       "    </tr>\n",
       "  </thead>\n",
       "  <tbody>\n",
       "    <tr>\n",
       "      <td>1</td>\n",
       "      <td>-</td>\n",
       "      <td>937</td>\n",
       "      <td>105285</td>\n",
       "      <td>112.363927</td>\n",
       "    </tr>\n",
       "    <tr>\n",
       "      <td>2</td>\n",
       "      <td>Wohnen/Sicherheit</td>\n",
       "      <td>995</td>\n",
       "      <td>144655</td>\n",
       "      <td>145.381910</td>\n",
       "    </tr>\n",
       "    <tr>\n",
       "      <td>3</td>\n",
       "      <td>Grüne</td>\n",
       "      <td>1234</td>\n",
       "      <td>176640</td>\n",
       "      <td>143.144246</td>\n",
       "    </tr>\n",
       "    <tr>\n",
       "      <td>4</td>\n",
       "      <td>Steuern/Geld</td>\n",
       "      <td>1435</td>\n",
       "      <td>255748</td>\n",
       "      <td>178.221603</td>\n",
       "    </tr>\n",
       "    <tr>\n",
       "      <td>5</td>\n",
       "      <td>TV</td>\n",
       "      <td>866</td>\n",
       "      <td>132610</td>\n",
       "      <td>153.129330</td>\n",
       "    </tr>\n",
       "    <tr>\n",
       "      <td>6</td>\n",
       "      <td>Parteien</td>\n",
       "      <td>1495</td>\n",
       "      <td>217015</td>\n",
       "      <td>145.160535</td>\n",
       "    </tr>\n",
       "    <tr>\n",
       "      <td>7</td>\n",
       "      <td>Prognosen</td>\n",
       "      <td>1196</td>\n",
       "      <td>176082</td>\n",
       "      <td>147.225753</td>\n",
       "    </tr>\n",
       "    <tr>\n",
       "      <td>8</td>\n",
       "      <td>KPÖ/LinkeVorderungen</td>\n",
       "      <td>1045</td>\n",
       "      <td>130028</td>\n",
       "      <td>124.428708</td>\n",
       "    </tr>\n",
       "    <tr>\n",
       "      <td>9</td>\n",
       "      <td>Dank/TV-Runde</td>\n",
       "      <td>1335</td>\n",
       "      <td>196337</td>\n",
       "      <td>147.068914</td>\n",
       "    </tr>\n",
       "    <tr>\n",
       "      <td>10</td>\n",
       "      <td>Links/Alternativ</td>\n",
       "      <td>1044</td>\n",
       "      <td>148251</td>\n",
       "      <td>142.002874</td>\n",
       "    </tr>\n",
       "    <tr>\n",
       "      <td>11</td>\n",
       "      <td>ÖVP</td>\n",
       "      <td>1824</td>\n",
       "      <td>482425</td>\n",
       "      <td>264.487390</td>\n",
       "    </tr>\n",
       "    <tr>\n",
       "      <td>12</td>\n",
       "      <td>-</td>\n",
       "      <td>1135</td>\n",
       "      <td>157714</td>\n",
       "      <td>138.955066</td>\n",
       "    </tr>\n",
       "    <tr>\n",
       "      <td>13</td>\n",
       "      <td>SPÖ</td>\n",
       "      <td>1564</td>\n",
       "      <td>295396</td>\n",
       "      <td>188.872123</td>\n",
       "    </tr>\n",
       "    <tr>\n",
       "      <td>14</td>\n",
       "      <td>Volksparteien</td>\n",
       "      <td>822</td>\n",
       "      <td>138625</td>\n",
       "      <td>168.643552</td>\n",
       "    </tr>\n",
       "    <tr>\n",
       "      <td>15</td>\n",
       "      <td>-</td>\n",
       "      <td>1175</td>\n",
       "      <td>227565</td>\n",
       "      <td>193.672340</td>\n",
       "    </tr>\n",
       "    <tr>\n",
       "      <td>16</td>\n",
       "      <td>FPÖ</td>\n",
       "      <td>1078</td>\n",
       "      <td>261477</td>\n",
       "      <td>242.557514</td>\n",
       "    </tr>\n",
       "    <tr>\n",
       "      <td>17</td>\n",
       "      <td>-</td>\n",
       "      <td>864</td>\n",
       "      <td>115372</td>\n",
       "      <td>133.532407</td>\n",
       "    </tr>\n",
       "    <tr>\n",
       "      <td>18</td>\n",
       "      <td>Wahlkampfslogans</td>\n",
       "      <td>1010</td>\n",
       "      <td>183748</td>\n",
       "      <td>181.928713</td>\n",
       "    </tr>\n",
       "    <tr>\n",
       "      <td>19</td>\n",
       "      <td>-</td>\n",
       "      <td>1062</td>\n",
       "      <td>147963</td>\n",
       "      <td>139.324859</td>\n",
       "    </tr>\n",
       "    <tr>\n",
       "      <td>20</td>\n",
       "      <td>Rechts-außen</td>\n",
       "      <td>1268</td>\n",
       "      <td>215937</td>\n",
       "      <td>170.297319</td>\n",
       "    </tr>\n",
       "  </tbody>\n",
       "</table>\n",
       "</div>"
      ],
      "text/plain": [
       "                           interactionCount                    \n",
       "                                      count     sum        mean\n",
       "topic topic_interpretation                                     \n",
       "1     -                                 937  105285  112.363927\n",
       "2     Wohnen/Sicherheit                 995  144655  145.381910\n",
       "3     Grüne                            1234  176640  143.144246\n",
       "4     Steuern/Geld                     1435  255748  178.221603\n",
       "5     TV                                866  132610  153.129330\n",
       "6     Parteien                         1495  217015  145.160535\n",
       "7     Prognosen                        1196  176082  147.225753\n",
       "8     KPÖ/LinkeVorderungen             1045  130028  124.428708\n",
       "9     Dank/TV-Runde                    1335  196337  147.068914\n",
       "10    Links/Alternativ                 1044  148251  142.002874\n",
       "11    ÖVP                              1824  482425  264.487390\n",
       "12    -                                1135  157714  138.955066\n",
       "13    SPÖ                              1564  295396  188.872123\n",
       "14    Volksparteien                     822  138625  168.643552\n",
       "15    -                                1175  227565  193.672340\n",
       "16    FPÖ                              1078  261477  242.557514\n",
       "17    -                                 864  115372  133.532407\n",
       "18    Wahlkampfslogans                 1010  183748  181.928713\n",
       "19    -                                1062  147963  139.324859\n",
       "20    Rechts-außen                     1268  215937  170.297319"
      ]
     },
     "execution_count": 11,
     "metadata": {},
     "output_type": "execute_result"
    }
   ],
   "source": [
    "grouped = data.groupby([\"topic\", \"topic_interpretation\"]).agg({\"interactionCount\": [\"count\", \"sum\", \"mean\"]})\n",
    "pd.set_option(\"display.max_rows\", None)\n",
    "grouped"
   ]
  },
  {
   "cell_type": "code",
   "execution_count": 12,
   "metadata": {},
   "outputs": [
    {
     "data": {
      "application/vnd.vegalite.v3+json": {
       "$schema": "https://vega.github.io/schema/vega-lite/v3.4.0.json",
       "config": {
        "mark": {
         "tooltip": null
        },
        "view": {
         "height": 300,
         "width": 400
        }
       },
       "data": {
        "name": "data-b43a3167864919c1cb1e5d3c949546ce"
       },
       "datasets": {
        "data-b43a3167864919c1cb1e5d3c949546ce": [
         {
          "Topic": "-",
          "bar_label": "Total interactions",
          "count": 937,
          "mean": 112.36,
          "mean_label": "Mean interactions",
          "sum": 105285,
          "topic": 1,
          "topic_interpretation": "-"
         },
         {
          "Topic": "Wohnen/Sicherheit",
          "bar_label": "Total interactions",
          "count": 995,
          "mean": 145.38,
          "mean_label": "Mean interactions",
          "sum": 144655,
          "topic": 2,
          "topic_interpretation": "Wohnen/Sicherheit"
         },
         {
          "Topic": "Grüne",
          "bar_label": "Total interactions",
          "count": 1234,
          "mean": 143.14,
          "mean_label": "Mean interactions",
          "sum": 176640,
          "topic": 3,
          "topic_interpretation": "Grüne"
         },
         {
          "Topic": "Steuern/Geld",
          "bar_label": "Total interactions",
          "count": 1435,
          "mean": 178.22,
          "mean_label": "Mean interactions",
          "sum": 255748,
          "topic": 4,
          "topic_interpretation": "Steuern/Geld"
         },
         {
          "Topic": "TV",
          "bar_label": "Total interactions",
          "count": 866,
          "mean": 153.13,
          "mean_label": "Mean interactions",
          "sum": 132610,
          "topic": 5,
          "topic_interpretation": "TV"
         },
         {
          "Topic": "Parteien",
          "bar_label": "Total interactions",
          "count": 1495,
          "mean": 145.16,
          "mean_label": "Mean interactions",
          "sum": 217015,
          "topic": 6,
          "topic_interpretation": "Parteien"
         },
         {
          "Topic": "Prognosen",
          "bar_label": "Total interactions",
          "count": 1196,
          "mean": 147.23,
          "mean_label": "Mean interactions",
          "sum": 176082,
          "topic": 7,
          "topic_interpretation": "Prognosen"
         },
         {
          "Topic": "KPÖ/LinkeVorderungen",
          "bar_label": "Total interactions",
          "count": 1045,
          "mean": 124.43,
          "mean_label": "Mean interactions",
          "sum": 130028,
          "topic": 8,
          "topic_interpretation": "KPÖ/LinkeVorderungen"
         },
         {
          "Topic": "Dank/TV-Runde",
          "bar_label": "Total interactions",
          "count": 1335,
          "mean": 147.07,
          "mean_label": "Mean interactions",
          "sum": 196337,
          "topic": 9,
          "topic_interpretation": "Dank/TV-Runde"
         },
         {
          "Topic": "Links/Alternativ",
          "bar_label": "Total interactions",
          "count": 1044,
          "mean": 142,
          "mean_label": "Mean interactions",
          "sum": 148251,
          "topic": 10,
          "topic_interpretation": "Links/Alternativ"
         },
         {
          "Topic": "ÖVP",
          "bar_label": "Total interactions",
          "count": 1824,
          "mean": 264.49,
          "mean_label": "Mean interactions",
          "sum": 482425,
          "topic": 11,
          "topic_interpretation": "ÖVP"
         },
         {
          "Topic": "-",
          "bar_label": "Total interactions",
          "count": 1135,
          "mean": 138.96,
          "mean_label": "Mean interactions",
          "sum": 157714,
          "topic": 12,
          "topic_interpretation": "-"
         },
         {
          "Topic": "SPÖ",
          "bar_label": "Total interactions",
          "count": 1564,
          "mean": 188.87,
          "mean_label": "Mean interactions",
          "sum": 295396,
          "topic": 13,
          "topic_interpretation": "SPÖ"
         },
         {
          "Topic": "Volksparteien",
          "bar_label": "Total interactions",
          "count": 822,
          "mean": 168.64,
          "mean_label": "Mean interactions",
          "sum": 138625,
          "topic": 14,
          "topic_interpretation": "Volksparteien"
         },
         {
          "Topic": "-",
          "bar_label": "Total interactions",
          "count": 1175,
          "mean": 193.67,
          "mean_label": "Mean interactions",
          "sum": 227565,
          "topic": 15,
          "topic_interpretation": "-"
         },
         {
          "Topic": "FPÖ",
          "bar_label": "Total interactions",
          "count": 1078,
          "mean": 242.56,
          "mean_label": "Mean interactions",
          "sum": 261477,
          "topic": 16,
          "topic_interpretation": "FPÖ"
         },
         {
          "Topic": "-",
          "bar_label": "Total interactions",
          "count": 864,
          "mean": 133.53,
          "mean_label": "Mean interactions",
          "sum": 115372,
          "topic": 17,
          "topic_interpretation": "-"
         },
         {
          "Topic": "Wahlkampfslogans",
          "bar_label": "Total interactions",
          "count": 1010,
          "mean": 181.93,
          "mean_label": "Mean interactions",
          "sum": 183748,
          "topic": 18,
          "topic_interpretation": "Wahlkampfslogans"
         },
         {
          "Topic": "-",
          "bar_label": "Total interactions",
          "count": 1062,
          "mean": 139.32,
          "mean_label": "Mean interactions",
          "sum": 147963,
          "topic": 19,
          "topic_interpretation": "-"
         },
         {
          "Topic": "Rechts-außen",
          "bar_label": "Total interactions",
          "count": 1268,
          "mean": 170.3,
          "mean_label": "Mean interactions",
          "sum": 215937,
          "topic": 20,
          "topic_interpretation": "Rechts-außen"
         }
        ]
       },
       "layer": [
        {
         "encoding": {
          "opacity": {
           "value": 0.75
          },
          "tooltip": [
           {
            "field": "Topic",
            "title": "Topic",
            "type": "nominal"
           },
           {
            "field": "count",
            "title": "Posts",
            "type": "quantitative"
           },
           {
            "field": "sum",
            "title": "Total interactions",
            "type": "quantitative"
           },
           {
            "field": "mean",
            "title": "Mean interactions",
            "type": "quantitative"
           }
          ],
          "x": {
           "field": "topic",
           "title": "Topic",
           "type": "nominal"
          },
          "y": {
           "field": "sum",
           "scale": {
            "base": 10,
            "type": "log"
           },
           "title": "Total interactions (log)",
           "type": "quantitative"
          }
         },
         "mark": "bar",
         "title": "Interactions per Topic"
        },
        {
         "encoding": {
          "color": {
           "field": "mean_label",
           "scale": {
            "domain": [
             "Mean interactions"
            ],
            "range": [
             "red"
            ]
           },
           "title": "Legend",
           "type": "nominal"
          },
          "opacity": {
           "value": 1
          },
          "x": {
           "field": "topic",
           "title": "Topic",
           "type": "nominal"
          },
          "y": {
           "field": "mean",
           "scale": {
            "base": 10,
            "type": "log"
           },
           "title": "",
           "type": "quantitative"
          }
         },
         "mark": {
          "color": "red",
          "thickness": 2,
          "type": "tick"
         }
        }
       ]
      },
      "image/png": "[encoded data removed]",
      "text/plain": [
       "<VegaLite 3 object>\n",
       "\n",
       "If you see this message, it means the renderer has not been properly enabled\n",
       "for the frontend that you are using. For more information, see\n",
       "https://altair-viz.github.io/user_guide/troubleshooting.html\n"
      ]
     },
     "execution_count": 12,
     "metadata": {},
     "output_type": "execute_result"
    }
   ],
   "source": [
    "grouped.columns = [\"count\", \"sum\", \"mean\"]\n",
    "p_data = grouped.reset_index().round(2)\n",
    "p_data[\"Topic\"] = p_data.topic_interpretation\n",
    "p_data[\"bar_label\"] = [\"Total interactions\"] * p_data.shape[0]\n",
    "p_data[\"mean_label\"] = [\"Mean interactions\"] * p_data.shape[0]\n",
    "\n",
    "bars = alt.Chart(p_data, title=\"Interactions per Topic\").mark_bar().encode(\n",
    "    x=alt.X(\"topic:N\", title=\"Topic\"),\n",
    "    y=alt.Y(\"sum:Q\",\n",
    "            scale=alt.Scale(type=\"log\", base=10),\n",
    "            title=\"Total interactions (log)\"),\n",
    "    opacity=alt.value(0.75),\n",
    "    tooltip=[alt.Tooltip(\"Topic\", title=\"Topic\"),\n",
    "             alt.Tooltip(\"count\", title=\"Posts\"),\n",
    "             alt.Tooltip(\"sum\", title=\"Total interactions\"),\n",
    "             alt.Tooltip(\"mean\", title=\"Mean interactions\")]\n",
    ")\n",
    "\n",
    "mean_ticks = alt.Chart(p_data).mark_tick(color=\"red\", thickness=2).encode(\n",
    "    x=alt.X(\"topic:N\", title=\"Topic\"),\n",
    "    y=alt.Y(\"mean:Q\",\n",
    "            scale=alt.Scale(type=\"log\", base=10),\n",
    "            title=\"\"),\n",
    "    color=alt.Color(\"mean_label\",\n",
    "                    scale=alt.Scale(range=[\"red\"], domain=[\"Mean interactions\"]), \n",
    "                    title=\"Legend\"),\n",
    "    opacity=alt.value(1)\n",
    ")\n",
    "\n",
    "chart = bars + mean_ticks\n",
    "chart.save(os.path.join(figures_path, \"topics\", \"interactions_per_topic.html\"))\n",
    "chart"
   ]
  },
  {
   "cell_type": "markdown",
   "metadata": {},
   "source": [
    "Interactions per source"
   ]
  },
  {
   "cell_type": "code",
   "execution_count": 13,
   "metadata": {},
   "outputs": [
    {
     "data": {
      "text/html": [
       "<div>\n",
       "<style scoped>\n",
       "    .dataframe tbody tr th:only-of-type {\n",
       "        vertical-align: middle;\n",
       "    }\n",
       "\n",
       "    .dataframe tbody tr th {\n",
       "        vertical-align: top;\n",
       "    }\n",
       "\n",
       "    .dataframe thead tr th {\n",
       "        text-align: left;\n",
       "    }\n",
       "\n",
       "    .dataframe thead tr:last-of-type th {\n",
       "        text-align: right;\n",
       "    }\n",
       "</style>\n",
       "<table border=\"1\" class=\"dataframe\">\n",
       "  <thead>\n",
       "    <tr>\n",
       "      <th></th>\n",
       "      <th></th>\n",
       "      <th></th>\n",
       "      <th colspan=\"3\" halign=\"left\">interactionCount</th>\n",
       "    </tr>\n",
       "    <tr>\n",
       "      <th></th>\n",
       "      <th></th>\n",
       "      <th></th>\n",
       "      <th>count</th>\n",
       "      <th>sum</th>\n",
       "      <th>mean</th>\n",
       "    </tr>\n",
       "    <tr>\n",
       "      <th>topic</th>\n",
       "      <th>topic_interpretation</th>\n",
       "      <th>source</th>\n",
       "      <th></th>\n",
       "      <th></th>\n",
       "      <th></th>\n",
       "    </tr>\n",
       "  </thead>\n",
       "  <tbody>\n",
       "    <tr>\n",
       "      <td rowspan=\"2\" valign=\"top\">1</td>\n",
       "      <td rowspan=\"2\" valign=\"top\">-</td>\n",
       "      <td>Facebook</td>\n",
       "      <td>469</td>\n",
       "      <td>88713</td>\n",
       "      <td>189.153518</td>\n",
       "    </tr>\n",
       "    <tr>\n",
       "      <td>Twitter</td>\n",
       "      <td>468</td>\n",
       "      <td>16572</td>\n",
       "      <td>35.410256</td>\n",
       "    </tr>\n",
       "    <tr>\n",
       "      <td rowspan=\"2\" valign=\"top\">2</td>\n",
       "      <td rowspan=\"2\" valign=\"top\">Wohnen/Sicherheit</td>\n",
       "      <td>Facebook</td>\n",
       "      <td>524</td>\n",
       "      <td>132659</td>\n",
       "      <td>253.166031</td>\n",
       "    </tr>\n",
       "    <tr>\n",
       "      <td>Twitter</td>\n",
       "      <td>471</td>\n",
       "      <td>11996</td>\n",
       "      <td>25.469214</td>\n",
       "    </tr>\n",
       "    <tr>\n",
       "      <td rowspan=\"2\" valign=\"top\">3</td>\n",
       "      <td rowspan=\"2\" valign=\"top\">Grüne</td>\n",
       "      <td>Facebook</td>\n",
       "      <td>602</td>\n",
       "      <td>159577</td>\n",
       "      <td>265.078073</td>\n",
       "    </tr>\n",
       "    <tr>\n",
       "      <td>Twitter</td>\n",
       "      <td>632</td>\n",
       "      <td>17063</td>\n",
       "      <td>26.998418</td>\n",
       "    </tr>\n",
       "    <tr>\n",
       "      <td rowspan=\"2\" valign=\"top\">4</td>\n",
       "      <td rowspan=\"2\" valign=\"top\">Steuern/Geld</td>\n",
       "      <td>Facebook</td>\n",
       "      <td>707</td>\n",
       "      <td>227364</td>\n",
       "      <td>321.589816</td>\n",
       "    </tr>\n",
       "    <tr>\n",
       "      <td>Twitter</td>\n",
       "      <td>728</td>\n",
       "      <td>28384</td>\n",
       "      <td>38.989011</td>\n",
       "    </tr>\n",
       "    <tr>\n",
       "      <td rowspan=\"2\" valign=\"top\">5</td>\n",
       "      <td rowspan=\"2\" valign=\"top\">TV</td>\n",
       "      <td>Facebook</td>\n",
       "      <td>449</td>\n",
       "      <td>113189</td>\n",
       "      <td>252.091314</td>\n",
       "    </tr>\n",
       "    <tr>\n",
       "      <td>Twitter</td>\n",
       "      <td>417</td>\n",
       "      <td>19421</td>\n",
       "      <td>46.573141</td>\n",
       "    </tr>\n",
       "    <tr>\n",
       "      <td rowspan=\"2\" valign=\"top\">6</td>\n",
       "      <td rowspan=\"2\" valign=\"top\">Parteien</td>\n",
       "      <td>Facebook</td>\n",
       "      <td>719</td>\n",
       "      <td>194006</td>\n",
       "      <td>269.827538</td>\n",
       "    </tr>\n",
       "    <tr>\n",
       "      <td>Twitter</td>\n",
       "      <td>776</td>\n",
       "      <td>23009</td>\n",
       "      <td>29.650773</td>\n",
       "    </tr>\n",
       "    <tr>\n",
       "      <td rowspan=\"2\" valign=\"top\">7</td>\n",
       "      <td rowspan=\"2\" valign=\"top\">Prognosen</td>\n",
       "      <td>Facebook</td>\n",
       "      <td>634</td>\n",
       "      <td>149874</td>\n",
       "      <td>236.394322</td>\n",
       "    </tr>\n",
       "    <tr>\n",
       "      <td>Twitter</td>\n",
       "      <td>562</td>\n",
       "      <td>26208</td>\n",
       "      <td>46.633452</td>\n",
       "    </tr>\n",
       "    <tr>\n",
       "      <td rowspan=\"2\" valign=\"top\">8</td>\n",
       "      <td rowspan=\"2\" valign=\"top\">KPÖ/LinkeVorderungen</td>\n",
       "      <td>Facebook</td>\n",
       "      <td>492</td>\n",
       "      <td>115130</td>\n",
       "      <td>234.004065</td>\n",
       "    </tr>\n",
       "    <tr>\n",
       "      <td>Twitter</td>\n",
       "      <td>553</td>\n",
       "      <td>14898</td>\n",
       "      <td>26.940325</td>\n",
       "    </tr>\n",
       "    <tr>\n",
       "      <td rowspan=\"2\" valign=\"top\">9</td>\n",
       "      <td rowspan=\"2\" valign=\"top\">Dank/TV-Runde</td>\n",
       "      <td>Facebook</td>\n",
       "      <td>544</td>\n",
       "      <td>167913</td>\n",
       "      <td>308.663603</td>\n",
       "    </tr>\n",
       "    <tr>\n",
       "      <td>Twitter</td>\n",
       "      <td>791</td>\n",
       "      <td>28424</td>\n",
       "      <td>35.934260</td>\n",
       "    </tr>\n",
       "    <tr>\n",
       "      <td rowspan=\"2\" valign=\"top\">10</td>\n",
       "      <td rowspan=\"2\" valign=\"top\">Links/Alternativ</td>\n",
       "      <td>Facebook</td>\n",
       "      <td>518</td>\n",
       "      <td>133007</td>\n",
       "      <td>256.770270</td>\n",
       "    </tr>\n",
       "    <tr>\n",
       "      <td>Twitter</td>\n",
       "      <td>526</td>\n",
       "      <td>15244</td>\n",
       "      <td>28.980989</td>\n",
       "    </tr>\n",
       "    <tr>\n",
       "      <td rowspan=\"2\" valign=\"top\">11</td>\n",
       "      <td rowspan=\"2\" valign=\"top\">ÖVP</td>\n",
       "      <td>Facebook</td>\n",
       "      <td>1099</td>\n",
       "      <td>452139</td>\n",
       "      <td>411.409463</td>\n",
       "    </tr>\n",
       "    <tr>\n",
       "      <td>Twitter</td>\n",
       "      <td>725</td>\n",
       "      <td>30286</td>\n",
       "      <td>41.773793</td>\n",
       "    </tr>\n",
       "    <tr>\n",
       "      <td rowspan=\"2\" valign=\"top\">12</td>\n",
       "      <td rowspan=\"2\" valign=\"top\">-</td>\n",
       "      <td>Facebook</td>\n",
       "      <td>626</td>\n",
       "      <td>141228</td>\n",
       "      <td>225.603834</td>\n",
       "    </tr>\n",
       "    <tr>\n",
       "      <td>Twitter</td>\n",
       "      <td>509</td>\n",
       "      <td>16486</td>\n",
       "      <td>32.388998</td>\n",
       "    </tr>\n",
       "    <tr>\n",
       "      <td rowspan=\"2\" valign=\"top\">13</td>\n",
       "      <td rowspan=\"2\" valign=\"top\">SPÖ</td>\n",
       "      <td>Facebook</td>\n",
       "      <td>809</td>\n",
       "      <td>273951</td>\n",
       "      <td>338.629172</td>\n",
       "    </tr>\n",
       "    <tr>\n",
       "      <td>Twitter</td>\n",
       "      <td>755</td>\n",
       "      <td>21445</td>\n",
       "      <td>28.403974</td>\n",
       "    </tr>\n",
       "    <tr>\n",
       "      <td rowspan=\"2\" valign=\"top\">14</td>\n",
       "      <td rowspan=\"2\" valign=\"top\">Volksparteien</td>\n",
       "      <td>Facebook</td>\n",
       "      <td>428</td>\n",
       "      <td>128653</td>\n",
       "      <td>300.591121</td>\n",
       "    </tr>\n",
       "    <tr>\n",
       "      <td>Twitter</td>\n",
       "      <td>394</td>\n",
       "      <td>9972</td>\n",
       "      <td>25.309645</td>\n",
       "    </tr>\n",
       "    <tr>\n",
       "      <td rowspan=\"2\" valign=\"top\">15</td>\n",
       "      <td rowspan=\"2\" valign=\"top\">-</td>\n",
       "      <td>Facebook</td>\n",
       "      <td>587</td>\n",
       "      <td>211253</td>\n",
       "      <td>359.885860</td>\n",
       "    </tr>\n",
       "    <tr>\n",
       "      <td>Twitter</td>\n",
       "      <td>588</td>\n",
       "      <td>16312</td>\n",
       "      <td>27.741497</td>\n",
       "    </tr>\n",
       "    <tr>\n",
       "      <td rowspan=\"2\" valign=\"top\">16</td>\n",
       "      <td rowspan=\"2\" valign=\"top\">FPÖ</td>\n",
       "      <td>Facebook</td>\n",
       "      <td>621</td>\n",
       "      <td>249352</td>\n",
       "      <td>401.533011</td>\n",
       "    </tr>\n",
       "    <tr>\n",
       "      <td>Twitter</td>\n",
       "      <td>457</td>\n",
       "      <td>12125</td>\n",
       "      <td>26.531729</td>\n",
       "    </tr>\n",
       "    <tr>\n",
       "      <td rowspan=\"2\" valign=\"top\">17</td>\n",
       "      <td rowspan=\"2\" valign=\"top\">-</td>\n",
       "      <td>Facebook</td>\n",
       "      <td>473</td>\n",
       "      <td>105266</td>\n",
       "      <td>222.549683</td>\n",
       "    </tr>\n",
       "    <tr>\n",
       "      <td>Twitter</td>\n",
       "      <td>391</td>\n",
       "      <td>10106</td>\n",
       "      <td>25.846547</td>\n",
       "    </tr>\n",
       "    <tr>\n",
       "      <td rowspan=\"2\" valign=\"top\">18</td>\n",
       "      <td rowspan=\"2\" valign=\"top\">Wahlkampfslogans</td>\n",
       "      <td>Facebook</td>\n",
       "      <td>589</td>\n",
       "      <td>167896</td>\n",
       "      <td>285.052632</td>\n",
       "    </tr>\n",
       "    <tr>\n",
       "      <td>Twitter</td>\n",
       "      <td>421</td>\n",
       "      <td>15852</td>\n",
       "      <td>37.653207</td>\n",
       "    </tr>\n",
       "    <tr>\n",
       "      <td rowspan=\"2\" valign=\"top\">19</td>\n",
       "      <td rowspan=\"2\" valign=\"top\">-</td>\n",
       "      <td>Facebook</td>\n",
       "      <td>520</td>\n",
       "      <td>132786</td>\n",
       "      <td>255.357692</td>\n",
       "    </tr>\n",
       "    <tr>\n",
       "      <td>Twitter</td>\n",
       "      <td>542</td>\n",
       "      <td>15177</td>\n",
       "      <td>28.001845</td>\n",
       "    </tr>\n",
       "    <tr>\n",
       "      <td rowspan=\"2\" valign=\"top\">20</td>\n",
       "      <td rowspan=\"2\" valign=\"top\">Rechts-außen</td>\n",
       "      <td>Facebook</td>\n",
       "      <td>621</td>\n",
       "      <td>188230</td>\n",
       "      <td>303.107890</td>\n",
       "    </tr>\n",
       "    <tr>\n",
       "      <td>Twitter</td>\n",
       "      <td>647</td>\n",
       "      <td>27707</td>\n",
       "      <td>42.823802</td>\n",
       "    </tr>\n",
       "  </tbody>\n",
       "</table>\n",
       "</div>"
      ],
      "text/plain": [
       "                                    interactionCount                    \n",
       "                                               count     sum        mean\n",
       "topic topic_interpretation source                                       \n",
       "1     -                    Facebook              469   88713  189.153518\n",
       "                           Twitter               468   16572   35.410256\n",
       "2     Wohnen/Sicherheit    Facebook              524  132659  253.166031\n",
       "                           Twitter               471   11996   25.469214\n",
       "3     Grüne                Facebook              602  159577  265.078073\n",
       "                           Twitter               632   17063   26.998418\n",
       "4     Steuern/Geld         Facebook              707  227364  321.589816\n",
       "                           Twitter               728   28384   38.989011\n",
       "5     TV                   Facebook              449  113189  252.091314\n",
       "                           Twitter               417   19421   46.573141\n",
       "6     Parteien             Facebook              719  194006  269.827538\n",
       "                           Twitter               776   23009   29.650773\n",
       "7     Prognosen            Facebook              634  149874  236.394322\n",
       "                           Twitter               562   26208   46.633452\n",
       "8     KPÖ/LinkeVorderungen Facebook              492  115130  234.004065\n",
       "                           Twitter               553   14898   26.940325\n",
       "9     Dank/TV-Runde        Facebook              544  167913  308.663603\n",
       "                           Twitter               791   28424   35.934260\n",
       "10    Links/Alternativ     Facebook              518  133007  256.770270\n",
       "                           Twitter               526   15244   28.980989\n",
       "11    ÖVP                  Facebook             1099  452139  411.409463\n",
       "                           Twitter               725   30286   41.773793\n",
       "12    -                    Facebook              626  141228  225.603834\n",
       "                           Twitter               509   16486   32.388998\n",
       "13    SPÖ                  Facebook              809  273951  338.629172\n",
       "                           Twitter               755   21445   28.403974\n",
       "14    Volksparteien        Facebook              428  128653  300.591121\n",
       "                           Twitter               394    9972   25.309645\n",
       "15    -                    Facebook              587  211253  359.885860\n",
       "                           Twitter               588   16312   27.741497\n",
       "16    FPÖ                  Facebook              621  249352  401.533011\n",
       "                           Twitter               457   12125   26.531729\n",
       "17    -                    Facebook              473  105266  222.549683\n",
       "                           Twitter               391   10106   25.846547\n",
       "18    Wahlkampfslogans     Facebook              589  167896  285.052632\n",
       "                           Twitter               421   15852   37.653207\n",
       "19    -                    Facebook              520  132786  255.357692\n",
       "                           Twitter               542   15177   28.001845\n",
       "20    Rechts-außen         Facebook              621  188230  303.107890\n",
       "                           Twitter               647   27707   42.823802"
      ]
     },
     "execution_count": 13,
     "metadata": {},
     "output_type": "execute_result"
    }
   ],
   "source": [
    "grouped = data.groupby([\"topic\", \"topic_interpretation\", \"source\"]).agg({\"interactionCount\": [\"count\", \"sum\", \"mean\"]})\n",
    "pd.set_option(\"display.max_rows\", None)\n",
    "grouped"
   ]
  },
  {
   "cell_type": "code",
   "execution_count": 14,
   "metadata": {},
   "outputs": [
    {
     "data": {
      "application/vnd.vegalite.v3+json": {
       "$schema": "https://vega.github.io/schema/vega-lite/v3.4.0.json",
       "config": {
        "mark": {
         "tooltip": null
        },
        "view": {
         "height": 300,
         "width": 400
        }
       },
       "data": {
        "name": "data-579684491b866935d7730138f9710052"
       },
       "datasets": {
        "data-579684491b866935d7730138f9710052": [
         {
          "Source": "Facebook",
          "Topic": "-",
          "count": 469,
          "mean": 189.15351812366737,
          "source": "Facebook",
          "sum": 88713,
          "topic": 1,
          "topic_interpretation": "-"
         },
         {
          "Source": "Twitter",
          "Topic": "-",
          "count": 468,
          "mean": 35.41025641025641,
          "source": "Twitter",
          "sum": 16572,
          "topic": 1,
          "topic_interpretation": "-"
         },
         {
          "Source": "Facebook",
          "Topic": "Wohnen/Sicherheit",
          "count": 524,
          "mean": 253.16603053435114,
          "source": "Facebook",
          "sum": 132659,
          "topic": 2,
          "topic_interpretation": "Wohnen/Sicherheit"
         },
         {
          "Source": "Twitter",
          "Topic": "Wohnen/Sicherheit",
          "count": 471,
          "mean": 25.469214437367302,
          "source": "Twitter",
          "sum": 11996,
          "topic": 2,
          "topic_interpretation": "Wohnen/Sicherheit"
         },
         {
          "Source": "Facebook",
          "Topic": "Grüne",
          "count": 602,
          "mean": 265.078073089701,
          "source": "Facebook",
          "sum": 159577,
          "topic": 3,
          "topic_interpretation": "Grüne"
         },
         {
          "Source": "Twitter",
          "Topic": "Grüne",
          "count": 632,
          "mean": 26.998417721518987,
          "source": "Twitter",
          "sum": 17063,
          "topic": 3,
          "topic_interpretation": "Grüne"
         },
         {
          "Source": "Facebook",
          "Topic": "Steuern/Geld",
          "count": 707,
          "mean": 321.58981612446956,
          "source": "Facebook",
          "sum": 227364,
          "topic": 4,
          "topic_interpretation": "Steuern/Geld"
         },
         {
          "Source": "Twitter",
          "Topic": "Steuern/Geld",
          "count": 728,
          "mean": 38.989010989010985,
          "source": "Twitter",
          "sum": 28384,
          "topic": 4,
          "topic_interpretation": "Steuern/Geld"
         },
         {
          "Source": "Facebook",
          "Topic": "TV",
          "count": 449,
          "mean": 252.0913140311804,
          "source": "Facebook",
          "sum": 113189,
          "topic": 5,
          "topic_interpretation": "TV"
         },
         {
          "Source": "Twitter",
          "Topic": "TV",
          "count": 417,
          "mean": 46.57314148681055,
          "source": "Twitter",
          "sum": 19421,
          "topic": 5,
          "topic_interpretation": "TV"
         },
         {
          "Source": "Facebook",
          "Topic": "Parteien",
          "count": 719,
          "mean": 269.82753824756605,
          "source": "Facebook",
          "sum": 194006,
          "topic": 6,
          "topic_interpretation": "Parteien"
         },
         {
          "Source": "Twitter",
          "Topic": "Parteien",
          "count": 776,
          "mean": 29.65077319587629,
          "source": "Twitter",
          "sum": 23009,
          "topic": 6,
          "topic_interpretation": "Parteien"
         },
         {
          "Source": "Facebook",
          "Topic": "Prognosen",
          "count": 634,
          "mean": 236.39432176656152,
          "source": "Facebook",
          "sum": 149874,
          "topic": 7,
          "topic_interpretation": "Prognosen"
         },
         {
          "Source": "Twitter",
          "Topic": "Prognosen",
          "count": 562,
          "mean": 46.63345195729537,
          "source": "Twitter",
          "sum": 26208,
          "topic": 7,
          "topic_interpretation": "Prognosen"
         },
         {
          "Source": "Facebook",
          "Topic": "KPÖ/LinkeVorderungen",
          "count": 492,
          "mean": 234.0040650406504,
          "source": "Facebook",
          "sum": 115130,
          "topic": 8,
          "topic_interpretation": "KPÖ/LinkeVorderungen"
         },
         {
          "Source": "Twitter",
          "Topic": "KPÖ/LinkeVorderungen",
          "count": 553,
          "mean": 26.94032549728752,
          "source": "Twitter",
          "sum": 14898,
          "topic": 8,
          "topic_interpretation": "KPÖ/LinkeVorderungen"
         },
         {
          "Source": "Facebook",
          "Topic": "Dank/TV-Runde",
          "count": 544,
          "mean": 308.66360294117646,
          "source": "Facebook",
          "sum": 167913,
          "topic": 9,
          "topic_interpretation": "Dank/TV-Runde"
         },
         {
          "Source": "Twitter",
          "Topic": "Dank/TV-Runde",
          "count": 791,
          "mean": 35.93426042983565,
          "source": "Twitter",
          "sum": 28424,
          "topic": 9,
          "topic_interpretation": "Dank/TV-Runde"
         },
         {
          "Source": "Facebook",
          "Topic": "Links/Alternativ",
          "count": 518,
          "mean": 256.77027027027026,
          "source": "Facebook",
          "sum": 133007,
          "topic": 10,
          "topic_interpretation": "Links/Alternativ"
         },
         {
          "Source": "Twitter",
          "Topic": "Links/Alternativ",
          "count": 526,
          "mean": 28.980988593155892,
          "source": "Twitter",
          "sum": 15244,
          "topic": 10,
          "topic_interpretation": "Links/Alternativ"
         },
         {
          "Source": "Facebook",
          "Topic": "ÖVP",
          "count": 1099,
          "mean": 411.40946314831666,
          "source": "Facebook",
          "sum": 452139,
          "topic": 11,
          "topic_interpretation": "ÖVP"
         },
         {
          "Source": "Twitter",
          "Topic": "ÖVP",
          "count": 725,
          "mean": 41.77379310344828,
          "source": "Twitter",
          "sum": 30286,
          "topic": 11,
          "topic_interpretation": "ÖVP"
         },
         {
          "Source": "Facebook",
          "Topic": "-",
          "count": 626,
          "mean": 225.6038338658147,
          "source": "Facebook",
          "sum": 141228,
          "topic": 12,
          "topic_interpretation": "-"
         },
         {
          "Source": "Twitter",
          "Topic": "-",
          "count": 509,
          "mean": 32.38899803536346,
          "source": "Twitter",
          "sum": 16486,
          "topic": 12,
          "topic_interpretation": "-"
         },
         {
          "Source": "Facebook",
          "Topic": "SPÖ",
          "count": 809,
          "mean": 338.6291718170581,
          "source": "Facebook",
          "sum": 273951,
          "topic": 13,
          "topic_interpretation": "SPÖ"
         },
         {
          "Source": "Twitter",
          "Topic": "SPÖ",
          "count": 755,
          "mean": 28.403973509933774,
          "source": "Twitter",
          "sum": 21445,
          "topic": 13,
          "topic_interpretation": "SPÖ"
         },
         {
          "Source": "Facebook",
          "Topic": "Volksparteien",
          "count": 428,
          "mean": 300.5911214953271,
          "source": "Facebook",
          "sum": 128653,
          "topic": 14,
          "topic_interpretation": "Volksparteien"
         },
         {
          "Source": "Twitter",
          "Topic": "Volksparteien",
          "count": 394,
          "mean": 25.309644670050762,
          "source": "Twitter",
          "sum": 9972,
          "topic": 14,
          "topic_interpretation": "Volksparteien"
         },
         {
          "Source": "Facebook",
          "Topic": "-",
          "count": 587,
          "mean": 359.88586030664396,
          "source": "Facebook",
          "sum": 211253,
          "topic": 15,
          "topic_interpretation": "-"
         },
         {
          "Source": "Twitter",
          "Topic": "-",
          "count": 588,
          "mean": 27.741496598639454,
          "source": "Twitter",
          "sum": 16312,
          "topic": 15,
          "topic_interpretation": "-"
         },
         {
          "Source": "Facebook",
          "Topic": "FPÖ",
          "count": 621,
          "mean": 401.5330112721417,
          "source": "Facebook",
          "sum": 249352,
          "topic": 16,
          "topic_interpretation": "FPÖ"
         },
         {
          "Source": "Twitter",
          "Topic": "FPÖ",
          "count": 457,
          "mean": 26.53172866520788,
          "source": "Twitter",
          "sum": 12125,
          "topic": 16,
          "topic_interpretation": "FPÖ"
         },
         {
          "Source": "Facebook",
          "Topic": "-",
          "count": 473,
          "mean": 222.54968287526427,
          "source": "Facebook",
          "sum": 105266,
          "topic": 17,
          "topic_interpretation": "-"
         },
         {
          "Source": "Twitter",
          "Topic": "-",
          "count": 391,
          "mean": 25.846547314578004,
          "source": "Twitter",
          "sum": 10106,
          "topic": 17,
          "topic_interpretation": "-"
         },
         {
          "Source": "Facebook",
          "Topic": "Wahlkampfslogans",
          "count": 589,
          "mean": 285.05263157894734,
          "source": "Facebook",
          "sum": 167896,
          "topic": 18,
          "topic_interpretation": "Wahlkampfslogans"
         },
         {
          "Source": "Twitter",
          "Topic": "Wahlkampfslogans",
          "count": 421,
          "mean": 37.65320665083135,
          "source": "Twitter",
          "sum": 15852,
          "topic": 18,
          "topic_interpretation": "Wahlkampfslogans"
         },
         {
          "Source": "Facebook",
          "Topic": "-",
          "count": 520,
          "mean": 255.3576923076923,
          "source": "Facebook",
          "sum": 132786,
          "topic": 19,
          "topic_interpretation": "-"
         },
         {
          "Source": "Twitter",
          "Topic": "-",
          "count": 542,
          "mean": 28.001845018450183,
          "source": "Twitter",
          "sum": 15177,
          "topic": 19,
          "topic_interpretation": "-"
         },
         {
          "Source": "Facebook",
          "Topic": "Rechts-außen",
          "count": 621,
          "mean": 303.10789049919487,
          "source": "Facebook",
          "sum": 188230,
          "topic": 20,
          "topic_interpretation": "Rechts-außen"
         },
         {
          "Source": "Twitter",
          "Topic": "Rechts-außen",
          "count": 647,
          "mean": 42.82380216383308,
          "source": "Twitter",
          "sum": 27707,
          "topic": 20,
          "topic_interpretation": "Rechts-außen"
         }
        ]
       },
       "encoding": {
        "color": {
         "field": "Source",
         "legend": null,
         "type": "nominal"
        },
        "column": {
         "field": "topic",
         "title": "Topic",
         "type": "ordinal"
        },
        "opacity": {
         "value": 0.75
        },
        "tooltip": [
         {
          "field": "Topic",
          "type": "nominal"
         }
        ],
        "x": {
         "field": "Source",
         "type": "nominal"
        },
        "y": {
         "aggregate": "sum",
         "field": "sum",
         "scale": {
          "base": 10,
          "type": "log"
         },
         "title": "Interactions (log)",
         "type": "quantitative"
        }
       },
       "mark": "bar",
       "title": "Interactions per Source and Topic",
       "width": 20
      },
      "image/png": "[encoded data removed]",
      "text/plain": [
       "<VegaLite 3 object>\n",
       "\n",
       "If you see this message, it means the renderer has not been properly enabled\n",
       "for the frontend that you are using. For more information, see\n",
       "https://altair-viz.github.io/user_guide/troubleshooting.html\n"
      ]
     },
     "execution_count": 14,
     "metadata": {},
     "output_type": "execute_result"
    }
   ],
   "source": [
    "p_data = grouped.copy()\n",
    "p_data[\"source\"] = p_data.index.get_level_values(\"source\")\n",
    "p_data.columns = [\"count\", \"sum\", \"mean\", \"Source\"]\n",
    "p_data.reset_index(inplace=True)\n",
    "p_data[\"Topic\"] = p_data.topic_interpretation\n",
    "\n",
    "chart = alt.Chart(p_data, title=\"Interactions per Source and Topic\").mark_bar().encode(\n",
    "    alt.X(\"Source:N\"),\n",
    "    alt.Y(\"sum(sum):Q\", \n",
    "          scale=alt.Scale(type=\"log\", base=10),\n",
    "          title=\"Interactions (log)\"),\n",
    "    column=alt.Column(\"topic:O\", title=\"Topic\"),\n",
    "    color=alt.Color(\"Source\", legend=None),\n",
    "    opacity=alt.value(0.75),\n",
    "    tooltip=[\"Topic\"]\n",
    ").properties(\n",
    "    width=20\n",
    ")\n",
    "\n",
    "chart.save(os.path.join(figures_path, \"topics\", \"interactions_per_source_layered.html\"))\n",
    "chart"
   ]
  },
  {
   "cell_type": "code",
   "execution_count": 15,
   "metadata": {},
   "outputs": [
    {
     "data": {
      "application/vnd.vegalite.v3+json": {
       "$schema": "https://vega.github.io/schema/vega-lite/v3.4.0.json",
       "config": {
        "mark": {
         "tooltip": null
        },
        "view": {
         "height": 300,
         "width": 400
        }
       },
       "data": {
        "name": "data-2e679fef1b1e3514d28e3b4c9e6db31f"
       },
       "datasets": {
        "data-2e679fef1b1e3514d28e3b4c9e6db31f": [
         {
          "Source": "Facebook",
          "Topic": "-",
          "count": 469,
          "mean": 189.15,
          "order": 0,
          "source": "Facebook",
          "sum": 88713,
          "topic": 1,
          "topic_interpretation": "-"
         },
         {
          "Source": "Twitter",
          "Topic": "-",
          "count": 468,
          "mean": 35.41,
          "order": 1,
          "source": "Twitter",
          "sum": 16572,
          "topic": 1,
          "topic_interpretation": "-"
         },
         {
          "Source": "Facebook",
          "Topic": "Wohnen/Sicherheit",
          "count": 524,
          "mean": 253.17,
          "order": 0,
          "source": "Facebook",
          "sum": 132659,
          "topic": 2,
          "topic_interpretation": "Wohnen/Sicherheit"
         },
         {
          "Source": "Twitter",
          "Topic": "Wohnen/Sicherheit",
          "count": 471,
          "mean": 25.47,
          "order": 1,
          "source": "Twitter",
          "sum": 11996,
          "topic": 2,
          "topic_interpretation": "Wohnen/Sicherheit"
         },
         {
          "Source": "Facebook",
          "Topic": "Grüne",
          "count": 602,
          "mean": 265.08,
          "order": 0,
          "source": "Facebook",
          "sum": 159577,
          "topic": 3,
          "topic_interpretation": "Grüne"
         },
         {
          "Source": "Twitter",
          "Topic": "Grüne",
          "count": 632,
          "mean": 27,
          "order": 1,
          "source": "Twitter",
          "sum": 17063,
          "topic": 3,
          "topic_interpretation": "Grüne"
         },
         {
          "Source": "Facebook",
          "Topic": "Steuern/Geld",
          "count": 707,
          "mean": 321.59,
          "order": 0,
          "source": "Facebook",
          "sum": 227364,
          "topic": 4,
          "topic_interpretation": "Steuern/Geld"
         },
         {
          "Source": "Twitter",
          "Topic": "Steuern/Geld",
          "count": 728,
          "mean": 38.99,
          "order": 1,
          "source": "Twitter",
          "sum": 28384,
          "topic": 4,
          "topic_interpretation": "Steuern/Geld"
         },
         {
          "Source": "Facebook",
          "Topic": "TV",
          "count": 449,
          "mean": 252.09,
          "order": 0,
          "source": "Facebook",
          "sum": 113189,
          "topic": 5,
          "topic_interpretation": "TV"
         },
         {
          "Source": "Twitter",
          "Topic": "TV",
          "count": 417,
          "mean": 46.57,
          "order": 1,
          "source": "Twitter",
          "sum": 19421,
          "topic": 5,
          "topic_interpretation": "TV"
         },
         {
          "Source": "Facebook",
          "Topic": "Parteien",
          "count": 719,
          "mean": 269.83,
          "order": 0,
          "source": "Facebook",
          "sum": 194006,
          "topic": 6,
          "topic_interpretation": "Parteien"
         },
         {
          "Source": "Twitter",
          "Topic": "Parteien",
          "count": 776,
          "mean": 29.65,
          "order": 1,
          "source": "Twitter",
          "sum": 23009,
          "topic": 6,
          "topic_interpretation": "Parteien"
         },
         {
          "Source": "Facebook",
          "Topic": "Prognosen",
          "count": 634,
          "mean": 236.39,
          "order": 0,
          "source": "Facebook",
          "sum": 149874,
          "topic": 7,
          "topic_interpretation": "Prognosen"
         },
         {
          "Source": "Twitter",
          "Topic": "Prognosen",
          "count": 562,
          "mean": 46.63,
          "order": 1,
          "source": "Twitter",
          "sum": 26208,
          "topic": 7,
          "topic_interpretation": "Prognosen"
         },
         {
          "Source": "Facebook",
          "Topic": "KPÖ/LinkeVorderungen",
          "count": 492,
          "mean": 234,
          "order": 0,
          "source": "Facebook",
          "sum": 115130,
          "topic": 8,
          "topic_interpretation": "KPÖ/LinkeVorderungen"
         },
         {
          "Source": "Twitter",
          "Topic": "KPÖ/LinkeVorderungen",
          "count": 553,
          "mean": 26.94,
          "order": 1,
          "source": "Twitter",
          "sum": 14898,
          "topic": 8,
          "topic_interpretation": "KPÖ/LinkeVorderungen"
         },
         {
          "Source": "Facebook",
          "Topic": "Dank/TV-Runde",
          "count": 544,
          "mean": 308.66,
          "order": 0,
          "source": "Facebook",
          "sum": 167913,
          "topic": 9,
          "topic_interpretation": "Dank/TV-Runde"
         },
         {
          "Source": "Twitter",
          "Topic": "Dank/TV-Runde",
          "count": 791,
          "mean": 35.93,
          "order": 1,
          "source": "Twitter",
          "sum": 28424,
          "topic": 9,
          "topic_interpretation": "Dank/TV-Runde"
         },
         {
          "Source": "Facebook",
          "Topic": "Links/Alternativ",
          "count": 518,
          "mean": 256.77,
          "order": 0,
          "source": "Facebook",
          "sum": 133007,
          "topic": 10,
          "topic_interpretation": "Links/Alternativ"
         },
         {
          "Source": "Twitter",
          "Topic": "Links/Alternativ",
          "count": 526,
          "mean": 28.98,
          "order": 1,
          "source": "Twitter",
          "sum": 15244,
          "topic": 10,
          "topic_interpretation": "Links/Alternativ"
         },
         {
          "Source": "Facebook",
          "Topic": "ÖVP",
          "count": 1099,
          "mean": 411.41,
          "order": 0,
          "source": "Facebook",
          "sum": 452139,
          "topic": 11,
          "topic_interpretation": "ÖVP"
         },
         {
          "Source": "Twitter",
          "Topic": "ÖVP",
          "count": 725,
          "mean": 41.77,
          "order": 1,
          "source": "Twitter",
          "sum": 30286,
          "topic": 11,
          "topic_interpretation": "ÖVP"
         },
         {
          "Source": "Facebook",
          "Topic": "-",
          "count": 626,
          "mean": 225.6,
          "order": 0,
          "source": "Facebook",
          "sum": 141228,
          "topic": 12,
          "topic_interpretation": "-"
         },
         {
          "Source": "Twitter",
          "Topic": "-",
          "count": 509,
          "mean": 32.39,
          "order": 1,
          "source": "Twitter",
          "sum": 16486,
          "topic": 12,
          "topic_interpretation": "-"
         },
         {
          "Source": "Facebook",
          "Topic": "SPÖ",
          "count": 809,
          "mean": 338.63,
          "order": 0,
          "source": "Facebook",
          "sum": 273951,
          "topic": 13,
          "topic_interpretation": "SPÖ"
         },
         {
          "Source": "Twitter",
          "Topic": "SPÖ",
          "count": 755,
          "mean": 28.4,
          "order": 1,
          "source": "Twitter",
          "sum": 21445,
          "topic": 13,
          "topic_interpretation": "SPÖ"
         },
         {
          "Source": "Facebook",
          "Topic": "Volksparteien",
          "count": 428,
          "mean": 300.59,
          "order": 0,
          "source": "Facebook",
          "sum": 128653,
          "topic": 14,
          "topic_interpretation": "Volksparteien"
         },
         {
          "Source": "Twitter",
          "Topic": "Volksparteien",
          "count": 394,
          "mean": 25.31,
          "order": 1,
          "source": "Twitter",
          "sum": 9972,
          "topic": 14,
          "topic_interpretation": "Volksparteien"
         },
         {
          "Source": "Facebook",
          "Topic": "-",
          "count": 587,
          "mean": 359.89,
          "order": 0,
          "source": "Facebook",
          "sum": 211253,
          "topic": 15,
          "topic_interpretation": "-"
         },
         {
          "Source": "Twitter",
          "Topic": "-",
          "count": 588,
          "mean": 27.74,
          "order": 1,
          "source": "Twitter",
          "sum": 16312,
          "topic": 15,
          "topic_interpretation": "-"
         },
         {
          "Source": "Facebook",
          "Topic": "FPÖ",
          "count": 621,
          "mean": 401.53,
          "order": 0,
          "source": "Facebook",
          "sum": 249352,
          "topic": 16,
          "topic_interpretation": "FPÖ"
         },
         {
          "Source": "Twitter",
          "Topic": "FPÖ",
          "count": 457,
          "mean": 26.53,
          "order": 1,
          "source": "Twitter",
          "sum": 12125,
          "topic": 16,
          "topic_interpretation": "FPÖ"
         },
         {
          "Source": "Facebook",
          "Topic": "-",
          "count": 473,
          "mean": 222.55,
          "order": 0,
          "source": "Facebook",
          "sum": 105266,
          "topic": 17,
          "topic_interpretation": "-"
         },
         {
          "Source": "Twitter",
          "Topic": "-",
          "count": 391,
          "mean": 25.85,
          "order": 1,
          "source": "Twitter",
          "sum": 10106,
          "topic": 17,
          "topic_interpretation": "-"
         },
         {
          "Source": "Facebook",
          "Topic": "Wahlkampfslogans",
          "count": 589,
          "mean": 285.05,
          "order": 0,
          "source": "Facebook",
          "sum": 167896,
          "topic": 18,
          "topic_interpretation": "Wahlkampfslogans"
         },
         {
          "Source": "Twitter",
          "Topic": "Wahlkampfslogans",
          "count": 421,
          "mean": 37.65,
          "order": 1,
          "source": "Twitter",
          "sum": 15852,
          "topic": 18,
          "topic_interpretation": "Wahlkampfslogans"
         },
         {
          "Source": "Facebook",
          "Topic": "-",
          "count": 520,
          "mean": 255.36,
          "order": 0,
          "source": "Facebook",
          "sum": 132786,
          "topic": 19,
          "topic_interpretation": "-"
         },
         {
          "Source": "Twitter",
          "Topic": "-",
          "count": 542,
          "mean": 28,
          "order": 1,
          "source": "Twitter",
          "sum": 15177,
          "topic": 19,
          "topic_interpretation": "-"
         },
         {
          "Source": "Facebook",
          "Topic": "Rechts-außen",
          "count": 621,
          "mean": 303.11,
          "order": 0,
          "source": "Facebook",
          "sum": 188230,
          "topic": 20,
          "topic_interpretation": "Rechts-außen"
         },
         {
          "Source": "Twitter",
          "Topic": "Rechts-außen",
          "count": 647,
          "mean": 42.82,
          "order": 1,
          "source": "Twitter",
          "sum": 27707,
          "topic": 20,
          "topic_interpretation": "Rechts-außen"
         }
        ]
       },
       "encoding": {
        "color": {
         "field": "Source",
         "type": "nominal"
        },
        "opacity": {
         "value": 0.75
        },
        "order": {
         "field": "order",
         "type": "quantitative"
        },
        "tooltip": [
         {
          "field": "Topic",
          "title": "Topic",
          "type": "nominal"
         },
         {
          "field": "source",
          "title": "Source",
          "type": "nominal"
         },
         {
          "field": "count",
          "title": "Posts per source",
          "type": "quantitative"
         },
         {
          "field": "sum",
          "title": "Total interactions per source",
          "type": "quantitative"
         },
         {
          "field": "mean",
          "title": "Mean interactions per source",
          "type": "quantitative"
         }
        ],
        "x": {
         "field": "topic",
         "type": "nominal"
        },
        "y": {
         "aggregate": "sum",
         "field": "sum",
         "title": "Interactions",
         "type": "quantitative"
        }
       },
       "mark": "bar",
       "title": "Interactions per Topic"
      },
      "image/png": "[encoded data removed]",
      "text/plain": [
       "<VegaLite 3 object>\n",
       "\n",
       "If you see this message, it means the renderer has not been properly enabled\n",
       "for the frontend that you are using. For more information, see\n",
       "https://altair-viz.github.io/user_guide/troubleshooting.html\n"
      ]
     },
     "execution_count": 15,
     "metadata": {},
     "output_type": "execute_result"
    }
   ],
   "source": [
    "p_data = grouped.copy().round(2)\n",
    "p_data[\"source\"] = p_data.index.get_level_values(\"source\")\n",
    "p_data.columns = [\"count\", \"sum\", \"mean\", \"Source\"]\n",
    "p_data.reset_index(inplace=True)\n",
    "p_data[\"Topic\"] = p_data.topic_interpretation\n",
    "p_data[\"order\"] = p_data.source.map({\"Facebook\": 0, \"Twitter\": 1})\n",
    "\n",
    "chart = alt.Chart(p_data, title=\"Interactions per Topic\").mark_bar().encode(\n",
    "    alt.X(\"topic:N\"),\n",
    "    alt.Y(\"sum(sum):Q\", \n",
    "          title=\"Interactions\"),\n",
    "    color=alt.Color(\"Source\"),\n",
    "    order=alt.Order(\"order\"),\n",
    "    opacity=alt.value(0.75),\n",
    "    tooltip=[alt.Tooltip(\"Topic\", title=\"Topic\"),\n",
    "             alt.Tooltip(\"source\", title=\"Source\"),\n",
    "             alt.Tooltip(\"count\", title=\"Posts per source\"),\n",
    "             alt.Tooltip(\"sum\", title=\"Total interactions per source\"),\n",
    "             alt.Tooltip(\"mean\", title=\"Mean interactions per source\")]\n",
    ")\n",
    "\n",
    "chart.save(os.path.join(figures_path, \"topics\", \"interactions_per_source_stacked.html\"))\n",
    "chart"
   ]
  },
  {
   "cell_type": "code",
   "execution_count": 16,
   "metadata": {},
   "outputs": [
    {
     "data": {
      "application/vnd.vegalite.v3+json": {
       "$schema": "https://vega.github.io/schema/vega-lite/v3.4.0.json",
       "config": {
        "mark": {
         "tooltip": null
        },
        "view": {
         "height": 300,
         "width": 400
        }
       },
       "data": {
        "name": "data-579684491b866935d7730138f9710052"
       },
       "datasets": {
        "data-579684491b866935d7730138f9710052": [
         {
          "Source": "Facebook",
          "Topic": "-",
          "count": 469,
          "mean": 189.15351812366737,
          "source": "Facebook",
          "sum": 88713,
          "topic": 1,
          "topic_interpretation": "-"
         },
         {
          "Source": "Twitter",
          "Topic": "-",
          "count": 468,
          "mean": 35.41025641025641,
          "source": "Twitter",
          "sum": 16572,
          "topic": 1,
          "topic_interpretation": "-"
         },
         {
          "Source": "Facebook",
          "Topic": "Wohnen/Sicherheit",
          "count": 524,
          "mean": 253.16603053435114,
          "source": "Facebook",
          "sum": 132659,
          "topic": 2,
          "topic_interpretation": "Wohnen/Sicherheit"
         },
         {
          "Source": "Twitter",
          "Topic": "Wohnen/Sicherheit",
          "count": 471,
          "mean": 25.469214437367302,
          "source": "Twitter",
          "sum": 11996,
          "topic": 2,
          "topic_interpretation": "Wohnen/Sicherheit"
         },
         {
          "Source": "Facebook",
          "Topic": "Grüne",
          "count": 602,
          "mean": 265.078073089701,
          "source": "Facebook",
          "sum": 159577,
          "topic": 3,
          "topic_interpretation": "Grüne"
         },
         {
          "Source": "Twitter",
          "Topic": "Grüne",
          "count": 632,
          "mean": 26.998417721518987,
          "source": "Twitter",
          "sum": 17063,
          "topic": 3,
          "topic_interpretation": "Grüne"
         },
         {
          "Source": "Facebook",
          "Topic": "Steuern/Geld",
          "count": 707,
          "mean": 321.58981612446956,
          "source": "Facebook",
          "sum": 227364,
          "topic": 4,
          "topic_interpretation": "Steuern/Geld"
         },
         {
          "Source": "Twitter",
          "Topic": "Steuern/Geld",
          "count": 728,
          "mean": 38.989010989010985,
          "source": "Twitter",
          "sum": 28384,
          "topic": 4,
          "topic_interpretation": "Steuern/Geld"
         },
         {
          "Source": "Facebook",
          "Topic": "TV",
          "count": 449,
          "mean": 252.0913140311804,
          "source": "Facebook",
          "sum": 113189,
          "topic": 5,
          "topic_interpretation": "TV"
         },
         {
          "Source": "Twitter",
          "Topic": "TV",
          "count": 417,
          "mean": 46.57314148681055,
          "source": "Twitter",
          "sum": 19421,
          "topic": 5,
          "topic_interpretation": "TV"
         },
         {
          "Source": "Facebook",
          "Topic": "Parteien",
          "count": 719,
          "mean": 269.82753824756605,
          "source": "Facebook",
          "sum": 194006,
          "topic": 6,
          "topic_interpretation": "Parteien"
         },
         {
          "Source": "Twitter",
          "Topic": "Parteien",
          "count": 776,
          "mean": 29.65077319587629,
          "source": "Twitter",
          "sum": 23009,
          "topic": 6,
          "topic_interpretation": "Parteien"
         },
         {
          "Source": "Facebook",
          "Topic": "Prognosen",
          "count": 634,
          "mean": 236.39432176656152,
          "source": "Facebook",
          "sum": 149874,
          "topic": 7,
          "topic_interpretation": "Prognosen"
         },
         {
          "Source": "Twitter",
          "Topic": "Prognosen",
          "count": 562,
          "mean": 46.63345195729537,
          "source": "Twitter",
          "sum": 26208,
          "topic": 7,
          "topic_interpretation": "Prognosen"
         },
         {
          "Source": "Facebook",
          "Topic": "KPÖ/LinkeVorderungen",
          "count": 492,
          "mean": 234.0040650406504,
          "source": "Facebook",
          "sum": 115130,
          "topic": 8,
          "topic_interpretation": "KPÖ/LinkeVorderungen"
         },
         {
          "Source": "Twitter",
          "Topic": "KPÖ/LinkeVorderungen",
          "count": 553,
          "mean": 26.94032549728752,
          "source": "Twitter",
          "sum": 14898,
          "topic": 8,
          "topic_interpretation": "KPÖ/LinkeVorderungen"
         },
         {
          "Source": "Facebook",
          "Topic": "Dank/TV-Runde",
          "count": 544,
          "mean": 308.66360294117646,
          "source": "Facebook",
          "sum": 167913,
          "topic": 9,
          "topic_interpretation": "Dank/TV-Runde"
         },
         {
          "Source": "Twitter",
          "Topic": "Dank/TV-Runde",
          "count": 791,
          "mean": 35.93426042983565,
          "source": "Twitter",
          "sum": 28424,
          "topic": 9,
          "topic_interpretation": "Dank/TV-Runde"
         },
         {
          "Source": "Facebook",
          "Topic": "Links/Alternativ",
          "count": 518,
          "mean": 256.77027027027026,
          "source": "Facebook",
          "sum": 133007,
          "topic": 10,
          "topic_interpretation": "Links/Alternativ"
         },
         {
          "Source": "Twitter",
          "Topic": "Links/Alternativ",
          "count": 526,
          "mean": 28.980988593155892,
          "source": "Twitter",
          "sum": 15244,
          "topic": 10,
          "topic_interpretation": "Links/Alternativ"
         },
         {
          "Source": "Facebook",
          "Topic": "ÖVP",
          "count": 1099,
          "mean": 411.40946314831666,
          "source": "Facebook",
          "sum": 452139,
          "topic": 11,
          "topic_interpretation": "ÖVP"
         },
         {
          "Source": "Twitter",
          "Topic": "ÖVP",
          "count": 725,
          "mean": 41.77379310344828,
          "source": "Twitter",
          "sum": 30286,
          "topic": 11,
          "topic_interpretation": "ÖVP"
         },
         {
          "Source": "Facebook",
          "Topic": "-",
          "count": 626,
          "mean": 225.6038338658147,
          "source": "Facebook",
          "sum": 141228,
          "topic": 12,
          "topic_interpretation": "-"
         },
         {
          "Source": "Twitter",
          "Topic": "-",
          "count": 509,
          "mean": 32.38899803536346,
          "source": "Twitter",
          "sum": 16486,
          "topic": 12,
          "topic_interpretation": "-"
         },
         {
          "Source": "Facebook",
          "Topic": "SPÖ",
          "count": 809,
          "mean": 338.6291718170581,
          "source": "Facebook",
          "sum": 273951,
          "topic": 13,
          "topic_interpretation": "SPÖ"
         },
         {
          "Source": "Twitter",
          "Topic": "SPÖ",
          "count": 755,
          "mean": 28.403973509933774,
          "source": "Twitter",
          "sum": 21445,
          "topic": 13,
          "topic_interpretation": "SPÖ"
         },
         {
          "Source": "Facebook",
          "Topic": "Volksparteien",
          "count": 428,
          "mean": 300.5911214953271,
          "source": "Facebook",
          "sum": 128653,
          "topic": 14,
          "topic_interpretation": "Volksparteien"
         },
         {
          "Source": "Twitter",
          "Topic": "Volksparteien",
          "count": 394,
          "mean": 25.309644670050762,
          "source": "Twitter",
          "sum": 9972,
          "topic": 14,
          "topic_interpretation": "Volksparteien"
         },
         {
          "Source": "Facebook",
          "Topic": "-",
          "count": 587,
          "mean": 359.88586030664396,
          "source": "Facebook",
          "sum": 211253,
          "topic": 15,
          "topic_interpretation": "-"
         },
         {
          "Source": "Twitter",
          "Topic": "-",
          "count": 588,
          "mean": 27.741496598639454,
          "source": "Twitter",
          "sum": 16312,
          "topic": 15,
          "topic_interpretation": "-"
         },
         {
          "Source": "Facebook",
          "Topic": "FPÖ",
          "count": 621,
          "mean": 401.5330112721417,
          "source": "Facebook",
          "sum": 249352,
          "topic": 16,
          "topic_interpretation": "FPÖ"
         },
         {
          "Source": "Twitter",
          "Topic": "FPÖ",
          "count": 457,
          "mean": 26.53172866520788,
          "source": "Twitter",
          "sum": 12125,
          "topic": 16,
          "topic_interpretation": "FPÖ"
         },
         {
          "Source": "Facebook",
          "Topic": "-",
          "count": 473,
          "mean": 222.54968287526427,
          "source": "Facebook",
          "sum": 105266,
          "topic": 17,
          "topic_interpretation": "-"
         },
         {
          "Source": "Twitter",
          "Topic": "-",
          "count": 391,
          "mean": 25.846547314578004,
          "source": "Twitter",
          "sum": 10106,
          "topic": 17,
          "topic_interpretation": "-"
         },
         {
          "Source": "Facebook",
          "Topic": "Wahlkampfslogans",
          "count": 589,
          "mean": 285.05263157894734,
          "source": "Facebook",
          "sum": 167896,
          "topic": 18,
          "topic_interpretation": "Wahlkampfslogans"
         },
         {
          "Source": "Twitter",
          "Topic": "Wahlkampfslogans",
          "count": 421,
          "mean": 37.65320665083135,
          "source": "Twitter",
          "sum": 15852,
          "topic": 18,
          "topic_interpretation": "Wahlkampfslogans"
         },
         {
          "Source": "Facebook",
          "Topic": "-",
          "count": 520,
          "mean": 255.3576923076923,
          "source": "Facebook",
          "sum": 132786,
          "topic": 19,
          "topic_interpretation": "-"
         },
         {
          "Source": "Twitter",
          "Topic": "-",
          "count": 542,
          "mean": 28.001845018450183,
          "source": "Twitter",
          "sum": 15177,
          "topic": 19,
          "topic_interpretation": "-"
         },
         {
          "Source": "Facebook",
          "Topic": "Rechts-außen",
          "count": 621,
          "mean": 303.10789049919487,
          "source": "Facebook",
          "sum": 188230,
          "topic": 20,
          "topic_interpretation": "Rechts-außen"
         },
         {
          "Source": "Twitter",
          "Topic": "Rechts-außen",
          "count": 647,
          "mean": 42.82380216383308,
          "source": "Twitter",
          "sum": 27707,
          "topic": 20,
          "topic_interpretation": "Rechts-außen"
         }
        ]
       },
       "encoding": {
        "color": {
         "field": "Source",
         "legend": null,
         "type": "nominal"
        },
        "column": {
         "field": "topic",
         "title": "Topic",
         "type": "ordinal"
        },
        "opacity": {
         "value": 0.75
        },
        "tooltip": [
         {
          "field": "Topic",
          "type": "nominal"
         }
        ],
        "x": {
         "field": "Source",
         "type": "nominal"
        },
        "y": {
         "aggregate": "sum",
         "field": "mean",
         "scale": {
          "base": 10,
          "type": "log"
         },
         "title": "Mean interactions (log)",
         "type": "quantitative"
        }
       },
       "mark": "bar",
       "title": "Interactions per Source and Topic",
       "width": 20
      },
      "image/png": "[encoded data removed]",
      "text/plain": [
       "<VegaLite 3 object>\n",
       "\n",
       "If you see this message, it means the renderer has not been properly enabled\n",
       "for the frontend that you are using. For more information, see\n",
       "https://altair-viz.github.io/user_guide/troubleshooting.html\n"
      ]
     },
     "execution_count": 16,
     "metadata": {},
     "output_type": "execute_result"
    }
   ],
   "source": [
    "p_data = grouped.copy()\n",
    "p_data[\"source\"] = p_data.index.get_level_values(\"source\")\n",
    "p_data.columns = [\"count\", \"sum\", \"mean\", \"Source\"]\n",
    "p_data.reset_index(inplace=True)\n",
    "p_data[\"Topic\"] = p_data.topic_interpretation\n",
    "\n",
    "chart = alt.Chart(p_data, title=\"Interactions per Source and Topic\").mark_bar().encode(\n",
    "    alt.X(\"Source:N\"),\n",
    "    alt.Y(\"sum(mean):Q\", \n",
    "          scale=alt.Scale(type=\"log\", base=10),\n",
    "          title=\"Mean interactions (log)\"),\n",
    "    column=alt.Column(\"topic:O\", title=\"Topic\"),\n",
    "    color=alt.Color(\"Source\", legend=None),\n",
    "    opacity=alt.value(0.75),\n",
    "    tooltip=[\"Topic\"]\n",
    ").properties(\n",
    "    width=20\n",
    ")\n",
    "\n",
    "chart.save(os.path.join(figures_path, \"topics\", \"mean_interactions_per_source.html\"))\n",
    "chart"
   ]
  },
  {
   "cell_type": "code",
   "execution_count": null,
   "metadata": {},
   "outputs": [],
   "source": []
  }
 ],
 "metadata": {
  "kernelspec": {
   "display_name": "Python 3",
   "language": "python",
   "name": "python3"
  },
  "language_info": {
   "codemirror_mode": {
    "name": "ipython",
    "version": 3
   },
   "file_extension": ".py",
   "mimetype": "text/x-python",
   "name": "python",
   "nbconvert_exporter": "python",
   "pygments_lexer": "ipython3",
   "version": "3.7.4"
  }
 },
 "nbformat": 4,
 "nbformat_minor": 4
}

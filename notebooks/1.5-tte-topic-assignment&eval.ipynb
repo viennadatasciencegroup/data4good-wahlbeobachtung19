{
 "cells": [
  {
   "cell_type": "markdown",
   "metadata": {},
   "source": [
    "# Topic Assignment & Evaluation\n",
    "\n",
    "Assign topics from latest iteration of Topic Model to Posts and visualize distributions."
   ]
  },
  {
   "cell_type": "code",
   "execution_count": 1,
   "metadata": {},
   "outputs": [],
   "source": [
    "import os, sys, ast\n",
    "sys.path.append(\"..\")\n",
    "from config import credentials\n",
    "import dropbox\n",
    "\n",
    "import numpy as np\n",
    "import pandas as pd\n",
    "\n",
    "import warnings\n",
    "warnings.filterwarnings(\"ignore\", category=DeprecationWarning)\n",
    "\n",
    "import altair as alt\n",
    "import matplotlib.pyplot as plt\n",
    "%matplotlib inline"
   ]
  },
  {
   "cell_type": "code",
   "execution_count": 2,
   "metadata": {},
   "outputs": [],
   "source": [
    "random_state = 23"
   ]
  },
  {
   "cell_type": "markdown",
   "metadata": {},
   "source": [
    "## Loading"
   ]
  },
  {
   "cell_type": "code",
   "execution_count": 3,
   "metadata": {},
   "outputs": [],
   "source": [
    "team_dbx = dropbox.DropboxTeam(credentials.dropbox_team_access_token)\n",
    "team_root = team_dbx.with_path_root(dropbox.common.PathRoot.namespace_id(\n",
    "    credentials.dropbox_team_namespace_id))\n",
    "user_dbx = team_root.as_user(credentials.dropbox_team_member_id)"
   ]
  },
  {
   "cell_type": "code",
   "execution_count": 4,
   "metadata": {},
   "outputs": [],
   "source": [
    "data_path = \"/Data/CSVData\"\n",
    "model_path = \"../models\"\n",
    "figures_path = \"../reports/figures/\""
   ]
  },
  {
   "cell_type": "code",
   "execution_count": 5,
   "metadata": {},
   "outputs": [
    {
     "name": "stdout",
     "output_type": "stream",
     "text": [
      "Topics n40 (22534, 4)\n",
      "All Posts (27204, 23)\n"
     ]
    }
   ],
   "source": [
    "topics40_fpath = os.path.join(data_path, \"topics\", \"topics.csv\")\n",
    "_, res = user_dbx.files_download(topics40_fpath)\n",
    "topics40 = pd.read_csv(res.raw)\n",
    "\n",
    "posts_fpath = os.path.join(data_path, \"PolPosts.csv\")\n",
    "_, res = user_dbx.files_download(posts_fpath)\n",
    "posts = pd.read_csv(res.raw)\n",
    "\n",
    "print(\"Topics n40\", topics40.shape)\n",
    "print(\"All Posts\", posts.shape)"
   ]
  },
  {
   "cell_type": "markdown",
   "metadata": {},
   "source": [
    "## Assign topics"
   ]
  },
  {
   "cell_type": "code",
   "execution_count": null,
   "metadata": {},
   "outputs": [],
   "source": []
  },
  {
   "cell_type": "code",
   "execution_count": 6,
   "metadata": {},
   "outputs": [],
   "source": [
    "topic_interpretation = {0: \"-\", 1: \"Wahlwerbung & Dank\", 2: \"Linke Themen\",\n",
    "                        3: \"-\", 4: \"-\", 5: \"FPÖ\", 6: \"Wandel (Partei)\",\n",
    "                        7: \"Anti-Rechts\", 8: \"-\", 9: \"Extrem Links\", 10: \"Liberal\",\n",
    "                        11: \"-\", 12: \"ÖVP Themen\", 13: \"Mobilisierung Wien\", 14: \"ORF Wahldebatte\",\n",
    "                        15: \"Mobilisierung Länder\", 16: \"-\",\n",
    "                        17: \"Puls4 Wahldebatte\", 18: \"Emotionen\", 19: \"Außenpolitik\",\n",
    "                        20: \"Wahlprognose\", 21: \"Umwelt\", 22: \"-\", 23: \"-\", 24: \"-\",\n",
    "                        25: \"Polarisierung\", 26: \"Strache\", 27: \"-\",\n",
    "                        28: \"Diskurs in Englisch\", 29: \"Neos\", 30: \"-\", 31: \"-\",\n",
    "                        32: \"-\", 33: \"-\", 34: \"-\", 35: \"Greta Thunberg\",\n",
    "                        36: \"-\", 37: \"-\", 38: \"-\", 39: \"-\"}"
   ]
  },
  {
   "cell_type": "markdown",
   "metadata": {},
   "source": [
    "## Exploration & Visualization"
   ]
  },
  {
   "cell_type": "markdown",
   "metadata": {},
   "source": [
    "### Posts per topic"
   ]
  },
  {
   "cell_type": "code",
   "execution_count": 7,
   "metadata": {},
   "outputs": [
    {
     "data": {
      "application/vnd.vegalite.v3+json": {
       "$schema": "https://vega.github.io/schema/vega-lite/v3.4.0.json",
       "config": {
        "mark": {
         "tooltip": null
        },
        "view": {
         "height": 300,
         "width": 400
        }
       },
       "data": {
        "name": "data-fbdd3731d543304517bf3505e5c2f592"
       },
       "datasets": {
        "data-fbdd3731d543304517bf3505e5c2f592": [
         {
          "Topic": "Wahlwerbung & Dank",
          "count": 2310,
          "topic": 1
         },
         {
          "Topic": "-",
          "count": 1536,
          "topic": 16
         },
         {
          "Topic": "Anti-Rechts",
          "count": 1219,
          "topic": 7
         },
         {
          "Topic": "-",
          "count": 876,
          "topic": 0
         },
         {
          "Topic": "Puls4 Wahldebatte",
          "count": 659,
          "topic": 17
         },
         {
          "Topic": "-",
          "count": 652,
          "topic": 32
         },
         {
          "Topic": "-",
          "count": 638,
          "topic": 22
         },
         {
          "Topic": "Extrem Links",
          "count": 589,
          "topic": 9
         },
         {
          "Topic": "Polarisierung",
          "count": 577,
          "topic": 25
         },
         {
          "Topic": "FPÖ",
          "count": 564,
          "topic": 5
         },
         {
          "Topic": "-",
          "count": 545,
          "topic": 34
         },
         {
          "Topic": "-",
          "count": 545,
          "topic": 23
         },
         {
          "Topic": "Linke Themen",
          "count": 521,
          "topic": 2
         },
         {
          "Topic": "Diskurs in Englisch",
          "count": 514,
          "topic": 28
         },
         {
          "Topic": "Greta Thunberg",
          "count": 500,
          "topic": 35
         },
         {
          "Topic": "-",
          "count": 490,
          "topic": 27
         },
         {
          "Topic": "Wahlprognose",
          "count": 480,
          "topic": 20
         },
         {
          "Topic": "-",
          "count": 476,
          "topic": 11
         },
         {
          "Topic": "-",
          "count": 452,
          "topic": 3
         },
         {
          "Topic": "ÖVP Themen",
          "count": 448,
          "topic": 12
         },
         {
          "Topic": "Mobilisierung Länder",
          "count": 436,
          "topic": 15
         },
         {
          "Topic": "Liberal",
          "count": 431,
          "topic": 10
         },
         {
          "Topic": "-",
          "count": 428,
          "topic": 39
         },
         {
          "Topic": "Außenpolitik",
          "count": 427,
          "topic": 19
         },
         {
          "Topic": "Umwelt",
          "count": 422,
          "topic": 21
         },
         {
          "Topic": "-",
          "count": 420,
          "topic": 38
         },
         {
          "Topic": "Neos",
          "count": 419,
          "topic": 29
         },
         {
          "Topic": "-",
          "count": 417,
          "topic": 8
         },
         {
          "Topic": "Emotionen",
          "count": 417,
          "topic": 18
         },
         {
          "Topic": "-",
          "count": 414,
          "topic": 31
         },
         {
          "Topic": "-",
          "count": 395,
          "topic": 33
         },
         {
          "Topic": "-",
          "count": 394,
          "topic": 36
         },
         {
          "Topic": "Strache",
          "count": 394,
          "topic": 26
         },
         {
          "Topic": "-",
          "count": 393,
          "topic": 37
         },
         {
          "Topic": "ORF Wahldebatte",
          "count": 384,
          "topic": 14
         },
         {
          "Topic": "Wandel (Partei)",
          "count": 372,
          "topic": 6
         },
         {
          "Topic": "-",
          "count": 364,
          "topic": 30
         },
         {
          "Topic": "-",
          "count": 358,
          "topic": 24
         },
         {
          "Topic": "Mobilisierung Wien",
          "count": 333,
          "topic": 13
         },
         {
          "Topic": "-",
          "count": 325,
          "topic": 4
         }
        ]
       },
       "encoding": {
        "opacity": {
         "value": 0.75
        },
        "tooltip": [
         {
          "field": "Topic",
          "type": "nominal"
         }
        ],
        "x": {
         "field": "topic",
         "title": "Topic",
         "type": "nominal"
        },
        "y": {
         "field": "count",
         "title": "Number of posts",
         "type": "quantitative"
        }
       },
       "mark": "bar",
       "title": "Posts per Topic"
      },
      "image/png": "[encoded data removed]",
      "text/plain": [
       "<VegaLite 3 object>\n",
       "\n",
       "If you see this message, it means the renderer has not been properly enabled\n",
       "for the frontend that you are using. For more information, see\n",
       "https://altair-viz.github.io/user_guide/troubleshooting.html\n"
      ]
     },
     "execution_count": 7,
     "metadata": {},
     "output_type": "execute_result"
    }
   ],
   "source": [
    "p_data = topics40.topic.value_counts().to_frame(\"count\").rename_axis(\"topic\").reset_index()\n",
    "p_data[\"Topic\"] = p_data.topic.map(topic_interpretation)\n",
    "\n",
    "chart = alt.Chart(p_data, title=\"Posts per Topic\").mark_bar().encode(\n",
    "    x=alt.X(\"topic:N\", title=\"Topic\"),\n",
    "    y=alt.Y(\"count:Q\", title=\"Number of posts\"),\n",
    "    opacity=alt.value(0.75),\n",
    "    tooltip=[\"Topic\"]\n",
    ")\n",
    "\n",
    "chart.save(os.path.join(figures_path, \"topics\", \"posts_per_topic.html\"))\n",
    "chart"
   ]
  },
  {
   "cell_type": "markdown",
   "metadata": {},
   "source": [
    "Top-10 Posts per Topic"
   ]
  },
  {
   "cell_type": "code",
   "execution_count": 8,
   "metadata": {},
   "outputs": [],
   "source": [
    "def get_top_10(df, topic, topic_range):\n",
    "    topic_subset = df[df.topic == topic].copy()\n",
    "    topic_subset.topic_distribution = topic_subset.topic_distribution.apply(ast.literal_eval)\n",
    "    flattend_subset = pd.concat([topic_subset,\n",
    "                                 pd.DataFrame(topic_subset.topic_distribution.values.tolist(),\n",
    "                                              index=topic_subset.index, columns=topic_range)],\n",
    "                                axis=1)\n",
    "    return flattend_subset.sort_values(by=[topic], ascending=False).text.head(10)"
   ]
  },
  {
   "cell_type": "code",
   "execution_count": 9,
   "metadata": {},
   "outputs": [],
   "source": [
    "topics40_top10_fp = \"../reports/topics_40_top-10.txt\"\n",
    "topic_range = range(0, 40)\n",
    "\n",
    "# with open(topics40_top10_fp, \"w\") as f:\n",
    "#     for i in topic_range:\n",
    "#         with pd.option_context(\"display.max_colwidth\", -1):\n",
    "#             f.write(\"Topic \" + str(i) + \":\\n\" + get_top_10(topics40, i, topic_range).to_string(index=False) + \"\\n\\n\")"
   ]
  },
  {
   "cell_type": "markdown",
   "metadata": {},
   "source": [
    "### Interactions per topic"
   ]
  },
  {
   "cell_type": "code",
   "execution_count": 10,
   "metadata": {},
   "outputs": [],
   "source": [
    "data = posts.set_index(\"textID\").join(topics40.set_index(\"textID\"), lsuffix=\"_posts\", rsuffix=\"_topics\")\n",
    "data.dropna(subset=[\"text_posts\", \"topic\"], inplace=True)\n",
    "data.drop_duplicates(subset=[\"text_posts\"], keep=\"first\", inplace=True)\n",
    "data.topic = data.topic.apply(int)\n",
    "data[\"topic_interpretation\"] = data.topic.map(topic_interpretation)\n",
    "data[\"source\"] = data.Site"
   ]
  },
  {
   "cell_type": "markdown",
   "metadata": {},
   "source": [
    "Total interactions"
   ]
  },
  {
   "cell_type": "code",
   "execution_count": 11,
   "metadata": {},
   "outputs": [
    {
     "data": {
      "text/html": [
       "<div>\n",
       "<style scoped>\n",
       "    .dataframe tbody tr th:only-of-type {\n",
       "        vertical-align: middle;\n",
       "    }\n",
       "\n",
       "    .dataframe tbody tr th {\n",
       "        vertical-align: top;\n",
       "    }\n",
       "\n",
       "    .dataframe thead tr th {\n",
       "        text-align: left;\n",
       "    }\n",
       "\n",
       "    .dataframe thead tr:last-of-type th {\n",
       "        text-align: right;\n",
       "    }\n",
       "</style>\n",
       "<table border=\"1\" class=\"dataframe\">\n",
       "  <thead>\n",
       "    <tr>\n",
       "      <th></th>\n",
       "      <th></th>\n",
       "      <th colspan=\"3\" halign=\"left\">interactionCount</th>\n",
       "    </tr>\n",
       "    <tr>\n",
       "      <th></th>\n",
       "      <th></th>\n",
       "      <th>count</th>\n",
       "      <th>sum</th>\n",
       "      <th>mean</th>\n",
       "    </tr>\n",
       "    <tr>\n",
       "      <th>topic</th>\n",
       "      <th>topic_interpretation</th>\n",
       "      <th></th>\n",
       "      <th></th>\n",
       "      <th></th>\n",
       "    </tr>\n",
       "  </thead>\n",
       "  <tbody>\n",
       "    <tr>\n",
       "      <td>0</td>\n",
       "      <td>-</td>\n",
       "      <td>876</td>\n",
       "      <td>180549</td>\n",
       "      <td>206.106164</td>\n",
       "    </tr>\n",
       "    <tr>\n",
       "      <td>1</td>\n",
       "      <td>Wahlwerbung &amp; Dank</td>\n",
       "      <td>2310</td>\n",
       "      <td>879202</td>\n",
       "      <td>380.606926</td>\n",
       "    </tr>\n",
       "    <tr>\n",
       "      <td>2</td>\n",
       "      <td>Linke Themen</td>\n",
       "      <td>521</td>\n",
       "      <td>142128</td>\n",
       "      <td>272.798464</td>\n",
       "    </tr>\n",
       "    <tr>\n",
       "      <td>3</td>\n",
       "      <td>-</td>\n",
       "      <td>452</td>\n",
       "      <td>62064</td>\n",
       "      <td>137.309735</td>\n",
       "    </tr>\n",
       "    <tr>\n",
       "      <td>4</td>\n",
       "      <td>-</td>\n",
       "      <td>325</td>\n",
       "      <td>79746</td>\n",
       "      <td>245.372308</td>\n",
       "    </tr>\n",
       "    <tr>\n",
       "      <td>5</td>\n",
       "      <td>FPÖ</td>\n",
       "      <td>564</td>\n",
       "      <td>130939</td>\n",
       "      <td>232.161348</td>\n",
       "    </tr>\n",
       "    <tr>\n",
       "      <td>6</td>\n",
       "      <td>Wandel (Partei)</td>\n",
       "      <td>372</td>\n",
       "      <td>87524</td>\n",
       "      <td>235.279570</td>\n",
       "    </tr>\n",
       "    <tr>\n",
       "      <td>7</td>\n",
       "      <td>Anti-Rechts</td>\n",
       "      <td>1219</td>\n",
       "      <td>221796</td>\n",
       "      <td>181.949139</td>\n",
       "    </tr>\n",
       "    <tr>\n",
       "      <td>8</td>\n",
       "      <td>-</td>\n",
       "      <td>417</td>\n",
       "      <td>133800</td>\n",
       "      <td>320.863309</td>\n",
       "    </tr>\n",
       "    <tr>\n",
       "      <td>9</td>\n",
       "      <td>Extrem Links</td>\n",
       "      <td>589</td>\n",
       "      <td>128693</td>\n",
       "      <td>218.494058</td>\n",
       "    </tr>\n",
       "    <tr>\n",
       "      <td>10</td>\n",
       "      <td>Liberal</td>\n",
       "      <td>431</td>\n",
       "      <td>63386</td>\n",
       "      <td>147.067285</td>\n",
       "    </tr>\n",
       "    <tr>\n",
       "      <td>11</td>\n",
       "      <td>-</td>\n",
       "      <td>476</td>\n",
       "      <td>115553</td>\n",
       "      <td>242.758403</td>\n",
       "    </tr>\n",
       "    <tr>\n",
       "      <td>12</td>\n",
       "      <td>ÖVP Themen</td>\n",
       "      <td>448</td>\n",
       "      <td>199774</td>\n",
       "      <td>445.924107</td>\n",
       "    </tr>\n",
       "    <tr>\n",
       "      <td>13</td>\n",
       "      <td>Mobilisierung Wien</td>\n",
       "      <td>333</td>\n",
       "      <td>55743</td>\n",
       "      <td>167.396396</td>\n",
       "    </tr>\n",
       "    <tr>\n",
       "      <td>14</td>\n",
       "      <td>ORF Wahldebatte</td>\n",
       "      <td>384</td>\n",
       "      <td>88074</td>\n",
       "      <td>229.359375</td>\n",
       "    </tr>\n",
       "    <tr>\n",
       "      <td>15</td>\n",
       "      <td>Mobilisierung Länder</td>\n",
       "      <td>436</td>\n",
       "      <td>78303</td>\n",
       "      <td>179.594037</td>\n",
       "    </tr>\n",
       "    <tr>\n",
       "      <td>16</td>\n",
       "      <td>-</td>\n",
       "      <td>1536</td>\n",
       "      <td>169019</td>\n",
       "      <td>110.038411</td>\n",
       "    </tr>\n",
       "    <tr>\n",
       "      <td>17</td>\n",
       "      <td>Puls4 Wahldebatte</td>\n",
       "      <td>659</td>\n",
       "      <td>121036</td>\n",
       "      <td>183.666161</td>\n",
       "    </tr>\n",
       "    <tr>\n",
       "      <td>18</td>\n",
       "      <td>Emotionen</td>\n",
       "      <td>417</td>\n",
       "      <td>92149</td>\n",
       "      <td>220.980815</td>\n",
       "    </tr>\n",
       "    <tr>\n",
       "      <td>19</td>\n",
       "      <td>Außenpolitik</td>\n",
       "      <td>427</td>\n",
       "      <td>77720</td>\n",
       "      <td>182.014052</td>\n",
       "    </tr>\n",
       "    <tr>\n",
       "      <td>20</td>\n",
       "      <td>Wahlprognose</td>\n",
       "      <td>480</td>\n",
       "      <td>204100</td>\n",
       "      <td>425.208333</td>\n",
       "    </tr>\n",
       "    <tr>\n",
       "      <td>21</td>\n",
       "      <td>Umwelt</td>\n",
       "      <td>422</td>\n",
       "      <td>131814</td>\n",
       "      <td>312.355450</td>\n",
       "    </tr>\n",
       "    <tr>\n",
       "      <td>22</td>\n",
       "      <td>-</td>\n",
       "      <td>638</td>\n",
       "      <td>95210</td>\n",
       "      <td>149.231975</td>\n",
       "    </tr>\n",
       "    <tr>\n",
       "      <td>23</td>\n",
       "      <td>-</td>\n",
       "      <td>545</td>\n",
       "      <td>76939</td>\n",
       "      <td>141.172477</td>\n",
       "    </tr>\n",
       "    <tr>\n",
       "      <td>24</td>\n",
       "      <td>-</td>\n",
       "      <td>358</td>\n",
       "      <td>256212</td>\n",
       "      <td>715.675978</td>\n",
       "    </tr>\n",
       "    <tr>\n",
       "      <td>25</td>\n",
       "      <td>Polarisierung</td>\n",
       "      <td>577</td>\n",
       "      <td>93081</td>\n",
       "      <td>161.318891</td>\n",
       "    </tr>\n",
       "    <tr>\n",
       "      <td>26</td>\n",
       "      <td>Strache</td>\n",
       "      <td>394</td>\n",
       "      <td>66361</td>\n",
       "      <td>168.428934</td>\n",
       "    </tr>\n",
       "    <tr>\n",
       "      <td>27</td>\n",
       "      <td>-</td>\n",
       "      <td>490</td>\n",
       "      <td>106738</td>\n",
       "      <td>217.832653</td>\n",
       "    </tr>\n",
       "    <tr>\n",
       "      <td>28</td>\n",
       "      <td>Diskurs in Englisch</td>\n",
       "      <td>514</td>\n",
       "      <td>440199</td>\n",
       "      <td>856.418288</td>\n",
       "    </tr>\n",
       "    <tr>\n",
       "      <td>29</td>\n",
       "      <td>Neos</td>\n",
       "      <td>419</td>\n",
       "      <td>68540</td>\n",
       "      <td>163.579952</td>\n",
       "    </tr>\n",
       "    <tr>\n",
       "      <td>30</td>\n",
       "      <td>-</td>\n",
       "      <td>364</td>\n",
       "      <td>58367</td>\n",
       "      <td>160.348901</td>\n",
       "    </tr>\n",
       "    <tr>\n",
       "      <td>31</td>\n",
       "      <td>-</td>\n",
       "      <td>414</td>\n",
       "      <td>63435</td>\n",
       "      <td>153.224638</td>\n",
       "    </tr>\n",
       "    <tr>\n",
       "      <td>32</td>\n",
       "      <td>-</td>\n",
       "      <td>652</td>\n",
       "      <td>156245</td>\n",
       "      <td>239.639571</td>\n",
       "    </tr>\n",
       "    <tr>\n",
       "      <td>33</td>\n",
       "      <td>-</td>\n",
       "      <td>395</td>\n",
       "      <td>68136</td>\n",
       "      <td>172.496203</td>\n",
       "    </tr>\n",
       "    <tr>\n",
       "      <td>34</td>\n",
       "      <td>-</td>\n",
       "      <td>545</td>\n",
       "      <td>139781</td>\n",
       "      <td>256.478899</td>\n",
       "    </tr>\n",
       "    <tr>\n",
       "      <td>35</td>\n",
       "      <td>Greta Thunberg</td>\n",
       "      <td>500</td>\n",
       "      <td>116562</td>\n",
       "      <td>233.124000</td>\n",
       "    </tr>\n",
       "    <tr>\n",
       "      <td>36</td>\n",
       "      <td>-</td>\n",
       "      <td>394</td>\n",
       "      <td>100688</td>\n",
       "      <td>255.553299</td>\n",
       "    </tr>\n",
       "    <tr>\n",
       "      <td>37</td>\n",
       "      <td>-</td>\n",
       "      <td>393</td>\n",
       "      <td>184696</td>\n",
       "      <td>469.964377</td>\n",
       "    </tr>\n",
       "    <tr>\n",
       "      <td>38</td>\n",
       "      <td>-</td>\n",
       "      <td>420</td>\n",
       "      <td>152524</td>\n",
       "      <td>363.152381</td>\n",
       "    </tr>\n",
       "    <tr>\n",
       "      <td>39</td>\n",
       "      <td>-</td>\n",
       "      <td>428</td>\n",
       "      <td>188490</td>\n",
       "      <td>440.397196</td>\n",
       "    </tr>\n",
       "  </tbody>\n",
       "</table>\n",
       "</div>"
      ],
      "text/plain": [
       "                           interactionCount                    \n",
       "                                      count     sum        mean\n",
       "topic topic_interpretation                                     \n",
       "0     -                                 876  180549  206.106164\n",
       "1     Wahlwerbung & Dank               2310  879202  380.606926\n",
       "2     Linke Themen                      521  142128  272.798464\n",
       "3     -                                 452   62064  137.309735\n",
       "4     -                                 325   79746  245.372308\n",
       "5     FPÖ                               564  130939  232.161348\n",
       "6     Wandel (Partei)                   372   87524  235.279570\n",
       "7     Anti-Rechts                      1219  221796  181.949139\n",
       "8     -                                 417  133800  320.863309\n",
       "9     Extrem Links                      589  128693  218.494058\n",
       "10    Liberal                           431   63386  147.067285\n",
       "11    -                                 476  115553  242.758403\n",
       "12    ÖVP Themen                        448  199774  445.924107\n",
       "13    Mobilisierung Wien                333   55743  167.396396\n",
       "14    ORF Wahldebatte                   384   88074  229.359375\n",
       "15    Mobilisierung Länder              436   78303  179.594037\n",
       "16    -                                1536  169019  110.038411\n",
       "17    Puls4 Wahldebatte                 659  121036  183.666161\n",
       "18    Emotionen                         417   92149  220.980815\n",
       "19    Außenpolitik                      427   77720  182.014052\n",
       "20    Wahlprognose                      480  204100  425.208333\n",
       "21    Umwelt                            422  131814  312.355450\n",
       "22    -                                 638   95210  149.231975\n",
       "23    -                                 545   76939  141.172477\n",
       "24    -                                 358  256212  715.675978\n",
       "25    Polarisierung                     577   93081  161.318891\n",
       "26    Strache                           394   66361  168.428934\n",
       "27    -                                 490  106738  217.832653\n",
       "28    Diskurs in Englisch               514  440199  856.418288\n",
       "29    Neos                              419   68540  163.579952\n",
       "30    -                                 364   58367  160.348901\n",
       "31    -                                 414   63435  153.224638\n",
       "32    -                                 652  156245  239.639571\n",
       "33    -                                 395   68136  172.496203\n",
       "34    -                                 545  139781  256.478899\n",
       "35    Greta Thunberg                    500  116562  233.124000\n",
       "36    -                                 394  100688  255.553299\n",
       "37    -                                 393  184696  469.964377\n",
       "38    -                                 420  152524  363.152381\n",
       "39    -                                 428  188490  440.397196"
      ]
     },
     "execution_count": 11,
     "metadata": {},
     "output_type": "execute_result"
    }
   ],
   "source": [
    "grouped = data.groupby([\"topic\", \"topic_interpretation\"]).agg({\"interactionCount\": [\"count\", \"sum\", \"mean\"]})\n",
    "pd.set_option(\"display.max_rows\", None)\n",
    "grouped"
   ]
  },
  {
   "cell_type": "code",
   "execution_count": 12,
   "metadata": {},
   "outputs": [
    {
     "data": {
      "application/vnd.vegalite.v3+json": {
       "$schema": "https://vega.github.io/schema/vega-lite/v3.4.0.json",
       "config": {
        "mark": {
         "tooltip": null
        },
        "view": {
         "height": 300,
         "width": 400
        }
       },
       "data": {
        "name": "data-e64a2743a236e852776605164a8593c3"
       },
       "datasets": {
        "data-e64a2743a236e852776605164a8593c3": [
         {
          "Topic": "-",
          "bar_label": "Total interactions",
          "count": 876,
          "mean": 206.11,
          "mean_label": "Mean interactions",
          "sum": 180549,
          "topic": 0,
          "topic_interpretation": "-"
         },
         {
          "Topic": "Wahlwerbung & Dank",
          "bar_label": "Total interactions",
          "count": 2310,
          "mean": 380.61,
          "mean_label": "Mean interactions",
          "sum": 879202,
          "topic": 1,
          "topic_interpretation": "Wahlwerbung & Dank"
         },
         {
          "Topic": "Linke Themen",
          "bar_label": "Total interactions",
          "count": 521,
          "mean": 272.8,
          "mean_label": "Mean interactions",
          "sum": 142128,
          "topic": 2,
          "topic_interpretation": "Linke Themen"
         },
         {
          "Topic": "-",
          "bar_label": "Total interactions",
          "count": 452,
          "mean": 137.31,
          "mean_label": "Mean interactions",
          "sum": 62064,
          "topic": 3,
          "topic_interpretation": "-"
         },
         {
          "Topic": "-",
          "bar_label": "Total interactions",
          "count": 325,
          "mean": 245.37,
          "mean_label": "Mean interactions",
          "sum": 79746,
          "topic": 4,
          "topic_interpretation": "-"
         },
         {
          "Topic": "FPÖ",
          "bar_label": "Total interactions",
          "count": 564,
          "mean": 232.16,
          "mean_label": "Mean interactions",
          "sum": 130939,
          "topic": 5,
          "topic_interpretation": "FPÖ"
         },
         {
          "Topic": "Wandel (Partei)",
          "bar_label": "Total interactions",
          "count": 372,
          "mean": 235.28,
          "mean_label": "Mean interactions",
          "sum": 87524,
          "topic": 6,
          "topic_interpretation": "Wandel (Partei)"
         },
         {
          "Topic": "Anti-Rechts",
          "bar_label": "Total interactions",
          "count": 1219,
          "mean": 181.95,
          "mean_label": "Mean interactions",
          "sum": 221796,
          "topic": 7,
          "topic_interpretation": "Anti-Rechts"
         },
         {
          "Topic": "-",
          "bar_label": "Total interactions",
          "count": 417,
          "mean": 320.86,
          "mean_label": "Mean interactions",
          "sum": 133800,
          "topic": 8,
          "topic_interpretation": "-"
         },
         {
          "Topic": "Extrem Links",
          "bar_label": "Total interactions",
          "count": 589,
          "mean": 218.49,
          "mean_label": "Mean interactions",
          "sum": 128693,
          "topic": 9,
          "topic_interpretation": "Extrem Links"
         },
         {
          "Topic": "Liberal",
          "bar_label": "Total interactions",
          "count": 431,
          "mean": 147.07,
          "mean_label": "Mean interactions",
          "sum": 63386,
          "topic": 10,
          "topic_interpretation": "Liberal"
         },
         {
          "Topic": "-",
          "bar_label": "Total interactions",
          "count": 476,
          "mean": 242.76,
          "mean_label": "Mean interactions",
          "sum": 115553,
          "topic": 11,
          "topic_interpretation": "-"
         },
         {
          "Topic": "ÖVP Themen",
          "bar_label": "Total interactions",
          "count": 448,
          "mean": 445.92,
          "mean_label": "Mean interactions",
          "sum": 199774,
          "topic": 12,
          "topic_interpretation": "ÖVP Themen"
         },
         {
          "Topic": "Mobilisierung Wien",
          "bar_label": "Total interactions",
          "count": 333,
          "mean": 167.4,
          "mean_label": "Mean interactions",
          "sum": 55743,
          "topic": 13,
          "topic_interpretation": "Mobilisierung Wien"
         },
         {
          "Topic": "ORF Wahldebatte",
          "bar_label": "Total interactions",
          "count": 384,
          "mean": 229.36,
          "mean_label": "Mean interactions",
          "sum": 88074,
          "topic": 14,
          "topic_interpretation": "ORF Wahldebatte"
         },
         {
          "Topic": "Mobilisierung Länder",
          "bar_label": "Total interactions",
          "count": 436,
          "mean": 179.59,
          "mean_label": "Mean interactions",
          "sum": 78303,
          "topic": 15,
          "topic_interpretation": "Mobilisierung Länder"
         },
         {
          "Topic": "-",
          "bar_label": "Total interactions",
          "count": 1536,
          "mean": 110.04,
          "mean_label": "Mean interactions",
          "sum": 169019,
          "topic": 16,
          "topic_interpretation": "-"
         },
         {
          "Topic": "Puls4 Wahldebatte",
          "bar_label": "Total interactions",
          "count": 659,
          "mean": 183.67,
          "mean_label": "Mean interactions",
          "sum": 121036,
          "topic": 17,
          "topic_interpretation": "Puls4 Wahldebatte"
         },
         {
          "Topic": "Emotionen",
          "bar_label": "Total interactions",
          "count": 417,
          "mean": 220.98,
          "mean_label": "Mean interactions",
          "sum": 92149,
          "topic": 18,
          "topic_interpretation": "Emotionen"
         },
         {
          "Topic": "Außenpolitik",
          "bar_label": "Total interactions",
          "count": 427,
          "mean": 182.01,
          "mean_label": "Mean interactions",
          "sum": 77720,
          "topic": 19,
          "topic_interpretation": "Außenpolitik"
         },
         {
          "Topic": "Wahlprognose",
          "bar_label": "Total interactions",
          "count": 480,
          "mean": 425.21,
          "mean_label": "Mean interactions",
          "sum": 204100,
          "topic": 20,
          "topic_interpretation": "Wahlprognose"
         },
         {
          "Topic": "Umwelt",
          "bar_label": "Total interactions",
          "count": 422,
          "mean": 312.36,
          "mean_label": "Mean interactions",
          "sum": 131814,
          "topic": 21,
          "topic_interpretation": "Umwelt"
         },
         {
          "Topic": "-",
          "bar_label": "Total interactions",
          "count": 638,
          "mean": 149.23,
          "mean_label": "Mean interactions",
          "sum": 95210,
          "topic": 22,
          "topic_interpretation": "-"
         },
         {
          "Topic": "-",
          "bar_label": "Total interactions",
          "count": 545,
          "mean": 141.17,
          "mean_label": "Mean interactions",
          "sum": 76939,
          "topic": 23,
          "topic_interpretation": "-"
         },
         {
          "Topic": "-",
          "bar_label": "Total interactions",
          "count": 358,
          "mean": 715.68,
          "mean_label": "Mean interactions",
          "sum": 256212,
          "topic": 24,
          "topic_interpretation": "-"
         },
         {
          "Topic": "Polarisierung",
          "bar_label": "Total interactions",
          "count": 577,
          "mean": 161.32,
          "mean_label": "Mean interactions",
          "sum": 93081,
          "topic": 25,
          "topic_interpretation": "Polarisierung"
         },
         {
          "Topic": "Strache",
          "bar_label": "Total interactions",
          "count": 394,
          "mean": 168.43,
          "mean_label": "Mean interactions",
          "sum": 66361,
          "topic": 26,
          "topic_interpretation": "Strache"
         },
         {
          "Topic": "-",
          "bar_label": "Total interactions",
          "count": 490,
          "mean": 217.83,
          "mean_label": "Mean interactions",
          "sum": 106738,
          "topic": 27,
          "topic_interpretation": "-"
         },
         {
          "Topic": "Diskurs in Englisch",
          "bar_label": "Total interactions",
          "count": 514,
          "mean": 856.42,
          "mean_label": "Mean interactions",
          "sum": 440199,
          "topic": 28,
          "topic_interpretation": "Diskurs in Englisch"
         },
         {
          "Topic": "Neos",
          "bar_label": "Total interactions",
          "count": 419,
          "mean": 163.58,
          "mean_label": "Mean interactions",
          "sum": 68540,
          "topic": 29,
          "topic_interpretation": "Neos"
         },
         {
          "Topic": "-",
          "bar_label": "Total interactions",
          "count": 364,
          "mean": 160.35,
          "mean_label": "Mean interactions",
          "sum": 58367,
          "topic": 30,
          "topic_interpretation": "-"
         },
         {
          "Topic": "-",
          "bar_label": "Total interactions",
          "count": 414,
          "mean": 153.22,
          "mean_label": "Mean interactions",
          "sum": 63435,
          "topic": 31,
          "topic_interpretation": "-"
         },
         {
          "Topic": "-",
          "bar_label": "Total interactions",
          "count": 652,
          "mean": 239.64,
          "mean_label": "Mean interactions",
          "sum": 156245,
          "topic": 32,
          "topic_interpretation": "-"
         },
         {
          "Topic": "-",
          "bar_label": "Total interactions",
          "count": 395,
          "mean": 172.5,
          "mean_label": "Mean interactions",
          "sum": 68136,
          "topic": 33,
          "topic_interpretation": "-"
         },
         {
          "Topic": "-",
          "bar_label": "Total interactions",
          "count": 545,
          "mean": 256.48,
          "mean_label": "Mean interactions",
          "sum": 139781,
          "topic": 34,
          "topic_interpretation": "-"
         },
         {
          "Topic": "Greta Thunberg",
          "bar_label": "Total interactions",
          "count": 500,
          "mean": 233.12,
          "mean_label": "Mean interactions",
          "sum": 116562,
          "topic": 35,
          "topic_interpretation": "Greta Thunberg"
         },
         {
          "Topic": "-",
          "bar_label": "Total interactions",
          "count": 394,
          "mean": 255.55,
          "mean_label": "Mean interactions",
          "sum": 100688,
          "topic": 36,
          "topic_interpretation": "-"
         },
         {
          "Topic": "-",
          "bar_label": "Total interactions",
          "count": 393,
          "mean": 469.96,
          "mean_label": "Mean interactions",
          "sum": 184696,
          "topic": 37,
          "topic_interpretation": "-"
         },
         {
          "Topic": "-",
          "bar_label": "Total interactions",
          "count": 420,
          "mean": 363.15,
          "mean_label": "Mean interactions",
          "sum": 152524,
          "topic": 38,
          "topic_interpretation": "-"
         },
         {
          "Topic": "-",
          "bar_label": "Total interactions",
          "count": 428,
          "mean": 440.4,
          "mean_label": "Mean interactions",
          "sum": 188490,
          "topic": 39,
          "topic_interpretation": "-"
         }
        ]
       },
       "layer": [
        {
         "encoding": {
          "opacity": {
           "value": 0.75
          },
          "tooltip": [
           {
            "field": "Topic",
            "title": "Topic",
            "type": "nominal"
           },
           {
            "field": "count",
            "title": "Posts",
            "type": "quantitative"
           },
           {
            "field": "sum",
            "title": "Total interactions",
            "type": "quantitative"
           },
           {
            "field": "mean",
            "title": "Mean interactions",
            "type": "quantitative"
           }
          ],
          "x": {
           "field": "topic",
           "title": "Topic",
           "type": "nominal"
          },
          "y": {
           "field": "sum",
           "scale": {
            "base": 10,
            "type": "log"
           },
           "title": "Total interactions (log)",
           "type": "quantitative"
          }
         },
         "mark": "bar",
         "title": "Interactions per Topic"
        },
        {
         "encoding": {
          "color": {
           "field": "mean_label",
           "scale": {
            "domain": [
             "Mean interactions"
            ],
            "range": [
             "red"
            ]
           },
           "title": "Legend",
           "type": "nominal"
          },
          "opacity": {
           "value": 1
          },
          "x": {
           "field": "topic",
           "title": "Topic",
           "type": "nominal"
          },
          "y": {
           "field": "mean",
           "scale": {
            "base": 10,
            "type": "log"
           },
           "title": "",
           "type": "quantitative"
          }
         },
         "mark": {
          "color": "red",
          "thickness": 2,
          "type": "tick"
         }
        }
       ]
      },
      "image/png": "[encoded data removed]",
      "text/plain": [
       "<VegaLite 3 object>\n",
       "\n",
       "If you see this message, it means the renderer has not been properly enabled\n",
       "for the frontend that you are using. For more information, see\n",
       "https://altair-viz.github.io/user_guide/troubleshooting.html\n"
      ]
     },
     "execution_count": 12,
     "metadata": {},
     "output_type": "execute_result"
    }
   ],
   "source": [
    "grouped.columns = [\"count\", \"sum\", \"mean\"]\n",
    "p_data = grouped.reset_index().round(2)\n",
    "p_data[\"Topic\"] = p_data.topic_interpretation\n",
    "p_data[\"bar_label\"] = [\"Total interactions\"] * p_data.shape[0]\n",
    "p_data[\"mean_label\"] = [\"Mean interactions\"] * p_data.shape[0]\n",
    "\n",
    "bars = alt.Chart(p_data, title=\"Interactions per Topic\").mark_bar().encode(\n",
    "    x=alt.X(\"topic:N\", title=\"Topic\"),\n",
    "    y=alt.Y(\"sum:Q\",\n",
    "            scale=alt.Scale(type=\"log\", base=10),\n",
    "            title=\"Total interactions (log)\"),\n",
    "    opacity=alt.value(0.75),\n",
    "    tooltip=[alt.Tooltip(\"Topic\", title=\"Topic\"),\n",
    "             alt.Tooltip(\"count\", title=\"Posts\"),\n",
    "             alt.Tooltip(\"sum\", title=\"Total interactions\"),\n",
    "             alt.Tooltip(\"mean\", title=\"Mean interactions\")]\n",
    ")\n",
    "\n",
    "mean_ticks = alt.Chart(p_data).mark_tick(color=\"red\", thickness=2).encode(\n",
    "    x=alt.X(\"topic:N\", title=\"Topic\"),\n",
    "    y=alt.Y(\"mean:Q\",\n",
    "            scale=alt.Scale(type=\"log\", base=10),\n",
    "            title=\"\"),\n",
    "    color=alt.Color(\"mean_label\",\n",
    "                    scale=alt.Scale(range=[\"red\"], domain=[\"Mean interactions\"]), \n",
    "                    title=\"Legend\"),\n",
    "    opacity=alt.value(1)\n",
    ")\n",
    "\n",
    "chart = bars + mean_ticks\n",
    "chart.save(os.path.join(figures_path, \"topics\", \"interactions_per_topic.html\"))\n",
    "chart"
   ]
  },
  {
   "cell_type": "markdown",
   "metadata": {},
   "source": [
    "Interactions per source"
   ]
  },
  {
   "cell_type": "code",
   "execution_count": 13,
   "metadata": {},
   "outputs": [
    {
     "data": {
      "text/html": [
       "<div>\n",
       "<style scoped>\n",
       "    .dataframe tbody tr th:only-of-type {\n",
       "        vertical-align: middle;\n",
       "    }\n",
       "\n",
       "    .dataframe tbody tr th {\n",
       "        vertical-align: top;\n",
       "    }\n",
       "\n",
       "    .dataframe thead tr th {\n",
       "        text-align: left;\n",
       "    }\n",
       "\n",
       "    .dataframe thead tr:last-of-type th {\n",
       "        text-align: right;\n",
       "    }\n",
       "</style>\n",
       "<table border=\"1\" class=\"dataframe\">\n",
       "  <thead>\n",
       "    <tr>\n",
       "      <th></th>\n",
       "      <th></th>\n",
       "      <th></th>\n",
       "      <th colspan=\"3\" halign=\"left\">interactionCount</th>\n",
       "    </tr>\n",
       "    <tr>\n",
       "      <th></th>\n",
       "      <th></th>\n",
       "      <th></th>\n",
       "      <th>count</th>\n",
       "      <th>sum</th>\n",
       "      <th>mean</th>\n",
       "    </tr>\n",
       "    <tr>\n",
       "      <th>topic</th>\n",
       "      <th>topic_interpretation</th>\n",
       "      <th>source</th>\n",
       "      <th></th>\n",
       "      <th></th>\n",
       "      <th></th>\n",
       "    </tr>\n",
       "  </thead>\n",
       "  <tbody>\n",
       "    <tr>\n",
       "      <td rowspan=\"2\" valign=\"top\">0</td>\n",
       "      <td rowspan=\"2\" valign=\"top\">-</td>\n",
       "      <td>Facebook</td>\n",
       "      <td>301</td>\n",
       "      <td>105855</td>\n",
       "      <td>351.677741</td>\n",
       "    </tr>\n",
       "    <tr>\n",
       "      <td>Twitter</td>\n",
       "      <td>575</td>\n",
       "      <td>74694</td>\n",
       "      <td>129.902609</td>\n",
       "    </tr>\n",
       "    <tr>\n",
       "      <td rowspan=\"2\" valign=\"top\">1</td>\n",
       "      <td rowspan=\"2\" valign=\"top\">Wahlwerbung &amp; Dank</td>\n",
       "      <td>Facebook</td>\n",
       "      <td>1403</td>\n",
       "      <td>824235</td>\n",
       "      <td>587.480399</td>\n",
       "    </tr>\n",
       "    <tr>\n",
       "      <td>Twitter</td>\n",
       "      <td>907</td>\n",
       "      <td>54967</td>\n",
       "      <td>60.603087</td>\n",
       "    </tr>\n",
       "    <tr>\n",
       "      <td rowspan=\"2\" valign=\"top\">2</td>\n",
       "      <td rowspan=\"2\" valign=\"top\">Linke Themen</td>\n",
       "      <td>Facebook</td>\n",
       "      <td>263</td>\n",
       "      <td>61623</td>\n",
       "      <td>234.307985</td>\n",
       "    </tr>\n",
       "    <tr>\n",
       "      <td>Twitter</td>\n",
       "      <td>258</td>\n",
       "      <td>80505</td>\n",
       "      <td>312.034884</td>\n",
       "    </tr>\n",
       "    <tr>\n",
       "      <td rowspan=\"2\" valign=\"top\">3</td>\n",
       "      <td rowspan=\"2\" valign=\"top\">-</td>\n",
       "      <td>Facebook</td>\n",
       "      <td>242</td>\n",
       "      <td>50335</td>\n",
       "      <td>207.995868</td>\n",
       "    </tr>\n",
       "    <tr>\n",
       "      <td>Twitter</td>\n",
       "      <td>210</td>\n",
       "      <td>11729</td>\n",
       "      <td>55.852381</td>\n",
       "    </tr>\n",
       "    <tr>\n",
       "      <td rowspan=\"2\" valign=\"top\">4</td>\n",
       "      <td rowspan=\"2\" valign=\"top\">-</td>\n",
       "      <td>Facebook</td>\n",
       "      <td>181</td>\n",
       "      <td>42462</td>\n",
       "      <td>234.596685</td>\n",
       "    </tr>\n",
       "    <tr>\n",
       "      <td>Twitter</td>\n",
       "      <td>144</td>\n",
       "      <td>37284</td>\n",
       "      <td>258.916667</td>\n",
       "    </tr>\n",
       "    <tr>\n",
       "      <td rowspan=\"2\" valign=\"top\">5</td>\n",
       "      <td rowspan=\"2\" valign=\"top\">FPÖ</td>\n",
       "      <td>Facebook</td>\n",
       "      <td>324</td>\n",
       "      <td>99072</td>\n",
       "      <td>305.777778</td>\n",
       "    </tr>\n",
       "    <tr>\n",
       "      <td>Twitter</td>\n",
       "      <td>240</td>\n",
       "      <td>31867</td>\n",
       "      <td>132.779167</td>\n",
       "    </tr>\n",
       "    <tr>\n",
       "      <td rowspan=\"2\" valign=\"top\">6</td>\n",
       "      <td rowspan=\"2\" valign=\"top\">Wandel (Partei)</td>\n",
       "      <td>Facebook</td>\n",
       "      <td>226</td>\n",
       "      <td>41681</td>\n",
       "      <td>184.429204</td>\n",
       "    </tr>\n",
       "    <tr>\n",
       "      <td>Twitter</td>\n",
       "      <td>146</td>\n",
       "      <td>45843</td>\n",
       "      <td>313.993151</td>\n",
       "    </tr>\n",
       "    <tr>\n",
       "      <td rowspan=\"2\" valign=\"top\">7</td>\n",
       "      <td rowspan=\"2\" valign=\"top\">Anti-Rechts</td>\n",
       "      <td>Facebook</td>\n",
       "      <td>617</td>\n",
       "      <td>191025</td>\n",
       "      <td>309.602917</td>\n",
       "    </tr>\n",
       "    <tr>\n",
       "      <td>Twitter</td>\n",
       "      <td>602</td>\n",
       "      <td>30771</td>\n",
       "      <td>51.114618</td>\n",
       "    </tr>\n",
       "    <tr>\n",
       "      <td rowspan=\"2\" valign=\"top\">8</td>\n",
       "      <td rowspan=\"2\" valign=\"top\">-</td>\n",
       "      <td>Facebook</td>\n",
       "      <td>234</td>\n",
       "      <td>64165</td>\n",
       "      <td>274.209402</td>\n",
       "    </tr>\n",
       "    <tr>\n",
       "      <td>Twitter</td>\n",
       "      <td>183</td>\n",
       "      <td>69635</td>\n",
       "      <td>380.519126</td>\n",
       "    </tr>\n",
       "    <tr>\n",
       "      <td rowspan=\"2\" valign=\"top\">9</td>\n",
       "      <td rowspan=\"2\" valign=\"top\">Extrem Links</td>\n",
       "      <td>Facebook</td>\n",
       "      <td>315</td>\n",
       "      <td>50675</td>\n",
       "      <td>160.873016</td>\n",
       "    </tr>\n",
       "    <tr>\n",
       "      <td>Twitter</td>\n",
       "      <td>274</td>\n",
       "      <td>78018</td>\n",
       "      <td>284.737226</td>\n",
       "    </tr>\n",
       "    <tr>\n",
       "      <td rowspan=\"2\" valign=\"top\">10</td>\n",
       "      <td rowspan=\"2\" valign=\"top\">Liberal</td>\n",
       "      <td>Facebook</td>\n",
       "      <td>217</td>\n",
       "      <td>47967</td>\n",
       "      <td>221.046083</td>\n",
       "    </tr>\n",
       "    <tr>\n",
       "      <td>Twitter</td>\n",
       "      <td>214</td>\n",
       "      <td>15419</td>\n",
       "      <td>72.051402</td>\n",
       "    </tr>\n",
       "    <tr>\n",
       "      <td rowspan=\"2\" valign=\"top\">11</td>\n",
       "      <td rowspan=\"2\" valign=\"top\">-</td>\n",
       "      <td>Facebook</td>\n",
       "      <td>250</td>\n",
       "      <td>53497</td>\n",
       "      <td>213.988000</td>\n",
       "    </tr>\n",
       "    <tr>\n",
       "      <td>Twitter</td>\n",
       "      <td>226</td>\n",
       "      <td>62056</td>\n",
       "      <td>274.584071</td>\n",
       "    </tr>\n",
       "    <tr>\n",
       "      <td rowspan=\"2\" valign=\"top\">12</td>\n",
       "      <td rowspan=\"2\" valign=\"top\">ÖVP Themen</td>\n",
       "      <td>Facebook</td>\n",
       "      <td>247</td>\n",
       "      <td>47753</td>\n",
       "      <td>193.331984</td>\n",
       "    </tr>\n",
       "    <tr>\n",
       "      <td>Twitter</td>\n",
       "      <td>201</td>\n",
       "      <td>152021</td>\n",
       "      <td>756.323383</td>\n",
       "    </tr>\n",
       "    <tr>\n",
       "      <td rowspan=\"2\" valign=\"top\">13</td>\n",
       "      <td rowspan=\"2\" valign=\"top\">Mobilisierung Wien</td>\n",
       "      <td>Facebook</td>\n",
       "      <td>178</td>\n",
       "      <td>38099</td>\n",
       "      <td>214.039326</td>\n",
       "    </tr>\n",
       "    <tr>\n",
       "      <td>Twitter</td>\n",
       "      <td>155</td>\n",
       "      <td>17644</td>\n",
       "      <td>113.832258</td>\n",
       "    </tr>\n",
       "    <tr>\n",
       "      <td rowspan=\"2\" valign=\"top\">14</td>\n",
       "      <td rowspan=\"2\" valign=\"top\">ORF Wahldebatte</td>\n",
       "      <td>Facebook</td>\n",
       "      <td>209</td>\n",
       "      <td>76634</td>\n",
       "      <td>366.669856</td>\n",
       "    </tr>\n",
       "    <tr>\n",
       "      <td>Twitter</td>\n",
       "      <td>175</td>\n",
       "      <td>11440</td>\n",
       "      <td>65.371429</td>\n",
       "    </tr>\n",
       "    <tr>\n",
       "      <td rowspan=\"2\" valign=\"top\">15</td>\n",
       "      <td rowspan=\"2\" valign=\"top\">Mobilisierung Länder</td>\n",
       "      <td>Facebook</td>\n",
       "      <td>242</td>\n",
       "      <td>60577</td>\n",
       "      <td>250.318182</td>\n",
       "    </tr>\n",
       "    <tr>\n",
       "      <td>Twitter</td>\n",
       "      <td>194</td>\n",
       "      <td>17726</td>\n",
       "      <td>91.371134</td>\n",
       "    </tr>\n",
       "    <tr>\n",
       "      <td rowspan=\"2\" valign=\"top\">16</td>\n",
       "      <td rowspan=\"2\" valign=\"top\">-</td>\n",
       "      <td>Facebook</td>\n",
       "      <td>529</td>\n",
       "      <td>136111</td>\n",
       "      <td>257.298677</td>\n",
       "    </tr>\n",
       "    <tr>\n",
       "      <td>Twitter</td>\n",
       "      <td>1007</td>\n",
       "      <td>32908</td>\n",
       "      <td>32.679245</td>\n",
       "    </tr>\n",
       "    <tr>\n",
       "      <td rowspan=\"2\" valign=\"top\">17</td>\n",
       "      <td rowspan=\"2\" valign=\"top\">Puls4 Wahldebatte</td>\n",
       "      <td>Facebook</td>\n",
       "      <td>387</td>\n",
       "      <td>108018</td>\n",
       "      <td>279.116279</td>\n",
       "    </tr>\n",
       "    <tr>\n",
       "      <td>Twitter</td>\n",
       "      <td>272</td>\n",
       "      <td>13018</td>\n",
       "      <td>47.860294</td>\n",
       "    </tr>\n",
       "    <tr>\n",
       "      <td rowspan=\"2\" valign=\"top\">18</td>\n",
       "      <td rowspan=\"2\" valign=\"top\">Emotionen</td>\n",
       "      <td>Facebook</td>\n",
       "      <td>215</td>\n",
       "      <td>52106</td>\n",
       "      <td>242.353488</td>\n",
       "    </tr>\n",
       "    <tr>\n",
       "      <td>Twitter</td>\n",
       "      <td>202</td>\n",
       "      <td>40043</td>\n",
       "      <td>198.232673</td>\n",
       "    </tr>\n",
       "    <tr>\n",
       "      <td rowspan=\"2\" valign=\"top\">19</td>\n",
       "      <td rowspan=\"2\" valign=\"top\">Außenpolitik</td>\n",
       "      <td>Facebook</td>\n",
       "      <td>214</td>\n",
       "      <td>52967</td>\n",
       "      <td>247.509346</td>\n",
       "    </tr>\n",
       "    <tr>\n",
       "      <td>Twitter</td>\n",
       "      <td>213</td>\n",
       "      <td>24753</td>\n",
       "      <td>116.211268</td>\n",
       "    </tr>\n",
       "    <tr>\n",
       "      <td rowspan=\"2\" valign=\"top\">20</td>\n",
       "      <td rowspan=\"2\" valign=\"top\">Wahlprognose</td>\n",
       "      <td>Facebook</td>\n",
       "      <td>209</td>\n",
       "      <td>31662</td>\n",
       "      <td>151.492823</td>\n",
       "    </tr>\n",
       "    <tr>\n",
       "      <td>Twitter</td>\n",
       "      <td>271</td>\n",
       "      <td>172438</td>\n",
       "      <td>636.302583</td>\n",
       "    </tr>\n",
       "    <tr>\n",
       "      <td rowspan=\"2\" valign=\"top\">21</td>\n",
       "      <td rowspan=\"2\" valign=\"top\">Umwelt</td>\n",
       "      <td>Facebook</td>\n",
       "      <td>219</td>\n",
       "      <td>49558</td>\n",
       "      <td>226.292237</td>\n",
       "    </tr>\n",
       "    <tr>\n",
       "      <td>Twitter</td>\n",
       "      <td>203</td>\n",
       "      <td>82256</td>\n",
       "      <td>405.201970</td>\n",
       "    </tr>\n",
       "    <tr>\n",
       "      <td rowspan=\"2\" valign=\"top\">22</td>\n",
       "      <td rowspan=\"2\" valign=\"top\">-</td>\n",
       "      <td>Facebook</td>\n",
       "      <td>300</td>\n",
       "      <td>73039</td>\n",
       "      <td>243.463333</td>\n",
       "    </tr>\n",
       "    <tr>\n",
       "      <td>Twitter</td>\n",
       "      <td>338</td>\n",
       "      <td>22171</td>\n",
       "      <td>65.594675</td>\n",
       "    </tr>\n",
       "    <tr>\n",
       "      <td rowspan=\"2\" valign=\"top\">23</td>\n",
       "      <td rowspan=\"2\" valign=\"top\">-</td>\n",
       "      <td>Facebook</td>\n",
       "      <td>312</td>\n",
       "      <td>64745</td>\n",
       "      <td>207.516026</td>\n",
       "    </tr>\n",
       "    <tr>\n",
       "      <td>Twitter</td>\n",
       "      <td>233</td>\n",
       "      <td>12194</td>\n",
       "      <td>52.334764</td>\n",
       "    </tr>\n",
       "    <tr>\n",
       "      <td rowspan=\"2\" valign=\"top\">24</td>\n",
       "      <td rowspan=\"2\" valign=\"top\">-</td>\n",
       "      <td>Facebook</td>\n",
       "      <td>184</td>\n",
       "      <td>41925</td>\n",
       "      <td>227.853261</td>\n",
       "    </tr>\n",
       "    <tr>\n",
       "      <td>Twitter</td>\n",
       "      <td>174</td>\n",
       "      <td>214287</td>\n",
       "      <td>1231.534483</td>\n",
       "    </tr>\n",
       "    <tr>\n",
       "      <td rowspan=\"2\" valign=\"top\">25</td>\n",
       "      <td rowspan=\"2\" valign=\"top\">Polarisierung</td>\n",
       "      <td>Facebook</td>\n",
       "      <td>299</td>\n",
       "      <td>75002</td>\n",
       "      <td>250.842809</td>\n",
       "    </tr>\n",
       "    <tr>\n",
       "      <td>Twitter</td>\n",
       "      <td>278</td>\n",
       "      <td>18079</td>\n",
       "      <td>65.032374</td>\n",
       "    </tr>\n",
       "    <tr>\n",
       "      <td rowspan=\"2\" valign=\"top\">26</td>\n",
       "      <td rowspan=\"2\" valign=\"top\">Strache</td>\n",
       "      <td>Facebook</td>\n",
       "      <td>219</td>\n",
       "      <td>52365</td>\n",
       "      <td>239.109589</td>\n",
       "    </tr>\n",
       "    <tr>\n",
       "      <td>Twitter</td>\n",
       "      <td>175</td>\n",
       "      <td>13996</td>\n",
       "      <td>79.977143</td>\n",
       "    </tr>\n",
       "    <tr>\n",
       "      <td rowspan=\"2\" valign=\"top\">27</td>\n",
       "      <td rowspan=\"2\" valign=\"top\">-</td>\n",
       "      <td>Facebook</td>\n",
       "      <td>250</td>\n",
       "      <td>80238</td>\n",
       "      <td>320.952000</td>\n",
       "    </tr>\n",
       "    <tr>\n",
       "      <td>Twitter</td>\n",
       "      <td>240</td>\n",
       "      <td>26500</td>\n",
       "      <td>110.416667</td>\n",
       "    </tr>\n",
       "    <tr>\n",
       "      <td rowspan=\"2\" valign=\"top\">28</td>\n",
       "      <td rowspan=\"2\" valign=\"top\">Diskurs in Englisch</td>\n",
       "      <td>Facebook</td>\n",
       "      <td>241</td>\n",
       "      <td>50193</td>\n",
       "      <td>208.269710</td>\n",
       "    </tr>\n",
       "    <tr>\n",
       "      <td>Twitter</td>\n",
       "      <td>273</td>\n",
       "      <td>390006</td>\n",
       "      <td>1428.593407</td>\n",
       "    </tr>\n",
       "    <tr>\n",
       "      <td rowspan=\"2\" valign=\"top\">29</td>\n",
       "      <td rowspan=\"2\" valign=\"top\">Neos</td>\n",
       "      <td>Facebook</td>\n",
       "      <td>224</td>\n",
       "      <td>45206</td>\n",
       "      <td>201.812500</td>\n",
       "    </tr>\n",
       "    <tr>\n",
       "      <td>Twitter</td>\n",
       "      <td>195</td>\n",
       "      <td>23334</td>\n",
       "      <td>119.661538</td>\n",
       "    </tr>\n",
       "    <tr>\n",
       "      <td rowspan=\"2\" valign=\"top\">30</td>\n",
       "      <td rowspan=\"2\" valign=\"top\">-</td>\n",
       "      <td>Facebook</td>\n",
       "      <td>196</td>\n",
       "      <td>43502</td>\n",
       "      <td>221.948980</td>\n",
       "    </tr>\n",
       "    <tr>\n",
       "      <td>Twitter</td>\n",
       "      <td>168</td>\n",
       "      <td>14865</td>\n",
       "      <td>88.482143</td>\n",
       "    </tr>\n",
       "    <tr>\n",
       "      <td rowspan=\"2\" valign=\"top\">31</td>\n",
       "      <td rowspan=\"2\" valign=\"top\">-</td>\n",
       "      <td>Facebook</td>\n",
       "      <td>219</td>\n",
       "      <td>49808</td>\n",
       "      <td>227.433790</td>\n",
       "    </tr>\n",
       "    <tr>\n",
       "      <td>Twitter</td>\n",
       "      <td>195</td>\n",
       "      <td>13627</td>\n",
       "      <td>69.882051</td>\n",
       "    </tr>\n",
       "    <tr>\n",
       "      <td rowspan=\"2\" valign=\"top\">32</td>\n",
       "      <td rowspan=\"2\" valign=\"top\">-</td>\n",
       "      <td>Facebook</td>\n",
       "      <td>404</td>\n",
       "      <td>134627</td>\n",
       "      <td>333.235149</td>\n",
       "    </tr>\n",
       "    <tr>\n",
       "      <td>Twitter</td>\n",
       "      <td>248</td>\n",
       "      <td>21618</td>\n",
       "      <td>87.169355</td>\n",
       "    </tr>\n",
       "    <tr>\n",
       "      <td rowspan=\"2\" valign=\"top\">33</td>\n",
       "      <td rowspan=\"2\" valign=\"top\">-</td>\n",
       "      <td>Facebook</td>\n",
       "      <td>210</td>\n",
       "      <td>51298</td>\n",
       "      <td>244.276190</td>\n",
       "    </tr>\n",
       "    <tr>\n",
       "      <td>Twitter</td>\n",
       "      <td>185</td>\n",
       "      <td>16838</td>\n",
       "      <td>91.016216</td>\n",
       "    </tr>\n",
       "    <tr>\n",
       "      <td rowspan=\"2\" valign=\"top\">34</td>\n",
       "      <td rowspan=\"2\" valign=\"top\">-</td>\n",
       "      <td>Facebook</td>\n",
       "      <td>318</td>\n",
       "      <td>82402</td>\n",
       "      <td>259.125786</td>\n",
       "    </tr>\n",
       "    <tr>\n",
       "      <td>Twitter</td>\n",
       "      <td>227</td>\n",
       "      <td>57379</td>\n",
       "      <td>252.770925</td>\n",
       "    </tr>\n",
       "    <tr>\n",
       "      <td rowspan=\"2\" valign=\"top\">35</td>\n",
       "      <td rowspan=\"2\" valign=\"top\">Greta Thunberg</td>\n",
       "      <td>Facebook</td>\n",
       "      <td>301</td>\n",
       "      <td>80163</td>\n",
       "      <td>266.322259</td>\n",
       "    </tr>\n",
       "    <tr>\n",
       "      <td>Twitter</td>\n",
       "      <td>199</td>\n",
       "      <td>36399</td>\n",
       "      <td>182.909548</td>\n",
       "    </tr>\n",
       "    <tr>\n",
       "      <td rowspan=\"2\" valign=\"top\">36</td>\n",
       "      <td rowspan=\"2\" valign=\"top\">-</td>\n",
       "      <td>Facebook</td>\n",
       "      <td>228</td>\n",
       "      <td>58829</td>\n",
       "      <td>258.021930</td>\n",
       "    </tr>\n",
       "    <tr>\n",
       "      <td>Twitter</td>\n",
       "      <td>166</td>\n",
       "      <td>41859</td>\n",
       "      <td>252.162651</td>\n",
       "    </tr>\n",
       "    <tr>\n",
       "      <td rowspan=\"2\" valign=\"top\">37</td>\n",
       "      <td rowspan=\"2\" valign=\"top\">-</td>\n",
       "      <td>Facebook</td>\n",
       "      <td>216</td>\n",
       "      <td>42278</td>\n",
       "      <td>195.731481</td>\n",
       "    </tr>\n",
       "    <tr>\n",
       "      <td>Twitter</td>\n",
       "      <td>177</td>\n",
       "      <td>142418</td>\n",
       "      <td>804.621469</td>\n",
       "    </tr>\n",
       "    <tr>\n",
       "      <td rowspan=\"2\" valign=\"top\">38</td>\n",
       "      <td rowspan=\"2\" valign=\"top\">-</td>\n",
       "      <td>Facebook</td>\n",
       "      <td>245</td>\n",
       "      <td>58728</td>\n",
       "      <td>239.706122</td>\n",
       "    </tr>\n",
       "    <tr>\n",
       "      <td>Twitter</td>\n",
       "      <td>175</td>\n",
       "      <td>93796</td>\n",
       "      <td>535.977143</td>\n",
       "    </tr>\n",
       "    <tr>\n",
       "      <td rowspan=\"2\" valign=\"top\">39</td>\n",
       "      <td rowspan=\"2\" valign=\"top\">-</td>\n",
       "      <td>Facebook</td>\n",
       "      <td>229</td>\n",
       "      <td>58367</td>\n",
       "      <td>254.877729</td>\n",
       "    </tr>\n",
       "    <tr>\n",
       "      <td>Twitter</td>\n",
       "      <td>199</td>\n",
       "      <td>130123</td>\n",
       "      <td>653.884422</td>\n",
       "    </tr>\n",
       "  </tbody>\n",
       "</table>\n",
       "</div>"
      ],
      "text/plain": [
       "                                    interactionCount                     \n",
       "                                               count     sum         mean\n",
       "topic topic_interpretation source                                        \n",
       "0     -                    Facebook              301  105855   351.677741\n",
       "                           Twitter               575   74694   129.902609\n",
       "1     Wahlwerbung & Dank   Facebook             1403  824235   587.480399\n",
       "                           Twitter               907   54967    60.603087\n",
       "2     Linke Themen         Facebook              263   61623   234.307985\n",
       "                           Twitter               258   80505   312.034884\n",
       "3     -                    Facebook              242   50335   207.995868\n",
       "                           Twitter               210   11729    55.852381\n",
       "4     -                    Facebook              181   42462   234.596685\n",
       "                           Twitter               144   37284   258.916667\n",
       "5     FPÖ                  Facebook              324   99072   305.777778\n",
       "                           Twitter               240   31867   132.779167\n",
       "6     Wandel (Partei)      Facebook              226   41681   184.429204\n",
       "                           Twitter               146   45843   313.993151\n",
       "7     Anti-Rechts          Facebook              617  191025   309.602917\n",
       "                           Twitter               602   30771    51.114618\n",
       "8     -                    Facebook              234   64165   274.209402\n",
       "                           Twitter               183   69635   380.519126\n",
       "9     Extrem Links         Facebook              315   50675   160.873016\n",
       "                           Twitter               274   78018   284.737226\n",
       "10    Liberal              Facebook              217   47967   221.046083\n",
       "                           Twitter               214   15419    72.051402\n",
       "11    -                    Facebook              250   53497   213.988000\n",
       "                           Twitter               226   62056   274.584071\n",
       "12    ÖVP Themen           Facebook              247   47753   193.331984\n",
       "                           Twitter               201  152021   756.323383\n",
       "13    Mobilisierung Wien   Facebook              178   38099   214.039326\n",
       "                           Twitter               155   17644   113.832258\n",
       "14    ORF Wahldebatte      Facebook              209   76634   366.669856\n",
       "                           Twitter               175   11440    65.371429\n",
       "15    Mobilisierung Länder Facebook              242   60577   250.318182\n",
       "                           Twitter               194   17726    91.371134\n",
       "16    -                    Facebook              529  136111   257.298677\n",
       "                           Twitter              1007   32908    32.679245\n",
       "17    Puls4 Wahldebatte    Facebook              387  108018   279.116279\n",
       "                           Twitter               272   13018    47.860294\n",
       "18    Emotionen            Facebook              215   52106   242.353488\n",
       "                           Twitter               202   40043   198.232673\n",
       "19    Außenpolitik         Facebook              214   52967   247.509346\n",
       "                           Twitter               213   24753   116.211268\n",
       "20    Wahlprognose         Facebook              209   31662   151.492823\n",
       "                           Twitter               271  172438   636.302583\n",
       "21    Umwelt               Facebook              219   49558   226.292237\n",
       "                           Twitter               203   82256   405.201970\n",
       "22    -                    Facebook              300   73039   243.463333\n",
       "                           Twitter               338   22171    65.594675\n",
       "23    -                    Facebook              312   64745   207.516026\n",
       "                           Twitter               233   12194    52.334764\n",
       "24    -                    Facebook              184   41925   227.853261\n",
       "                           Twitter               174  214287  1231.534483\n",
       "25    Polarisierung        Facebook              299   75002   250.842809\n",
       "                           Twitter               278   18079    65.032374\n",
       "26    Strache              Facebook              219   52365   239.109589\n",
       "                           Twitter               175   13996    79.977143\n",
       "27    -                    Facebook              250   80238   320.952000\n",
       "                           Twitter               240   26500   110.416667\n",
       "28    Diskurs in Englisch  Facebook              241   50193   208.269710\n",
       "                           Twitter               273  390006  1428.593407\n",
       "29    Neos                 Facebook              224   45206   201.812500\n",
       "                           Twitter               195   23334   119.661538\n",
       "30    -                    Facebook              196   43502   221.948980\n",
       "                           Twitter               168   14865    88.482143\n",
       "31    -                    Facebook              219   49808   227.433790\n",
       "                           Twitter               195   13627    69.882051\n",
       "32    -                    Facebook              404  134627   333.235149\n",
       "                           Twitter               248   21618    87.169355\n",
       "33    -                    Facebook              210   51298   244.276190\n",
       "                           Twitter               185   16838    91.016216\n",
       "34    -                    Facebook              318   82402   259.125786\n",
       "                           Twitter               227   57379   252.770925\n",
       "35    Greta Thunberg       Facebook              301   80163   266.322259\n",
       "                           Twitter               199   36399   182.909548\n",
       "36    -                    Facebook              228   58829   258.021930\n",
       "                           Twitter               166   41859   252.162651\n",
       "37    -                    Facebook              216   42278   195.731481\n",
       "                           Twitter               177  142418   804.621469\n",
       "38    -                    Facebook              245   58728   239.706122\n",
       "                           Twitter               175   93796   535.977143\n",
       "39    -                    Facebook              229   58367   254.877729\n",
       "                           Twitter               199  130123   653.884422"
      ]
     },
     "execution_count": 13,
     "metadata": {},
     "output_type": "execute_result"
    }
   ],
   "source": [
    "grouped = data.groupby([\"topic\", \"topic_interpretation\", \"source\"]).agg({\"interactionCount\": [\"count\", \"sum\", \"mean\"]})\n",
    "pd.set_option(\"display.max_rows\", None)\n",
    "grouped"
   ]
  },
  {
   "cell_type": "code",
   "execution_count": 14,
   "metadata": {},
   "outputs": [
    {
     "data": {
      "application/vnd.vegalite.v3+json": {
       "$schema": "https://vega.github.io/schema/vega-lite/v3.4.0.json",
       "config": {
        "mark": {
         "tooltip": null
        },
        "view": {
         "height": 300,
         "width": 400
        }
       },
       "data": {
        "name": "data-3cb0e7d92bc7953f0439e2113ead6635"
       },
       "datasets": {
        "data-3cb0e7d92bc7953f0439e2113ead6635": [
         {
          "Source": "Facebook",
          "Topic": "-",
          "count": 301,
          "mean": 351.6777408637874,
          "source": "Facebook",
          "sum": 105855,
          "topic": 0,
          "topic_interpretation": "-"
         },
         {
          "Source": "Twitter",
          "Topic": "-",
          "count": 575,
          "mean": 129.90260869565216,
          "source": "Twitter",
          "sum": 74694,
          "topic": 0,
          "topic_interpretation": "-"
         },
         {
          "Source": "Facebook",
          "Topic": "Wahlwerbung & Dank",
          "count": 1403,
          "mean": 587.48039914469,
          "source": "Facebook",
          "sum": 824235,
          "topic": 1,
          "topic_interpretation": "Wahlwerbung & Dank"
         },
         {
          "Source": "Twitter",
          "Topic": "Wahlwerbung & Dank",
          "count": 907,
          "mean": 60.60308710033076,
          "source": "Twitter",
          "sum": 54967,
          "topic": 1,
          "topic_interpretation": "Wahlwerbung & Dank"
         },
         {
          "Source": "Facebook",
          "Topic": "Linke Themen",
          "count": 263,
          "mean": 234.3079847908745,
          "source": "Facebook",
          "sum": 61623,
          "topic": 2,
          "topic_interpretation": "Linke Themen"
         },
         {
          "Source": "Twitter",
          "Topic": "Linke Themen",
          "count": 258,
          "mean": 312.0348837209302,
          "source": "Twitter",
          "sum": 80505,
          "topic": 2,
          "topic_interpretation": "Linke Themen"
         },
         {
          "Source": "Facebook",
          "Topic": "-",
          "count": 242,
          "mean": 207.99586776859505,
          "source": "Facebook",
          "sum": 50335,
          "topic": 3,
          "topic_interpretation": "-"
         },
         {
          "Source": "Twitter",
          "Topic": "-",
          "count": 210,
          "mean": 55.852380952380955,
          "source": "Twitter",
          "sum": 11729,
          "topic": 3,
          "topic_interpretation": "-"
         },
         {
          "Source": "Facebook",
          "Topic": "-",
          "count": 181,
          "mean": 234.59668508287294,
          "source": "Facebook",
          "sum": 42462,
          "topic": 4,
          "topic_interpretation": "-"
         },
         {
          "Source": "Twitter",
          "Topic": "-",
          "count": 144,
          "mean": 258.9166666666667,
          "source": "Twitter",
          "sum": 37284,
          "topic": 4,
          "topic_interpretation": "-"
         },
         {
          "Source": "Facebook",
          "Topic": "FPÖ",
          "count": 324,
          "mean": 305.77777777777777,
          "source": "Facebook",
          "sum": 99072,
          "topic": 5,
          "topic_interpretation": "FPÖ"
         },
         {
          "Source": "Twitter",
          "Topic": "FPÖ",
          "count": 240,
          "mean": 132.77916666666667,
          "source": "Twitter",
          "sum": 31867,
          "topic": 5,
          "topic_interpretation": "FPÖ"
         },
         {
          "Source": "Facebook",
          "Topic": "Wandel (Partei)",
          "count": 226,
          "mean": 184.42920353982302,
          "source": "Facebook",
          "sum": 41681,
          "topic": 6,
          "topic_interpretation": "Wandel (Partei)"
         },
         {
          "Source": "Twitter",
          "Topic": "Wandel (Partei)",
          "count": 146,
          "mean": 313.9931506849315,
          "source": "Twitter",
          "sum": 45843,
          "topic": 6,
          "topic_interpretation": "Wandel (Partei)"
         },
         {
          "Source": "Facebook",
          "Topic": "Anti-Rechts",
          "count": 617,
          "mean": 309.60291734197733,
          "source": "Facebook",
          "sum": 191025,
          "topic": 7,
          "topic_interpretation": "Anti-Rechts"
         },
         {
          "Source": "Twitter",
          "Topic": "Anti-Rechts",
          "count": 602,
          "mean": 51.11461794019934,
          "source": "Twitter",
          "sum": 30771,
          "topic": 7,
          "topic_interpretation": "Anti-Rechts"
         },
         {
          "Source": "Facebook",
          "Topic": "-",
          "count": 234,
          "mean": 274.20940170940173,
          "source": "Facebook",
          "sum": 64165,
          "topic": 8,
          "topic_interpretation": "-"
         },
         {
          "Source": "Twitter",
          "Topic": "-",
          "count": 183,
          "mean": 380.5191256830601,
          "source": "Twitter",
          "sum": 69635,
          "topic": 8,
          "topic_interpretation": "-"
         },
         {
          "Source": "Facebook",
          "Topic": "Extrem Links",
          "count": 315,
          "mean": 160.87301587301587,
          "source": "Facebook",
          "sum": 50675,
          "topic": 9,
          "topic_interpretation": "Extrem Links"
         },
         {
          "Source": "Twitter",
          "Topic": "Extrem Links",
          "count": 274,
          "mean": 284.73722627737226,
          "source": "Twitter",
          "sum": 78018,
          "topic": 9,
          "topic_interpretation": "Extrem Links"
         },
         {
          "Source": "Facebook",
          "Topic": "Liberal",
          "count": 217,
          "mean": 221.04608294930875,
          "source": "Facebook",
          "sum": 47967,
          "topic": 10,
          "topic_interpretation": "Liberal"
         },
         {
          "Source": "Twitter",
          "Topic": "Liberal",
          "count": 214,
          "mean": 72.05140186915888,
          "source": "Twitter",
          "sum": 15419,
          "topic": 10,
          "topic_interpretation": "Liberal"
         },
         {
          "Source": "Facebook",
          "Topic": "-",
          "count": 250,
          "mean": 213.988,
          "source": "Facebook",
          "sum": 53497,
          "topic": 11,
          "topic_interpretation": "-"
         },
         {
          "Source": "Twitter",
          "Topic": "-",
          "count": 226,
          "mean": 274.5840707964602,
          "source": "Twitter",
          "sum": 62056,
          "topic": 11,
          "topic_interpretation": "-"
         },
         {
          "Source": "Facebook",
          "Topic": "ÖVP Themen",
          "count": 247,
          "mean": 193.33198380566802,
          "source": "Facebook",
          "sum": 47753,
          "topic": 12,
          "topic_interpretation": "ÖVP Themen"
         },
         {
          "Source": "Twitter",
          "Topic": "ÖVP Themen",
          "count": 201,
          "mean": 756.3233830845771,
          "source": "Twitter",
          "sum": 152021,
          "topic": 12,
          "topic_interpretation": "ÖVP Themen"
         },
         {
          "Source": "Facebook",
          "Topic": "Mobilisierung Wien",
          "count": 178,
          "mean": 214.03932584269663,
          "source": "Facebook",
          "sum": 38099,
          "topic": 13,
          "topic_interpretation": "Mobilisierung Wien"
         },
         {
          "Source": "Twitter",
          "Topic": "Mobilisierung Wien",
          "count": 155,
          "mean": 113.83225806451613,
          "source": "Twitter",
          "sum": 17644,
          "topic": 13,
          "topic_interpretation": "Mobilisierung Wien"
         },
         {
          "Source": "Facebook",
          "Topic": "ORF Wahldebatte",
          "count": 209,
          "mean": 366.66985645933016,
          "source": "Facebook",
          "sum": 76634,
          "topic": 14,
          "topic_interpretation": "ORF Wahldebatte"
         },
         {
          "Source": "Twitter",
          "Topic": "ORF Wahldebatte",
          "count": 175,
          "mean": 65.37142857142857,
          "source": "Twitter",
          "sum": 11440,
          "topic": 14,
          "topic_interpretation": "ORF Wahldebatte"
         },
         {
          "Source": "Facebook",
          "Topic": "Mobilisierung Länder",
          "count": 242,
          "mean": 250.3181818181818,
          "source": "Facebook",
          "sum": 60577,
          "topic": 15,
          "topic_interpretation": "Mobilisierung Länder"
         },
         {
          "Source": "Twitter",
          "Topic": "Mobilisierung Länder",
          "count": 194,
          "mean": 91.37113402061856,
          "source": "Twitter",
          "sum": 17726,
          "topic": 15,
          "topic_interpretation": "Mobilisierung Länder"
         },
         {
          "Source": "Facebook",
          "Topic": "-",
          "count": 529,
          "mean": 257.29867674858224,
          "source": "Facebook",
          "sum": 136111,
          "topic": 16,
          "topic_interpretation": "-"
         },
         {
          "Source": "Twitter",
          "Topic": "-",
          "count": 1007,
          "mean": 32.679245283018865,
          "source": "Twitter",
          "sum": 32908,
          "topic": 16,
          "topic_interpretation": "-"
         },
         {
          "Source": "Facebook",
          "Topic": "Puls4 Wahldebatte",
          "count": 387,
          "mean": 279.1162790697674,
          "source": "Facebook",
          "sum": 108018,
          "topic": 17,
          "topic_interpretation": "Puls4 Wahldebatte"
         },
         {
          "Source": "Twitter",
          "Topic": "Puls4 Wahldebatte",
          "count": 272,
          "mean": 47.86029411764706,
          "source": "Twitter",
          "sum": 13018,
          "topic": 17,
          "topic_interpretation": "Puls4 Wahldebatte"
         },
         {
          "Source": "Facebook",
          "Topic": "Emotionen",
          "count": 215,
          "mean": 242.353488372093,
          "source": "Facebook",
          "sum": 52106,
          "topic": 18,
          "topic_interpretation": "Emotionen"
         },
         {
          "Source": "Twitter",
          "Topic": "Emotionen",
          "count": 202,
          "mean": 198.23267326732673,
          "source": "Twitter",
          "sum": 40043,
          "topic": 18,
          "topic_interpretation": "Emotionen"
         },
         {
          "Source": "Facebook",
          "Topic": "Außenpolitik",
          "count": 214,
          "mean": 247.50934579439252,
          "source": "Facebook",
          "sum": 52967,
          "topic": 19,
          "topic_interpretation": "Außenpolitik"
         },
         {
          "Source": "Twitter",
          "Topic": "Außenpolitik",
          "count": 213,
          "mean": 116.21126760563381,
          "source": "Twitter",
          "sum": 24753,
          "topic": 19,
          "topic_interpretation": "Außenpolitik"
         },
         {
          "Source": "Facebook",
          "Topic": "Wahlprognose",
          "count": 209,
          "mean": 151.4928229665072,
          "source": "Facebook",
          "sum": 31662,
          "topic": 20,
          "topic_interpretation": "Wahlprognose"
         },
         {
          "Source": "Twitter",
          "Topic": "Wahlprognose",
          "count": 271,
          "mean": 636.3025830258302,
          "source": "Twitter",
          "sum": 172438,
          "topic": 20,
          "topic_interpretation": "Wahlprognose"
         },
         {
          "Source": "Facebook",
          "Topic": "Umwelt",
          "count": 219,
          "mean": 226.29223744292239,
          "source": "Facebook",
          "sum": 49558,
          "topic": 21,
          "topic_interpretation": "Umwelt"
         },
         {
          "Source": "Twitter",
          "Topic": "Umwelt",
          "count": 203,
          "mean": 405.20197044334975,
          "source": "Twitter",
          "sum": 82256,
          "topic": 21,
          "topic_interpretation": "Umwelt"
         },
         {
          "Source": "Facebook",
          "Topic": "-",
          "count": 300,
          "mean": 243.46333333333334,
          "source": "Facebook",
          "sum": 73039,
          "topic": 22,
          "topic_interpretation": "-"
         },
         {
          "Source": "Twitter",
          "Topic": "-",
          "count": 338,
          "mean": 65.59467455621302,
          "source": "Twitter",
          "sum": 22171,
          "topic": 22,
          "topic_interpretation": "-"
         },
         {
          "Source": "Facebook",
          "Topic": "-",
          "count": 312,
          "mean": 207.51602564102564,
          "source": "Facebook",
          "sum": 64745,
          "topic": 23,
          "topic_interpretation": "-"
         },
         {
          "Source": "Twitter",
          "Topic": "-",
          "count": 233,
          "mean": 52.33476394849785,
          "source": "Twitter",
          "sum": 12194,
          "topic": 23,
          "topic_interpretation": "-"
         },
         {
          "Source": "Facebook",
          "Topic": "-",
          "count": 184,
          "mean": 227.85326086956522,
          "source": "Facebook",
          "sum": 41925,
          "topic": 24,
          "topic_interpretation": "-"
         },
         {
          "Source": "Twitter",
          "Topic": "-",
          "count": 174,
          "mean": 1231.5344827586207,
          "source": "Twitter",
          "sum": 214287,
          "topic": 24,
          "topic_interpretation": "-"
         },
         {
          "Source": "Facebook",
          "Topic": "Polarisierung",
          "count": 299,
          "mean": 250.8428093645485,
          "source": "Facebook",
          "sum": 75002,
          "topic": 25,
          "topic_interpretation": "Polarisierung"
         },
         {
          "Source": "Twitter",
          "Topic": "Polarisierung",
          "count": 278,
          "mean": 65.03237410071942,
          "source": "Twitter",
          "sum": 18079,
          "topic": 25,
          "topic_interpretation": "Polarisierung"
         },
         {
          "Source": "Facebook",
          "Topic": "Strache",
          "count": 219,
          "mean": 239.1095890410959,
          "source": "Facebook",
          "sum": 52365,
          "topic": 26,
          "topic_interpretation": "Strache"
         },
         {
          "Source": "Twitter",
          "Topic": "Strache",
          "count": 175,
          "mean": 79.97714285714285,
          "source": "Twitter",
          "sum": 13996,
          "topic": 26,
          "topic_interpretation": "Strache"
         },
         {
          "Source": "Facebook",
          "Topic": "-",
          "count": 250,
          "mean": 320.952,
          "source": "Facebook",
          "sum": 80238,
          "topic": 27,
          "topic_interpretation": "-"
         },
         {
          "Source": "Twitter",
          "Topic": "-",
          "count": 240,
          "mean": 110.41666666666667,
          "source": "Twitter",
          "sum": 26500,
          "topic": 27,
          "topic_interpretation": "-"
         },
         {
          "Source": "Facebook",
          "Topic": "Diskurs in Englisch",
          "count": 241,
          "mean": 208.26970954356847,
          "source": "Facebook",
          "sum": 50193,
          "topic": 28,
          "topic_interpretation": "Diskurs in Englisch"
         },
         {
          "Source": "Twitter",
          "Topic": "Diskurs in Englisch",
          "count": 273,
          "mean": 1428.5934065934066,
          "source": "Twitter",
          "sum": 390006,
          "topic": 28,
          "topic_interpretation": "Diskurs in Englisch"
         },
         {
          "Source": "Facebook",
          "Topic": "Neos",
          "count": 224,
          "mean": 201.8125,
          "source": "Facebook",
          "sum": 45206,
          "topic": 29,
          "topic_interpretation": "Neos"
         },
         {
          "Source": "Twitter",
          "Topic": "Neos",
          "count": 195,
          "mean": 119.66153846153846,
          "source": "Twitter",
          "sum": 23334,
          "topic": 29,
          "topic_interpretation": "Neos"
         },
         {
          "Source": "Facebook",
          "Topic": "-",
          "count": 196,
          "mean": 221.94897959183675,
          "source": "Facebook",
          "sum": 43502,
          "topic": 30,
          "topic_interpretation": "-"
         },
         {
          "Source": "Twitter",
          "Topic": "-",
          "count": 168,
          "mean": 88.48214285714286,
          "source": "Twitter",
          "sum": 14865,
          "topic": 30,
          "topic_interpretation": "-"
         },
         {
          "Source": "Facebook",
          "Topic": "-",
          "count": 219,
          "mean": 227.4337899543379,
          "source": "Facebook",
          "sum": 49808,
          "topic": 31,
          "topic_interpretation": "-"
         },
         {
          "Source": "Twitter",
          "Topic": "-",
          "count": 195,
          "mean": 69.88205128205128,
          "source": "Twitter",
          "sum": 13627,
          "topic": 31,
          "topic_interpretation": "-"
         },
         {
          "Source": "Facebook",
          "Topic": "-",
          "count": 404,
          "mean": 333.23514851485146,
          "source": "Facebook",
          "sum": 134627,
          "topic": 32,
          "topic_interpretation": "-"
         },
         {
          "Source": "Twitter",
          "Topic": "-",
          "count": 248,
          "mean": 87.16935483870968,
          "source": "Twitter",
          "sum": 21618,
          "topic": 32,
          "topic_interpretation": "-"
         },
         {
          "Source": "Facebook",
          "Topic": "-",
          "count": 210,
          "mean": 244.27619047619046,
          "source": "Facebook",
          "sum": 51298,
          "topic": 33,
          "topic_interpretation": "-"
         },
         {
          "Source": "Twitter",
          "Topic": "-",
          "count": 185,
          "mean": 91.01621621621622,
          "source": "Twitter",
          "sum": 16838,
          "topic": 33,
          "topic_interpretation": "-"
         },
         {
          "Source": "Facebook",
          "Topic": "-",
          "count": 318,
          "mean": 259.12578616352204,
          "source": "Facebook",
          "sum": 82402,
          "topic": 34,
          "topic_interpretation": "-"
         },
         {
          "Source": "Twitter",
          "Topic": "-",
          "count": 227,
          "mean": 252.77092511013217,
          "source": "Twitter",
          "sum": 57379,
          "topic": 34,
          "topic_interpretation": "-"
         },
         {
          "Source": "Facebook",
          "Topic": "Greta Thunberg",
          "count": 301,
          "mean": 266.3222591362126,
          "source": "Facebook",
          "sum": 80163,
          "topic": 35,
          "topic_interpretation": "Greta Thunberg"
         },
         {
          "Source": "Twitter",
          "Topic": "Greta Thunberg",
          "count": 199,
          "mean": 182.90954773869348,
          "source": "Twitter",
          "sum": 36399,
          "topic": 35,
          "topic_interpretation": "Greta Thunberg"
         },
         {
          "Source": "Facebook",
          "Topic": "-",
          "count": 228,
          "mean": 258.0219298245614,
          "source": "Facebook",
          "sum": 58829,
          "topic": 36,
          "topic_interpretation": "-"
         },
         {
          "Source": "Twitter",
          "Topic": "-",
          "count": 166,
          "mean": 252.16265060240963,
          "source": "Twitter",
          "sum": 41859,
          "topic": 36,
          "topic_interpretation": "-"
         },
         {
          "Source": "Facebook",
          "Topic": "-",
          "count": 216,
          "mean": 195.7314814814815,
          "source": "Facebook",
          "sum": 42278,
          "topic": 37,
          "topic_interpretation": "-"
         },
         {
          "Source": "Twitter",
          "Topic": "-",
          "count": 177,
          "mean": 804.6214689265537,
          "source": "Twitter",
          "sum": 142418,
          "topic": 37,
          "topic_interpretation": "-"
         },
         {
          "Source": "Facebook",
          "Topic": "-",
          "count": 245,
          "mean": 239.70612244897958,
          "source": "Facebook",
          "sum": 58728,
          "topic": 38,
          "topic_interpretation": "-"
         },
         {
          "Source": "Twitter",
          "Topic": "-",
          "count": 175,
          "mean": 535.9771428571429,
          "source": "Twitter",
          "sum": 93796,
          "topic": 38,
          "topic_interpretation": "-"
         },
         {
          "Source": "Facebook",
          "Topic": "-",
          "count": 229,
          "mean": 254.87772925764193,
          "source": "Facebook",
          "sum": 58367,
          "topic": 39,
          "topic_interpretation": "-"
         },
         {
          "Source": "Twitter",
          "Topic": "-",
          "count": 199,
          "mean": 653.8844221105528,
          "source": "Twitter",
          "sum": 130123,
          "topic": 39,
          "topic_interpretation": "-"
         }
        ]
       },
       "encoding": {
        "color": {
         "field": "Source",
         "legend": null,
         "type": "nominal"
        },
        "column": {
         "field": "topic",
         "title": "Topic",
         "type": "ordinal"
        },
        "opacity": {
         "value": 0.75
        },
        "tooltip": [
         {
          "field": "Topic",
          "type": "nominal"
         }
        ],
        "x": {
         "field": "Source",
         "type": "nominal"
        },
        "y": {
         "aggregate": "sum",
         "field": "sum",
         "scale": {
          "base": 10,
          "type": "log"
         },
         "title": "Interactions (log)",
         "type": "quantitative"
        }
       },
       "mark": "bar",
       "title": "Interactions per Source and Topic",
       "width": 20
      },
      "image/png": "[encoded data removed]",
      "text/plain": [
       "<VegaLite 3 object>\n",
       "\n",
       "If you see this message, it means the renderer has not been properly enabled\n",
       "for the frontend that you are using. For more information, see\n",
       "https://altair-viz.github.io/user_guide/troubleshooting.html\n"
      ]
     },
     "execution_count": 14,
     "metadata": {},
     "output_type": "execute_result"
    }
   ],
   "source": [
    "p_data = grouped.copy()\n",
    "p_data[\"source\"] = p_data.index.get_level_values(\"source\")\n",
    "p_data.columns = [\"count\", \"sum\", \"mean\", \"Source\"]\n",
    "p_data.reset_index(inplace=True)\n",
    "p_data[\"Topic\"] = p_data.topic_interpretation\n",
    "\n",
    "chart = alt.Chart(p_data, title=\"Interactions per Source and Topic\").mark_bar().encode(\n",
    "    alt.X(\"Source:N\"),\n",
    "    alt.Y(\"sum(sum):Q\", \n",
    "          scale=alt.Scale(type=\"log\", base=10),\n",
    "          title=\"Interactions (log)\"),\n",
    "    column=alt.Column(\"topic:O\", title=\"Topic\"),\n",
    "    color=alt.Color(\"Source\", legend=None),\n",
    "    opacity=alt.value(0.75),\n",
    "    tooltip=[\"Topic\"]\n",
    ").properties(\n",
    "    width=20\n",
    ")\n",
    "\n",
    "chart.save(os.path.join(figures_path, \"topics\", \"interactions_per_source_layered.html\"))\n",
    "chart"
   ]
  },
  {
   "cell_type": "code",
   "execution_count": 15,
   "metadata": {},
   "outputs": [
    {
     "data": {
      "application/vnd.vegalite.v3+json": {
       "$schema": "https://vega.github.io/schema/vega-lite/v3.4.0.json",
       "config": {
        "mark": {
         "tooltip": null
        },
        "view": {
         "height": 300,
         "width": 400
        }
       },
       "data": {
        "name": "data-a7311a3e5522ed939a4fc54a4cda1f9f"
       },
       "datasets": {
        "data-a7311a3e5522ed939a4fc54a4cda1f9f": [
         {
          "Source": "Facebook",
          "Topic": "-",
          "count": 301,
          "mean": 351.68,
          "order": 0,
          "source": "Facebook",
          "sum": 105855,
          "topic": 0,
          "topic_interpretation": "-"
         },
         {
          "Source": "Twitter",
          "Topic": "-",
          "count": 575,
          "mean": 129.9,
          "order": 1,
          "source": "Twitter",
          "sum": 74694,
          "topic": 0,
          "topic_interpretation": "-"
         },
         {
          "Source": "Facebook",
          "Topic": "Wahlwerbung & Dank",
          "count": 1403,
          "mean": 587.48,
          "order": 0,
          "source": "Facebook",
          "sum": 824235,
          "topic": 1,
          "topic_interpretation": "Wahlwerbung & Dank"
         },
         {
          "Source": "Twitter",
          "Topic": "Wahlwerbung & Dank",
          "count": 907,
          "mean": 60.6,
          "order": 1,
          "source": "Twitter",
          "sum": 54967,
          "topic": 1,
          "topic_interpretation": "Wahlwerbung & Dank"
         },
         {
          "Source": "Facebook",
          "Topic": "Linke Themen",
          "count": 263,
          "mean": 234.31,
          "order": 0,
          "source": "Facebook",
          "sum": 61623,
          "topic": 2,
          "topic_interpretation": "Linke Themen"
         },
         {
          "Source": "Twitter",
          "Topic": "Linke Themen",
          "count": 258,
          "mean": 312.03,
          "order": 1,
          "source": "Twitter",
          "sum": 80505,
          "topic": 2,
          "topic_interpretation": "Linke Themen"
         },
         {
          "Source": "Facebook",
          "Topic": "-",
          "count": 242,
          "mean": 208,
          "order": 0,
          "source": "Facebook",
          "sum": 50335,
          "topic": 3,
          "topic_interpretation": "-"
         },
         {
          "Source": "Twitter",
          "Topic": "-",
          "count": 210,
          "mean": 55.85,
          "order": 1,
          "source": "Twitter",
          "sum": 11729,
          "topic": 3,
          "topic_interpretation": "-"
         },
         {
          "Source": "Facebook",
          "Topic": "-",
          "count": 181,
          "mean": 234.6,
          "order": 0,
          "source": "Facebook",
          "sum": 42462,
          "topic": 4,
          "topic_interpretation": "-"
         },
         {
          "Source": "Twitter",
          "Topic": "-",
          "count": 144,
          "mean": 258.92,
          "order": 1,
          "source": "Twitter",
          "sum": 37284,
          "topic": 4,
          "topic_interpretation": "-"
         },
         {
          "Source": "Facebook",
          "Topic": "FPÖ",
          "count": 324,
          "mean": 305.78,
          "order": 0,
          "source": "Facebook",
          "sum": 99072,
          "topic": 5,
          "topic_interpretation": "FPÖ"
         },
         {
          "Source": "Twitter",
          "Topic": "FPÖ",
          "count": 240,
          "mean": 132.78,
          "order": 1,
          "source": "Twitter",
          "sum": 31867,
          "topic": 5,
          "topic_interpretation": "FPÖ"
         },
         {
          "Source": "Facebook",
          "Topic": "Wandel (Partei)",
          "count": 226,
          "mean": 184.43,
          "order": 0,
          "source": "Facebook",
          "sum": 41681,
          "topic": 6,
          "topic_interpretation": "Wandel (Partei)"
         },
         {
          "Source": "Twitter",
          "Topic": "Wandel (Partei)",
          "count": 146,
          "mean": 313.99,
          "order": 1,
          "source": "Twitter",
          "sum": 45843,
          "topic": 6,
          "topic_interpretation": "Wandel (Partei)"
         },
         {
          "Source": "Facebook",
          "Topic": "Anti-Rechts",
          "count": 617,
          "mean": 309.6,
          "order": 0,
          "source": "Facebook",
          "sum": 191025,
          "topic": 7,
          "topic_interpretation": "Anti-Rechts"
         },
         {
          "Source": "Twitter",
          "Topic": "Anti-Rechts",
          "count": 602,
          "mean": 51.11,
          "order": 1,
          "source": "Twitter",
          "sum": 30771,
          "topic": 7,
          "topic_interpretation": "Anti-Rechts"
         },
         {
          "Source": "Facebook",
          "Topic": "-",
          "count": 234,
          "mean": 274.21,
          "order": 0,
          "source": "Facebook",
          "sum": 64165,
          "topic": 8,
          "topic_interpretation": "-"
         },
         {
          "Source": "Twitter",
          "Topic": "-",
          "count": 183,
          "mean": 380.52,
          "order": 1,
          "source": "Twitter",
          "sum": 69635,
          "topic": 8,
          "topic_interpretation": "-"
         },
         {
          "Source": "Facebook",
          "Topic": "Extrem Links",
          "count": 315,
          "mean": 160.87,
          "order": 0,
          "source": "Facebook",
          "sum": 50675,
          "topic": 9,
          "topic_interpretation": "Extrem Links"
         },
         {
          "Source": "Twitter",
          "Topic": "Extrem Links",
          "count": 274,
          "mean": 284.74,
          "order": 1,
          "source": "Twitter",
          "sum": 78018,
          "topic": 9,
          "topic_interpretation": "Extrem Links"
         },
         {
          "Source": "Facebook",
          "Topic": "Liberal",
          "count": 217,
          "mean": 221.05,
          "order": 0,
          "source": "Facebook",
          "sum": 47967,
          "topic": 10,
          "topic_interpretation": "Liberal"
         },
         {
          "Source": "Twitter",
          "Topic": "Liberal",
          "count": 214,
          "mean": 72.05,
          "order": 1,
          "source": "Twitter",
          "sum": 15419,
          "topic": 10,
          "topic_interpretation": "Liberal"
         },
         {
          "Source": "Facebook",
          "Topic": "-",
          "count": 250,
          "mean": 213.99,
          "order": 0,
          "source": "Facebook",
          "sum": 53497,
          "topic": 11,
          "topic_interpretation": "-"
         },
         {
          "Source": "Twitter",
          "Topic": "-",
          "count": 226,
          "mean": 274.58,
          "order": 1,
          "source": "Twitter",
          "sum": 62056,
          "topic": 11,
          "topic_interpretation": "-"
         },
         {
          "Source": "Facebook",
          "Topic": "ÖVP Themen",
          "count": 247,
          "mean": 193.33,
          "order": 0,
          "source": "Facebook",
          "sum": 47753,
          "topic": 12,
          "topic_interpretation": "ÖVP Themen"
         },
         {
          "Source": "Twitter",
          "Topic": "ÖVP Themen",
          "count": 201,
          "mean": 756.32,
          "order": 1,
          "source": "Twitter",
          "sum": 152021,
          "topic": 12,
          "topic_interpretation": "ÖVP Themen"
         },
         {
          "Source": "Facebook",
          "Topic": "Mobilisierung Wien",
          "count": 178,
          "mean": 214.04,
          "order": 0,
          "source": "Facebook",
          "sum": 38099,
          "topic": 13,
          "topic_interpretation": "Mobilisierung Wien"
         },
         {
          "Source": "Twitter",
          "Topic": "Mobilisierung Wien",
          "count": 155,
          "mean": 113.83,
          "order": 1,
          "source": "Twitter",
          "sum": 17644,
          "topic": 13,
          "topic_interpretation": "Mobilisierung Wien"
         },
         {
          "Source": "Facebook",
          "Topic": "ORF Wahldebatte",
          "count": 209,
          "mean": 366.67,
          "order": 0,
          "source": "Facebook",
          "sum": 76634,
          "topic": 14,
          "topic_interpretation": "ORF Wahldebatte"
         },
         {
          "Source": "Twitter",
          "Topic": "ORF Wahldebatte",
          "count": 175,
          "mean": 65.37,
          "order": 1,
          "source": "Twitter",
          "sum": 11440,
          "topic": 14,
          "topic_interpretation": "ORF Wahldebatte"
         },
         {
          "Source": "Facebook",
          "Topic": "Mobilisierung Länder",
          "count": 242,
          "mean": 250.32,
          "order": 0,
          "source": "Facebook",
          "sum": 60577,
          "topic": 15,
          "topic_interpretation": "Mobilisierung Länder"
         },
         {
          "Source": "Twitter",
          "Topic": "Mobilisierung Länder",
          "count": 194,
          "mean": 91.37,
          "order": 1,
          "source": "Twitter",
          "sum": 17726,
          "topic": 15,
          "topic_interpretation": "Mobilisierung Länder"
         },
         {
          "Source": "Facebook",
          "Topic": "-",
          "count": 529,
          "mean": 257.3,
          "order": 0,
          "source": "Facebook",
          "sum": 136111,
          "topic": 16,
          "topic_interpretation": "-"
         },
         {
          "Source": "Twitter",
          "Topic": "-",
          "count": 1007,
          "mean": 32.68,
          "order": 1,
          "source": "Twitter",
          "sum": 32908,
          "topic": 16,
          "topic_interpretation": "-"
         },
         {
          "Source": "Facebook",
          "Topic": "Puls4 Wahldebatte",
          "count": 387,
          "mean": 279.12,
          "order": 0,
          "source": "Facebook",
          "sum": 108018,
          "topic": 17,
          "topic_interpretation": "Puls4 Wahldebatte"
         },
         {
          "Source": "Twitter",
          "Topic": "Puls4 Wahldebatte",
          "count": 272,
          "mean": 47.86,
          "order": 1,
          "source": "Twitter",
          "sum": 13018,
          "topic": 17,
          "topic_interpretation": "Puls4 Wahldebatte"
         },
         {
          "Source": "Facebook",
          "Topic": "Emotionen",
          "count": 215,
          "mean": 242.35,
          "order": 0,
          "source": "Facebook",
          "sum": 52106,
          "topic": 18,
          "topic_interpretation": "Emotionen"
         },
         {
          "Source": "Twitter",
          "Topic": "Emotionen",
          "count": 202,
          "mean": 198.23,
          "order": 1,
          "source": "Twitter",
          "sum": 40043,
          "topic": 18,
          "topic_interpretation": "Emotionen"
         },
         {
          "Source": "Facebook",
          "Topic": "Außenpolitik",
          "count": 214,
          "mean": 247.51,
          "order": 0,
          "source": "Facebook",
          "sum": 52967,
          "topic": 19,
          "topic_interpretation": "Außenpolitik"
         },
         {
          "Source": "Twitter",
          "Topic": "Außenpolitik",
          "count": 213,
          "mean": 116.21,
          "order": 1,
          "source": "Twitter",
          "sum": 24753,
          "topic": 19,
          "topic_interpretation": "Außenpolitik"
         },
         {
          "Source": "Facebook",
          "Topic": "Wahlprognose",
          "count": 209,
          "mean": 151.49,
          "order": 0,
          "source": "Facebook",
          "sum": 31662,
          "topic": 20,
          "topic_interpretation": "Wahlprognose"
         },
         {
          "Source": "Twitter",
          "Topic": "Wahlprognose",
          "count": 271,
          "mean": 636.3,
          "order": 1,
          "source": "Twitter",
          "sum": 172438,
          "topic": 20,
          "topic_interpretation": "Wahlprognose"
         },
         {
          "Source": "Facebook",
          "Topic": "Umwelt",
          "count": 219,
          "mean": 226.29,
          "order": 0,
          "source": "Facebook",
          "sum": 49558,
          "topic": 21,
          "topic_interpretation": "Umwelt"
         },
         {
          "Source": "Twitter",
          "Topic": "Umwelt",
          "count": 203,
          "mean": 405.2,
          "order": 1,
          "source": "Twitter",
          "sum": 82256,
          "topic": 21,
          "topic_interpretation": "Umwelt"
         },
         {
          "Source": "Facebook",
          "Topic": "-",
          "count": 300,
          "mean": 243.46,
          "order": 0,
          "source": "Facebook",
          "sum": 73039,
          "topic": 22,
          "topic_interpretation": "-"
         },
         {
          "Source": "Twitter",
          "Topic": "-",
          "count": 338,
          "mean": 65.59,
          "order": 1,
          "source": "Twitter",
          "sum": 22171,
          "topic": 22,
          "topic_interpretation": "-"
         },
         {
          "Source": "Facebook",
          "Topic": "-",
          "count": 312,
          "mean": 207.52,
          "order": 0,
          "source": "Facebook",
          "sum": 64745,
          "topic": 23,
          "topic_interpretation": "-"
         },
         {
          "Source": "Twitter",
          "Topic": "-",
          "count": 233,
          "mean": 52.33,
          "order": 1,
          "source": "Twitter",
          "sum": 12194,
          "topic": 23,
          "topic_interpretation": "-"
         },
         {
          "Source": "Facebook",
          "Topic": "-",
          "count": 184,
          "mean": 227.85,
          "order": 0,
          "source": "Facebook",
          "sum": 41925,
          "topic": 24,
          "topic_interpretation": "-"
         },
         {
          "Source": "Twitter",
          "Topic": "-",
          "count": 174,
          "mean": 1231.53,
          "order": 1,
          "source": "Twitter",
          "sum": 214287,
          "topic": 24,
          "topic_interpretation": "-"
         },
         {
          "Source": "Facebook",
          "Topic": "Polarisierung",
          "count": 299,
          "mean": 250.84,
          "order": 0,
          "source": "Facebook",
          "sum": 75002,
          "topic": 25,
          "topic_interpretation": "Polarisierung"
         },
         {
          "Source": "Twitter",
          "Topic": "Polarisierung",
          "count": 278,
          "mean": 65.03,
          "order": 1,
          "source": "Twitter",
          "sum": 18079,
          "topic": 25,
          "topic_interpretation": "Polarisierung"
         },
         {
          "Source": "Facebook",
          "Topic": "Strache",
          "count": 219,
          "mean": 239.11,
          "order": 0,
          "source": "Facebook",
          "sum": 52365,
          "topic": 26,
          "topic_interpretation": "Strache"
         },
         {
          "Source": "Twitter",
          "Topic": "Strache",
          "count": 175,
          "mean": 79.98,
          "order": 1,
          "source": "Twitter",
          "sum": 13996,
          "topic": 26,
          "topic_interpretation": "Strache"
         },
         {
          "Source": "Facebook",
          "Topic": "-",
          "count": 250,
          "mean": 320.95,
          "order": 0,
          "source": "Facebook",
          "sum": 80238,
          "topic": 27,
          "topic_interpretation": "-"
         },
         {
          "Source": "Twitter",
          "Topic": "-",
          "count": 240,
          "mean": 110.42,
          "order": 1,
          "source": "Twitter",
          "sum": 26500,
          "topic": 27,
          "topic_interpretation": "-"
         },
         {
          "Source": "Facebook",
          "Topic": "Diskurs in Englisch",
          "count": 241,
          "mean": 208.27,
          "order": 0,
          "source": "Facebook",
          "sum": 50193,
          "topic": 28,
          "topic_interpretation": "Diskurs in Englisch"
         },
         {
          "Source": "Twitter",
          "Topic": "Diskurs in Englisch",
          "count": 273,
          "mean": 1428.59,
          "order": 1,
          "source": "Twitter",
          "sum": 390006,
          "topic": 28,
          "topic_interpretation": "Diskurs in Englisch"
         },
         {
          "Source": "Facebook",
          "Topic": "Neos",
          "count": 224,
          "mean": 201.81,
          "order": 0,
          "source": "Facebook",
          "sum": 45206,
          "topic": 29,
          "topic_interpretation": "Neos"
         },
         {
          "Source": "Twitter",
          "Topic": "Neos",
          "count": 195,
          "mean": 119.66,
          "order": 1,
          "source": "Twitter",
          "sum": 23334,
          "topic": 29,
          "topic_interpretation": "Neos"
         },
         {
          "Source": "Facebook",
          "Topic": "-",
          "count": 196,
          "mean": 221.95,
          "order": 0,
          "source": "Facebook",
          "sum": 43502,
          "topic": 30,
          "topic_interpretation": "-"
         },
         {
          "Source": "Twitter",
          "Topic": "-",
          "count": 168,
          "mean": 88.48,
          "order": 1,
          "source": "Twitter",
          "sum": 14865,
          "topic": 30,
          "topic_interpretation": "-"
         },
         {
          "Source": "Facebook",
          "Topic": "-",
          "count": 219,
          "mean": 227.43,
          "order": 0,
          "source": "Facebook",
          "sum": 49808,
          "topic": 31,
          "topic_interpretation": "-"
         },
         {
          "Source": "Twitter",
          "Topic": "-",
          "count": 195,
          "mean": 69.88,
          "order": 1,
          "source": "Twitter",
          "sum": 13627,
          "topic": 31,
          "topic_interpretation": "-"
         },
         {
          "Source": "Facebook",
          "Topic": "-",
          "count": 404,
          "mean": 333.24,
          "order": 0,
          "source": "Facebook",
          "sum": 134627,
          "topic": 32,
          "topic_interpretation": "-"
         },
         {
          "Source": "Twitter",
          "Topic": "-",
          "count": 248,
          "mean": 87.17,
          "order": 1,
          "source": "Twitter",
          "sum": 21618,
          "topic": 32,
          "topic_interpretation": "-"
         },
         {
          "Source": "Facebook",
          "Topic": "-",
          "count": 210,
          "mean": 244.28,
          "order": 0,
          "source": "Facebook",
          "sum": 51298,
          "topic": 33,
          "topic_interpretation": "-"
         },
         {
          "Source": "Twitter",
          "Topic": "-",
          "count": 185,
          "mean": 91.02,
          "order": 1,
          "source": "Twitter",
          "sum": 16838,
          "topic": 33,
          "topic_interpretation": "-"
         },
         {
          "Source": "Facebook",
          "Topic": "-",
          "count": 318,
          "mean": 259.13,
          "order": 0,
          "source": "Facebook",
          "sum": 82402,
          "topic": 34,
          "topic_interpretation": "-"
         },
         {
          "Source": "Twitter",
          "Topic": "-",
          "count": 227,
          "mean": 252.77,
          "order": 1,
          "source": "Twitter",
          "sum": 57379,
          "topic": 34,
          "topic_interpretation": "-"
         },
         {
          "Source": "Facebook",
          "Topic": "Greta Thunberg",
          "count": 301,
          "mean": 266.32,
          "order": 0,
          "source": "Facebook",
          "sum": 80163,
          "topic": 35,
          "topic_interpretation": "Greta Thunberg"
         },
         {
          "Source": "Twitter",
          "Topic": "Greta Thunberg",
          "count": 199,
          "mean": 182.91,
          "order": 1,
          "source": "Twitter",
          "sum": 36399,
          "topic": 35,
          "topic_interpretation": "Greta Thunberg"
         },
         {
          "Source": "Facebook",
          "Topic": "-",
          "count": 228,
          "mean": 258.02,
          "order": 0,
          "source": "Facebook",
          "sum": 58829,
          "topic": 36,
          "topic_interpretation": "-"
         },
         {
          "Source": "Twitter",
          "Topic": "-",
          "count": 166,
          "mean": 252.16,
          "order": 1,
          "source": "Twitter",
          "sum": 41859,
          "topic": 36,
          "topic_interpretation": "-"
         },
         {
          "Source": "Facebook",
          "Topic": "-",
          "count": 216,
          "mean": 195.73,
          "order": 0,
          "source": "Facebook",
          "sum": 42278,
          "topic": 37,
          "topic_interpretation": "-"
         },
         {
          "Source": "Twitter",
          "Topic": "-",
          "count": 177,
          "mean": 804.62,
          "order": 1,
          "source": "Twitter",
          "sum": 142418,
          "topic": 37,
          "topic_interpretation": "-"
         },
         {
          "Source": "Facebook",
          "Topic": "-",
          "count": 245,
          "mean": 239.71,
          "order": 0,
          "source": "Facebook",
          "sum": 58728,
          "topic": 38,
          "topic_interpretation": "-"
         },
         {
          "Source": "Twitter",
          "Topic": "-",
          "count": 175,
          "mean": 535.98,
          "order": 1,
          "source": "Twitter",
          "sum": 93796,
          "topic": 38,
          "topic_interpretation": "-"
         },
         {
          "Source": "Facebook",
          "Topic": "-",
          "count": 229,
          "mean": 254.88,
          "order": 0,
          "source": "Facebook",
          "sum": 58367,
          "topic": 39,
          "topic_interpretation": "-"
         },
         {
          "Source": "Twitter",
          "Topic": "-",
          "count": 199,
          "mean": 653.88,
          "order": 1,
          "source": "Twitter",
          "sum": 130123,
          "topic": 39,
          "topic_interpretation": "-"
         }
        ]
       },
       "encoding": {
        "color": {
         "field": "Source",
         "type": "nominal"
        },
        "opacity": {
         "value": 0.75
        },
        "order": {
         "field": "order",
         "type": "quantitative"
        },
        "tooltip": [
         {
          "field": "Topic",
          "title": "Topic",
          "type": "nominal"
         },
         {
          "field": "source",
          "title": "Source",
          "type": "nominal"
         },
         {
          "field": "count",
          "title": "Posts per source",
          "type": "quantitative"
         },
         {
          "field": "sum",
          "title": "Total interactions per source",
          "type": "quantitative"
         },
         {
          "field": "mean",
          "title": "Mean interactions per source",
          "type": "quantitative"
         }
        ],
        "x": {
         "field": "topic",
         "type": "nominal"
        },
        "y": {
         "aggregate": "sum",
         "field": "sum",
         "title": "Interactions",
         "type": "quantitative"
        }
       },
       "mark": "bar",
       "title": "Interactions per Topic"
      },
      "image/png": "[encoded data removed]",
      "text/plain": [
       "<VegaLite 3 object>\n",
       "\n",
       "If you see this message, it means the renderer has not been properly enabled\n",
       "for the frontend that you are using. For more information, see\n",
       "https://altair-viz.github.io/user_guide/troubleshooting.html\n"
      ]
     },
     "execution_count": 15,
     "metadata": {},
     "output_type": "execute_result"
    }
   ],
   "source": [
    "p_data = grouped.copy().round(2)\n",
    "p_data[\"source\"] = p_data.index.get_level_values(\"source\")\n",
    "p_data.columns = [\"count\", \"sum\", \"mean\", \"Source\"]\n",
    "p_data.reset_index(inplace=True)\n",
    "p_data[\"Topic\"] = p_data.topic_interpretation\n",
    "p_data[\"order\"] = p_data.source.map({\"Facebook\": 0, \"Twitter\": 1})\n",
    "\n",
    "chart = alt.Chart(p_data, title=\"Interactions per Topic\").mark_bar().encode(\n",
    "    alt.X(\"topic:N\"),\n",
    "    alt.Y(\"sum(sum):Q\", \n",
    "          title=\"Interactions\"),\n",
    "    color=alt.Color(\"Source\"),#, legend=None),\n",
    "    order=alt.Order(\"order\"),\n",
    "    opacity=alt.value(0.75),\n",
    "    tooltip=[alt.Tooltip(\"Topic\", title=\"Topic\"),\n",
    "             alt.Tooltip(\"source\", title=\"Source\"),\n",
    "             alt.Tooltip(\"count\", title=\"Posts per source\"),\n",
    "             alt.Tooltip(\"sum\", title=\"Total interactions per source\"),\n",
    "             alt.Tooltip(\"mean\", title=\"Mean interactions per source\")]\n",
    ")\n",
    "\n",
    "chart.save(os.path.join(figures_path, \"topics\", \"interactions_per_source_stacked.html\"))\n",
    "chart"
   ]
  },
  {
   "cell_type": "code",
   "execution_count": 16,
   "metadata": {},
   "outputs": [
    {
     "data": {
      "application/vnd.vegalite.v3+json": {
       "$schema": "https://vega.github.io/schema/vega-lite/v3.4.0.json",
       "config": {
        "mark": {
         "tooltip": null
        },
        "view": {
         "height": 300,
         "width": 400
        }
       },
       "data": {
        "name": "data-3cb0e7d92bc7953f0439e2113ead6635"
       },
       "datasets": {
        "data-3cb0e7d92bc7953f0439e2113ead6635": [
         {
          "Source": "Facebook",
          "Topic": "-",
          "count": 301,
          "mean": 351.6777408637874,
          "source": "Facebook",
          "sum": 105855,
          "topic": 0,
          "topic_interpretation": "-"
         },
         {
          "Source": "Twitter",
          "Topic": "-",
          "count": 575,
          "mean": 129.90260869565216,
          "source": "Twitter",
          "sum": 74694,
          "topic": 0,
          "topic_interpretation": "-"
         },
         {
          "Source": "Facebook",
          "Topic": "Wahlwerbung & Dank",
          "count": 1403,
          "mean": 587.48039914469,
          "source": "Facebook",
          "sum": 824235,
          "topic": 1,
          "topic_interpretation": "Wahlwerbung & Dank"
         },
         {
          "Source": "Twitter",
          "Topic": "Wahlwerbung & Dank",
          "count": 907,
          "mean": 60.60308710033076,
          "source": "Twitter",
          "sum": 54967,
          "topic": 1,
          "topic_interpretation": "Wahlwerbung & Dank"
         },
         {
          "Source": "Facebook",
          "Topic": "Linke Themen",
          "count": 263,
          "mean": 234.3079847908745,
          "source": "Facebook",
          "sum": 61623,
          "topic": 2,
          "topic_interpretation": "Linke Themen"
         },
         {
          "Source": "Twitter",
          "Topic": "Linke Themen",
          "count": 258,
          "mean": 312.0348837209302,
          "source": "Twitter",
          "sum": 80505,
          "topic": 2,
          "topic_interpretation": "Linke Themen"
         },
         {
          "Source": "Facebook",
          "Topic": "-",
          "count": 242,
          "mean": 207.99586776859505,
          "source": "Facebook",
          "sum": 50335,
          "topic": 3,
          "topic_interpretation": "-"
         },
         {
          "Source": "Twitter",
          "Topic": "-",
          "count": 210,
          "mean": 55.852380952380955,
          "source": "Twitter",
          "sum": 11729,
          "topic": 3,
          "topic_interpretation": "-"
         },
         {
          "Source": "Facebook",
          "Topic": "-",
          "count": 181,
          "mean": 234.59668508287294,
          "source": "Facebook",
          "sum": 42462,
          "topic": 4,
          "topic_interpretation": "-"
         },
         {
          "Source": "Twitter",
          "Topic": "-",
          "count": 144,
          "mean": 258.9166666666667,
          "source": "Twitter",
          "sum": 37284,
          "topic": 4,
          "topic_interpretation": "-"
         },
         {
          "Source": "Facebook",
          "Topic": "FPÖ",
          "count": 324,
          "mean": 305.77777777777777,
          "source": "Facebook",
          "sum": 99072,
          "topic": 5,
          "topic_interpretation": "FPÖ"
         },
         {
          "Source": "Twitter",
          "Topic": "FPÖ",
          "count": 240,
          "mean": 132.77916666666667,
          "source": "Twitter",
          "sum": 31867,
          "topic": 5,
          "topic_interpretation": "FPÖ"
         },
         {
          "Source": "Facebook",
          "Topic": "Wandel (Partei)",
          "count": 226,
          "mean": 184.42920353982302,
          "source": "Facebook",
          "sum": 41681,
          "topic": 6,
          "topic_interpretation": "Wandel (Partei)"
         },
         {
          "Source": "Twitter",
          "Topic": "Wandel (Partei)",
          "count": 146,
          "mean": 313.9931506849315,
          "source": "Twitter",
          "sum": 45843,
          "topic": 6,
          "topic_interpretation": "Wandel (Partei)"
         },
         {
          "Source": "Facebook",
          "Topic": "Anti-Rechts",
          "count": 617,
          "mean": 309.60291734197733,
          "source": "Facebook",
          "sum": 191025,
          "topic": 7,
          "topic_interpretation": "Anti-Rechts"
         },
         {
          "Source": "Twitter",
          "Topic": "Anti-Rechts",
          "count": 602,
          "mean": 51.11461794019934,
          "source": "Twitter",
          "sum": 30771,
          "topic": 7,
          "topic_interpretation": "Anti-Rechts"
         },
         {
          "Source": "Facebook",
          "Topic": "-",
          "count": 234,
          "mean": 274.20940170940173,
          "source": "Facebook",
          "sum": 64165,
          "topic": 8,
          "topic_interpretation": "-"
         },
         {
          "Source": "Twitter",
          "Topic": "-",
          "count": 183,
          "mean": 380.5191256830601,
          "source": "Twitter",
          "sum": 69635,
          "topic": 8,
          "topic_interpretation": "-"
         },
         {
          "Source": "Facebook",
          "Topic": "Extrem Links",
          "count": 315,
          "mean": 160.87301587301587,
          "source": "Facebook",
          "sum": 50675,
          "topic": 9,
          "topic_interpretation": "Extrem Links"
         },
         {
          "Source": "Twitter",
          "Topic": "Extrem Links",
          "count": 274,
          "mean": 284.73722627737226,
          "source": "Twitter",
          "sum": 78018,
          "topic": 9,
          "topic_interpretation": "Extrem Links"
         },
         {
          "Source": "Facebook",
          "Topic": "Liberal",
          "count": 217,
          "mean": 221.04608294930875,
          "source": "Facebook",
          "sum": 47967,
          "topic": 10,
          "topic_interpretation": "Liberal"
         },
         {
          "Source": "Twitter",
          "Topic": "Liberal",
          "count": 214,
          "mean": 72.05140186915888,
          "source": "Twitter",
          "sum": 15419,
          "topic": 10,
          "topic_interpretation": "Liberal"
         },
         {
          "Source": "Facebook",
          "Topic": "-",
          "count": 250,
          "mean": 213.988,
          "source": "Facebook",
          "sum": 53497,
          "topic": 11,
          "topic_interpretation": "-"
         },
         {
          "Source": "Twitter",
          "Topic": "-",
          "count": 226,
          "mean": 274.5840707964602,
          "source": "Twitter",
          "sum": 62056,
          "topic": 11,
          "topic_interpretation": "-"
         },
         {
          "Source": "Facebook",
          "Topic": "ÖVP Themen",
          "count": 247,
          "mean": 193.33198380566802,
          "source": "Facebook",
          "sum": 47753,
          "topic": 12,
          "topic_interpretation": "ÖVP Themen"
         },
         {
          "Source": "Twitter",
          "Topic": "ÖVP Themen",
          "count": 201,
          "mean": 756.3233830845771,
          "source": "Twitter",
          "sum": 152021,
          "topic": 12,
          "topic_interpretation": "ÖVP Themen"
         },
         {
          "Source": "Facebook",
          "Topic": "Mobilisierung Wien",
          "count": 178,
          "mean": 214.03932584269663,
          "source": "Facebook",
          "sum": 38099,
          "topic": 13,
          "topic_interpretation": "Mobilisierung Wien"
         },
         {
          "Source": "Twitter",
          "Topic": "Mobilisierung Wien",
          "count": 155,
          "mean": 113.83225806451613,
          "source": "Twitter",
          "sum": 17644,
          "topic": 13,
          "topic_interpretation": "Mobilisierung Wien"
         },
         {
          "Source": "Facebook",
          "Topic": "ORF Wahldebatte",
          "count": 209,
          "mean": 366.66985645933016,
          "source": "Facebook",
          "sum": 76634,
          "topic": 14,
          "topic_interpretation": "ORF Wahldebatte"
         },
         {
          "Source": "Twitter",
          "Topic": "ORF Wahldebatte",
          "count": 175,
          "mean": 65.37142857142857,
          "source": "Twitter",
          "sum": 11440,
          "topic": 14,
          "topic_interpretation": "ORF Wahldebatte"
         },
         {
          "Source": "Facebook",
          "Topic": "Mobilisierung Länder",
          "count": 242,
          "mean": 250.3181818181818,
          "source": "Facebook",
          "sum": 60577,
          "topic": 15,
          "topic_interpretation": "Mobilisierung Länder"
         },
         {
          "Source": "Twitter",
          "Topic": "Mobilisierung Länder",
          "count": 194,
          "mean": 91.37113402061856,
          "source": "Twitter",
          "sum": 17726,
          "topic": 15,
          "topic_interpretation": "Mobilisierung Länder"
         },
         {
          "Source": "Facebook",
          "Topic": "-",
          "count": 529,
          "mean": 257.29867674858224,
          "source": "Facebook",
          "sum": 136111,
          "topic": 16,
          "topic_interpretation": "-"
         },
         {
          "Source": "Twitter",
          "Topic": "-",
          "count": 1007,
          "mean": 32.679245283018865,
          "source": "Twitter",
          "sum": 32908,
          "topic": 16,
          "topic_interpretation": "-"
         },
         {
          "Source": "Facebook",
          "Topic": "Puls4 Wahldebatte",
          "count": 387,
          "mean": 279.1162790697674,
          "source": "Facebook",
          "sum": 108018,
          "topic": 17,
          "topic_interpretation": "Puls4 Wahldebatte"
         },
         {
          "Source": "Twitter",
          "Topic": "Puls4 Wahldebatte",
          "count": 272,
          "mean": 47.86029411764706,
          "source": "Twitter",
          "sum": 13018,
          "topic": 17,
          "topic_interpretation": "Puls4 Wahldebatte"
         },
         {
          "Source": "Facebook",
          "Topic": "Emotionen",
          "count": 215,
          "mean": 242.353488372093,
          "source": "Facebook",
          "sum": 52106,
          "topic": 18,
          "topic_interpretation": "Emotionen"
         },
         {
          "Source": "Twitter",
          "Topic": "Emotionen",
          "count": 202,
          "mean": 198.23267326732673,
          "source": "Twitter",
          "sum": 40043,
          "topic": 18,
          "topic_interpretation": "Emotionen"
         },
         {
          "Source": "Facebook",
          "Topic": "Außenpolitik",
          "count": 214,
          "mean": 247.50934579439252,
          "source": "Facebook",
          "sum": 52967,
          "topic": 19,
          "topic_interpretation": "Außenpolitik"
         },
         {
          "Source": "Twitter",
          "Topic": "Außenpolitik",
          "count": 213,
          "mean": 116.21126760563381,
          "source": "Twitter",
          "sum": 24753,
          "topic": 19,
          "topic_interpretation": "Außenpolitik"
         },
         {
          "Source": "Facebook",
          "Topic": "Wahlprognose",
          "count": 209,
          "mean": 151.4928229665072,
          "source": "Facebook",
          "sum": 31662,
          "topic": 20,
          "topic_interpretation": "Wahlprognose"
         },
         {
          "Source": "Twitter",
          "Topic": "Wahlprognose",
          "count": 271,
          "mean": 636.3025830258302,
          "source": "Twitter",
          "sum": 172438,
          "topic": 20,
          "topic_interpretation": "Wahlprognose"
         },
         {
          "Source": "Facebook",
          "Topic": "Umwelt",
          "count": 219,
          "mean": 226.29223744292239,
          "source": "Facebook",
          "sum": 49558,
          "topic": 21,
          "topic_interpretation": "Umwelt"
         },
         {
          "Source": "Twitter",
          "Topic": "Umwelt",
          "count": 203,
          "mean": 405.20197044334975,
          "source": "Twitter",
          "sum": 82256,
          "topic": 21,
          "topic_interpretation": "Umwelt"
         },
         {
          "Source": "Facebook",
          "Topic": "-",
          "count": 300,
          "mean": 243.46333333333334,
          "source": "Facebook",
          "sum": 73039,
          "topic": 22,
          "topic_interpretation": "-"
         },
         {
          "Source": "Twitter",
          "Topic": "-",
          "count": 338,
          "mean": 65.59467455621302,
          "source": "Twitter",
          "sum": 22171,
          "topic": 22,
          "topic_interpretation": "-"
         },
         {
          "Source": "Facebook",
          "Topic": "-",
          "count": 312,
          "mean": 207.51602564102564,
          "source": "Facebook",
          "sum": 64745,
          "topic": 23,
          "topic_interpretation": "-"
         },
         {
          "Source": "Twitter",
          "Topic": "-",
          "count": 233,
          "mean": 52.33476394849785,
          "source": "Twitter",
          "sum": 12194,
          "topic": 23,
          "topic_interpretation": "-"
         },
         {
          "Source": "Facebook",
          "Topic": "-",
          "count": 184,
          "mean": 227.85326086956522,
          "source": "Facebook",
          "sum": 41925,
          "topic": 24,
          "topic_interpretation": "-"
         },
         {
          "Source": "Twitter",
          "Topic": "-",
          "count": 174,
          "mean": 1231.5344827586207,
          "source": "Twitter",
          "sum": 214287,
          "topic": 24,
          "topic_interpretation": "-"
         },
         {
          "Source": "Facebook",
          "Topic": "Polarisierung",
          "count": 299,
          "mean": 250.8428093645485,
          "source": "Facebook",
          "sum": 75002,
          "topic": 25,
          "topic_interpretation": "Polarisierung"
         },
         {
          "Source": "Twitter",
          "Topic": "Polarisierung",
          "count": 278,
          "mean": 65.03237410071942,
          "source": "Twitter",
          "sum": 18079,
          "topic": 25,
          "topic_interpretation": "Polarisierung"
         },
         {
          "Source": "Facebook",
          "Topic": "Strache",
          "count": 219,
          "mean": 239.1095890410959,
          "source": "Facebook",
          "sum": 52365,
          "topic": 26,
          "topic_interpretation": "Strache"
         },
         {
          "Source": "Twitter",
          "Topic": "Strache",
          "count": 175,
          "mean": 79.97714285714285,
          "source": "Twitter",
          "sum": 13996,
          "topic": 26,
          "topic_interpretation": "Strache"
         },
         {
          "Source": "Facebook",
          "Topic": "-",
          "count": 250,
          "mean": 320.952,
          "source": "Facebook",
          "sum": 80238,
          "topic": 27,
          "topic_interpretation": "-"
         },
         {
          "Source": "Twitter",
          "Topic": "-",
          "count": 240,
          "mean": 110.41666666666667,
          "source": "Twitter",
          "sum": 26500,
          "topic": 27,
          "topic_interpretation": "-"
         },
         {
          "Source": "Facebook",
          "Topic": "Diskurs in Englisch",
          "count": 241,
          "mean": 208.26970954356847,
          "source": "Facebook",
          "sum": 50193,
          "topic": 28,
          "topic_interpretation": "Diskurs in Englisch"
         },
         {
          "Source": "Twitter",
          "Topic": "Diskurs in Englisch",
          "count": 273,
          "mean": 1428.5934065934066,
          "source": "Twitter",
          "sum": 390006,
          "topic": 28,
          "topic_interpretation": "Diskurs in Englisch"
         },
         {
          "Source": "Facebook",
          "Topic": "Neos",
          "count": 224,
          "mean": 201.8125,
          "source": "Facebook",
          "sum": 45206,
          "topic": 29,
          "topic_interpretation": "Neos"
         },
         {
          "Source": "Twitter",
          "Topic": "Neos",
          "count": 195,
          "mean": 119.66153846153846,
          "source": "Twitter",
          "sum": 23334,
          "topic": 29,
          "topic_interpretation": "Neos"
         },
         {
          "Source": "Facebook",
          "Topic": "-",
          "count": 196,
          "mean": 221.94897959183675,
          "source": "Facebook",
          "sum": 43502,
          "topic": 30,
          "topic_interpretation": "-"
         },
         {
          "Source": "Twitter",
          "Topic": "-",
          "count": 168,
          "mean": 88.48214285714286,
          "source": "Twitter",
          "sum": 14865,
          "topic": 30,
          "topic_interpretation": "-"
         },
         {
          "Source": "Facebook",
          "Topic": "-",
          "count": 219,
          "mean": 227.4337899543379,
          "source": "Facebook",
          "sum": 49808,
          "topic": 31,
          "topic_interpretation": "-"
         },
         {
          "Source": "Twitter",
          "Topic": "-",
          "count": 195,
          "mean": 69.88205128205128,
          "source": "Twitter",
          "sum": 13627,
          "topic": 31,
          "topic_interpretation": "-"
         },
         {
          "Source": "Facebook",
          "Topic": "-",
          "count": 404,
          "mean": 333.23514851485146,
          "source": "Facebook",
          "sum": 134627,
          "topic": 32,
          "topic_interpretation": "-"
         },
         {
          "Source": "Twitter",
          "Topic": "-",
          "count": 248,
          "mean": 87.16935483870968,
          "source": "Twitter",
          "sum": 21618,
          "topic": 32,
          "topic_interpretation": "-"
         },
         {
          "Source": "Facebook",
          "Topic": "-",
          "count": 210,
          "mean": 244.27619047619046,
          "source": "Facebook",
          "sum": 51298,
          "topic": 33,
          "topic_interpretation": "-"
         },
         {
          "Source": "Twitter",
          "Topic": "-",
          "count": 185,
          "mean": 91.01621621621622,
          "source": "Twitter",
          "sum": 16838,
          "topic": 33,
          "topic_interpretation": "-"
         },
         {
          "Source": "Facebook",
          "Topic": "-",
          "count": 318,
          "mean": 259.12578616352204,
          "source": "Facebook",
          "sum": 82402,
          "topic": 34,
          "topic_interpretation": "-"
         },
         {
          "Source": "Twitter",
          "Topic": "-",
          "count": 227,
          "mean": 252.77092511013217,
          "source": "Twitter",
          "sum": 57379,
          "topic": 34,
          "topic_interpretation": "-"
         },
         {
          "Source": "Facebook",
          "Topic": "Greta Thunberg",
          "count": 301,
          "mean": 266.3222591362126,
          "source": "Facebook",
          "sum": 80163,
          "topic": 35,
          "topic_interpretation": "Greta Thunberg"
         },
         {
          "Source": "Twitter",
          "Topic": "Greta Thunberg",
          "count": 199,
          "mean": 182.90954773869348,
          "source": "Twitter",
          "sum": 36399,
          "topic": 35,
          "topic_interpretation": "Greta Thunberg"
         },
         {
          "Source": "Facebook",
          "Topic": "-",
          "count": 228,
          "mean": 258.0219298245614,
          "source": "Facebook",
          "sum": 58829,
          "topic": 36,
          "topic_interpretation": "-"
         },
         {
          "Source": "Twitter",
          "Topic": "-",
          "count": 166,
          "mean": 252.16265060240963,
          "source": "Twitter",
          "sum": 41859,
          "topic": 36,
          "topic_interpretation": "-"
         },
         {
          "Source": "Facebook",
          "Topic": "-",
          "count": 216,
          "mean": 195.7314814814815,
          "source": "Facebook",
          "sum": 42278,
          "topic": 37,
          "topic_interpretation": "-"
         },
         {
          "Source": "Twitter",
          "Topic": "-",
          "count": 177,
          "mean": 804.6214689265537,
          "source": "Twitter",
          "sum": 142418,
          "topic": 37,
          "topic_interpretation": "-"
         },
         {
          "Source": "Facebook",
          "Topic": "-",
          "count": 245,
          "mean": 239.70612244897958,
          "source": "Facebook",
          "sum": 58728,
          "topic": 38,
          "topic_interpretation": "-"
         },
         {
          "Source": "Twitter",
          "Topic": "-",
          "count": 175,
          "mean": 535.9771428571429,
          "source": "Twitter",
          "sum": 93796,
          "topic": 38,
          "topic_interpretation": "-"
         },
         {
          "Source": "Facebook",
          "Topic": "-",
          "count": 229,
          "mean": 254.87772925764193,
          "source": "Facebook",
          "sum": 58367,
          "topic": 39,
          "topic_interpretation": "-"
         },
         {
          "Source": "Twitter",
          "Topic": "-",
          "count": 199,
          "mean": 653.8844221105528,
          "source": "Twitter",
          "sum": 130123,
          "topic": 39,
          "topic_interpretation": "-"
         }
        ]
       },
       "encoding": {
        "color": {
         "field": "Source",
         "legend": null,
         "type": "nominal"
        },
        "column": {
         "field": "topic",
         "title": "Topic",
         "type": "ordinal"
        },
        "opacity": {
         "value": 0.75
        },
        "tooltip": [
         {
          "field": "Topic",
          "type": "nominal"
         }
        ],
        "x": {
         "field": "Source",
         "type": "nominal"
        },
        "y": {
         "aggregate": "sum",
         "field": "mean",
         "scale": {
          "base": 10,
          "type": "log"
         },
         "title": "Mean interactions (log)",
         "type": "quantitative"
        }
       },
       "mark": "bar",
       "title": "Interactions per Source and Topic",
       "width": 20
      },
      "image/png": "[encoded data removed]",
      "text/plain": [
       "<VegaLite 3 object>\n",
       "\n",
       "If you see this message, it means the renderer has not been properly enabled\n",
       "for the frontend that you are using. For more information, see\n",
       "https://altair-viz.github.io/user_guide/troubleshooting.html\n"
      ]
     },
     "execution_count": 16,
     "metadata": {},
     "output_type": "execute_result"
    }
   ],
   "source": [
    "p_data = grouped.copy()\n",
    "p_data[\"source\"] = p_data.index.get_level_values(\"source\")\n",
    "p_data.columns = [\"count\", \"sum\", \"mean\", \"Source\"]\n",
    "p_data.reset_index(inplace=True)\n",
    "p_data[\"Topic\"] = p_data.topic_interpretation\n",
    "\n",
    "chart = alt.Chart(p_data, title=\"Interactions per Source and Topic\").mark_bar().encode(\n",
    "    alt.X(\"Source:N\"),\n",
    "    alt.Y(\"sum(mean):Q\", \n",
    "          scale=alt.Scale(type=\"log\", base=10),\n",
    "          title=\"Mean interactions (log)\"),\n",
    "    column=alt.Column(\"topic:O\", title=\"Topic\"),\n",
    "    color=alt.Color(\"Source\", legend=None),\n",
    "    opacity=alt.value(0.75),\n",
    "    tooltip=[\"Topic\"]\n",
    ").properties(\n",
    "    width=20\n",
    ")\n",
    "\n",
    "chart.save(os.path.join(figures_path, \"topics\", \"mean_interactions_per_source.html\"))\n",
    "chart"
   ]
  },
  {
   "cell_type": "code",
   "execution_count": null,
   "metadata": {},
   "outputs": [],
   "source": []
  }
 ],
 "metadata": {
  "kernelspec": {
   "display_name": "Python 3",
   "language": "python",
   "name": "python3"
  },
  "language_info": {
   "codemirror_mode": {
    "name": "ipython",
    "version": 3
   },
   "file_extension": ".py",
   "mimetype": "text/x-python",
   "name": "python",
   "nbconvert_exporter": "python",
   "pygments_lexer": "ipython3",
   "version": "3.7.4"
  }
 },
 "nbformat": 4,
 "nbformat_minor": 4
}

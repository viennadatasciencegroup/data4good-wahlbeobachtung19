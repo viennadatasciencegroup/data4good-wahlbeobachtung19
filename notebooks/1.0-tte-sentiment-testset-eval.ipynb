{
 "cells": [
  {
   "cell_type": "markdown",
   "metadata": {},
   "source": [
    "# Sentiment Evaluation on Testset\n",
    "\n",
    "Compare human annotated labels to rule-based assignment (using the policy: summing polarity scores from SentiWS) on Posts/Comments in Dev-/Testset."
   ]
  },
  {
   "cell_type": "code",
   "execution_count": 1,
   "metadata": {},
   "outputs": [],
   "source": [
    "import os\n",
    "\n",
    "import numpy as np\n",
    "import pandas as pd\n",
    "\n",
    "from sklearn.metrics import (confusion_matrix, multilabel_confusion_matrix,\n",
    "                             matthews_corrcoef, classification_report, accuracy_score)\n",
    "from sklearn.utils.class_weight import compute_sample_weight\n",
    "\n",
    "import matplotlib.pyplot as plt\n",
    "%matplotlib inline"
   ]
  },
  {
   "cell_type": "markdown",
   "metadata": {},
   "source": [
    "## Loading"
   ]
  },
  {
   "cell_type": "code",
   "execution_count": 2,
   "metadata": {},
   "outputs": [
    {
     "data": {
      "text/plain": [
       "(1056, 7)"
      ]
     },
     "execution_count": 2,
     "metadata": {},
     "output_type": "execute_result"
    }
   ],
   "source": [
    "data_path = \"/mnt/DATA/NRW2019 Dropbox/data 4good/CSVData/TestData\"\n",
    "testset_fpath = os.path.join(data_path, \"forSentAnalysis.csv\")\n",
    "\n",
    "testset = pd.read_csv(testset_fpath)\n",
    "testset.shape"
   ]
  },
  {
   "cell_type": "markdown",
   "metadata": {},
   "source": [
    "## Evaluation"
   ]
  },
  {
   "cell_type": "markdown",
   "metadata": {},
   "source": [
    "Preprocessing"
   ]
  },
  {
   "cell_type": "code",
   "execution_count": 3,
   "metadata": {},
   "outputs": [],
   "source": [
    "ratings_dict = {0: \"positive\", 10: \"neutral\", 20: \"negative\", 30: \"offensive\", -2: \"notAssessable\"}\n",
    "sentiment_dict = {1: \"positive\", -1: \"negative\"}\n",
    "testset.replace({\"Rating\": ratings_dict, \"sentiment\": sentiment_dict}, inplace=True)\n",
    "\n",
    "testset[\"rating\"] = testset.Rating.astype(str)\n",
    "testset[\"sentiment\"] = testset.sentiment.astype(str)"
   ]
  },
  {
   "cell_type": "markdown",
   "metadata": {},
   "source": [
    "### Confusion Matrix"
   ]
  },
  {
   "cell_type": "code",
   "execution_count": 4,
   "metadata": {},
   "outputs": [],
   "source": [
    "labels = ratings_dict = [\"positive\", \"neutral\", \"negative\", \"offensive\", \"notAssessable\"]\n",
    "cm = confusion_matrix(testset.rating, testset.sentiment, labels=labels)"
   ]
  },
  {
   "cell_type": "markdown",
   "metadata": {},
   "source": [
    "Matrix"
   ]
  },
  {
   "cell_type": "code",
   "execution_count": 5,
   "metadata": {},
   "outputs": [
    {
     "data": {
      "text/html": [
       "<div>\n",
       "<style scoped>\n",
       "    .dataframe tbody tr th:only-of-type {\n",
       "        vertical-align: middle;\n",
       "    }\n",
       "\n",
       "    .dataframe tbody tr th {\n",
       "        vertical-align: top;\n",
       "    }\n",
       "\n",
       "    .dataframe thead th {\n",
       "        text-align: right;\n",
       "    }\n",
       "</style>\n",
       "<table border=\"1\" class=\"dataframe\">\n",
       "  <thead>\n",
       "    <tr style=\"text-align: right;\">\n",
       "      <th></th>\n",
       "      <th>positive</th>\n",
       "      <th>neutral</th>\n",
       "      <th>negative</th>\n",
       "      <th>offensive</th>\n",
       "      <th>notAssessable</th>\n",
       "    </tr>\n",
       "    <tr>\n",
       "      <th>True</th>\n",
       "      <th></th>\n",
       "      <th></th>\n",
       "      <th></th>\n",
       "      <th></th>\n",
       "      <th></th>\n",
       "    </tr>\n",
       "  </thead>\n",
       "  <tbody>\n",
       "    <tr>\n",
       "      <td>positive</td>\n",
       "      <td>69</td>\n",
       "      <td>0</td>\n",
       "      <td>28</td>\n",
       "      <td>0</td>\n",
       "      <td>0</td>\n",
       "    </tr>\n",
       "    <tr>\n",
       "      <td>neutral</td>\n",
       "      <td>83</td>\n",
       "      <td>0</td>\n",
       "      <td>153</td>\n",
       "      <td>0</td>\n",
       "      <td>0</td>\n",
       "    </tr>\n",
       "    <tr>\n",
       "      <td>negative</td>\n",
       "      <td>65</td>\n",
       "      <td>0</td>\n",
       "      <td>249</td>\n",
       "      <td>0</td>\n",
       "      <td>0</td>\n",
       "    </tr>\n",
       "    <tr>\n",
       "      <td>offensive</td>\n",
       "      <td>3</td>\n",
       "      <td>0</td>\n",
       "      <td>17</td>\n",
       "      <td>0</td>\n",
       "      <td>0</td>\n",
       "    </tr>\n",
       "    <tr>\n",
       "      <td>notAssessable</td>\n",
       "      <td>28</td>\n",
       "      <td>0</td>\n",
       "      <td>99</td>\n",
       "      <td>0</td>\n",
       "      <td>0</td>\n",
       "    </tr>\n",
       "  </tbody>\n",
       "</table>\n",
       "</div>"
      ],
      "text/plain": [
       "               positive  neutral  negative  offensive  notAssessable\n",
       "True                                                                \n",
       "positive             69        0        28          0              0\n",
       "neutral              83        0       153          0              0\n",
       "negative             65        0       249          0              0\n",
       "offensive             3        0        17          0              0\n",
       "notAssessable        28        0        99          0              0"
      ]
     },
     "execution_count": 5,
     "metadata": {},
     "output_type": "execute_result"
    }
   ],
   "source": [
    "cm_df = pd.DataFrame(cm, columns=labels, index=labels)\n",
    "cm_df.index.name = \"True\"\n",
    "cm_df"
   ]
  },
  {
   "cell_type": "markdown",
   "metadata": {},
   "source": [
    "Plot"
   ]
  },
  {
   "cell_type": "code",
   "execution_count": 6,
   "metadata": {},
   "outputs": [
    {
     "data": {
      "image/png": "[encoded data removed]",
      "text/plain": [
       "<Figure size 432x288 with 2 Axes>"
      ]
     },
     "metadata": {
      "needs_background": "light"
     },
     "output_type": "display_data"
    }
   ],
   "source": [
    "plot = plt.figure()\n",
    "ax = plot.add_subplot(111)\n",
    "cax = ax.matshow(cm)\n",
    "plot.colorbar(cax)\n",
    "ax.set_xticklabels([\"\"] + labels)\n",
    "ax.set_yticklabels([\"\"] + labels)\n",
    "plt.xlabel(\"Pred\")\n",
    "plt.ylabel(\"True\")\n",
    "plt.show()"
   ]
  },
  {
   "cell_type": "markdown",
   "metadata": {},
   "source": [
    "### Confusion matrix 1 vs all"
   ]
  },
  {
   "cell_type": "code",
   "execution_count": 7,
   "metadata": {},
   "outputs": [
    {
     "name": "stdout",
     "output_type": "stream",
     "text": [
      "Class 'positive':\n",
      "        False  True\n",
      "True              \n",
      "False    739   179\n",
      "True      69    69 \n",
      "\n",
      "Class 'negative':\n",
      "        False  True\n",
      "True              \n",
      "False    363   297\n",
      "True     147   249\n"
     ]
    }
   ],
   "source": [
    "mcm = multilabel_confusion_matrix(testset.rating, testset.sentiment, labels=labels)\n",
    "\n",
    "pos_df = pd.DataFrame(mcm[0], columns=[\"False\", \"True\"], index=[\"False\", \"True\"])\n",
    "pos_df.index.name = \"True\"\n",
    "print(\"Class 'positive':\\n\" , pos_df, \"\\n\")\n",
    "\n",
    "neg_df = pd.DataFrame(mcm[2], columns=[\"False\", \"True\"], index=[\"False\", \"True\"])\n",
    "neg_df.index.name = \"True\"\n",
    "print(\"Class 'negative':\\n\" , neg_df)"
   ]
  },
  {
   "cell_type": "markdown",
   "metadata": {},
   "source": [
    "### Correlation Score\n",
    "\n",
    "Matthews Correlation Score: \\[-1, 1\\]"
   ]
  },
  {
   "cell_type": "code",
   "execution_count": 8,
   "metadata": {},
   "outputs": [
    {
     "name": "stdout",
     "output_type": "stream",
     "text": [
      "Matthews Corr Score: 0.10671342655368796\n"
     ]
    }
   ],
   "source": [
    "sample_weight = compute_sample_weight(class_weight=\"balanced\", y=testset.rating)\n",
    "corr_score = matthews_corrcoef(testset.rating, testset.sentiment, sample_weight=sample_weight)\n",
    "\n",
    "print(\"Matthews Corr Score:\", corr_score)"
   ]
  },
  {
   "cell_type": "markdown",
   "metadata": {},
   "source": [
    "### Classification Report"
   ]
  },
  {
   "cell_type": "code",
   "execution_count": 9,
   "metadata": {},
   "outputs": [
    {
     "name": "stdout",
     "output_type": "stream",
     "text": [
      "               precision    recall  f1-score   support\n",
      "\n",
      "     positive       0.28      0.50      0.36       138\n",
      "      neutral       0.00      0.00      0.00       311\n",
      "     negative       0.46      0.63      0.53       396\n",
      "    offensive       0.00      0.00      0.00        24\n",
      "notAssessable       0.00      0.00      0.00       187\n",
      "\n",
      "    micro avg       0.40      0.30      0.34      1056\n",
      "    macro avg       0.15      0.23      0.18      1056\n",
      " weighted avg       0.21      0.30      0.24      1056\n",
      "\n",
      "Acc: 0.30113636363636365\n"
     ]
    },
    {
     "name": "stderr",
     "output_type": "stream",
     "text": [
      "/home/datadonk23/anaconda3/envs/WBNRW19/lib/python3.7/site-packages/sklearn/metrics/classification.py:1437: UndefinedMetricWarning: Precision and F-score are ill-defined and being set to 0.0 in labels with no predicted samples.\n",
      "  'precision', 'predicted', average, warn_for)\n"
     ]
    }
   ],
   "source": [
    "print(classification_report(testset.rating, testset.sentiment, labels=labels))\n",
    "print(\"Acc:\", accuracy_score(testset.rating, testset.sentiment))"
   ]
  },
  {
   "cell_type": "markdown",
   "metadata": {},
   "source": [
    "### Evaluation on Subset\n",
    "\n",
    "Only positive and negative labeled texts are used here for evaluation, as these are the only classes the applied Sentiment Analysis approach is capable to supply.  \n",
    "_Attention_: This forced binary procedure is a cheat, but should complete the picture on performance of this specific rule-based Sentiment Analysis approach."
   ]
  },
  {
   "cell_type": "code",
   "execution_count": 10,
   "metadata": {},
   "outputs": [
    {
     "data": {
      "text/plain": [
       "(534, 8)"
      ]
     },
     "execution_count": 10,
     "metadata": {},
     "output_type": "execute_result"
    }
   ],
   "source": [
    "posneg_subset = testset.loc[(testset.rating == \"positive\") | (testset.rating == \"negative\")]\n",
    "posneg_subset.shape"
   ]
  },
  {
   "cell_type": "markdown",
   "metadata": {},
   "source": [
    "Confusion matrix"
   ]
  },
  {
   "cell_type": "code",
   "execution_count": 11,
   "metadata": {},
   "outputs": [
    {
     "data": {
      "text/html": [
       "<div>\n",
       "<style scoped>\n",
       "    .dataframe tbody tr th:only-of-type {\n",
       "        vertical-align: middle;\n",
       "    }\n",
       "\n",
       "    .dataframe tbody tr th {\n",
       "        vertical-align: top;\n",
       "    }\n",
       "\n",
       "    .dataframe thead th {\n",
       "        text-align: right;\n",
       "    }\n",
       "</style>\n",
       "<table border=\"1\" class=\"dataframe\">\n",
       "  <thead>\n",
       "    <tr style=\"text-align: right;\">\n",
       "      <th></th>\n",
       "      <th>positive</th>\n",
       "      <th>negative</th>\n",
       "    </tr>\n",
       "    <tr>\n",
       "      <th>True</th>\n",
       "      <th></th>\n",
       "      <th></th>\n",
       "    </tr>\n",
       "  </thead>\n",
       "  <tbody>\n",
       "    <tr>\n",
       "      <td>positive</td>\n",
       "      <td>69</td>\n",
       "      <td>28</td>\n",
       "    </tr>\n",
       "    <tr>\n",
       "      <td>negative</td>\n",
       "      <td>65</td>\n",
       "      <td>249</td>\n",
       "    </tr>\n",
       "  </tbody>\n",
       "</table>\n",
       "</div>"
      ],
      "text/plain": [
       "          positive  negative\n",
       "True                        \n",
       "positive        69        28\n",
       "negative        65       249"
      ]
     },
     "execution_count": 11,
     "metadata": {},
     "output_type": "execute_result"
    }
   ],
   "source": [
    "labels = ratings_dict = [\"positive\", \"negative\"]\n",
    "cm_subset = confusion_matrix(posneg_subset.rating, posneg_subset.sentiment, labels=labels)\n",
    "\n",
    "cm_df = pd.DataFrame(cm_subset, columns=labels, index=labels)\n",
    "cm_df.index.name = \"True\"\n",
    "cm_df"
   ]
  },
  {
   "cell_type": "markdown",
   "metadata": {},
   "source": [
    "Correlation Score"
   ]
  },
  {
   "cell_type": "code",
   "execution_count": 12,
   "metadata": {},
   "outputs": [
    {
     "name": "stdout",
     "output_type": "stream",
     "text": [
      "Matthews Corr Score: 0.33321500611480026\n"
     ]
    }
   ],
   "source": [
    "sample_weight = compute_sample_weight(class_weight=\"balanced\", y=posneg_subset.rating)\n",
    "corr_score = matthews_corrcoef(posneg_subset.rating, posneg_subset.sentiment, sample_weight=sample_weight)\n",
    "\n",
    "print(\"Matthews Corr Score:\", corr_score)"
   ]
  },
  {
   "cell_type": "markdown",
   "metadata": {},
   "source": [
    "Classification report"
   ]
  },
  {
   "cell_type": "code",
   "execution_count": 13,
   "metadata": {},
   "outputs": [
    {
     "name": "stdout",
     "output_type": "stream",
     "text": [
      "              precision    recall  f1-score   support\n",
      "\n",
      "    positive       0.51      0.50      0.51       138\n",
      "    negative       0.90      0.63      0.74       396\n",
      "\n",
      "   micro avg       0.77      0.60      0.67       534\n",
      "   macro avg       0.71      0.56      0.62       534\n",
      "weighted avg       0.80      0.60      0.68       534\n",
      "\n",
      "Acc: 0.5955056179775281\n"
     ]
    }
   ],
   "source": [
    "print(classification_report(posneg_subset.rating, posneg_subset.sentiment, labels=labels))\n",
    "print(\"Acc:\", accuracy_score(posneg_subset.rating, posneg_subset.sentiment))"
   ]
  },
  {
   "cell_type": "markdown",
   "metadata": {},
   "source": [
    "# Conclusion\n",
    "\n",
    "Over all, the performance of rule-based assignment (using the policy: summing polarity scores from SentiWS) on Posts/Comments in Dev-/Testset is poor and therefore should not be used for Sentiment Analysis on the final corpus of Social Media texts. It appears that it is better capable to detect negative sentiment than positive. Nonetheless, even this specific capablitity is rather limited and therefore does not suggest usage in production."
   ]
  },
  {
   "cell_type": "code",
   "execution_count": null,
   "metadata": {},
   "outputs": [],
   "source": []
  }
 ],
 "metadata": {
  "kernelspec": {
   "display_name": "Python 3",
   "language": "python",
   "name": "python3"
  },
  "language_info": {
   "codemirror_mode": {
    "name": "ipython",
    "version": 3
   },
   "file_extension": ".py",
   "mimetype": "text/x-python",
   "name": "python",
   "nbconvert_exporter": "python",
   "pygments_lexer": "ipython3",
   "version": "3.7.4"
  }
 },
 "nbformat": 4,
 "nbformat_minor": 4
}

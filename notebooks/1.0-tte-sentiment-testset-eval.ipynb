{
 "cells": [
  {
   "cell_type": "markdown",
   "metadata": {},
   "source": [
    "# Sentiment Evaluation on Testset\n",
    "\n",
    "Compare human annotated labels to rule-based assignment (using the policy: summing polarity scores from SentiWS) on Posts/Comments in Dev-/Testset."
   ]
  },
  {
   "cell_type": "code",
   "execution_count": 74,
   "metadata": {},
   "outputs": [],
   "source": [
    "import os\n",
    "\n",
    "import numpy as np\n",
    "import pandas as pd\n",
    "\n",
    "from sklearn.metrics import confusion_matrix, multilabel_confusion_matrix, matthews_corrcoef, classification_report\n",
    "from sklearn.utils.class_weight import compute_sample_weight\n",
    "\n",
    "import matplotlib.pyplot as plt\n",
    "%matplotlib inline"
   ]
  },
  {
   "cell_type": "markdown",
   "metadata": {},
   "source": [
    "## Loading"
   ]
  },
  {
   "cell_type": "code",
   "execution_count": 53,
   "metadata": {},
   "outputs": [],
   "source": [
    "data_path = \"/mnt/DATA/NRW2019 Dropbox/data 4good/CSVData/TestData\"\n",
    "testset_fpath = os.path.join(data_path, \"forSentAnalysis.csv\")\n",
    "\n",
    "testset = pd.read_csv(testset_fpath)"
   ]
  },
  {
   "cell_type": "markdown",
   "metadata": {},
   "source": [
    "## Evaluation"
   ]
  },
  {
   "cell_type": "markdown",
   "metadata": {},
   "source": [
    "Preprocessing"
   ]
  },
  {
   "cell_type": "code",
   "execution_count": 54,
   "metadata": {},
   "outputs": [],
   "source": [
    "ratings_dict = {0: \"positiv\", 10: \"neutral\", 20: \"negative\", 30: \"offensive\", -2: \"nichtBewertbar\"}\n",
    "sentiment_dict = {1: \"positiv\", -1: \"negative\"}\n",
    "testset.replace({\"Rating\": ratings_dict, \"sentiment\": sentiment_dict}, inplace=True)\n",
    "\n",
    "testset[\"rating\"] = testset.Rating.astype(str)\n",
    "testset[\"sentiment\"] = testset.sentiment.astype(str)"
   ]
  },
  {
   "cell_type": "markdown",
   "metadata": {},
   "source": [
    "### Confusion Matrix"
   ]
  },
  {
   "cell_type": "code",
   "execution_count": 55,
   "metadata": {},
   "outputs": [],
   "source": [
    "labels = ratings_dict = [\"positiv\", \"neutral\", \"negative\", \"offensive\", \"nichtBewertbar\"]\n",
    "cm = confusion_matrix(testset.rating, testset.sentiment, labels=labels)"
   ]
  },
  {
   "cell_type": "markdown",
   "metadata": {},
   "source": [
    "Matrix"
   ]
  },
  {
   "cell_type": "code",
   "execution_count": 56,
   "metadata": {},
   "outputs": [
    {
     "data": {
      "text/html": [
       "<div>\n",
       "<style scoped>\n",
       "    .dataframe tbody tr th:only-of-type {\n",
       "        vertical-align: middle;\n",
       "    }\n",
       "\n",
       "    .dataframe tbody tr th {\n",
       "        vertical-align: top;\n",
       "    }\n",
       "\n",
       "    .dataframe thead th {\n",
       "        text-align: right;\n",
       "    }\n",
       "</style>\n",
       "<table border=\"1\" class=\"dataframe\">\n",
       "  <thead>\n",
       "    <tr style=\"text-align: right;\">\n",
       "      <th></th>\n",
       "      <th>positiv</th>\n",
       "      <th>neutral</th>\n",
       "      <th>negative</th>\n",
       "      <th>offensive</th>\n",
       "      <th>nichtBewertbar</th>\n",
       "    </tr>\n",
       "    <tr>\n",
       "      <th>True</th>\n",
       "      <th></th>\n",
       "      <th></th>\n",
       "      <th></th>\n",
       "      <th></th>\n",
       "      <th></th>\n",
       "    </tr>\n",
       "  </thead>\n",
       "  <tbody>\n",
       "    <tr>\n",
       "      <td>positiv</td>\n",
       "      <td>69</td>\n",
       "      <td>0</td>\n",
       "      <td>28</td>\n",
       "      <td>0</td>\n",
       "      <td>0</td>\n",
       "    </tr>\n",
       "    <tr>\n",
       "      <td>neutral</td>\n",
       "      <td>83</td>\n",
       "      <td>0</td>\n",
       "      <td>153</td>\n",
       "      <td>0</td>\n",
       "      <td>0</td>\n",
       "    </tr>\n",
       "    <tr>\n",
       "      <td>negative</td>\n",
       "      <td>65</td>\n",
       "      <td>0</td>\n",
       "      <td>249</td>\n",
       "      <td>0</td>\n",
       "      <td>0</td>\n",
       "    </tr>\n",
       "    <tr>\n",
       "      <td>offensive</td>\n",
       "      <td>3</td>\n",
       "      <td>0</td>\n",
       "      <td>17</td>\n",
       "      <td>0</td>\n",
       "      <td>0</td>\n",
       "    </tr>\n",
       "    <tr>\n",
       "      <td>nichtBewertbar</td>\n",
       "      <td>28</td>\n",
       "      <td>0</td>\n",
       "      <td>99</td>\n",
       "      <td>0</td>\n",
       "      <td>0</td>\n",
       "    </tr>\n",
       "  </tbody>\n",
       "</table>\n",
       "</div>"
      ],
      "text/plain": [
       "                positiv  neutral  negative  offensive  nichtBewertbar\n",
       "True                                                                 \n",
       "positiv              69        0        28          0               0\n",
       "neutral              83        0       153          0               0\n",
       "negative             65        0       249          0               0\n",
       "offensive             3        0        17          0               0\n",
       "nichtBewertbar       28        0        99          0               0"
      ]
     },
     "execution_count": 56,
     "metadata": {},
     "output_type": "execute_result"
    }
   ],
   "source": [
    "cm_df = pd.DataFrame(cm, columns=labels, index=labels)\n",
    "cm_df.index.name = \"True\"\n",
    "cm_df"
   ]
  },
  {
   "cell_type": "markdown",
   "metadata": {},
   "source": [
    "Plot"
   ]
  },
  {
   "cell_type": "code",
   "execution_count": 57,
   "metadata": {},
   "outputs": [
    {
     "data": {
      "image/png": "[encoded data removed]",
      "text/plain": [
       "<Figure size 432x288 with 2 Axes>"
      ]
     },
     "metadata": {
      "needs_background": "light"
     },
     "output_type": "display_data"
    }
   ],
   "source": [
    "plot = plt.figure()\n",
    "ax = plot.add_subplot(111)\n",
    "cax = ax.matshow(cm)\n",
    "plot.colorbar(cax)\n",
    "ax.set_xticklabels([\"\"] + labels)\n",
    "ax.set_yticklabels([\"\"] + labels)\n",
    "plt.xlabel(\"Pred\")\n",
    "plt.ylabel(\"True\")\n",
    "plt.show()"
   ]
  },
  {
   "cell_type": "markdown",
   "metadata": {},
   "source": [
    "### Confusion matrix 1 vs all"
   ]
  },
  {
   "cell_type": "code",
   "execution_count": 94,
   "metadata": {},
   "outputs": [
    {
     "name": "stdout",
     "output_type": "stream",
     "text": [
      "Class 'positive':\n",
      "        False  True\n",
      "True              \n",
      "False    739   179\n",
      "True      69    69 \n",
      "\n",
      "Class 'negative':\n",
      "        False  True\n",
      "True              \n",
      "False    363   297\n",
      "True     147   249\n"
     ]
    }
   ],
   "source": [
    "mcm = multilabel_confusion_matrix(testset.rating, testset.sentiment, labels=labels)\n",
    "\n",
    "pos_df = pd.DataFrame(mcm[0], columns=[\"False\", \"True\"], index=[\"False\", \"True\"])\n",
    "pos_df.index.name = \"True\"\n",
    "print(\"Class 'positive':\\n\" , pos_df, \"\\n\")\n",
    "\n",
    "neg_df = pd.DataFrame(mcm[2], columns=[\"False\", \"True\"], index=[\"False\", \"True\"])\n",
    "neg_df.index.name = \"True\"\n",
    "print(\"Class 'negative':\\n\" , neg_df)"
   ]
  },
  {
   "cell_type": "markdown",
   "metadata": {},
   "source": [
    "### Correlation Score\n",
    "\n",
    "Matthews Correlation Score: \\[-1, 1\\]"
   ]
  },
  {
   "cell_type": "code",
   "execution_count": 64,
   "metadata": {},
   "outputs": [
    {
     "name": "stdout",
     "output_type": "stream",
     "text": [
      "Matthews Corr Score: 0.10671342655368796\n"
     ]
    }
   ],
   "source": [
    "sample_weight = compute_sample_weight(class_weight=\"balanced\", y=testset.rating)\n",
    "corr_score = matthews_corrcoef(testset.rating, testset.sentiment, sample_weight=sample_weight)\n",
    "\n",
    "print(\"Matthews Corr Score:\", corr_score)"
   ]
  },
  {
   "cell_type": "markdown",
   "metadata": {},
   "source": [
    "### Classification Report"
   ]
  },
  {
   "cell_type": "code",
   "execution_count": 73,
   "metadata": {},
   "outputs": [
    {
     "name": "stdout",
     "output_type": "stream",
     "text": [
      "                precision    recall  f1-score   support\n",
      "\n",
      "       positiv       0.28      0.50      0.36       138\n",
      "       neutral       0.00      0.00      0.00       311\n",
      "      negative       0.46      0.63      0.53       396\n",
      "     offensive       0.00      0.00      0.00        24\n",
      "nichtBewertbar       0.00      0.00      0.00       187\n",
      "\n",
      "     micro avg       0.40      0.30      0.34      1056\n",
      "     macro avg       0.15      0.23      0.18      1056\n",
      "  weighted avg       0.21      0.30      0.24      1056\n",
      "\n"
     ]
    }
   ],
   "source": [
    "print(classification_report(testset.rating, testset.sentiment, labels=labels))"
   ]
  },
  {
   "cell_type": "markdown",
   "metadata": {},
   "source": [
    "# Conclusion\n",
    "\n",
    "#FIXME"
   ]
  },
  {
   "cell_type": "code",
   "execution_count": null,
   "metadata": {},
   "outputs": [],
   "source": []
  }
 ],
 "metadata": {
  "kernelspec": {
   "display_name": "Python 3",
   "language": "python",
   "name": "python3"
  },
  "language_info": {
   "codemirror_mode": {
    "name": "ipython",
    "version": 3
   },
   "file_extension": ".py",
   "mimetype": "text/x-python",
   "name": "python",
   "nbconvert_exporter": "python",
   "pygments_lexer": "ipython3",
   "version": "3.7.4"
  }
 },
 "nbformat": 4,
 "nbformat_minor": 4
}
